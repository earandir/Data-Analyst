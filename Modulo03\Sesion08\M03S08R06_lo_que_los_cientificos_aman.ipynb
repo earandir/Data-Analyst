{
  "nbformat": 4,
  "nbformat_minor": 0,
  "metadata": {
    "kernelspec": {
      "display_name": "Python 3",
      "language": "python",
      "name": "python3"
    },
    "language_info": {
      "codemirror_mode": {
        "name": "ipython",
        "version": 3
      },
      "file_extension": ".py",
      "mimetype": "text/x-python",
      "name": "python",
      "nbconvert_exporter": "python",
      "pygments_lexer": "ipython3",
      "version": "3.7.4"
    },
    "colab": {
      "name": "M03S08R06-lo_que_los_cientificos_aman.ipynb",
      "provenance": [],
      "include_colab_link": true
    }
  },
  "cells": [
    {
      "cell_type": "markdown",
      "metadata": {
        "id": "view-in-github",
        "colab_type": "text"
      },
      "source": [
        "<a href=\"https://colab.research.google.com/github/earandir/DataAnalysis/blob/main/Modulo03%5CSesion08%5CM03S08R06_lo_que_los_cientificos_aman.ipynb\" target=\"_parent\"><img src=\"https://colab.research.google.com/assets/colab-badge.svg\" alt=\"Open In Colab\"/></a>"
      ]
    },
    {
      "cell_type": "markdown",
      "metadata": {
        "id": "Erp2GZ_OxG66"
      },
      "source": [
        "## Reto 6: Lo que los científicos aman\n",
        "\n",
        "### 1. Objetivos:\n",
        "    - Practicar las siguientes herramientas:\n",
        "        - Lectura de .csv\n",
        "        - `merge`\n",
        "        - Filtros con value_counts()\n",
        "        - Agrupaciones y reordenamientos\n",
        "    \n",
        "---\n",
        "    \n",
        "### 2. Desarrollo:"
      ]
    },
    {
      "cell_type": "markdown",
      "metadata": {
        "id": "cdVm1u_9xG7A"
      },
      "source": [
        "#### a) Lo que los científicos aman\n",
        "\n",
        "En este Reto vamos a obtener una lista de las películas que fueron mejor evaluadas por científicos para saber cuáles son sus favoritas. Vamos a realizar los siguientes pasos:\n",
        "\n",
        "1. Lee los archivos para `movies`, `ratings` y `users`.\n"
      ]
    },
    {
      "cell_type": "code",
      "metadata": {
        "id": "S2HQFAoRzaOk"
      },
      "source": [
        "import pandas as pd"
      ],
      "execution_count": 45,
      "outputs": []
    },
    {
      "cell_type": "code",
      "metadata": {
        "colab": {
          "base_uri": "https://localhost:8080/"
        },
        "id": "CGx5pJylzZ9o",
        "outputId": "ecc869d3-ac29-48e3-cfcc-5f9ba074f32e"
      },
      "source": [
        "ratings = pd.read_csv('ratings.csv', index_col=0)\n",
        "ratings.reset_index(inplace=True)"
      ],
      "execution_count": 46,
      "outputs": [
        {
          "output_type": "stream",
          "text": [
            "/usr/local/lib/python3.7/dist-packages/numpy/lib/arraysetops.py:580: FutureWarning: elementwise comparison failed; returning scalar instead, but in the future will perform elementwise comparison\n",
            "  mask |= (ar1 == a)\n"
          ],
          "name": "stderr"
        }
      ]
    },
    {
      "cell_type": "code",
      "metadata": {
        "id": "7rrmVG2XzdCL"
      },
      "source": [
        "users = pd.read_csv('users.csv', index_col=0)\n",
        "users.reset_index(inplace=True)"
      ],
      "execution_count": 47,
      "outputs": []
    },
    {
      "cell_type": "code",
      "metadata": {
        "id": "FIGeZssizdj9"
      },
      "source": [
        "movies = pd.read_csv('movies.csv', index_col=0)\n",
        "movies.reset_index(inplace=True)"
      ],
      "execution_count": 48,
      "outputs": []
    },
    {
      "cell_type": "code",
      "metadata": {
        "id": "qQhaQFci1MFo"
      },
      "source": [
        "occupations = pd.read_csv('occupations.csv', index_col=0)\n",
        "occupations.reset_index(inplace=True)"
      ],
      "execution_count": 49,
      "outputs": []
    },
    {
      "cell_type": "markdown",
      "metadata": {
        "id": "eQ9AEfS4yDIX"
      },
      "source": [
        "2. Agrega **solamente** la columna `occupation` al `DataFrame` `ratings`, para tener la información de las ocupaciones de los usuarios que realizaron los ratings.\n"
      ]
    },
    {
      "cell_type": "code",
      "metadata": {
        "id": "Ask6y5Pnz98G"
      },
      "source": [
        "ratings = pd.merge(ratings, users, left_on='user_id', right_index=True)"
      ],
      "execution_count": 50,
      "outputs": []
    },
    {
      "cell_type": "code",
      "metadata": {
        "id": "nmaPdSud1HpL"
      },
      "source": [
        "ratings = pd.merge(ratings, occupations, left_on='occupation', right_index=True)"
      ],
      "execution_count": 51,
      "outputs": []
    },
    {
      "cell_type": "code",
      "metadata": {
        "id": "NHoapGGCz2G0"
      },
      "source": [
        "ratings = ratings[['user_id', 'movie_id', 'rating', 'description']]"
      ],
      "execution_count": 52,
      "outputs": []
    },
    {
      "cell_type": "code",
      "metadata": {
        "id": "zYZiFinO1jJm"
      },
      "source": [
        "ratings.rename(columns={'description' :'occupation'},inplace=True)"
      ],
      "execution_count": 53,
      "outputs": []
    },
    {
      "cell_type": "markdown",
      "metadata": {
        "id": "Bi-M7q7oyFF-"
      },
      "source": [
        "3. Filtra tu tabla `ratings` para quedarte solamente con los ratings hechos por científicos.\n"
      ]
    },
    {
      "cell_type": "code",
      "metadata": {
        "id": "_tTWmX6w1wbF"
      },
      "source": [
        "ratings = ratings.loc[ratings['occupation'].isin(['scientist'])]"
      ],
      "execution_count": 54,
      "outputs": []
    },
    {
      "cell_type": "markdown",
      "metadata": {
        "id": "ZiC_96YvyGs2"
      },
      "source": [
        "4. Agrega **solamente** la columna `title` de la tabla `movies` a la tabla `ratings` para tener la información de los nombres de las películas que fueron evaluadas por científicos.\n"
      ]
    },
    {
      "cell_type": "code",
      "metadata": {
        "id": "T1vnCB4w2wA3"
      },
      "source": [
        "ratings = pd.merge(ratings, movies, left_on='movie_id', right_index=True)"
      ],
      "execution_count": 55,
      "outputs": []
    },
    {
      "cell_type": "code",
      "metadata": {
        "id": "vgerZQpx2zCQ"
      },
      "source": [
        "ratings = ratings[['user_id', 'movie_id', 'rating', 'occupation', 'title']]"
      ],
      "execution_count": 56,
      "outputs": []
    },
    {
      "cell_type": "code",
      "metadata": {
        "colab": {
          "base_uri": "https://localhost:8080/",
          "height": 419
        },
        "id": "03y2F9_v29j4",
        "outputId": "72a7df1c-6161-4197-f75b-e2a3159c2495"
      },
      "source": [
        "ratings"
      ],
      "execution_count": 57,
      "outputs": [
        {
          "output_type": "execute_result",
          "data": {
            "text/html": [
              "<div>\n",
              "<style scoped>\n",
              "    .dataframe tbody tr th:only-of-type {\n",
              "        vertical-align: middle;\n",
              "    }\n",
              "\n",
              "    .dataframe tbody tr th {\n",
              "        vertical-align: top;\n",
              "    }\n",
              "\n",
              "    .dataframe thead th {\n",
              "        text-align: right;\n",
              "    }\n",
              "</style>\n",
              "<table border=\"1\" class=\"dataframe\">\n",
              "  <thead>\n",
              "    <tr style=\"text-align: right;\">\n",
              "      <th></th>\n",
              "      <th>user_id</th>\n",
              "      <th>movie_id</th>\n",
              "      <th>rating</th>\n",
              "      <th>occupation</th>\n",
              "      <th>title</th>\n",
              "    </tr>\n",
              "  </thead>\n",
              "  <tbody>\n",
              "    <tr>\n",
              "      <th>53</th>\n",
              "      <td>2</td>\n",
              "      <td>1357</td>\n",
              "      <td>5</td>\n",
              "      <td>scientist</td>\n",
              "      <td>Young Guns (1988)</td>\n",
              "    </tr>\n",
              "    <tr>\n",
              "      <th>1000262</th>\n",
              "      <td>2</td>\n",
              "      <td>1357</td>\n",
              "      <td>5</td>\n",
              "      <td>scientist</td>\n",
              "      <td>Young Guns (1988)</td>\n",
              "    </tr>\n",
              "    <tr>\n",
              "      <th>2000471</th>\n",
              "      <td>2</td>\n",
              "      <td>1357</td>\n",
              "      <td>5</td>\n",
              "      <td>scientist</td>\n",
              "      <td>Young Guns (1988)</td>\n",
              "    </tr>\n",
              "    <tr>\n",
              "      <th>26976</th>\n",
              "      <td>192</td>\n",
              "      <td>1357</td>\n",
              "      <td>5</td>\n",
              "      <td>scientist</td>\n",
              "      <td>Young Guns (1988)</td>\n",
              "    </tr>\n",
              "    <tr>\n",
              "      <th>1027185</th>\n",
              "      <td>192</td>\n",
              "      <td>1357</td>\n",
              "      <td>5</td>\n",
              "      <td>scientist</td>\n",
              "      <td>Young Guns (1988)</td>\n",
              "    </tr>\n",
              "    <tr>\n",
              "      <th>...</th>\n",
              "      <td>...</td>\n",
              "      <td>...</td>\n",
              "      <td>...</td>\n",
              "      <td>...</td>\n",
              "      <td>...</td>\n",
              "    </tr>\n",
              "    <tr>\n",
              "      <th>1998779</th>\n",
              "      <td>6035</td>\n",
              "      <td>870</td>\n",
              "      <td>1</td>\n",
              "      <td>scientist</td>\n",
              "      <td>First Kid (1996)</td>\n",
              "    </tr>\n",
              "    <tr>\n",
              "      <th>2998988</th>\n",
              "      <td>6035</td>\n",
              "      <td>870</td>\n",
              "      <td>1</td>\n",
              "      <td>scientist</td>\n",
              "      <td>First Kid (1996)</td>\n",
              "    </tr>\n",
              "    <tr>\n",
              "      <th>998608</th>\n",
              "      <td>6035</td>\n",
              "      <td>1006</td>\n",
              "      <td>1</td>\n",
              "      <td>scientist</td>\n",
              "      <td>20,000 Leagues Under the Sea (1954)</td>\n",
              "    </tr>\n",
              "    <tr>\n",
              "      <th>1998817</th>\n",
              "      <td>6035</td>\n",
              "      <td>1006</td>\n",
              "      <td>1</td>\n",
              "      <td>scientist</td>\n",
              "      <td>20,000 Leagues Under the Sea (1954)</td>\n",
              "    </tr>\n",
              "    <tr>\n",
              "      <th>2999026</th>\n",
              "      <td>6035</td>\n",
              "      <td>1006</td>\n",
              "      <td>1</td>\n",
              "      <td>scientist</td>\n",
              "      <td>20,000 Leagues Under the Sea (1954)</td>\n",
              "    </tr>\n",
              "  </tbody>\n",
              "</table>\n",
              "<p>75513 rows × 5 columns</p>\n",
              "</div>"
            ],
            "text/plain": [
              "         user_id  movie_id  ...  occupation                                title\n",
              "53             2      1357  ...   scientist                    Young Guns (1988)\n",
              "1000262        2      1357  ...   scientist                    Young Guns (1988)\n",
              "2000471        2      1357  ...   scientist                    Young Guns (1988)\n",
              "26976        192      1357  ...   scientist                    Young Guns (1988)\n",
              "1027185      192      1357  ...   scientist                    Young Guns (1988)\n",
              "...          ...       ...  ...         ...                                  ...\n",
              "1998779     6035       870  ...   scientist                     First Kid (1996)\n",
              "2998988     6035       870  ...   scientist                     First Kid (1996)\n",
              "998608      6035      1006  ...   scientist  20,000 Leagues Under the Sea (1954)\n",
              "1998817     6035      1006  ...   scientist  20,000 Leagues Under the Sea (1954)\n",
              "2999026     6035      1006  ...   scientist  20,000 Leagues Under the Sea (1954)\n",
              "\n",
              "[75513 rows x 5 columns]"
            ]
          },
          "metadata": {
            "tags": []
          },
          "execution_count": 57
        }
      ]
    },
    {
      "cell_type": "markdown",
      "metadata": {
        "id": "pR42ksFQyIqT"
      },
      "source": [
        "5. Filtra tu `DataFrame` para quedarte **solamente** con las películas que fueron evaluadas más de 50 veces.\n"
      ]
    },
    {
      "cell_type": "markdown",
      "metadata": {
        "id": "L2L6BdcPyKV0"
      },
      "source": [
        "6. Realiza una agrupación por película y computa el promedio de los ratings de cada película.\n"
      ]
    },
    {
      "cell_type": "markdown",
      "metadata": {
        "id": "iTrFebX7yL5O"
      },
      "source": [
        "7. Ordena la `Serie` resultante descendentemente y asígnala  a la variable `mean_of_scientists_ratings_sorted`.\n",
        "\n",
        "> **Nota**: el paso #5 es un poco complejo. No te desesperes si no encuentras una solución rápidamente. ¡Pídele a la experta que te guíe para que puedas resolverlo sin que te explote la cabeza!"
      ]
    },
    {
      "cell_type": "code",
      "metadata": {
        "id": "iHSHcDeBxG7B"
      },
      "source": [
        "...\n",
        "\n",
        "mean_of_scientists_ratings_sorted ="
      ],
      "execution_count": null,
      "outputs": []
    },
    {
      "cell_type": "markdown",
      "metadata": {
        "id": "JEexD3OIxG7C"
      },
      "source": [
        "La celda de validación a continuación, considera que este reto es la culimnación de todo el módulo, así que presume tus resultados y hasta la vista!"
      ]
    },
    {
      "cell_type": "code",
      "metadata": {
        "id": "aBVFUqX1xG7C"
      },
      "source": [
        "def visualizar_lista(mean_of_scientists_ratings_sorted):\n",
        "    import matplotlib.pyplot as plt\n",
        "    import seaborn as sns\n",
        "\n",
        "    fig, ax = plt.subplots(figsize=(10, 10))\n",
        "    ax.set_title('Ratings promedio de las películas más evaluadas por científicos')\n",
        "    sns.barplot(mean_of_scientists_ratings_sorted, mean_of_scientists_ratings_sorted.index, ax=ax)\n",
        "    ax.set(ylabel='Título', xlabel='Rating Promedio')\n",
        "    \n",
        "visualizar_lista(mean_of_scientists_ratings_sorted)"
      ],
      "execution_count": null,
      "outputs": []
    }
  ]
}