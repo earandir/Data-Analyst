{
  "nbformat": 4,
  "nbformat_minor": 0,
  "metadata": {
    "kernelspec": {
      "display_name": "Python 3",
      "language": "python",
      "name": "python3"
    },
    "language_info": {
      "codemirror_mode": {
        "name": "ipython",
        "version": 3
      },
      "file_extension": ".py",
      "mimetype": "text/x-python",
      "name": "python",
      "nbconvert_exporter": "python",
      "pygments_lexer": "ipython3",
      "version": "3.7.4"
    },
    "colab": {
      "name": "M03S07E06sort.ipynb",
      "provenance": [],
      "include_colab_link": true
    }
  },
  "cells": [
    {
      "cell_type": "markdown",
      "metadata": {
        "id": "view-in-github",
        "colab_type": "text"
      },
      "source": [
        "<a href=\"https://colab.research.google.com/github/earandir/DataAnalysis/blob/main/Moduloe03/Sesion07/M03S07R06sort.ipynb\" target=\"_parent\"><img src=\"https://colab.research.google.com/assets/colab-badge.svg\" alt=\"Open In Colab\"/></a>"
      ]
    },
    {
      "cell_type": "markdown",
      "metadata": {
        "id": "MjkiOGqJyIEm"
      },
      "source": [
        "## Ejemplo 6: Sort\n",
        "\n",
        "### 1. Objetivos:\n",
        "    - Aprender a usar `sort_values` para reordenar nuestros datos\n",
        " \n",
        "### 2. Desarrollo:"
      ]
    },
    {
      "cell_type": "code",
      "metadata": {
        "id": "xz1NNmvOyIEo"
      },
      "source": [
        "import pandas as pd"
      ],
      "execution_count": 1,
      "outputs": []
    },
    {
      "cell_type": "code",
      "metadata": {
        "colab": {
          "base_uri": "https://localhost:8080/"
        },
        "id": "aRQwzfjDK-a1",
        "outputId": "a9f60ae4-26eb-406d-a70a-d0bafd3b150b"
      },
      "source": [
        "from google.colab import drive\n",
        "drive.mount('/content/drive')\n",
        "\n",
        "data = '/content/drive/MyDrive/DataAnalysis/objetos_cercanos_4.csv'"
      ],
      "execution_count": 2,
      "outputs": [
        {
          "output_type": "stream",
          "text": [
            "Mounted at /content/drive\n"
          ],
          "name": "stdout"
        }
      ]
    },
    {
      "cell_type": "code",
      "metadata": {
        "id": "9QwDiJ-jPMcx"
      },
      "source": [
        "df = pd.read_csv(data, index_col=0)"
      ],
      "execution_count": null,
      "outputs": []
    },
    {
      "cell_type": "code",
      "metadata": {
        "colab": {
          "base_uri": "https://localhost:8080/",
          "height": 366
        },
        "id": "7A_wGw1uyIEp",
        "outputId": "0676fcf0-331f-4b5a-a12a-c2d513562212"
      },
      "source": [
        "df.head(3)"
      ],
      "execution_count": null,
      "outputs": [
        {
          "output_type": "execute_result",
          "data": {
            "text/html": [
              "<div>\n",
              "<style scoped>\n",
              "    .dataframe tbody tr th:only-of-type {\n",
              "        vertical-align: middle;\n",
              "    }\n",
              "\n",
              "    .dataframe tbody tr th {\n",
              "        vertical-align: top;\n",
              "    }\n",
              "\n",
              "    .dataframe thead th {\n",
              "        text-align: right;\n",
              "    }\n",
              "</style>\n",
              "<table border=\"1\" class=\"dataframe\">\n",
              "  <thead>\n",
              "    <tr style=\"text-align: right;\">\n",
              "      <th></th>\n",
              "      <th>amazon_product_url</th>\n",
              "      <th>author</th>\n",
              "      <th>description</th>\n",
              "      <th>publisher</th>\n",
              "      <th>title</th>\n",
              "      <th>oid</th>\n",
              "      <th>bestsellers_date.numberLong</th>\n",
              "      <th>published_date.numberLong</th>\n",
              "      <th>rank.numberInt</th>\n",
              "      <th>rank_last_week.numberInt</th>\n",
              "      <th>weeks_on_list.numberInt</th>\n",
              "      <th>price.numberDouble</th>\n",
              "    </tr>\n",
              "  </thead>\n",
              "  <tbody>\n",
              "    <tr>\n",
              "      <th>0</th>\n",
              "      <td>http://www.amazon.com/The-Host-Novel-Stephenie...</td>\n",
              "      <td>Stephenie Meyer</td>\n",
              "      <td>Descr: Aliens have taken control of the minds ...</td>\n",
              "      <td>Little, Brown</td>\n",
              "      <td>THE HOST</td>\n",
              "      <td>5b4aa4ead3089013507db18c</td>\n",
              "      <td>2008-05-24 00:00:00</td>\n",
              "      <td>1212883200000</td>\n",
              "      <td>2</td>\n",
              "      <td>1</td>\n",
              "      <td>3</td>\n",
              "      <td>25.99</td>\n",
              "    </tr>\n",
              "    <tr>\n",
              "      <th>1</th>\n",
              "      <td>http://www.amazon.com/Love-Youre-With-Emily-Gi...</td>\n",
              "      <td>Emily Giffin</td>\n",
              "      <td>Descr: A woman's happy marriage is shaken when...</td>\n",
              "      <td>St. Martin's</td>\n",
              "      <td>LOVE THE ONE YOU'RE WITH</td>\n",
              "      <td>5b4aa4ead3089013507db18d</td>\n",
              "      <td>2008-05-24 00:00:00</td>\n",
              "      <td>1212883200000</td>\n",
              "      <td>3</td>\n",
              "      <td>2</td>\n",
              "      <td>2</td>\n",
              "      <td>24.95</td>\n",
              "    </tr>\n",
              "    <tr>\n",
              "      <th>2</th>\n",
              "      <td>http://www.amazon.com/The-Front-Garano-Patrici...</td>\n",
              "      <td>Patricia Cornwell</td>\n",
              "      <td>Descr: A Massachusetts state investigator and ...</td>\n",
              "      <td>Putnam</td>\n",
              "      <td>THE FRONT</td>\n",
              "      <td>5b4aa4ead3089013507db18e</td>\n",
              "      <td>2008-05-24 00:00:00</td>\n",
              "      <td>1212883200000</td>\n",
              "      <td>4</td>\n",
              "      <td>0</td>\n",
              "      <td>1</td>\n",
              "      <td>22.95</td>\n",
              "    </tr>\n",
              "  </tbody>\n",
              "</table>\n",
              "</div>"
            ],
            "text/plain": [
              "                                  amazon_product_url  ... price.numberDouble\n",
              "0  http://www.amazon.com/The-Host-Novel-Stephenie...  ...              25.99\n",
              "1  http://www.amazon.com/Love-Youre-With-Emily-Gi...  ...              24.95\n",
              "2  http://www.amazon.com/The-Front-Garano-Patrici...  ...              22.95\n",
              "\n",
              "[3 rows x 12 columns]"
            ]
          },
          "metadata": {
            "tags": []
          },
          "execution_count": 6
        }
      ]
    },
    {
      "cell_type": "markdown",
      "metadata": {
        "id": "PzSmvnClyIEp"
      },
      "source": [
        "Finalmente veamos como podemos ordenar los elementos de una DataFrame, por ejemplo, queremos ordenar nuestras entradas empezando por el libro de mayor precio hasta el libro de menor precio, así que se ordena en base a la columna `price.numberDouble` de manera descendente usando la siguiente forma de la función `sort_values()`:\n",
        "\n",
        "`dataframe.sort_values(-columna-, ascending=False)`"
      ]
    },
    {
      "cell_type": "code",
      "metadata": {
        "colab": {
          "base_uri": "https://localhost:8080/",
          "height": 1000
        },
        "id": "7S-nGhSyyIEq",
        "outputId": "77da6f0e-2dd2-43da-aed1-11d5e1079761"
      },
      "source": [
        "df.sort_values('price.numberDouble', ascending=False)"
      ],
      "execution_count": null,
      "outputs": [
        {
          "output_type": "execute_result",
          "data": {
            "text/html": [
              "<div>\n",
              "<style scoped>\n",
              "    .dataframe tbody tr th:only-of-type {\n",
              "        vertical-align: middle;\n",
              "    }\n",
              "\n",
              "    .dataframe tbody tr th {\n",
              "        vertical-align: top;\n",
              "    }\n",
              "\n",
              "    .dataframe thead th {\n",
              "        text-align: right;\n",
              "    }\n",
              "</style>\n",
              "<table border=\"1\" class=\"dataframe\">\n",
              "  <thead>\n",
              "    <tr style=\"text-align: right;\">\n",
              "      <th></th>\n",
              "      <th>amazon_product_url</th>\n",
              "      <th>author</th>\n",
              "      <th>description</th>\n",
              "      <th>publisher</th>\n",
              "      <th>title</th>\n",
              "      <th>oid</th>\n",
              "      <th>bestsellers_date.numberLong</th>\n",
              "      <th>published_date.numberLong</th>\n",
              "      <th>rank.numberInt</th>\n",
              "      <th>rank_last_week.numberInt</th>\n",
              "      <th>weeks_on_list.numberInt</th>\n",
              "      <th>price.numberDouble</th>\n",
              "    </tr>\n",
              "  </thead>\n",
              "  <tbody>\n",
              "    <tr>\n",
              "      <th>2264</th>\n",
              "      <td>http://www.amazon.com/1Q84-Haruki-Murakami-ebo...</td>\n",
              "      <td>Haruki Murakami</td>\n",
              "      <td>Descr: In 1980s Tokyo, a woman who punishes pe...</td>\n",
              "      <td>Knopf</td>\n",
              "      <td>1Q84</td>\n",
              "      <td>5b4aa4ead3089013507dbff5</td>\n",
              "      <td>2011-12-03 00:00:00</td>\n",
              "      <td>1324166400000</td>\n",
              "      <td>11</td>\n",
              "      <td>12</td>\n",
              "      <td>6</td>\n",
              "      <td>30.50</td>\n",
              "    </tr>\n",
              "    <tr>\n",
              "      <th>2255</th>\n",
              "      <td>http://www.amazon.com/1Q84-Haruki-Murakami-ebo...</td>\n",
              "      <td>Haruki Murakami</td>\n",
              "      <td>Descr: In 1980s Tokyo, a woman who punishes pe...</td>\n",
              "      <td>Knopf</td>\n",
              "      <td>1Q84</td>\n",
              "      <td>5b4aa4ead3089013507dbfe2</td>\n",
              "      <td>2011-11-26 00:00:00</td>\n",
              "      <td>1323561600000</td>\n",
              "      <td>12</td>\n",
              "      <td>10</td>\n",
              "      <td>5</td>\n",
              "      <td>30.50</td>\n",
              "    </tr>\n",
              "    <tr>\n",
              "      <th>2276</th>\n",
              "      <td>http://www.amazon.com/1Q84-Haruki-Murakami-ebo...</td>\n",
              "      <td>Haruki Murakami</td>\n",
              "      <td>Descr: In 1980s Tokyo, a woman who punishes pe...</td>\n",
              "      <td>Knopf</td>\n",
              "      <td>1Q84</td>\n",
              "      <td>5b4aa4ead3089013507dc00b</td>\n",
              "      <td>2011-12-10 00:00:00</td>\n",
              "      <td>1324771200000</td>\n",
              "      <td>13</td>\n",
              "      <td>11</td>\n",
              "      <td>7</td>\n",
              "      <td>30.50</td>\n",
              "    </tr>\n",
              "    <tr>\n",
              "      <th>2287</th>\n",
              "      <td>http://www.amazon.com/1Q84-Haruki-Murakami-ebo...</td>\n",
              "      <td>Haruki Murakami</td>\n",
              "      <td>Descr: In 1980s Tokyo, a woman who punishes pe...</td>\n",
              "      <td>Knopf</td>\n",
              "      <td>1Q84</td>\n",
              "      <td>5b4aa4ead3089013507dc01e</td>\n",
              "      <td>2011-12-17 00:00:00</td>\n",
              "      <td>1325376000000</td>\n",
              "      <td>12</td>\n",
              "      <td>13</td>\n",
              "      <td>8</td>\n",
              "      <td>30.50</td>\n",
              "    </tr>\n",
              "    <tr>\n",
              "      <th>2232</th>\n",
              "      <td>http://www.amazon.com/1Q84-Haruki-Murakami-ebo...</td>\n",
              "      <td>Haruki Murakami</td>\n",
              "      <td>Descr: In 1980s Tokyo, a woman who punishes pe...</td>\n",
              "      <td>Knopf</td>\n",
              "      <td>1Q84</td>\n",
              "      <td>5b4aa4ead3089013507dbfb4</td>\n",
              "      <td>2011-11-12 00:00:00</td>\n",
              "      <td>1322352000000</td>\n",
              "      <td>6</td>\n",
              "      <td>6</td>\n",
              "      <td>3</td>\n",
              "      <td>30.50</td>\n",
              "    </tr>\n",
              "    <tr>\n",
              "      <th>...</th>\n",
              "      <td>...</td>\n",
              "      <td>...</td>\n",
              "      <td>...</td>\n",
              "      <td>...</td>\n",
              "      <td>...</td>\n",
              "      <td>...</td>\n",
              "      <td>...</td>\n",
              "      <td>...</td>\n",
              "      <td>...</td>\n",
              "      <td>...</td>\n",
              "      <td>...</td>\n",
              "      <td>...</td>\n",
              "    </tr>\n",
              "    <tr>\n",
              "      <th>2205</th>\n",
              "      <td>http://www.amazon.com/1225-Christmas-Tree-Lane...</td>\n",
              "      <td>Debbie Macomber</td>\n",
              "      <td>Descr: Puppies and an ex-husband loom large in...</td>\n",
              "      <td>Mira</td>\n",
              "      <td>1225 CHRISTMAS TREE LANE</td>\n",
              "      <td>5b4aa4ead3089013507dbf81</td>\n",
              "      <td>2011-10-22 00:00:00</td>\n",
              "      <td>1320537600000</td>\n",
              "      <td>15</td>\n",
              "      <td>10</td>\n",
              "      <td>4</td>\n",
              "      <td>16.95</td>\n",
              "    </tr>\n",
              "    <tr>\n",
              "      <th>237</th>\n",
              "      <td>http://www.amazon.com/Cedar-Cove-Christmas-Deb...</td>\n",
              "      <td>Debbie Macomber</td>\n",
              "      <td>Descr: A pregnant woman shows up in Cedar Cove...</td>\n",
              "      <td>Mira</td>\n",
              "      <td>A CEDAR COVE CHRISTMAS</td>\n",
              "      <td>5b4aa4ead3089013507db30d</td>\n",
              "      <td>2008-10-04 00:00:00</td>\n",
              "      <td>1224374400000</td>\n",
              "      <td>7</td>\n",
              "      <td>0</td>\n",
              "      <td>1</td>\n",
              "      <td>16.95</td>\n",
              "    </tr>\n",
              "    <tr>\n",
              "      <th>1343</th>\n",
              "      <td>http://www.amazon.com/Blockade-Billy-Stephen-K...</td>\n",
              "      <td>Stephen King</td>\n",
              "      <td>Descr: A tale about the dark side of baseball,...</td>\n",
              "      <td>Scribner</td>\n",
              "      <td>BLOCKADE BILLY</td>\n",
              "      <td>5b4aa4ead3089013507db9f6</td>\n",
              "      <td>2010-06-13 00:00:00</td>\n",
              "      <td>1277596800000</td>\n",
              "      <td>16</td>\n",
              "      <td>13</td>\n",
              "      <td>3</td>\n",
              "      <td>14.99</td>\n",
              "    </tr>\n",
              "    <tr>\n",
              "      <th>1310</th>\n",
              "      <td>http://www.amazon.com/Blockade-Billy-Stephen-K...</td>\n",
              "      <td>Stephen King</td>\n",
              "      <td>Descr: A tale about the dark side of baseball,...</td>\n",
              "      <td>Simon &amp; Schuster</td>\n",
              "      <td>BLOCKADE BILLY</td>\n",
              "      <td>5b4aa4ead3089013507db9c7</td>\n",
              "      <td>2010-05-30 00:00:00</td>\n",
              "      <td>1276387200000</td>\n",
              "      <td>9</td>\n",
              "      <td>0</td>\n",
              "      <td>1</td>\n",
              "      <td>14.99</td>\n",
              "    </tr>\n",
              "    <tr>\n",
              "      <th>1328</th>\n",
              "      <td>http://www.amazon.com/Blockade-Billy-Stephen-K...</td>\n",
              "      <td>Stephen King</td>\n",
              "      <td>Descr: A tale about the dark side of baseball,...</td>\n",
              "      <td>Scribner</td>\n",
              "      <td>BLOCKADE BILLY</td>\n",
              "      <td>5b4aa4ead3089013507db9df</td>\n",
              "      <td>2010-06-06 00:00:00</td>\n",
              "      <td>1276992000000</td>\n",
              "      <td>13</td>\n",
              "      <td>9</td>\n",
              "      <td>2</td>\n",
              "      <td>14.99</td>\n",
              "    </tr>\n",
              "  </tbody>\n",
              "</table>\n",
              "<p>2266 rows × 12 columns</p>\n",
              "</div>"
            ],
            "text/plain": [
              "                                     amazon_product_url  ... price.numberDouble\n",
              "2264  http://www.amazon.com/1Q84-Haruki-Murakami-ebo...  ...              30.50\n",
              "2255  http://www.amazon.com/1Q84-Haruki-Murakami-ebo...  ...              30.50\n",
              "2276  http://www.amazon.com/1Q84-Haruki-Murakami-ebo...  ...              30.50\n",
              "2287  http://www.amazon.com/1Q84-Haruki-Murakami-ebo...  ...              30.50\n",
              "2232  http://www.amazon.com/1Q84-Haruki-Murakami-ebo...  ...              30.50\n",
              "...                                                 ...  ...                ...\n",
              "2205  http://www.amazon.com/1225-Christmas-Tree-Lane...  ...              16.95\n",
              "237   http://www.amazon.com/Cedar-Cove-Christmas-Deb...  ...              16.95\n",
              "1343  http://www.amazon.com/Blockade-Billy-Stephen-K...  ...              14.99\n",
              "1310  http://www.amazon.com/Blockade-Billy-Stephen-K...  ...              14.99\n",
              "1328  http://www.amazon.com/Blockade-Billy-Stephen-K...  ...              14.99\n",
              "\n",
              "[2266 rows x 12 columns]"
            ]
          },
          "metadata": {
            "tags": []
          },
          "execution_count": 7
        }
      ]
    },
    {
      "cell_type": "markdown",
      "metadata": {
        "id": "wKPt63e4yIEq"
      },
      "source": [
        "Si ordenamos en base a `published_date.numberLong` podemos también obtener la lista desde la publicación más antigua hasta la publicación más reciente:"
      ]
    },
    {
      "cell_type": "code",
      "metadata": {
        "id": "TLBBYyN7yIEq"
      },
      "source": [
        "df.sort_values(\"published_date.numberLong\")"
      ],
      "execution_count": null,
      "outputs": []
    },
    {
      "cell_type": "markdown",
      "metadata": {
        "id": "ujUeC2q3yIEq"
      },
      "source": [
        "Pero como seguramente no lo crees aún porque estamos usando la columna del Timestamp, vamos a convertir la fechas a datetime con el método:\n",
        "\n",
        "`pd.to_datetime(-dataframe[columna]-, unit=\"ms\")`\n",
        "\n",
        "y aplicarlo desde el DataFrame original, ordenamos nuevamente y obtenemos un DataFrame sólo con las columnas `amazon_product_url` y `published_date.numberLong` para simplificar el resultado:"
      ]
    },
    {
      "cell_type": "code",
      "metadata": {
        "colab": {
          "base_uri": "https://localhost:8080/",
          "height": 547
        },
        "id": "GE_i8qWayIEr",
        "outputId": "242b9785-fdb0-42b4-cd58-6775803634f9"
      },
      "source": [
        "df[\"published_date.numberLong\"] = pd.to_datetime(df['published_date.numberLong'], unit='ms')\n",
        "\n",
        "df.head()"
      ],
      "execution_count": null,
      "outputs": [
        {
          "output_type": "execute_result",
          "data": {
            "text/html": [
              "<div>\n",
              "<style scoped>\n",
              "    .dataframe tbody tr th:only-of-type {\n",
              "        vertical-align: middle;\n",
              "    }\n",
              "\n",
              "    .dataframe tbody tr th {\n",
              "        vertical-align: top;\n",
              "    }\n",
              "\n",
              "    .dataframe thead th {\n",
              "        text-align: right;\n",
              "    }\n",
              "</style>\n",
              "<table border=\"1\" class=\"dataframe\">\n",
              "  <thead>\n",
              "    <tr style=\"text-align: right;\">\n",
              "      <th></th>\n",
              "      <th>amazon_product_url</th>\n",
              "      <th>author</th>\n",
              "      <th>description</th>\n",
              "      <th>publisher</th>\n",
              "      <th>title</th>\n",
              "      <th>oid</th>\n",
              "      <th>bestsellers_date.numberLong</th>\n",
              "      <th>published_date.numberLong</th>\n",
              "      <th>rank.numberInt</th>\n",
              "      <th>rank_last_week.numberInt</th>\n",
              "      <th>weeks_on_list.numberInt</th>\n",
              "      <th>price.numberDouble</th>\n",
              "    </tr>\n",
              "  </thead>\n",
              "  <tbody>\n",
              "    <tr>\n",
              "      <th>0</th>\n",
              "      <td>http://www.amazon.com/The-Host-Novel-Stephenie...</td>\n",
              "      <td>Stephenie Meyer</td>\n",
              "      <td>Descr: Aliens have taken control of the minds ...</td>\n",
              "      <td>Little, Brown</td>\n",
              "      <td>THE HOST</td>\n",
              "      <td>5b4aa4ead3089013507db18c</td>\n",
              "      <td>2008-05-24 00:00:00</td>\n",
              "      <td>2008-06-08</td>\n",
              "      <td>2</td>\n",
              "      <td>1</td>\n",
              "      <td>3</td>\n",
              "      <td>25.99</td>\n",
              "    </tr>\n",
              "    <tr>\n",
              "      <th>1</th>\n",
              "      <td>http://www.amazon.com/Love-Youre-With-Emily-Gi...</td>\n",
              "      <td>Emily Giffin</td>\n",
              "      <td>Descr: A woman's happy marriage is shaken when...</td>\n",
              "      <td>St. Martin's</td>\n",
              "      <td>LOVE THE ONE YOU'RE WITH</td>\n",
              "      <td>5b4aa4ead3089013507db18d</td>\n",
              "      <td>2008-05-24 00:00:00</td>\n",
              "      <td>2008-06-08</td>\n",
              "      <td>3</td>\n",
              "      <td>2</td>\n",
              "      <td>2</td>\n",
              "      <td>24.95</td>\n",
              "    </tr>\n",
              "    <tr>\n",
              "      <th>2</th>\n",
              "      <td>http://www.amazon.com/The-Front-Garano-Patrici...</td>\n",
              "      <td>Patricia Cornwell</td>\n",
              "      <td>Descr: A Massachusetts state investigator and ...</td>\n",
              "      <td>Putnam</td>\n",
              "      <td>THE FRONT</td>\n",
              "      <td>5b4aa4ead3089013507db18e</td>\n",
              "      <td>2008-05-24 00:00:00</td>\n",
              "      <td>2008-06-08</td>\n",
              "      <td>4</td>\n",
              "      <td>0</td>\n",
              "      <td>1</td>\n",
              "      <td>22.95</td>\n",
              "    </tr>\n",
              "    <tr>\n",
              "      <th>3</th>\n",
              "      <td>http://www.amazon.com/Snuff-Chuck-Palahniuk/dp...</td>\n",
              "      <td>Chuck Palahniuk</td>\n",
              "      <td>Descr: An aging porn queens aims to cap her ca...</td>\n",
              "      <td>Doubleday</td>\n",
              "      <td>SNUFF</td>\n",
              "      <td>5b4aa4ead3089013507db18f</td>\n",
              "      <td>2008-05-24 00:00:00</td>\n",
              "      <td>2008-06-08</td>\n",
              "      <td>5</td>\n",
              "      <td>0</td>\n",
              "      <td>1</td>\n",
              "      <td>24.95</td>\n",
              "    </tr>\n",
              "    <tr>\n",
              "      <th>5</th>\n",
              "      <td>http://www.amazon.com/Phantom-Prey-John-Sandfo...</td>\n",
              "      <td>John Sandford</td>\n",
              "      <td>Descr: The Minneapolis detective Lucas Davenpo...</td>\n",
              "      <td>Putnam</td>\n",
              "      <td>PHANTOM PREY</td>\n",
              "      <td>5b4aa4ead3089013507db191</td>\n",
              "      <td>2008-05-24 00:00:00</td>\n",
              "      <td>2008-06-08</td>\n",
              "      <td>7</td>\n",
              "      <td>4</td>\n",
              "      <td>3</td>\n",
              "      <td>26.95</td>\n",
              "    </tr>\n",
              "  </tbody>\n",
              "</table>\n",
              "</div>"
            ],
            "text/plain": [
              "                                  amazon_product_url  ... price.numberDouble\n",
              "0  http://www.amazon.com/The-Host-Novel-Stephenie...  ...              25.99\n",
              "1  http://www.amazon.com/Love-Youre-With-Emily-Gi...  ...              24.95\n",
              "2  http://www.amazon.com/The-Front-Garano-Patrici...  ...              22.95\n",
              "3  http://www.amazon.com/Snuff-Chuck-Palahniuk/dp...  ...              24.95\n",
              "5  http://www.amazon.com/Phantom-Prey-John-Sandfo...  ...              26.95\n",
              "\n",
              "[5 rows x 12 columns]"
            ]
          },
          "metadata": {
            "tags": []
          },
          "execution_count": 8
        }
      ]
    },
    {
      "cell_type": "code",
      "metadata": {
        "id": "cN8tpUu7yIEr"
      },
      "source": [
        "df_ordenado = df.sort_values(\"published_date.numberLong\")\n",
        "\n",
        "df_ordenado[[ ... ]]"
      ],
      "execution_count": null,
      "outputs": []
    },
    {
      "cell_type": "markdown",
      "metadata": {
        "id": "5KOuq6TuyIEr"
      },
      "source": [
        "**NOTA PYTHONESCA:** Para trabajar con fechas se pueden usar los tipos de datos `datetime` o `int` (en alguna unidad de segundos), el ordenamiento u otra operación se realizará de forma correcta, pero procesar fechas de tipo `object` o `str` podríamos obtener resultados inesperados."
      ]
    },
    {
      "cell_type": "markdown",
      "metadata": {
        "id": "EZ9Fy71hyIEr"
      },
      "source": [
        "Por ejemplo, podríamos primero filtrar para sólo tener los libros de la editorial que tiene más libros como 'best sellers' usando la columna `publisher` y después ordenarlos del que pasó más días en la lista de 'best sellers' al que pasó menos días en la lista usando la columna `weeks_on_list.numberInt`.\n",
        "\n",
        "Primero encontramos la editorial con más bestsellers con el método:\n",
        "\n",
        "`dataframe[-columna-].value_counts()`"
      ]
    },
    {
      "cell_type": "code",
      "metadata": {
        "id": "Y5nkmm4eyIEr"
      },
      "source": [
        "..."
      ],
      "execution_count": null,
      "outputs": []
    },
    {
      "cell_type": "markdown",
      "metadata": {
        "id": "dBscepeZyIEs"
      },
      "source": [
        "Filtra sólo los que perteneces a la editorial encontrada (Putnam?) usando la aplicación de filtros con:\n",
        "\n",
        "`dataframe[ dataframe[-columna-] op -valor- ]`"
      ]
    },
    {
      "cell_type": "code",
      "metadata": {
        "id": "9anFCSgkyIEs"
      },
      "source": [
        "df_1 =  ...\n",
        "df_1.head(3)"
      ],
      "execution_count": null,
      "outputs": []
    },
    {
      "cell_type": "markdown",
      "metadata": {
        "id": "9z0YzRc3yIEs"
      },
      "source": [
        "Ordenando en base a la cantidad de días como bestsellers usando:\n",
        "\n",
        "`dataframe.sort_values(-columna-, ascending=False)`"
      ]
    },
    {
      "cell_type": "code",
      "metadata": {
        "id": "bCODcaGkyIEs"
      },
      "source": [
        "..."
      ],
      "execution_count": null,
      "outputs": []
    },
    {
      "cell_type": "markdown",
      "metadata": {
        "id": "i-TTED02yIEs"
      },
      "source": [
        "---\n",
        "---"
      ]
    },
    {
      "cell_type": "markdown",
      "metadata": {
        "id": "VjXdDFGryIEs"
      },
      "source": [
        "## Reto 6: Sort\n",
        "\n",
        "### 1. Objetivos:\n",
        "    - Practicar el uso de `sort_values` para obtener datos específicos\n",
        "    \n",
        "### 2. Desarrollo:"
      ]
    },
    {
      "cell_type": "markdown",
      "metadata": {
        "id": "KQJByTYMyIEs"
      },
      "source": [
        "#### a) Reordenamiento para hallazgo de valores\n",
        "\n",
        "Vamos a trabajar sobre el dataset que guardaste en la sesión anterior. Tu Reto consiste en lo siguiente:\n",
        "\n",
        "1. Usa `sort_values` y `loc` para obtener el valor de la velocidad en kilómetros por segundo más lenta de todos los objetos que tenemos en el dataset y asígnalo a `velocidad_en_kilometros_por_segundo_de_objeto_mas_lento`.\n",
        "2. Usa `sort_values` y `loc` para obtener el valor del diámetro más grande medido que existe en nuestro dataset y asígnalo a `medida_de_diametro_mas_grande`"
      ]
    },
    {
      "cell_type": "code",
      "metadata": {
        "id": "r6hfA0tJyIEt",
        "colab": {
          "base_uri": "https://localhost:8080/",
          "height": 281
        },
        "outputId": "423158cc-4db8-4a75-bf67-8582e6fb487f"
      },
      "source": [
        "df_reto_6 = pd.read_csv(data, index_col=0)\n",
        "df_reto_6.head(3)"
      ],
      "execution_count": 3,
      "outputs": [
        {
          "output_type": "execute_result",
          "data": {
            "text/html": [
              "<div>\n",
              "<style scoped>\n",
              "    .dataframe tbody tr th:only-of-type {\n",
              "        vertical-align: middle;\n",
              "    }\n",
              "\n",
              "    .dataframe tbody tr th {\n",
              "        vertical-align: top;\n",
              "    }\n",
              "\n",
              "    .dataframe thead th {\n",
              "        text-align: right;\n",
              "    }\n",
              "</style>\n",
              "<table border=\"1\" class=\"dataframe\">\n",
              "  <thead>\n",
              "    <tr style=\"text-align: right;\">\n",
              "      <th></th>\n",
              "      <th>id_name</th>\n",
              "      <th>is_potentially_hazardous_asteroid</th>\n",
              "      <th>estimated_diameter.meters.estimated_diameter_min</th>\n",
              "      <th>estimated_diameter.meters.estimated_diameter_max</th>\n",
              "      <th>close_approach_date</th>\n",
              "      <th>epoch_date_close_approach</th>\n",
              "      <th>orbiting_body</th>\n",
              "      <th>relative_velocity.kilometers_per_second</th>\n",
              "      <th>relative_velocity.kilometers_per_hour</th>\n",
              "      <th>orbit_class_description</th>\n",
              "      <th>id</th>\n",
              "      <th>name</th>\n",
              "      <th>relative_velocity.kilometers_per_minute</th>\n",
              "      <th>proportion_of_max_diameter_to_earth</th>\n",
              "    </tr>\n",
              "  </thead>\n",
              "  <tbody>\n",
              "    <tr>\n",
              "      <th>0</th>\n",
              "      <td>2154652-154652 (2004 EP20)</td>\n",
              "      <td>0</td>\n",
              "      <td>483.676488</td>\n",
              "      <td>1081.533507</td>\n",
              "      <td>1995-01-07</td>\n",
              "      <td>1995-01-07 08:33:00</td>\n",
              "      <td>Earth</td>\n",
              "      <td>16.142864</td>\n",
              "      <td>58114.308667</td>\n",
              "      <td>Near Earth asteroid orbits similar to that of ...</td>\n",
              "      <td>2154652</td>\n",
              "      <td>154652 (2004 EP20)</td>\n",
              "      <td>968.571811</td>\n",
              "      <td>0.000085</td>\n",
              "    </tr>\n",
              "    <tr>\n",
              "      <th>1</th>\n",
              "      <td>3153509-(2003 HM)</td>\n",
              "      <td>1</td>\n",
              "      <td>96.506147</td>\n",
              "      <td>215.794305</td>\n",
              "      <td>1995-01-07</td>\n",
              "      <td>1995-01-07 15:09:00</td>\n",
              "      <td>Earth</td>\n",
              "      <td>12.351044</td>\n",
              "      <td>44463.757734</td>\n",
              "      <td>Near Earth asteroid orbits which cross the Ear...</td>\n",
              "      <td>3153509</td>\n",
              "      <td>(2003 HM)</td>\n",
              "      <td>741.062629</td>\n",
              "      <td>0.000017</td>\n",
              "    </tr>\n",
              "    <tr>\n",
              "      <th>3</th>\n",
              "      <td>3837644-(2019 AY3)</td>\n",
              "      <td>0</td>\n",
              "      <td>46.190746</td>\n",
              "      <td>103.285648</td>\n",
              "      <td>1995-01-07</td>\n",
              "      <td>1995-01-07 21:25:00</td>\n",
              "      <td>Earth</td>\n",
              "      <td>22.478615</td>\n",
              "      <td>80923.015021</td>\n",
              "      <td>Near Earth asteroid orbits similar to that of ...</td>\n",
              "      <td>3837644</td>\n",
              "      <td>(2019 AY3)</td>\n",
              "      <td>1348.716917</td>\n",
              "      <td>0.000008</td>\n",
              "    </tr>\n",
              "  </tbody>\n",
              "</table>\n",
              "</div>"
            ],
            "text/plain": [
              "                      id_name  ...  proportion_of_max_diameter_to_earth\n",
              "0  2154652-154652 (2004 EP20)  ...                             0.000085\n",
              "1           3153509-(2003 HM)  ...                             0.000017\n",
              "3          3837644-(2019 AY3)  ...                             0.000008\n",
              "\n",
              "[3 rows x 14 columns]"
            ]
          },
          "metadata": {
            "tags": []
          },
          "execution_count": 3
        }
      ]
    },
    {
      "cell_type": "code",
      "metadata": {
        "id": "rn4LC3kjTHMK"
      },
      "source": [
        "df_reto_6['relative_velocity.kilometers_per_second']"
      ],
      "execution_count": null,
      "outputs": []
    },
    {
      "cell_type": "code",
      "metadata": {
        "id": "QhoXOgJTyIEt"
      },
      "source": [
        "velocidad_en_kilometros_por_segundo_de_objeto_mas_lento ="
      ],
      "execution_count": null,
      "outputs": []
    },
    {
      "cell_type": "code",
      "metadata": {
        "id": "XP03j9tayIEt"
      },
      "source": [
        "medida_de_diametro_mas_grande = "
      ],
      "execution_count": null,
      "outputs": []
    },
    {
      "cell_type": "markdown",
      "metadata": {
        "id": "d5yHwycdyIEt"
      },
      "source": [
        "En este caso la celda de valición si comprueba si tus resultados son correctos, adelante ..."
      ]
    },
    {
      "cell_type": "code",
      "metadata": {
        "id": "hMRj_SSWyIEt"
      },
      "source": [
        "def corroborar_hallazgos(velocidad_en_kilometros_por_segundo_de_objeto_mas_lento, medida_de_diametro_mas_grande):\n",
        "    \n",
        "    assert velocidad_en_kilometros_por_segundo_de_objeto_mas_lento == 0.681436673, 'Esa no es la velocidad en kilómetros por segundo del objeto más lento'\n",
        "    assert medida_de_diametro_mas_grande == 6516.883821679, 'Ese no es el diámetro más grande medido en nuestro dataset'\n",
        "    \n",
        "    print('Tus hallazgos son correctos. ¡Bien hecho!')\n",
        "    \n",
        "corroborar_hallazgos(velocidad_en_kilometros_por_segundo_de_objeto_mas_lento, medida_de_diametro_mas_grande)"
      ],
      "execution_count": null,
      "outputs": []
    }
  ]
}