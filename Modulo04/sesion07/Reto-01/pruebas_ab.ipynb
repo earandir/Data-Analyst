{
  "nbformat": 4,
  "nbformat_minor": 0,
  "metadata": {
    "kernelspec": {
      "display_name": "Python 3",
      "language": "python",
      "name": "python3"
    },
    "language_info": {
      "codemirror_mode": {
        "name": "ipython",
        "version": 3
      },
      "file_extension": ".py",
      "mimetype": "text/x-python",
      "name": "python",
      "nbconvert_exporter": "python",
      "pygments_lexer": "ipython3",
      "version": "3.8.5"
    },
    "colab": {
      "name": "pruebas_ab.ipynb",
      "provenance": [],
      "include_colab_link": true
    }
  },
  "cells": [
    {
      "cell_type": "markdown",
      "metadata": {
        "id": "view-in-github",
        "colab_type": "text"
      },
      "source": [
        "<a href=\"https://colab.research.google.com/github/earandir/DataAnalysis/blob/main/Modulo04/sesion07/Reto-01/pruebas_ab.ipynb\" target=\"_parent\"><img src=\"https://colab.research.google.com/assets/colab-badge.svg\" alt=\"Open In Colab\"/></a>"
      ]
    },
    {
      "cell_type": "markdown",
      "metadata": {
        "id": "jAWu4TF3eKGM"
      },
      "source": [
        "## Reto 1: Pruebas A/B\n",
        "\n",
        "### 1. Objetivos:\n",
        "    - Practicar evaluar los resultados de una Prueba A/B\n",
        " \n",
        "---\n",
        "    \n",
        "### 2. Desarrollo:"
      ]
    },
    {
      "cell_type": "markdown",
      "metadata": {
        "id": "riYxDStaeKGN"
      },
      "source": [
        "### a) Evaluando una prueba A/B de flujo de ventas\n",
        "\n",
        "El archivo 'ab_test-sales_pipeline-2' tiene datos muy similares a los que vimos en el último ejemplo. Estamos evaluando dos flujos de ventas distintos: A y B. Cada vez que alguien compró el producto gracias a uno de los dos flujos, se registró como un `1` en la columna `conversion` y un `0` en la columna `no conversion`.\n",
        "\n",
        "Evalúa la prueba A/B para saber si los resultados obtenidos son estadísticamente significativos. El Reto consiste en los siguientes pasos:\n",
        "\n",
        "1. Primero cuantifica cuál de los flujos de ventas fue más efectivo y en qué proporción.\n",
        "2. Después aplica el test de permutación:\n",
        "    1. Combina los resultados de ambos grupos en un mismo conjunto de datos\n",
        "    2. Revuelve los datos\n",
        "    3. Usando muestreo aleatorio sin reposición, construye un nuevo grupo A del mismo tamaño que el original.\n",
        "    4. El resto de los datos conforman nuestro nuevo grupo B.\n",
        "    5. Cuantifica la métrica o estadística que calculaste con los grupos originales y guarda el resultado.\n",
        "    6. Repite los pasos 1-5 `R` veces para obtener una distribución de la estadística de interés.\n",
        "3. Grafica tus resultados en un histograma y grafica una línea vertical que marque el resultado del experimento.\n",
        "4. Cuantifica el Valor P y evalúa la significación estadística con un Alfa de 0.05 (5%).\n",
        "5. Comenta tus hallazgos con tus compañeros y la experta.\n",
        "\n",
        "**Dataset:** https://raw.githubusercontent.com/manu-msr/beduadp/master/Datasets/ab_test-sales_pipeline-2.csv"
      ]
    },
    {
      "cell_type": "code",
      "metadata": {
        "id": "MARgrVkQa9DV"
      },
      "source": [
        "import pandas as pd\n",
        "import seaborn as sns\n",
        "import matplotlib.pyplot as plt"
      ],
      "execution_count": 1,
      "outputs": []
    },
    {
      "cell_type": "code",
      "metadata": {
        "id": "QabN7a0Ha9DX",
        "colab": {
          "base_uri": "https://localhost:8080/",
          "height": 419
        },
        "outputId": "d5710751-dae6-493f-8083-b5d96e4cc9df"
      },
      "source": [
        "df = pd.read_csv('https://raw.githubusercontent.com/manu-msr/beduadp/master/Datasets/ab_test-sales_pipeline-2.csv')\n",
        "\n",
        "df"
      ],
      "execution_count": 2,
      "outputs": [
        {
          "output_type": "execute_result",
          "data": {
            "text/html": [
              "<div>\n",
              "<style scoped>\n",
              "    .dataframe tbody tr th:only-of-type {\n",
              "        vertical-align: middle;\n",
              "    }\n",
              "\n",
              "    .dataframe tbody tr th {\n",
              "        vertical-align: top;\n",
              "    }\n",
              "\n",
              "    .dataframe thead th {\n",
              "        text-align: right;\n",
              "    }\n",
              "</style>\n",
              "<table border=\"1\" class=\"dataframe\">\n",
              "  <thead>\n",
              "    <tr style=\"text-align: right;\">\n",
              "      <th></th>\n",
              "      <th>test</th>\n",
              "      <th>conversion</th>\n",
              "      <th>no conversion</th>\n",
              "    </tr>\n",
              "  </thead>\n",
              "  <tbody>\n",
              "    <tr>\n",
              "      <th>0</th>\n",
              "      <td>A</td>\n",
              "      <td>0</td>\n",
              "      <td>1</td>\n",
              "    </tr>\n",
              "    <tr>\n",
              "      <th>1</th>\n",
              "      <td>B</td>\n",
              "      <td>0</td>\n",
              "      <td>1</td>\n",
              "    </tr>\n",
              "    <tr>\n",
              "      <th>2</th>\n",
              "      <td>A</td>\n",
              "      <td>0</td>\n",
              "      <td>1</td>\n",
              "    </tr>\n",
              "    <tr>\n",
              "      <th>3</th>\n",
              "      <td>A</td>\n",
              "      <td>0</td>\n",
              "      <td>1</td>\n",
              "    </tr>\n",
              "    <tr>\n",
              "      <th>4</th>\n",
              "      <td>B</td>\n",
              "      <td>0</td>\n",
              "      <td>1</td>\n",
              "    </tr>\n",
              "    <tr>\n",
              "      <th>...</th>\n",
              "      <td>...</td>\n",
              "      <td>...</td>\n",
              "      <td>...</td>\n",
              "    </tr>\n",
              "    <tr>\n",
              "      <th>76322</th>\n",
              "      <td>B</td>\n",
              "      <td>0</td>\n",
              "      <td>1</td>\n",
              "    </tr>\n",
              "    <tr>\n",
              "      <th>76323</th>\n",
              "      <td>A</td>\n",
              "      <td>0</td>\n",
              "      <td>1</td>\n",
              "    </tr>\n",
              "    <tr>\n",
              "      <th>76324</th>\n",
              "      <td>B</td>\n",
              "      <td>0</td>\n",
              "      <td>1</td>\n",
              "    </tr>\n",
              "    <tr>\n",
              "      <th>76325</th>\n",
              "      <td>B</td>\n",
              "      <td>1</td>\n",
              "      <td>0</td>\n",
              "    </tr>\n",
              "    <tr>\n",
              "      <th>76326</th>\n",
              "      <td>B</td>\n",
              "      <td>0</td>\n",
              "      <td>1</td>\n",
              "    </tr>\n",
              "  </tbody>\n",
              "</table>\n",
              "<p>76327 rows × 3 columns</p>\n",
              "</div>"
            ],
            "text/plain": [
              "      test  conversion  no conversion\n",
              "0        A           0              1\n",
              "1        B           0              1\n",
              "2        A           0              1\n",
              "3        A           0              1\n",
              "4        B           0              1\n",
              "...    ...         ...            ...\n",
              "76322    B           0              1\n",
              "76323    A           0              1\n",
              "76324    B           0              1\n",
              "76325    B           1              0\n",
              "76326    B           0              1\n",
              "\n",
              "[76327 rows x 3 columns]"
            ]
          },
          "metadata": {
            "tags": []
          },
          "execution_count": 2
        }
      ]
    },
    {
      "cell_type": "code",
      "metadata": {
        "id": "8uM0h1s_a9De",
        "colab": {
          "base_uri": "https://localhost:8080/",
          "height": 142
        },
        "outputId": "60eccb98-b9de-48f7-9828-aaaf22e074b1"
      },
      "source": [
        "total_count = df.groupby('test')[['conversion', 'no conversion']].sum()\n",
        "\n",
        "total_count"
      ],
      "execution_count": 3,
      "outputs": [
        {
          "output_type": "execute_result",
          "data": {
            "text/html": [
              "<div>\n",
              "<style scoped>\n",
              "    .dataframe tbody tr th:only-of-type {\n",
              "        vertical-align: middle;\n",
              "    }\n",
              "\n",
              "    .dataframe tbody tr th {\n",
              "        vertical-align: top;\n",
              "    }\n",
              "\n",
              "    .dataframe thead th {\n",
              "        text-align: right;\n",
              "    }\n",
              "</style>\n",
              "<table border=\"1\" class=\"dataframe\">\n",
              "  <thead>\n",
              "    <tr style=\"text-align: right;\">\n",
              "      <th></th>\n",
              "      <th>conversion</th>\n",
              "      <th>no conversion</th>\n",
              "    </tr>\n",
              "    <tr>\n",
              "      <th>test</th>\n",
              "      <th></th>\n",
              "      <th></th>\n",
              "    </tr>\n",
              "  </thead>\n",
              "  <tbody>\n",
              "    <tr>\n",
              "      <th>A</th>\n",
              "      <td>4163</td>\n",
              "      <td>30576</td>\n",
              "    </tr>\n",
              "    <tr>\n",
              "      <th>B</th>\n",
              "      <td>4841</td>\n",
              "      <td>36747</td>\n",
              "    </tr>\n",
              "  </tbody>\n",
              "</table>\n",
              "</div>"
            ],
            "text/plain": [
              "      conversion  no conversion\n",
              "test                           \n",
              "A           4163          30576\n",
              "B           4841          36747"
            ]
          },
          "metadata": {
            "tags": []
          },
          "execution_count": 3
        }
      ]
    },
    {
      "cell_type": "code",
      "metadata": {
        "id": "heVmBqVma9Di",
        "colab": {
          "base_uri": "https://localhost:8080/",
          "height": 142
        },
        "outputId": "75e4e6e1-26b0-4057-984c-3e83f0839ce2"
      },
      "source": [
        "total_count['success rate'] = total_count['conversion'] / (total_count['conversion'] + total_count['no conversion'])\n",
        "\n",
        "total_count"
      ],
      "execution_count": 4,
      "outputs": [
        {
          "output_type": "execute_result",
          "data": {
            "text/html": [
              "<div>\n",
              "<style scoped>\n",
              "    .dataframe tbody tr th:only-of-type {\n",
              "        vertical-align: middle;\n",
              "    }\n",
              "\n",
              "    .dataframe tbody tr th {\n",
              "        vertical-align: top;\n",
              "    }\n",
              "\n",
              "    .dataframe thead th {\n",
              "        text-align: right;\n",
              "    }\n",
              "</style>\n",
              "<table border=\"1\" class=\"dataframe\">\n",
              "  <thead>\n",
              "    <tr style=\"text-align: right;\">\n",
              "      <th></th>\n",
              "      <th>conversion</th>\n",
              "      <th>no conversion</th>\n",
              "      <th>success rate</th>\n",
              "    </tr>\n",
              "    <tr>\n",
              "      <th>test</th>\n",
              "      <th></th>\n",
              "      <th></th>\n",
              "      <th></th>\n",
              "    </tr>\n",
              "  </thead>\n",
              "  <tbody>\n",
              "    <tr>\n",
              "      <th>A</th>\n",
              "      <td>4163</td>\n",
              "      <td>30576</td>\n",
              "      <td>0.119836</td>\n",
              "    </tr>\n",
              "    <tr>\n",
              "      <th>B</th>\n",
              "      <td>4841</td>\n",
              "      <td>36747</td>\n",
              "      <td>0.116404</td>\n",
              "    </tr>\n",
              "  </tbody>\n",
              "</table>\n",
              "</div>"
            ],
            "text/plain": [
              "      conversion  no conversion  success rate\n",
              "test                                         \n",
              "A           4163          30576      0.119836\n",
              "B           4841          36747      0.116404"
            ]
          },
          "metadata": {
            "tags": []
          },
          "execution_count": 4
        }
      ]
    },
    {
      "cell_type": "code",
      "metadata": {
        "id": "FRvSciP8a9Dk"
      },
      "source": [
        "diferencia_en_proporcion = 1 - (total_count.loc['B']['success rate'] / total_count.loc['A']['success rate'])\n",
        "diferencia_en_porcentaje = diferencia_en_proporcion * 100"
      ],
      "execution_count": 5,
      "outputs": []
    },
    {
      "cell_type": "code",
      "metadata": {
        "id": "WXrGxtema9Dl",
        "colab": {
          "base_uri": "https://localhost:8080/"
        },
        "outputId": "56e6dffc-d5d3-41e3-bfa1-bd5a224eb8a4"
      },
      "source": [
        "print(f'El test A fue {diferencia_en_porcentaje:.2f}% más efectivo que el test B para generar ventas.')"
      ],
      "execution_count": 6,
      "outputs": [
        {
          "output_type": "stream",
          "text": [
            "El test A fue 2.86% más efectivo que el test B para generar ventas.\n"
          ],
          "name": "stdout"
        }
      ]
    },
    {
      "cell_type": "code",
      "metadata": {
        "id": "RVtdFQMFa9Dm"
      },
      "source": [
        "all_measurements = df[['conversion', 'no conversion']]"
      ],
      "execution_count": 7,
      "outputs": []
    },
    {
      "cell_type": "code",
      "metadata": {
        "id": "q3ljVI8Sa9Dn",
        "colab": {
          "base_uri": "https://localhost:8080/"
        },
        "outputId": "dc45d104-d68b-4e2f-9713-e6fa3260f033"
      },
      "source": [
        "value_counts = df['test'].value_counts()\n",
        "\n",
        "value_counts"
      ],
      "execution_count": 8,
      "outputs": [
        {
          "output_type": "execute_result",
          "data": {
            "text/plain": [
              "B    41588\n",
              "A    34739\n",
              "Name: test, dtype: int64"
            ]
          },
          "metadata": {
            "tags": []
          },
          "execution_count": 8
        }
      ]
    },
    {
      "cell_type": "code",
      "metadata": {
        "id": "W3_qAJv1a9Do"
      },
      "source": [
        "conv_a = []\n",
        "no_conv_a = []\n",
        "conv_b = []\n",
        "no_conv_b = []\n",
        "\n",
        "for _ in range(1500):\n",
        "    a = df.sample(value_counts.loc['A'], replace=False)\n",
        "    conv_a.append(a['conversion'].sum())\n",
        "    no_conv_a.append(a['no conversion'].sum())\n",
        "    \n",
        "    b = df.loc[~df.index.isin(a.index)]\n",
        "    conv_b.append(b['conversion'].sum())\n",
        "    no_conv_b.append(b['no conversion'].sum())"
      ],
      "execution_count": 9,
      "outputs": []
    },
    {
      "cell_type": "code",
      "metadata": {
        "id": "AMIYuksIa9Dp",
        "colab": {
          "base_uri": "https://localhost:8080/",
          "height": 419
        },
        "outputId": "3ac8c2bc-5c86-438d-e5f0-0591af60e438"
      },
      "source": [
        "perm_results = pd.DataFrame({\n",
        "    'conv_a': conv_a,\n",
        "    'no_conv_a': no_conv_a,\n",
        "    'conv_b': conv_b,\n",
        "    'no_conv_b': no_conv_b\n",
        "})\n",
        "\n",
        "perm_results"
      ],
      "execution_count": 10,
      "outputs": [
        {
          "output_type": "execute_result",
          "data": {
            "text/html": [
              "<div>\n",
              "<style scoped>\n",
              "    .dataframe tbody tr th:only-of-type {\n",
              "        vertical-align: middle;\n",
              "    }\n",
              "\n",
              "    .dataframe tbody tr th {\n",
              "        vertical-align: top;\n",
              "    }\n",
              "\n",
              "    .dataframe thead th {\n",
              "        text-align: right;\n",
              "    }\n",
              "</style>\n",
              "<table border=\"1\" class=\"dataframe\">\n",
              "  <thead>\n",
              "    <tr style=\"text-align: right;\">\n",
              "      <th></th>\n",
              "      <th>conv_a</th>\n",
              "      <th>no_conv_a</th>\n",
              "      <th>conv_b</th>\n",
              "      <th>no_conv_b</th>\n",
              "    </tr>\n",
              "  </thead>\n",
              "  <tbody>\n",
              "    <tr>\n",
              "      <th>0</th>\n",
              "      <td>4139</td>\n",
              "      <td>30600</td>\n",
              "      <td>4865</td>\n",
              "      <td>36723</td>\n",
              "    </tr>\n",
              "    <tr>\n",
              "      <th>1</th>\n",
              "      <td>4045</td>\n",
              "      <td>30694</td>\n",
              "      <td>4959</td>\n",
              "      <td>36629</td>\n",
              "    </tr>\n",
              "    <tr>\n",
              "      <th>2</th>\n",
              "      <td>4033</td>\n",
              "      <td>30706</td>\n",
              "      <td>4971</td>\n",
              "      <td>36617</td>\n",
              "    </tr>\n",
              "    <tr>\n",
              "      <th>3</th>\n",
              "      <td>4119</td>\n",
              "      <td>30620</td>\n",
              "      <td>4885</td>\n",
              "      <td>36703</td>\n",
              "    </tr>\n",
              "    <tr>\n",
              "      <th>4</th>\n",
              "      <td>4027</td>\n",
              "      <td>30712</td>\n",
              "      <td>4977</td>\n",
              "      <td>36611</td>\n",
              "    </tr>\n",
              "    <tr>\n",
              "      <th>...</th>\n",
              "      <td>...</td>\n",
              "      <td>...</td>\n",
              "      <td>...</td>\n",
              "      <td>...</td>\n",
              "    </tr>\n",
              "    <tr>\n",
              "      <th>1495</th>\n",
              "      <td>3990</td>\n",
              "      <td>30749</td>\n",
              "      <td>5014</td>\n",
              "      <td>36574</td>\n",
              "    </tr>\n",
              "    <tr>\n",
              "      <th>1496</th>\n",
              "      <td>4044</td>\n",
              "      <td>30695</td>\n",
              "      <td>4960</td>\n",
              "      <td>36628</td>\n",
              "    </tr>\n",
              "    <tr>\n",
              "      <th>1497</th>\n",
              "      <td>4053</td>\n",
              "      <td>30686</td>\n",
              "      <td>4951</td>\n",
              "      <td>36637</td>\n",
              "    </tr>\n",
              "    <tr>\n",
              "      <th>1498</th>\n",
              "      <td>4196</td>\n",
              "      <td>30543</td>\n",
              "      <td>4808</td>\n",
              "      <td>36780</td>\n",
              "    </tr>\n",
              "    <tr>\n",
              "      <th>1499</th>\n",
              "      <td>4013</td>\n",
              "      <td>30726</td>\n",
              "      <td>4991</td>\n",
              "      <td>36597</td>\n",
              "    </tr>\n",
              "  </tbody>\n",
              "</table>\n",
              "<p>1500 rows × 4 columns</p>\n",
              "</div>"
            ],
            "text/plain": [
              "      conv_a  no_conv_a  conv_b  no_conv_b\n",
              "0       4139      30600    4865      36723\n",
              "1       4045      30694    4959      36629\n",
              "2       4033      30706    4971      36617\n",
              "3       4119      30620    4885      36703\n",
              "4       4027      30712    4977      36611\n",
              "...      ...        ...     ...        ...\n",
              "1495    3990      30749    5014      36574\n",
              "1496    4044      30695    4960      36628\n",
              "1497    4053      30686    4951      36637\n",
              "1498    4196      30543    4808      36780\n",
              "1499    4013      30726    4991      36597\n",
              "\n",
              "[1500 rows x 4 columns]"
            ]
          },
          "metadata": {
            "tags": []
          },
          "execution_count": 10
        }
      ]
    },
    {
      "cell_type": "code",
      "metadata": {
        "id": "QzchLMu7a9Dp"
      },
      "source": [
        "perm_results['a_conv_rate'] = perm_results['conv_a'] / (perm_results['conv_a'] + perm_results['no_conv_a'])\n",
        "perm_results['b_conv_rate'] = perm_results['conv_b'] / (perm_results['conv_b'] + perm_results['no_conv_b'])"
      ],
      "execution_count": 11,
      "outputs": []
    },
    {
      "cell_type": "code",
      "metadata": {
        "id": "jJLd1Yixa9Dp",
        "colab": {
          "base_uri": "https://localhost:8080/",
          "height": 419
        },
        "outputId": "adaacf9c-6207-4250-8c6b-f5661a7be9c1"
      },
      "source": [
        "perm_results"
      ],
      "execution_count": 12,
      "outputs": [
        {
          "output_type": "execute_result",
          "data": {
            "text/html": [
              "<div>\n",
              "<style scoped>\n",
              "    .dataframe tbody tr th:only-of-type {\n",
              "        vertical-align: middle;\n",
              "    }\n",
              "\n",
              "    .dataframe tbody tr th {\n",
              "        vertical-align: top;\n",
              "    }\n",
              "\n",
              "    .dataframe thead th {\n",
              "        text-align: right;\n",
              "    }\n",
              "</style>\n",
              "<table border=\"1\" class=\"dataframe\">\n",
              "  <thead>\n",
              "    <tr style=\"text-align: right;\">\n",
              "      <th></th>\n",
              "      <th>conv_a</th>\n",
              "      <th>no_conv_a</th>\n",
              "      <th>conv_b</th>\n",
              "      <th>no_conv_b</th>\n",
              "      <th>a_conv_rate</th>\n",
              "      <th>b_conv_rate</th>\n",
              "    </tr>\n",
              "  </thead>\n",
              "  <tbody>\n",
              "    <tr>\n",
              "      <th>0</th>\n",
              "      <td>4139</td>\n",
              "      <td>30600</td>\n",
              "      <td>4865</td>\n",
              "      <td>36723</td>\n",
              "      <td>0.119146</td>\n",
              "      <td>0.116981</td>\n",
              "    </tr>\n",
              "    <tr>\n",
              "      <th>1</th>\n",
              "      <td>4045</td>\n",
              "      <td>30694</td>\n",
              "      <td>4959</td>\n",
              "      <td>36629</td>\n",
              "      <td>0.116440</td>\n",
              "      <td>0.119241</td>\n",
              "    </tr>\n",
              "    <tr>\n",
              "      <th>2</th>\n",
              "      <td>4033</td>\n",
              "      <td>30706</td>\n",
              "      <td>4971</td>\n",
              "      <td>36617</td>\n",
              "      <td>0.116094</td>\n",
              "      <td>0.119530</td>\n",
              "    </tr>\n",
              "    <tr>\n",
              "      <th>3</th>\n",
              "      <td>4119</td>\n",
              "      <td>30620</td>\n",
              "      <td>4885</td>\n",
              "      <td>36703</td>\n",
              "      <td>0.118570</td>\n",
              "      <td>0.117462</td>\n",
              "    </tr>\n",
              "    <tr>\n",
              "      <th>4</th>\n",
              "      <td>4027</td>\n",
              "      <td>30712</td>\n",
              "      <td>4977</td>\n",
              "      <td>36611</td>\n",
              "      <td>0.115922</td>\n",
              "      <td>0.119674</td>\n",
              "    </tr>\n",
              "    <tr>\n",
              "      <th>...</th>\n",
              "      <td>...</td>\n",
              "      <td>...</td>\n",
              "      <td>...</td>\n",
              "      <td>...</td>\n",
              "      <td>...</td>\n",
              "      <td>...</td>\n",
              "    </tr>\n",
              "    <tr>\n",
              "      <th>1495</th>\n",
              "      <td>3990</td>\n",
              "      <td>30749</td>\n",
              "      <td>5014</td>\n",
              "      <td>36574</td>\n",
              "      <td>0.114857</td>\n",
              "      <td>0.120564</td>\n",
              "    </tr>\n",
              "    <tr>\n",
              "      <th>1496</th>\n",
              "      <td>4044</td>\n",
              "      <td>30695</td>\n",
              "      <td>4960</td>\n",
              "      <td>36628</td>\n",
              "      <td>0.116411</td>\n",
              "      <td>0.119265</td>\n",
              "    </tr>\n",
              "    <tr>\n",
              "      <th>1497</th>\n",
              "      <td>4053</td>\n",
              "      <td>30686</td>\n",
              "      <td>4951</td>\n",
              "      <td>36637</td>\n",
              "      <td>0.116670</td>\n",
              "      <td>0.119049</td>\n",
              "    </tr>\n",
              "    <tr>\n",
              "      <th>1498</th>\n",
              "      <td>4196</td>\n",
              "      <td>30543</td>\n",
              "      <td>4808</td>\n",
              "      <td>36780</td>\n",
              "      <td>0.120786</td>\n",
              "      <td>0.115610</td>\n",
              "    </tr>\n",
              "    <tr>\n",
              "      <th>1499</th>\n",
              "      <td>4013</td>\n",
              "      <td>30726</td>\n",
              "      <td>4991</td>\n",
              "      <td>36597</td>\n",
              "      <td>0.115519</td>\n",
              "      <td>0.120011</td>\n",
              "    </tr>\n",
              "  </tbody>\n",
              "</table>\n",
              "<p>1500 rows × 6 columns</p>\n",
              "</div>"
            ],
            "text/plain": [
              "      conv_a  no_conv_a  conv_b  no_conv_b  a_conv_rate  b_conv_rate\n",
              "0       4139      30600    4865      36723     0.119146     0.116981\n",
              "1       4045      30694    4959      36629     0.116440     0.119241\n",
              "2       4033      30706    4971      36617     0.116094     0.119530\n",
              "3       4119      30620    4885      36703     0.118570     0.117462\n",
              "4       4027      30712    4977      36611     0.115922     0.119674\n",
              "...      ...        ...     ...        ...          ...          ...\n",
              "1495    3990      30749    5014      36574     0.114857     0.120564\n",
              "1496    4044      30695    4960      36628     0.116411     0.119265\n",
              "1497    4053      30686    4951      36637     0.116670     0.119049\n",
              "1498    4196      30543    4808      36780     0.120786     0.115610\n",
              "1499    4013      30726    4991      36597     0.115519     0.120011\n",
              "\n",
              "[1500 rows x 6 columns]"
            ]
          },
          "metadata": {
            "tags": []
          },
          "execution_count": 12
        }
      ]
    },
    {
      "cell_type": "code",
      "metadata": {
        "id": "xJUOJV6Fa9Dq",
        "colab": {
          "base_uri": "https://localhost:8080/",
          "height": 419
        },
        "outputId": "8c58a966-74e9-4f9c-b818-729e82ffce0e"
      },
      "source": [
        "perm_results['diff'] = 1 - (perm_results['b_conv_rate'] / perm_results['a_conv_rate'])\n",
        "\n",
        "perm_results"
      ],
      "execution_count": 13,
      "outputs": [
        {
          "output_type": "execute_result",
          "data": {
            "text/html": [
              "<div>\n",
              "<style scoped>\n",
              "    .dataframe tbody tr th:only-of-type {\n",
              "        vertical-align: middle;\n",
              "    }\n",
              "\n",
              "    .dataframe tbody tr th {\n",
              "        vertical-align: top;\n",
              "    }\n",
              "\n",
              "    .dataframe thead th {\n",
              "        text-align: right;\n",
              "    }\n",
              "</style>\n",
              "<table border=\"1\" class=\"dataframe\">\n",
              "  <thead>\n",
              "    <tr style=\"text-align: right;\">\n",
              "      <th></th>\n",
              "      <th>conv_a</th>\n",
              "      <th>no_conv_a</th>\n",
              "      <th>conv_b</th>\n",
              "      <th>no_conv_b</th>\n",
              "      <th>a_conv_rate</th>\n",
              "      <th>b_conv_rate</th>\n",
              "      <th>diff</th>\n",
              "    </tr>\n",
              "  </thead>\n",
              "  <tbody>\n",
              "    <tr>\n",
              "      <th>0</th>\n",
              "      <td>4139</td>\n",
              "      <td>30600</td>\n",
              "      <td>4865</td>\n",
              "      <td>36723</td>\n",
              "      <td>0.119146</td>\n",
              "      <td>0.116981</td>\n",
              "      <td>0.018169</td>\n",
              "    </tr>\n",
              "    <tr>\n",
              "      <th>1</th>\n",
              "      <td>4045</td>\n",
              "      <td>30694</td>\n",
              "      <td>4959</td>\n",
              "      <td>36629</td>\n",
              "      <td>0.116440</td>\n",
              "      <td>0.119241</td>\n",
              "      <td>-0.024059</td>\n",
              "    </tr>\n",
              "    <tr>\n",
              "      <th>2</th>\n",
              "      <td>4033</td>\n",
              "      <td>30706</td>\n",
              "      <td>4971</td>\n",
              "      <td>36617</td>\n",
              "      <td>0.116094</td>\n",
              "      <td>0.119530</td>\n",
              "      <td>-0.029591</td>\n",
              "    </tr>\n",
              "    <tr>\n",
              "      <th>3</th>\n",
              "      <td>4119</td>\n",
              "      <td>30620</td>\n",
              "      <td>4885</td>\n",
              "      <td>36703</td>\n",
              "      <td>0.118570</td>\n",
              "      <td>0.117462</td>\n",
              "      <td>0.009346</td>\n",
              "    </tr>\n",
              "    <tr>\n",
              "      <th>4</th>\n",
              "      <td>4027</td>\n",
              "      <td>30712</td>\n",
              "      <td>4977</td>\n",
              "      <td>36611</td>\n",
              "      <td>0.115922</td>\n",
              "      <td>0.119674</td>\n",
              "      <td>-0.032370</td>\n",
              "    </tr>\n",
              "    <tr>\n",
              "      <th>...</th>\n",
              "      <td>...</td>\n",
              "      <td>...</td>\n",
              "      <td>...</td>\n",
              "      <td>...</td>\n",
              "      <td>...</td>\n",
              "      <td>...</td>\n",
              "      <td>...</td>\n",
              "    </tr>\n",
              "    <tr>\n",
              "      <th>1495</th>\n",
              "      <td>3990</td>\n",
              "      <td>30749</td>\n",
              "      <td>5014</td>\n",
              "      <td>36574</td>\n",
              "      <td>0.114857</td>\n",
              "      <td>0.120564</td>\n",
              "      <td>-0.049689</td>\n",
              "    </tr>\n",
              "    <tr>\n",
              "      <th>1496</th>\n",
              "      <td>4044</td>\n",
              "      <td>30695</td>\n",
              "      <td>4960</td>\n",
              "      <td>36628</td>\n",
              "      <td>0.116411</td>\n",
              "      <td>0.119265</td>\n",
              "      <td>-0.024519</td>\n",
              "    </tr>\n",
              "    <tr>\n",
              "      <th>1497</th>\n",
              "      <td>4053</td>\n",
              "      <td>30686</td>\n",
              "      <td>4951</td>\n",
              "      <td>36637</td>\n",
              "      <td>0.116670</td>\n",
              "      <td>0.119049</td>\n",
              "      <td>-0.020389</td>\n",
              "    </tr>\n",
              "    <tr>\n",
              "      <th>1498</th>\n",
              "      <td>4196</td>\n",
              "      <td>30543</td>\n",
              "      <td>4808</td>\n",
              "      <td>36780</td>\n",
              "      <td>0.120786</td>\n",
              "      <td>0.115610</td>\n",
              "      <td>0.042854</td>\n",
              "    </tr>\n",
              "    <tr>\n",
              "      <th>1499</th>\n",
              "      <td>4013</td>\n",
              "      <td>30726</td>\n",
              "      <td>4991</td>\n",
              "      <td>36597</td>\n",
              "      <td>0.115519</td>\n",
              "      <td>0.120011</td>\n",
              "      <td>-0.038886</td>\n",
              "    </tr>\n",
              "  </tbody>\n",
              "</table>\n",
              "<p>1500 rows × 7 columns</p>\n",
              "</div>"
            ],
            "text/plain": [
              "      conv_a  no_conv_a  conv_b  no_conv_b  a_conv_rate  b_conv_rate      diff\n",
              "0       4139      30600    4865      36723     0.119146     0.116981  0.018169\n",
              "1       4045      30694    4959      36629     0.116440     0.119241 -0.024059\n",
              "2       4033      30706    4971      36617     0.116094     0.119530 -0.029591\n",
              "3       4119      30620    4885      36703     0.118570     0.117462  0.009346\n",
              "4       4027      30712    4977      36611     0.115922     0.119674 -0.032370\n",
              "...      ...        ...     ...        ...          ...          ...       ...\n",
              "1495    3990      30749    5014      36574     0.114857     0.120564 -0.049689\n",
              "1496    4044      30695    4960      36628     0.116411     0.119265 -0.024519\n",
              "1497    4053      30686    4951      36637     0.116670     0.119049 -0.020389\n",
              "1498    4196      30543    4808      36780     0.120786     0.115610  0.042854\n",
              "1499    4013      30726    4991      36597     0.115519     0.120011 -0.038886\n",
              "\n",
              "[1500 rows x 7 columns]"
            ]
          },
          "metadata": {
            "tags": []
          },
          "execution_count": 13
        }
      ]
    },
    {
      "cell_type": "code",
      "metadata": {
        "id": "VaGnobOBa9Dr",
        "colab": {
          "base_uri": "https://localhost:8080/",
          "height": 369
        },
        "outputId": "536714b6-0a84-479a-fb54-39c3e63adb32"
      },
      "source": [
        "sns.displot(perm_results['diff'], kde=False)\n",
        "\n",
        "plt.axvline(diferencia_en_proporcion);"
      ],
      "execution_count": 14,
      "outputs": [
        {
          "output_type": "display_data",
          "data": {
            "image/png": "[encoded data removed]",
            "text/plain": [
              "<Figure size 360x360 with 1 Axes>"
            ]
          },
          "metadata": {
            "tags": [],
            "needs_background": "light"
          }
        }
      ]
    },
    {
      "cell_type": "code",
      "metadata": {
        "id": "zcdsRjMqa9Ds",
        "colab": {
          "base_uri": "https://localhost:8080/"
        },
        "outputId": "d0d80cbd-9f53-432d-c319-71a9bcc9f5b7"
      },
      "source": [
        "(perm_results['diff'] >= diferencia_en_proporcion).sum() / perm_results.shape[0]"
      ],
      "execution_count": 15,
      "outputs": [
        {
          "output_type": "execute_result",
          "data": {
            "text/plain": [
              "0.06333333333333334"
            ]
          },
          "metadata": {
            "tags": []
          },
          "execution_count": 15
        }
      ]
    },
    {
      "cell_type": "code",
      "metadata": {
        "id": "XVF3ZCVGa9Ds",
        "colab": {
          "base_uri": "https://localhost:8080/"
        },
        "outputId": "fa17c023-d2c9-4018-e3f5-c4d05fd7937b"
      },
      "source": [
        "perm_results.shape[0]"
      ],
      "execution_count": 16,
      "outputs": [
        {
          "output_type": "execute_result",
          "data": {
            "text/plain": [
              "1500"
            ]
          },
          "metadata": {
            "tags": []
          },
          "execution_count": 16
        }
      ]
    }
  ]
}