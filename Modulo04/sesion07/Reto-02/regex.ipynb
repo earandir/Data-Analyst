{
  "nbformat": 4,
  "nbformat_minor": 0,
  "metadata": {
    "kernelspec": {
      "display_name": "Python 3",
      "language": "python",
      "name": "python3"
    },
    "language_info": {
      "codemirror_mode": {
        "name": "ipython",
        "version": 3
      },
      "file_extension": ".py",
      "mimetype": "text/x-python",
      "name": "python",
      "nbconvert_exporter": "python",
      "pygments_lexer": "ipython3",
      "version": "3.8.5"
    },
    "colab": {
      "name": "regex.ipynb",
      "provenance": [],
      "include_colab_link": true
    }
  },
  "cells": [
    {
      "cell_type": "markdown",
      "metadata": {
        "id": "view-in-github",
        "colab_type": "text"
      },
      "source": [
        "<a href=\"https://colab.research.google.com/github/earandir/DataAnalysis/blob/main/Modulo04/sesion07/Reto-02/regex.ipynb\" target=\"_parent\"><img src=\"https://colab.research.google.com/assets/colab-badge.svg\" alt=\"Open In Colab\"/></a>"
      ]
    },
    {
      "cell_type": "markdown",
      "metadata": {
        "id": "r4Itos1mgP0M"
      },
      "source": [
        "## Reto 2: Regex\n",
        "\n",
        "### 1. Objetivos:\n",
        "    - Practicar expresiones regulares con un conjunto de datos real\n",
        " \n",
        "---\n",
        "    \n",
        "### 2. Desarrollo:"
      ]
    },
    {
      "cell_type": "markdown",
      "metadata": {
        "id": "ktcwnMGBgP0O"
      },
      "source": [
        "Vamos a practicar expresiones regulares utilizando un conjunto de datos llamado 'amazon_fine_food_reviews-clean.csv'. Este conjunto de datos es en realidad un subconjunto de un conjunto más grande que proviene de [esta fuente](https://www.kaggle.com/snap/amazon-fine-food-reviews). Contiene evaluaciones de muchos diversos productos realizadas por usuarios de Amazon. La columna 'text' contiene el texto de la evaluación, y ésa es la columna que nos interesa.\n",
        "\n",
        "Vamos a practicar expresiones regulares con esa columna. Con cada búsqueda que realices vas a obtener un nuevo subconjunto de datos de un tamaño específico. Al terminar tus búsquedas compara el tamaño de tus subconjuntos de datos con los de tus compañeros, para checar que tus respuestas fueron correctas.\n",
        "\n",
        "Tu Reto es entonces obtener subconjunto de datos que tengan estas características:\n",
        "\n",
        "1. Todas las evaluaciones que contengan la palabra 'food' (en minúsculas).\n",
        "2. Todas las evaluaciones que contengan algún número de dos digitos.\n",
        "3. Todas las evaluaciones que contengan algún porcentaje (uno o más digitos seguidos de un signo de porcentaje).\n",
        "4. Todas las evaluaciones que comiencen con la palabra 'Dog' o 'dog'.\n",
        "5. Todas las evaluaciones que terminen con el fragmento 'awesome.' (fíjate que hay específicamente un punto después de la palabra 'awesome').\n",
        "6. Todas las evaluaciones que contengan las palabras 'horrible' **o** 'terrible'.\n",
        "7. Todas las evaluaciones que contengan **solamente** letras minúsculas.\n",
        "\n",
        "Después de realizar estas exploraciones, limpia tu conjunto de datos para remover lo siguiente de todos tus textos:\n",
        "\n",
        "1. Cualquier forma parecida a la siguiente: `<br>` o `<br/>` (revisa variaciones de estos tags, con espacios intermedios, por ejemplo)\n",
        "2. Signos en general\n",
        "3. Digitos\n",
        "4. Cualquier otra cosa que no te parezca relevante para nuestro análisis de lenguaje natural\n",
        "\n",
        "También convierte todas las letras en minúsculas para homogeneizar nuestro conjunto de datos.\n",
        "\n",
        "Guarda tu conjunto de datos como un archivo 'csv' para que lo puedas utilizar en los próximos retos (asegúrate de incluir **por lo menos** las columnas 'text' y 'score'.\n",
        "\n",
        "**Dataset:** https://raw.githubusercontent.com/manu-msr/beduadp/master/Datasets/amazon_fine_food_reviews-clean.csv"
      ]
    },
    {
      "cell_type": "code",
      "metadata": {
        "id": "PXyyLyhHgP0S"
      },
      "source": [
        "import pandas as pd"
      ],
      "execution_count": 1,
      "outputs": []
    },
    {
      "cell_type": "code",
      "metadata": {
        "id": "lqJNDyK3bmhX",
        "colab": {
          "base_uri": "https://localhost:8080/",
          "height": 204
        },
        "outputId": "bcd76bf6-da5b-4df8-c2e0-930e45a603dd"
      },
      "source": [
        "df = pd.read_csv('https://raw.githubusercontent.com/manu-msr/beduadp/master/Datasets/amazon_fine_food_reviews-clean.csv')\n",
        "\n",
        "df.head()"
      ],
      "execution_count": 3,
      "outputs": [
        {
          "output_type": "execute_result",
          "data": {
            "text/html": [
              "<div>\n",
              "<style scoped>\n",
              "    .dataframe tbody tr th:only-of-type {\n",
              "        vertical-align: middle;\n",
              "    }\n",
              "\n",
              "    .dataframe tbody tr th {\n",
              "        vertical-align: top;\n",
              "    }\n",
              "\n",
              "    .dataframe thead th {\n",
              "        text-align: right;\n",
              "    }\n",
              "</style>\n",
              "<table border=\"1\" class=\"dataframe\">\n",
              "  <thead>\n",
              "    <tr style=\"text-align: right;\">\n",
              "      <th></th>\n",
              "      <th>id</th>\n",
              "      <th>product_id</th>\n",
              "      <th>user_id</th>\n",
              "      <th>profile_name</th>\n",
              "      <th>helpfulness_numerator</th>\n",
              "      <th>helpfulness_denominator</th>\n",
              "      <th>score</th>\n",
              "      <th>time</th>\n",
              "      <th>summary</th>\n",
              "      <th>text</th>\n",
              "    </tr>\n",
              "  </thead>\n",
              "  <tbody>\n",
              "    <tr>\n",
              "      <th>0</th>\n",
              "      <td>258510</td>\n",
              "      <td>B00168V34W</td>\n",
              "      <td>A1672LH9S1XO70</td>\n",
              "      <td>Lorna J. Loomis \"Canadian Dog Fancier\"</td>\n",
              "      <td>13</td>\n",
              "      <td>14</td>\n",
              "      <td>3</td>\n",
              "      <td>1266796800</td>\n",
              "      <td>Misleading to refer to \"PODS\"</td>\n",
              "      <td>This coffee does NOT come in individual \"PODS\"...</td>\n",
              "    </tr>\n",
              "    <tr>\n",
              "      <th>1</th>\n",
              "      <td>207915</td>\n",
              "      <td>B000CQID2Y</td>\n",
              "      <td>A42CJC66XO0H7</td>\n",
              "      <td>Scott Schimmel \"A Butterfly Dreaming\"</td>\n",
              "      <td>2</td>\n",
              "      <td>2</td>\n",
              "      <td>5</td>\n",
              "      <td>1279497600</td>\n",
              "      <td>Delicious</td>\n",
              "      <td>I was a little skeptical after looking at the ...</td>\n",
              "    </tr>\n",
              "    <tr>\n",
              "      <th>2</th>\n",
              "      <td>522649</td>\n",
              "      <td>B007TJGZ0Y</td>\n",
              "      <td>A16QZBG2UN6Z3X</td>\n",
              "      <td>Toology \"Toology\"</td>\n",
              "      <td>0</td>\n",
              "      <td>0</td>\n",
              "      <td>5</td>\n",
              "      <td>1335830400</td>\n",
              "      <td>One of my favs</td>\n",
              "      <td>Gloia Jeans Butter Toffee is one of my favorit...</td>\n",
              "    </tr>\n",
              "    <tr>\n",
              "      <th>3</th>\n",
              "      <td>393368</td>\n",
              "      <td>B000W7PUOW</td>\n",
              "      <td>A3J21CQZG60K35</td>\n",
              "      <td>Hsieh Pei Hsuan</td>\n",
              "      <td>2</td>\n",
              "      <td>2</td>\n",
              "      <td>5</td>\n",
              "      <td>1265673600</td>\n",
              "      <td>Tasty!!</td>\n",
              "      <td>My families and friends love Planters peanuts ...</td>\n",
              "    </tr>\n",
              "    <tr>\n",
              "      <th>4</th>\n",
              "      <td>178178</td>\n",
              "      <td>B002FX2IOQ</td>\n",
              "      <td>A1Z7XV6JU0EV8M</td>\n",
              "      <td>Barbara \"Barbara\"</td>\n",
              "      <td>1</td>\n",
              "      <td>6</td>\n",
              "      <td>1</td>\n",
              "      <td>1301788800</td>\n",
              "      <td>Organic Valley White 1 % Milkfat Lowfat Milk, ...</td>\n",
              "      <td>Organic Valley White 1 % Milkfat Lowfat Milk, ...</td>\n",
              "    </tr>\n",
              "  </tbody>\n",
              "</table>\n",
              "</div>"
            ],
            "text/plain": [
              "       id  ...                                               text\n",
              "0  258510  ...  This coffee does NOT come in individual \"PODS\"...\n",
              "1  207915  ...  I was a little skeptical after looking at the ...\n",
              "2  522649  ...  Gloia Jeans Butter Toffee is one of my favorit...\n",
              "3  393368  ...  My families and friends love Planters peanuts ...\n",
              "4  178178  ...  Organic Valley White 1 % Milkfat Lowfat Milk, ...\n",
              "\n",
              "[5 rows x 10 columns]"
            ]
          },
          "metadata": {
            "tags": []
          },
          "execution_count": 3
        }
      ]
    },
    {
      "cell_type": "code",
      "metadata": {
        "id": "MHVSeOc69lO3",
        "outputId": "24ce6fb8-0c0f-43d3-b8a0-8298e2436654",
        "colab": {
          "base_uri": "https://localhost:8080/"
        }
      },
      "source": [
        "grouped_by_title = df.groupby('user_id')['text'].max()\n",
        "\n",
        "grouped_by_title"
      ],
      "execution_count": 5,
      "outputs": [
        {
          "output_type": "execute_result",
          "data": {
            "text/plain": [
              "user_id\n",
              "#oc-R14VLCY75KIBSB    I purchased two blends from this company; broo...\n",
              "#oc-R1730HL4795MHX    Ordered 4 boxes. 4 different flavors. Have had...\n",
              "#oc-R1HFLTAYDCLBBP    Essentia water tastes great, and its price is ...\n",
              "#oc-R1OTWY0232JAF9    I confess I purchased this variety box mostly ...\n",
              "#oc-R1WIBE7UA1Y7XY    i feel very disappointed with this product, i ...\n",
              "                                            ...                        \n",
              "AZYS62CA5X6YZ         Then you will love this. I actually like this ...\n",
              "AZZ5ASC403N74         These cookies are pretty average chocolate coo...\n",
              "AZZQLMNX239VT         I ordered this screen so I can keep my French ...\n",
              "AZZV9PDNMCOZW         This is a great addition to my Torani syrup. I...\n",
              "AZZY649VYAHQS         All of the chocolate arrived with out melting ...\n",
              "Name: text, Length: 13010, dtype: object"
            ]
          },
          "metadata": {
            "tags": []
          },
          "execution_count": 5
        }
      ]
    },
    {
      "cell_type": "code",
      "metadata": {
        "id": "y2o2DxWh95Bj",
        "outputId": "a9d8c083-3d33-4c64-8582-f77dceb702fe",
        "colab": {
          "base_uri": "https://localhost:8080/"
        }
      },
      "source": [
        "grouped_by_title[grouped_by_title.str.contains('food', case=False)]"
      ],
      "execution_count": 6,
      "outputs": [
        {
          "output_type": "execute_result",
          "data": {
            "text/plain": [
              "user_id\n",
              "A100WO06OQR8BQ    My Dobie, Max, has never passed up a chance to...\n",
              "A10BXAMRNQMVB9    I like many of Amys foods. LOVE her Golden Len...\n",
              "A10CMEPEV19WAB    This product has the best ingregidents you are...\n",
              "A10DCQBZ30RMMS    Our kitten loves this food, and it doesn't ups...\n",
              "A10FLGOE5FQYEP    Love this product. I was having such a difficu...\n",
              "                                        ...                        \n",
              "AZFOZTEJAI5J5     Whole peas may seem appetizing to a human but ...\n",
              "AZJ1HP7MBFC4W     We rotate foods with our one year old. Went fr...\n",
              "AZOWTBGHYSSHC     Great product with an amazing flavor.  I try t...\n",
              "AZTEQJCI6N5WL     I have three Newfoundlands so we go through a ...\n",
              "AZXXSOF328C52     I always enjoy the Nature's Path products and ...\n",
              "Name: text, Length: 1666, dtype: object"
            ]
          },
          "metadata": {
            "tags": []
          },
          "execution_count": 6
        }
      ]
    },
    {
      "cell_type": "code",
      "metadata": {
        "id": "Ls29_JEC9_e8",
        "outputId": "ca058aa7-9616-4f5c-b8e4-a82bca3bc769",
        "colab": {
          "base_uri": "https://localhost:8080/"
        }
      },
      "source": [
        "grouped_by_title[grouped_by_title.str.contains('[0-9]+[0-9]', case=False)]"
      ],
      "execution_count": 8,
      "outputs": [
        {
          "output_type": "execute_result",
          "data": {
            "text/plain": [
              "user_id\n",
              "#oc-R1WIBE7UA1Y7XY    i feel very disappointed with this product, i ...\n",
              "#oc-R36DOJP1ZSZ9Y8    I bought my first box of Fuggedaboudit about t...\n",
              "#oc-R3IX025L68IP59    [Update: Brooklyn Beans sent me a new box - as...\n",
              "#oc-RAX7795F3126S     I am not one for coffee that is over roasted o...\n",
              "A101HSNF12PR4Y        I only got pack of 12 but not as it was said p...\n",
              "                                            ...                        \n",
              "AZQLLLCUFPJP          This is my FAVORITE gum. I've chewed it now fo...\n",
              "AZRVIA4N1I96L         My husband and I won $25,000 at a chili cookof...\n",
              "AZTG6WZ744DUS         Certainly a great British tea product. Traditi...\n",
              "AZTUM371YYJNE         I *love* the Multigrain flavor of these chips/...\n",
              "AZYD3BG2R4SV8         I've been drinking Honest Ade's Cranberry Lemo...\n",
              "Name: text, Length: 2694, dtype: object"
            ]
          },
          "metadata": {
            "tags": []
          },
          "execution_count": 8
        }
      ]
    },
    {
      "cell_type": "code",
      "metadata": {
        "id": "20gQjVrV-heJ",
        "outputId": "b0c84372-34dc-4ad2-cc59-821ad210b1dd",
        "colab": {
          "base_uri": "https://localhost:8080/"
        }
      },
      "source": [
        "grouped_by_title[grouped_by_title.str.contains('[0-9]+[0-9]%', case=False)]"
      ],
      "execution_count": 9,
      "outputs": [
        {
          "output_type": "execute_result",
          "data": {
            "text/plain": [
              "user_id\n",
              "A10GVY892KV8P8    I bought Blue Diamond Natural Chocolate almond...\n",
              "A10XLCU60YNEI4    I like feeding my three year old Golden Retrie...\n",
              "A110V81XI8WCER    This is a decent set to take with you for good...\n",
              "A11L5M4MJP00UW    While I didn't like this flavor as well as the...\n",
              "A11PTCZ2FM2547    For those of you who can make chili from scrat...\n",
              "                                        ...                        \n",
              "AXIT9JVZCVKRW     I expected this to be 100% wild rice, but more...\n",
              "AYB8XLKTYMTTX     I've had red (Rooibos) tea before and liked th...\n",
              "AZ9J99XZX0TRO     I was really looking forward to trying differe...\n",
              "AZAXJ3OL0Q346     Good brand.  They must pay their sales people ...\n",
              "AZNU6ZEJ6CVY8     Several cans in my shipment had small dents th...\n",
              "Name: text, Length: 299, dtype: object"
            ]
          },
          "metadata": {
            "tags": []
          },
          "execution_count": 9
        }
      ]
    },
    {
      "cell_type": "code",
      "metadata": {
        "id": "lzzH8_LI-yHC",
        "outputId": "884a15aa-9ae9-4ab9-aa56-0f209af3e557",
        "colab": {
          "base_uri": "https://localhost:8080/"
        }
      },
      "source": [
        "grouped_by_title[grouped_by_title.str.contains('^dog', case=False)]"
      ],
      "execution_count": 10,
      "outputs": [
        {
          "output_type": "execute_result",
          "data": {
            "text/plain": [
              "user_id\n",
              "A1KMAK45XGS4RT    Dog loves these. Eats them quickly and without...\n",
              "A2CZ98V784SRJ0    Dogs liked it \"okay.\"  Did NOT give it th the ...\n",
              "A3H3I5DA0360BG    Dogs LOVE Greenies!  They go crazy if they eve...\n",
              "A3LQ3LQ75K38MN    Dogs love it. It smells like chicken. I have b...\n",
              "AV307UIAVPGSJ     Dogs probably don't really want to spend most ...\n",
              "Name: text, dtype: object"
            ]
          },
          "metadata": {
            "tags": []
          },
          "execution_count": 10
        }
      ]
    },
    {
      "cell_type": "code",
      "metadata": {
        "id": "lKjENtLe-5-V",
        "outputId": "c3e3f8b6-63be-4421-f105-e153a5f89e9e",
        "colab": {
          "base_uri": "https://localhost:8080/"
        }
      },
      "source": [
        "grouped_by_title[grouped_by_title.str.contains('awesome.$', case=False)]"
      ],
      "execution_count": 11,
      "outputs": [
        {
          "output_type": "execute_result",
          "data": {
            "text/plain": [
              "user_id\n",
              "A18H31MR172T1J    these are awesome. though they're gluten free,...\n",
              "A1LS8AULHK659B    I love Tiger Sauce! I eat it with cream cheese...\n",
              "A1RCLOFPWV3BJ3    I have two extremely picky eaters. They truly ...\n",
              "A1VJ3BFL1AM5DU    My boyfriend and I have been trying various bo...\n",
              "A2DQBXU2LEVWWA    These are decent, but if you want a realllly g...\n",
              "A2EVQG699ZY7BE    I had never heard of Dende Oil before I read a...\n",
              "A3KV0NO0TQTW3Y    I've always loved Beetlejuice and it's no surp...\n",
              "AAJ1HQ9RTBHET     The toy seems pretty durable which is a big wi...\n",
              "AFKPDH4X6YPZQ     After eating these you'll Never want another S...\n",
              "ANWSIOO93HPG5     I am a frequent purchaser on Amazon, yet I can...\n",
              "AWITXZ40PNPSM     This is a deliscious drink.I have trouble keep...\n",
              "AZBZ6AMM3Z492     If you want to improve your milk production, t...\n",
              "Name: text, dtype: object"
            ]
          },
          "metadata": {
            "tags": []
          },
          "execution_count": 11
        }
      ]
    },
    {
      "cell_type": "code",
      "metadata": {
        "id": "XhkV8t4R_K4g",
        "outputId": "d93e6676-e94b-4639-ad52-522ca1fd27d8",
        "colab": {
          "base_uri": "https://localhost:8080/"
        }
      },
      "source": [
        "grouped_by_title[grouped_by_title.str.contains('\\shorrible\\s|\\sterrible\\s', case=False)]"
      ],
      "execution_count": 12,
      "outputs": [
        {
          "output_type": "execute_result",
          "data": {
            "text/plain": [
              "user_id\n",
              "A10592QFWUWVV9    I first tried this stuff in Japan, after a lon...\n",
              "A12HFXCK2VDM9V    I have purchased Ideal for about a year now bu...\n",
              "A12Y6T07NAXVOS    This is not terrible coffee, but it is on the ...\n",
              "A13HSOS8BFMG1L    This is by far one of the worst beef jerky I'v...\n",
              "A15ASTBZBU7AXD    I have 2 cats.  One is fluffy and finicky and ...\n",
              "                                        ...                        \n",
              "AVCT6T3AXD26G     I've tried Wilton's fondant before, which tast...\n",
              "AW68KVDV7BBRS     Since I've had my Keurig K-cup coffee brewer I...\n",
              "AWC6RMU31978F     Our cats love this.  We switched to this for h...\n",
              "AYOHW3XWF7K3A     I was worried the taste would be terrible afte...\n",
              "AZUIE290W260O     These Beans are wonderful. I honestly recommen...\n",
              "Name: text, Length: 101, dtype: object"
            ]
          },
          "metadata": {
            "tags": []
          },
          "execution_count": 12
        }
      ]
    },
    {
      "cell_type": "code",
      "metadata": {
        "id": "HytNnuS8_TaM",
        "outputId": "ac3b001f-8793-4458-f46b-4f490973c425",
        "colab": {
          "base_uri": "https://localhost:8080/"
        }
      },
      "source": [
        "grouped_by_title[grouped_by_title.str.contains('^[a-z]+$', case=False)]"
      ],
      "execution_count": 14,
      "outputs": [
        {
          "output_type": "execute_result",
          "data": {
            "text/plain": [
              "Series([], Name: text, dtype: object)"
            ]
          },
          "metadata": {
            "tags": []
          },
          "execution_count": 14
        }
      ]
    },
    {
      "cell_type": "code",
      "metadata": {
        "id": "BKl9UBu1Au8z",
        "outputId": "f94c8d63-5fb6-46fd-ece3-2c93da9fe795",
        "colab": {
          "base_uri": "https://localhost:8080/"
        }
      },
      "source": [
        "grouped_by_title.str.replace('<br>|<br/>', '')"
      ],
      "execution_count": 15,
      "outputs": [
        {
          "output_type": "execute_result",
          "data": {
            "text/plain": [
              "user_id\n",
              "#oc-R14VLCY75KIBSB    I purchased two blends from this company; broo...\n",
              "#oc-R1730HL4795MHX    Ordered 4 boxes. 4 different flavors. Have had...\n",
              "#oc-R1HFLTAYDCLBBP    Essentia water tastes great, and its price is ...\n",
              "#oc-R1OTWY0232JAF9    I confess I purchased this variety box mostly ...\n",
              "#oc-R1WIBE7UA1Y7XY    i feel very disappointed with this product, i ...\n",
              "                                            ...                        \n",
              "AZYS62CA5X6YZ         Then you will love this. I actually like this ...\n",
              "AZZ5ASC403N74         These cookies are pretty average chocolate coo...\n",
              "AZZQLMNX239VT         I ordered this screen so I can keep my French ...\n",
              "AZZV9PDNMCOZW         This is a great addition to my Torani syrup. I...\n",
              "AZZY649VYAHQS         All of the chocolate arrived with out melting ...\n",
              "Name: text, Length: 13010, dtype: object"
            ]
          },
          "metadata": {
            "tags": []
          },
          "execution_count": 15
        }
      ]
    }
  ]
}