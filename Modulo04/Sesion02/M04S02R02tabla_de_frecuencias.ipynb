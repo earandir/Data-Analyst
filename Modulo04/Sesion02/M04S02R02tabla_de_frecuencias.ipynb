{
  "nbformat": 4,
  "nbformat_minor": 0,
  "metadata": {
    "kernelspec": {
      "display_name": "Python 3",
      "language": "python",
      "name": "python3"
    },
    "language_info": {
      "codemirror_mode": {
        "name": "ipython",
        "version": 3
      },
      "file_extension": ".py",
      "mimetype": "text/x-python",
      "name": "python",
      "nbconvert_exporter": "python",
      "pygments_lexer": "ipython3",
      "version": "3.9.2"
    },
    "colab": {
      "name": "M04S02R02tabla_de_frecuencias.ipynb",
      "provenance": [],
      "collapsed_sections": [],
      "include_colab_link": true
    }
  },
  "cells": [
    {
      "cell_type": "markdown",
      "metadata": {
        "id": "view-in-github",
        "colab_type": "text"
      },
      "source": [
        "<a href=\"https://colab.research.google.com/github/earandir/DataAnalysis/blob/main/Modulo04/Sesion02/M04S02R02tabla_de_frecuencias.ipynb\" target=\"_parent\"><img src=\"https://colab.research.google.com/assets/colab-badge.svg\" alt=\"Open In Colab\"/></a>"
      ]
    },
    {
      "cell_type": "markdown",
      "metadata": {
        "id": "ezHvYpL0JqWe"
      },
      "source": [
        "# Reto 2: Tablas de frecuencias\n",
        "\n",
        "## 1. Objetivos:\n",
        "- Aprender a generar tablas de frecuencias segmentando nuestros datos\n",
        " \n",
        "---\n",
        "    \n",
        "## 2. Desarrollo:"
      ]
    },
    {
      "cell_type": "code",
      "metadata": {
        "id": "Hz4cSarzJrZh"
      },
      "source": [
        "import pandas as pd\n",
        "import seaborn as sns"
      ],
      "execution_count": 1,
      "outputs": []
    },
    {
      "cell_type": "code",
      "metadata": {
        "colab": {
          "base_uri": "https://localhost:8080/"
        },
        "id": "u22HEjrUJvc4",
        "outputId": "8f3510fc-7c3a-4834-e1a2-7d885f9a416e"
      },
      "source": [
        "from google.colab import drive\n",
        "drive.mount('/content/drive')"
      ],
      "execution_count": 2,
      "outputs": [
        {
          "output_type": "stream",
          "text": [
            "Mounted at /content/drive\n"
          ],
          "name": "stdout"
        }
      ]
    },
    {
      "cell_type": "markdown",
      "metadata": {
        "id": "fBCYkuisJqWg"
      },
      "source": [
        "#### a) Analizando distribución con tablas de frecuencias\n",
        "\n",
        "Vamos a generar tablas de frecuencias de los siguientes datasets y columnas:\n",
        "\n",
        "1. Dataset: 'near_earth_objects-jan_feb_1995-clean.csv'\n",
        "    - Columnas a graficar: 'estimated_diameter.meters.estimated_diameter_max' y 'relative_velocity.kilometers_per_second'\n"
      ]
    },
    {
      "cell_type": "code",
      "metadata": {
        "id": "c39nBIpJJ4WJ"
      },
      "source": [
        "df1 = pd.read_csv('/content/drive/MyDrive/DataAnalysis/Modulo04Datasets/near_earth_objects-jan_feb_1995-clean.csv',index_col=0)"
      ],
      "execution_count": 3,
      "outputs": []
    },
    {
      "cell_type": "code",
      "metadata": {
        "colab": {
          "base_uri": "https://localhost:8080/",
          "height": 35
        },
        "id": "4535-YqWS8FT",
        "outputId": "7610be64-0639-42a8-c19e-f66f4d248b86"
      },
      "source": [
        "cols = {'col1': 'estimated_diameter.meters.estimated_diameter_max', \\\n",
        "        'col2': 'relative_velocity.kilometers_per_second'}"
      ],
      "execution_count": 7,
      "outputs": [
        {
          "output_type": "execute_result",
          "data": {
            "application/vnd.google.colaboratory.intrinsic+json": {
              "type": "string"
            },
            "text/plain": [
              "'relative_velocity.kilometers_per_second'"
            ]
          },
          "metadata": {
            "tags": []
          },
          "execution_count": 7
        }
      ]
    },
    {
      "cell_type": "code",
      "metadata": {
        "colab": {
          "base_uri": "https://localhost:8080/"
        },
        "id": "oWeuzX--TbQw",
        "outputId": "c5846455-4222-4fd7-895a-a0f3a7c00116"
      },
      "source": [
        "diameter = df1[cols['col1']]\n",
        "diameter.max() - diameter.min()"
      ],
      "execution_count": 9,
      "outputs": [
        {
          "output_type": "execute_result",
          "data": {
            "text/plain": [
              "6513.905031051"
            ]
          },
          "metadata": {
            "tags": []
          },
          "execution_count": 9
        }
      ]
    },
    {
      "cell_type": "code",
      "metadata": {
        "colab": {
          "base_uri": "https://localhost:8080/"
        },
        "id": "beiu66H1TwSO",
        "outputId": "785ed72a-d06a-4e08-a03a-f1388ee488b2"
      },
      "source": [
        "segmentos = pd.cut(diameter, 50)\n",
        "\n",
        "df1[cols['col1']].groupby(segmentos).count()"
      ],
      "execution_count": 26,
      "outputs": [
        {
          "output_type": "execute_result",
          "data": {
            "text/plain": [
              "estimated_diameter.meters.estimated_diameter_max\n",
              "(-3.535, 133.257]       131\n",
              "(133.257, 263.535]       44\n",
              "(263.535, 393.813]       46\n",
              "(393.813, 524.091]       30\n",
              "(524.091, 654.369]       23\n",
              "(654.369, 784.647]       15\n",
              "(784.647, 914.925]        7\n",
              "(914.925, 1045.204]      10\n",
              "(1045.204, 1175.482]      6\n",
              "(1175.482, 1305.76]       4\n",
              "(1305.76, 1436.038]       1\n",
              "(1436.038, 1566.316]      3\n",
              "(1566.316, 1696.594]      1\n",
              "(1696.594, 1826.872]      5\n",
              "(1826.872, 1957.15]       0\n",
              "(1957.15, 2087.428]       0\n",
              "(2087.428, 2217.707]      0\n",
              "(2217.707, 2347.985]      1\n",
              "(2347.985, 2478.263]      0\n",
              "(2478.263, 2608.541]      1\n",
              "(2608.541, 2738.819]      0\n",
              "(2738.819, 2869.097]      1\n",
              "(2869.097, 2999.375]      0\n",
              "(2999.375, 3129.653]      1\n",
              "(3129.653, 3259.931]      0\n",
              "(3259.931, 3390.209]      1\n",
              "(3390.209, 3520.488]      0\n",
              "(3520.488, 3650.766]      0\n",
              "(3650.766, 3781.044]      1\n",
              "(3781.044, 3911.322]      0\n",
              "(3911.322, 4041.6]        0\n",
              "(4041.6, 4171.878]        0\n",
              "(4171.878, 4302.156]      0\n",
              "(4302.156, 4432.434]      0\n",
              "(4432.434, 4562.712]      0\n",
              "(4562.712, 4692.99]       0\n",
              "(4692.99, 4823.269]       0\n",
              "(4823.269, 4953.547]      0\n",
              "(4953.547, 5083.825]      0\n",
              "(5083.825, 5214.103]      0\n",
              "(5214.103, 5344.381]      0\n",
              "(5344.381, 5474.659]      0\n",
              "(5474.659, 5604.937]      0\n",
              "(5604.937, 5735.215]      0\n",
              "(5735.215, 5865.493]      0\n",
              "(5865.493, 5995.771]      0\n",
              "(5995.771, 6126.05]       0\n",
              "(6126.05, 6256.328]       0\n",
              "(6256.328, 6386.606]      0\n",
              "(6386.606, 6516.884]      1\n",
              "Name: estimated_diameter.meters.estimated_diameter_max, dtype: int64"
            ]
          },
          "metadata": {
            "tags": []
          },
          "execution_count": 26
        }
      ]
    },
    {
      "cell_type": "code",
      "metadata": {
        "colab": {
          "base_uri": "https://localhost:8080/",
          "height": 369
        },
        "id": "X5B0XM1lUk5R",
        "outputId": "3d4f696f-d048-482f-bb59-7012ec788407"
      },
      "source": [
        "sns.set_style('ticks')\n",
        "sns.displot(df1[cols['col1']], kde=True, bins=50);"
      ],
      "execution_count": 28,
      "outputs": [
        {
          "output_type": "display_data",
          "data": {
            "image/png": "[encoded data removed]",
            "text/plain": [
              "<Figure size 360x360 with 1 Axes>"
            ]
          },
          "metadata": {
            "tags": []
          }
        }
      ]
    },
    {
      "cell_type": "markdown",
      "metadata": {
        "id": "vAnFoliOJ8Kv"
      },
      "source": [
        "2. Dataset: 'new_york_times_bestsellers-clean.json'\n",
        "    - Columnas a graficar: 'price.numberDouble'\n"
      ]
    },
    {
      "cell_type": "code",
      "metadata": {
        "id": "Pvqo5B-ZJqWg"
      },
      "source": [
        "df2 = pd.read_json('/content/drive/MyDrive/DataAnalysis/Modulo04Datasets/new_york_times_bestsellers-clean.json')"
      ],
      "execution_count": 29,
      "outputs": []
    },
    {
      "cell_type": "code",
      "metadata": {
        "colab": {
          "base_uri": "https://localhost:8080/"
        },
        "id": "n-mbg6ciVF1G",
        "outputId": "a2020716-fe54-4f7e-bbc7-b30785203db3"
      },
      "source": [
        "prices = df2['price.numberDouble']\n",
        "prices.max() - prices.min()"
      ],
      "execution_count": 30,
      "outputs": [
        {
          "output_type": "execute_result",
          "data": {
            "text/plain": [
              "20.0"
            ]
          },
          "metadata": {
            "tags": []
          },
          "execution_count": 30
        }
      ]
    },
    {
      "cell_type": "code",
      "metadata": {
        "colab": {
          "base_uri": "https://localhost:8080/"
        },
        "id": "GjC9JLwRVF1H",
        "outputId": "c3ff6220-6129-4b1a-987a-2768304bfcb9"
      },
      "source": [
        "segmentos = pd.cut(prices, 20)\n",
        "\n",
        "df2['price.numberDouble'].groupby(segmentos).count()"
      ],
      "execution_count": 31,
      "outputs": [
        {
          "output_type": "execute_result",
          "data": {
            "text/plain": [
              "price.numberDouble\n",
              "(14.97, 15.99]      3\n",
              "(15.99, 16.99]     11\n",
              "(16.99, 17.99]      0\n",
              "(17.99, 18.99]      0\n",
              "(18.99, 19.99]     33\n",
              "(19.99, 20.99]      0\n",
              "(20.99, 21.99]     24\n",
              "(21.99, 22.99]      9\n",
              "(22.99, 23.99]     39\n",
              "(23.99, 24.99]    407\n",
              "(24.99, 25.99]    666\n",
              "(25.99, 26.99]    591\n",
              "(26.99, 27.99]    986\n",
              "(27.99, 28.99]    168\n",
              "(28.99, 29.99]     75\n",
              "(29.99, 30.99]      9\n",
              "(30.99, 31.99]      0\n",
              "(31.99, 32.99]      0\n",
              "(32.99, 33.99]      0\n",
              "(33.99, 34.99]     12\n",
              "Name: price.numberDouble, dtype: int64"
            ]
          },
          "metadata": {
            "tags": []
          },
          "execution_count": 31
        }
      ]
    },
    {
      "cell_type": "code",
      "metadata": {
        "colab": {
          "base_uri": "https://localhost:8080/",
          "height": 369
        },
        "id": "BhQSqk6VVF1H",
        "outputId": "38735765-4326-4fc8-aa2c-b358f28183a0"
      },
      "source": [
        "sns.set_style('ticks')\n",
        "sns.displot(df2['price.numberDouble'], kde=True, bins=20);"
      ],
      "execution_count": 32,
      "outputs": [
        {
          "output_type": "display_data",
          "data": {
            "image/png": "[encoded data removed]",
            "text/plain": [
              "<Figure size 360x360 with 1 Axes>"
            ]
          },
          "metadata": {
            "tags": []
          }
        }
      ]
    },
    {
      "cell_type": "markdown",
      "metadata": {
        "id": "_pyqY50UJ-YA"
      },
      "source": [
        "3. Dataset: 'melbourne_housing-clean.csv'\n",
        "    - Columnas a graficar: 'land_size'\n",
        "    \n"
      ]
    },
    {
      "cell_type": "code",
      "metadata": {
        "id": "Sl_0wQwjJ_Hc"
      },
      "source": [
        "df3 = pd.read_csv('/content/drive/MyDrive/DataAnalysis/Modulo04Datasets/melbourne_housing-clean.csv',index_col=0)"
      ],
      "execution_count": 34,
      "outputs": []
    },
    {
      "cell_type": "code",
      "metadata": {
        "colab": {
          "base_uri": "https://localhost:8080/"
        },
        "id": "Ne5YZ-rIVpm9",
        "outputId": "438a9edf-77e5-4667-a78a-90db6742d3ff"
      },
      "source": [
        "land_sizes = df3['land_size']\n",
        "land_sizes.max() - land_sizes.min()"
      ],
      "execution_count": 35,
      "outputs": [
        {
          "output_type": "execute_result",
          "data": {
            "text/plain": [
              "76000.0"
            ]
          },
          "metadata": {
            "tags": []
          },
          "execution_count": 35
        }
      ]
    },
    {
      "cell_type": "code",
      "metadata": {
        "colab": {
          "base_uri": "https://localhost:8080/"
        },
        "id": "lawrk1RJVpnF",
        "outputId": "7d122f88-f37f-497d-f4a4-331bb538de5d"
      },
      "source": [
        "segmentos = pd.cut(land_sizes, 100)\n",
        "\n",
        "df3['land_size'].groupby(segmentos).count()"
      ],
      "execution_count": 40,
      "outputs": [
        {
          "output_type": "execute_result",
          "data": {
            "text/plain": [
              "land_size\n",
              "(-76.0, 760.0]        9927\n",
              "(760.0, 1520.0]       1032\n",
              "(1520.0, 2280.0]       530\n",
              "(2280.0, 3040.0]        52\n",
              "(3040.0, 3800.0]        19\n",
              "                      ... \n",
              "(72200.0, 72960.0]       0\n",
              "(72960.0, 73720.0]       0\n",
              "(73720.0, 74480.0]       0\n",
              "(74480.0, 75240.0]       1\n",
              "(75240.0, 76000.0]       1\n",
              "Name: land_size, Length: 100, dtype: int64"
            ]
          },
          "metadata": {
            "tags": []
          },
          "execution_count": 40
        }
      ]
    },
    {
      "cell_type": "code",
      "metadata": {
        "colab": {
          "base_uri": "https://localhost:8080/",
          "height": 369
        },
        "id": "wywi-w_VVpnI",
        "outputId": "7ef9aa5f-6d8c-41a7-9e89-969008b18cba"
      },
      "source": [
        "sns.set_style('ticks')\n",
        "sns.displot(df3['land_size'], kde=True, bins=100);"
      ],
      "execution_count": 41,
      "outputs": [
        {
          "output_type": "display_data",
          "data": {
            "image/png": "[encoded data removed]",
            "text/plain": [
              "<Figure size 360x360 with 1 Axes>"
            ]
          },
          "metadata": {
            "tags": []
          }
        }
      ]
    },
    {
      "cell_type": "markdown",
      "metadata": {
        "id": "dWPWJWzXKBb5"
      },
      "source": [
        "Estos conjuntos de datos son los mismos que graficamos en el Reto anterior. Antes de generar las tablas de frecuencias, revisa el rango de tus conjuntos de datos y decide el número de segmentos adecuado para cada uno.\n",
        "\n",
        "Después, genera las tablas de frecuencias para cada uno de estos conjuntos de datos y compáralos con las gráficas de caja que realizaste en el Reto anterior. ¿Hay información nueva? ¿Qué ventajas o desventajas nos da esta nueva perspectiva?\n",
        "\n",
        "Piensa cuál de las dos aproximaciones (boxplots y tablas de frecuencia) resulta más útil para detectar valores atípicos. ¿O simplemente son útiles en diferentes contextos?"
      ]
    }
  ]
}