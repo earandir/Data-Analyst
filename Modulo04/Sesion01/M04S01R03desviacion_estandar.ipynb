{
  "nbformat": 4,
  "nbformat_minor": 0,
  "metadata": {
    "kernelspec": {
      "display_name": "Python 3",
      "language": "python",
      "name": "python3"
    },
    "language_info": {
      "codemirror_mode": {
        "name": "ipython",
        "version": 3
      },
      "file_extension": ".py",
      "mimetype": "text/x-python",
      "name": "python",
      "nbconvert_exporter": "python",
      "pygments_lexer": "ipython3",
      "version": "3.8.5"
    },
    "colab": {
      "name": "M04S01R03desviacion_estandar.ipynb",
      "provenance": [],
      "collapsed_sections": [],
      "include_colab_link": true
    }
  },
  "cells": [
    {
      "cell_type": "markdown",
      "metadata": {
        "id": "view-in-github",
        "colab_type": "text"
      },
      "source": [
        "<a href=\"https://colab.research.google.com/github/earandir/DataAnalysis/blob/main/Modulo04/Sesion01/M04S01R03desviacion_estandar.ipynb\" target=\"_parent\"><img src=\"https://colab.research.google.com/assets/colab-badge.svg\" alt=\"Open In Colab\"/></a>"
      ]
    },
    {
      "cell_type": "markdown",
      "metadata": {
        "id": "ozsxoijqwYS-"
      },
      "source": [
        "# Reto 3: Desviación estándar\n",
        "\n",
        "## 1. Objetivos:\n",
        "- Utilizar la desviación estándar para realizar un análisis de dispersión de nuestros datos\n",
        " \n",
        "---\n",
        "    \n",
        "## 2. Desarrollo:"
      ]
    },
    {
      "cell_type": "code",
      "metadata": {
        "colab": {
          "base_uri": "https://localhost:8080/"
        },
        "id": "JiGfezwqwd8y",
        "outputId": "c981d3c3-13ef-4ab0-d2a5-5796b37c50b7"
      },
      "source": [
        "from google.colab import drive\n",
        "drive.mount('/content/drive')"
      ],
      "execution_count": 1,
      "outputs": [
        {
          "output_type": "stream",
          "text": [
            "Mounted at /content/drive\n"
          ],
          "name": "stdout"
        }
      ]
    },
    {
      "cell_type": "code",
      "metadata": {
        "id": "6VIg_rhWwlW2"
      },
      "source": [
        "import pandas as pd\n"
      ],
      "execution_count": 2,
      "outputs": []
    },
    {
      "cell_type": "markdown",
      "metadata": {
        "id": "4BBqLwB2wYTB"
      },
      "source": [
        "### a) Desviación estándar y distribución de los datos\n",
        "\n",
        "Como ya vimos, la desviación estándar es la medida que nos da la \"desviación típica\" (o esperada) de nuestros datos a comparación del promedio. Eso quiere decir que normalmente vamos a esperar que una gran parte de nuestros datos se encuentren a 1 desviación estándar de distancia del promedio. Entre más nos alejamos, menos muestras deberíamos de encontrar.\n",
        "\n",
        "Vamos a comprobar esto usando nuestro dataset de meteoritos que orbitan cerca de la Tierra. Tu Reto consiste en los siguientes pasos:\n",
        "\n",
        "1. Crea un DataFrame con el dataset `near_earth_objects-jan_feb_1995-clean.csv`.\n"
      ]
    },
    {
      "cell_type": "code",
      "metadata": {
        "id": "GUzsCVWkw0Pf"
      },
      "source": [
        "df = pd.read_csv('/content/drive/MyDrive/DataAnalysis/Modulo04Datasets/near_earth_objects-jan_feb_1995-clean.csv')"
      ],
      "execution_count": 3,
      "outputs": []
    },
    {
      "cell_type": "markdown",
      "metadata": {
        "id": "Wglxtxcm2nhC"
      },
      "source": [
        "2. Obtén la cantidad total de datos en tu DataFrame."
      ]
    },
    {
      "cell_type": "code",
      "metadata": {
        "colab": {
          "base_uri": "https://localhost:8080/"
        },
        "id": "yfK9W-nuxJp4",
        "outputId": "c3ebdf1a-fa78-4188-dab7-e9dda297efc3"
      },
      "source": [
        "len(df.index)"
      ],
      "execution_count": 4,
      "outputs": [
        {
          "output_type": "execute_result",
          "data": {
            "text/plain": [
              "333"
            ]
          },
          "metadata": {
            "tags": []
          },
          "execution_count": 4
        }
      ]
    },
    {
      "cell_type": "code",
      "metadata": {
        "id": "ZgrH5fDKB9Rq",
        "outputId": "b1e6f8f0-c0bd-4b48-8462-b50f3e15257a",
        "colab": {
          "base_uri": "https://localhost:8080/"
        }
      },
      "source": [
        "df.shape"
      ],
      "execution_count": 15,
      "outputs": [
        {
          "output_type": "execute_result",
          "data": {
            "text/plain": [
              "(333, 11)"
            ]
          },
          "metadata": {
            "tags": []
          },
          "execution_count": 15
        }
      ]
    },
    {
      "cell_type": "markdown",
      "metadata": {
        "id": "gyACXQIx2qka"
      },
      "source": [
        "3. Obtén la desviación estándar de la columna 'estimated_diameter.meters.estimated_diameter_max'. Los siguientes pasos realízalos todos utilizando esta columna."
      ]
    },
    {
      "cell_type": "code",
      "metadata": {
        "id": "Gn3SR9ILxKt8"
      },
      "source": [
        "std = df['estimated_diameter.meters.estimated_diameter_max'].std()"
      ],
      "execution_count": 5,
      "outputs": []
    },
    {
      "cell_type": "code",
      "metadata": {
        "id": "p_ero-RHA8JM",
        "outputId": "1692a5ac-318a-48fe-db59-49ce16835712",
        "colab": {
          "base_uri": "https://localhost:8080/"
        }
      },
      "source": [
        "std"
      ],
      "execution_count": 6,
      "outputs": [
        {
          "output_type": "execute_result",
          "data": {
            "text/plain": [
              "614.691591855223"
            ]
          },
          "metadata": {
            "tags": []
          },
          "execution_count": 6
        }
      ]
    },
    {
      "cell_type": "markdown",
      "metadata": {
        "id": "UV7xnmJ82s-g"
      },
      "source": [
        "4. Obtén el porcentaje de muestras que están a una distancia de 1 desviación estándar del promedio.\n",
        "\n",
        "> Nota: Para obtener los porcentajes de los subconjuntos primero necesitas filtrar el DataFrame original para que sólo permanezcan las muestras que cumplan con los requisitos."
      ]
    },
    {
      "cell_type": "code",
      "metadata": {
        "id": "iZABf4Mq158O"
      },
      "source": [
        "df1 = df.loc[df['estimated_diameter.meters.estimated_diameter_max'] <= std]"
      ],
      "execution_count": 7,
      "outputs": []
    },
    {
      "cell_type": "code",
      "metadata": {
        "id": "wtezLc90CQJu"
      },
      "source": [
        "df1_bottom = df[column] >= (mean - std)\n",
        "df1_top = df[column] <= (mean + std)\n",
        "df1_std = df[df1_bottom & df1_top]"
      ],
      "execution_count": null,
      "outputs": []
    },
    {
      "cell_type": "code",
      "metadata": {
        "colab": {
          "base_uri": "https://localhost:8080/"
        },
        "id": "st-2yp4G35U4",
        "outputId": "6ec16cc7-e27d-497a-a8cf-24bee224e086"
      },
      "source": [
        "df1['estimated_diameter.meters.estimated_diameter_max'].mean()"
      ],
      "execution_count": 8,
      "outputs": [
        {
          "output_type": "execute_result",
          "data": {
            "text/plain": [
              "193.7777816266794"
            ]
          },
          "metadata": {
            "tags": []
          },
          "execution_count": 8
        }
      ]
    },
    {
      "cell_type": "markdown",
      "metadata": {
        "id": "-pVDumRt21vG"
      },
      "source": [
        "5. Obtén el porcentaje de muestras que están a una distancia de 2 desviaciones estándares del promedio (multiplicar * 2).\n"
      ]
    },
    {
      "cell_type": "code",
      "metadata": {
        "id": "jTGh53pP3ElS"
      },
      "source": [
        "df2 = df.loc[(df['estimated_diameter.meters.estimated_diameter_max'] <= (std * 2)) & (df['estimated_diameter.meters.estimated_diameter_max'] > (std))]"
      ],
      "execution_count": 10,
      "outputs": []
    },
    {
      "cell_type": "code",
      "metadata": {
        "id": "KTIMrNMQ33du",
        "outputId": "310c959b-e124-4fd6-bc5c-207456ccb7cb",
        "colab": {
          "base_uri": "https://localhost:8080/"
        }
      },
      "source": [
        "df2['estimated_diameter.meters.estimated_diameter_max'].mean()"
      ],
      "execution_count": 11,
      "outputs": [
        {
          "output_type": "execute_result",
          "data": {
            "text/plain": [
              "843.2831595165459"
            ]
          },
          "metadata": {
            "tags": []
          },
          "execution_count": 11
        }
      ]
    },
    {
      "cell_type": "markdown",
      "metadata": {
        "id": "DYOQOfG23Hp2"
      },
      "source": [
        ""
      ]
    },
    {
      "cell_type": "markdown",
      "metadata": {
        "id": "DmleC6N6234Y"
      },
      "source": [
        "6. Obtén el porcentaje de muestras que están a una distancia de 3 desviaciones estándares del promedio (multiplicar * 3).\n"
      ]
    },
    {
      "cell_type": "code",
      "metadata": {
        "id": "OFC4tUI-3vjg"
      },
      "source": [
        "df3 = df.loc[(df['estimated_diameter.meters.estimated_diameter_max'] <= (std * 3)) & (df['estimated_diameter.meters.estimated_diameter_max'] > (std * 2))]"
      ],
      "execution_count": 12,
      "outputs": []
    },
    {
      "cell_type": "code",
      "metadata": {
        "id": "Fu6BoFtFBGqy",
        "outputId": "66e3a135-e189-4337-ce90-51fb03efe779",
        "colab": {
          "base_uri": "https://localhost:8080/"
        }
      },
      "source": [
        "df3['estimated_diameter.meters.estimated_diameter_max'].mean()"
      ],
      "execution_count": 13,
      "outputs": [
        {
          "output_type": "execute_result",
          "data": {
            "text/plain": [
              "1573.8383421688998"
            ]
          },
          "metadata": {
            "tags": []
          },
          "execution_count": 13
        }
      ]
    },
    {
      "cell_type": "markdown",
      "metadata": {
        "id": "uNiFeuVu25oz"
      },
      "source": [
        "7. Compara los porcentajes obtenidos y comenta con tus compañeros y la experta tus hallazgos. ¿Qué significa esto? ¿La definición de desviación estándar tiene sentido? ¿Qué puedo inferir acerca de la dispersión de mis datos a partir de los valores obtenidos?\n",
        "\n",
        "> Nota: Este Reto está diseñado para tener una dificultad media. No te frustres si al principio parece demasiado difícil. Comienza poco a poco, resolviendo el problema en pedazos pequeños, y si no tienes la menor idea de cómo proceder recuerda que la experta está ahí para ayudarte."
      ]
    }
  ]
}