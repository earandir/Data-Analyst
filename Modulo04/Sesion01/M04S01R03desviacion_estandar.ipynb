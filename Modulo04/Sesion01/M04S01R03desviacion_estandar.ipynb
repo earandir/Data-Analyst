{
  "nbformat": 4,
  "nbformat_minor": 0,
  "metadata": {
    "kernelspec": {
      "display_name": "Python 3",
      "language": "python",
      "name": "python3"
    },
    "language_info": {
      "codemirror_mode": {
        "name": "ipython",
        "version": 3
      },
      "file_extension": ".py",
      "mimetype": "text/x-python",
      "name": "python",
      "nbconvert_exporter": "python",
      "pygments_lexer": "ipython3",
      "version": "3.8.5"
    },
    "colab": {
      "name": "M04S01R03desviacion_estandar.ipynb",
      "provenance": [],
      "collapsed_sections": [],
      "include_colab_link": true
    }
  },
  "cells": [
    {
      "cell_type": "markdown",
      "metadata": {
        "id": "view-in-github",
        "colab_type": "text"
      },
      "source": [
        "<a href=\"https://colab.research.google.com/github/earandir/DataAnalysis/blob/main/Modulo04/Sesion01/M04S01R03desviacion_estandar.ipynb\" target=\"_parent\"><img src=\"https://colab.research.google.com/assets/colab-badge.svg\" alt=\"Open In Colab\"/></a>"
      ]
    },
    {
      "cell_type": "markdown",
      "metadata": {
        "id": "ozsxoijqwYS-"
      },
      "source": [
        "# Reto 3: Desviación estándar\n",
        "\n",
        "## 1. Objetivos:\n",
        "- Utilizar la desviación estándar para realizar un análisis de dispersión de nuestros datos\n",
        " \n",
        "---\n",
        "    \n",
        "## 2. Desarrollo:"
      ]
    },
    {
      "cell_type": "code",
      "metadata": {
        "colab": {
          "base_uri": "https://localhost:8080/"
        },
        "id": "JiGfezwqwd8y",
        "outputId": "5bde013e-5454-4bcd-bf01-503f8816c78b"
      },
      "source": [
        "from google.colab import drive\n",
        "drive.mount('/content/drive')"
      ],
      "execution_count": 3,
      "outputs": [
        {
          "output_type": "stream",
          "text": [
            "Mounted at /content/drive\n"
          ],
          "name": "stdout"
        }
      ]
    },
    {
      "cell_type": "code",
      "metadata": {
        "id": "6VIg_rhWwlW2"
      },
      "source": [
        "import pandas as pd\n"
      ],
      "execution_count": 4,
      "outputs": []
    },
    {
      "cell_type": "markdown",
      "metadata": {
        "id": "4BBqLwB2wYTB"
      },
      "source": [
        "### a) Desviación estándar y distribución de los datos\n",
        "\n",
        "Como ya vimos, la desviación estándar es la medida que nos da la \"desviación típica\" (o esperada) de nuestros datos a comparación del promedio. Eso quiere decir que normalmente vamos a esperar que una gran parte de nuestros datos se encuentren a 1 desviación estándar de distancia del promedio. Entre más nos alejamos, menos muestras deberíamos de encontrar.\n",
        "\n",
        "Vamos a comprobar esto usando nuestro dataset de meteoritos que orbitan cerca de la Tierra. Tu Reto consiste en los siguientes pasos:\n",
        "\n",
        "1. Crea un DataFrame con el dataset `near_earth_objects-jan_feb_1995-clean.csv`.\n"
      ]
    },
    {
      "cell_type": "code",
      "metadata": {
        "id": "GUzsCVWkw0Pf"
      },
      "source": [
        "df = pd.read_csv('/content/drive/MyDrive/DataAnalysis/Modulo04Datasets/near_earth_objects-jan_feb_1995-clean.csv')"
      ],
      "execution_count": 5,
      "outputs": []
    },
    {
      "cell_type": "markdown",
      "metadata": {
        "id": "Wglxtxcm2nhC"
      },
      "source": [
        "2. Obtén la cantidad total de datos en tu DataFrame."
      ]
    },
    {
      "cell_type": "code",
      "metadata": {
        "colab": {
          "base_uri": "https://localhost:8080/"
        },
        "id": "yfK9W-nuxJp4",
        "outputId": "8ef93310-2f93-453d-ad91-4c2407548fce"
      },
      "source": [
        "len(df.index)"
      ],
      "execution_count": 6,
      "outputs": [
        {
          "output_type": "execute_result",
          "data": {
            "text/plain": [
              "333"
            ]
          },
          "metadata": {
            "tags": []
          },
          "execution_count": 6
        }
      ]
    },
    {
      "cell_type": "markdown",
      "metadata": {
        "id": "gyACXQIx2qka"
      },
      "source": [
        "3. Obtén la desviación estándar de la columna 'estimated_diameter.meters.estimated_diameter_max'. Los siguientes pasos realízalos todos utilizando esta columna."
      ]
    },
    {
      "cell_type": "code",
      "metadata": {
        "id": "Gn3SR9ILxKt8"
      },
      "source": [
        "std = df['estimated_diameter.meters.estimated_diameter_max'].std()"
      ],
      "execution_count": 7,
      "outputs": []
    },
    {
      "cell_type": "markdown",
      "metadata": {
        "id": "UV7xnmJ82s-g"
      },
      "source": [
        "4. Obtén el porcentaje de muestras que están a una distancia de 1 desviación estándar del promedio.\n",
        "\n",
        "> Nota: Para obtener los porcentajes de los subconjuntos primero necesitas filtrar el DataFrame original para que sólo permanezcan las muestras que cumplan con los requisitos."
      ]
    },
    {
      "cell_type": "code",
      "metadata": {
        "id": "iZABf4Mq158O"
      },
      "source": [
        "df1 = df.loc[df['estimated_diameter.meters.estimated_diameter_max'] <= std]"
      ],
      "execution_count": 8,
      "outputs": []
    },
    {
      "cell_type": "code",
      "metadata": {
        "colab": {
          "base_uri": "https://localhost:8080/",
          "height": 626
        },
        "id": "st-2yp4G35U4",
        "outputId": "c13aa1b9-d515-4d06-84ca-30e20e665027"
      },
      "source": [
        "df1"
      ],
      "execution_count": 13,
      "outputs": [
        {
          "output_type": "execute_result",
          "data": {
            "text/html": [
              "<div>\n",
              "<style scoped>\n",
              "    .dataframe tbody tr th:only-of-type {\n",
              "        vertical-align: middle;\n",
              "    }\n",
              "\n",
              "    .dataframe tbody tr th {\n",
              "        vertical-align: top;\n",
              "    }\n",
              "\n",
              "    .dataframe thead th {\n",
              "        text-align: right;\n",
              "    }\n",
              "</style>\n",
              "<table border=\"1\" class=\"dataframe\">\n",
              "  <thead>\n",
              "    <tr style=\"text-align: right;\">\n",
              "      <th></th>\n",
              "      <th>Unnamed: 0</th>\n",
              "      <th>id</th>\n",
              "      <th>name</th>\n",
              "      <th>is_potentially_hazardous_asteroid</th>\n",
              "      <th>estimated_diameter.meters.estimated_diameter_min</th>\n",
              "      <th>estimated_diameter.meters.estimated_diameter_max</th>\n",
              "      <th>close_approach_date</th>\n",
              "      <th>epoch_date_close_approach</th>\n",
              "      <th>orbiting_body</th>\n",
              "      <th>relative_velocity.kilometers_per_second</th>\n",
              "      <th>relative_velocity.kilometers_per_hour</th>\n",
              "    </tr>\n",
              "  </thead>\n",
              "  <tbody>\n",
              "    <tr>\n",
              "      <th>1</th>\n",
              "      <td>1</td>\n",
              "      <td>3153509</td>\n",
              "      <td>(2003 HM)</td>\n",
              "      <td>True</td>\n",
              "      <td>96.506147</td>\n",
              "      <td>215.794305</td>\n",
              "      <td>1995-01-07</td>\n",
              "      <td>789491340000</td>\n",
              "      <td>Earth</td>\n",
              "      <td>12.351044</td>\n",
              "      <td>44463.757734</td>\n",
              "    </tr>\n",
              "    <tr>\n",
              "      <th>2</th>\n",
              "      <td>2</td>\n",
              "      <td>3516633</td>\n",
              "      <td>(2010 HA)</td>\n",
              "      <td>False</td>\n",
              "      <td>44.111820</td>\n",
              "      <td>98.637028</td>\n",
              "      <td>1995-01-07</td>\n",
              "      <td>789446820000</td>\n",
              "      <td>Earth</td>\n",
              "      <td>6.220435</td>\n",
              "      <td>22393.567277</td>\n",
              "    </tr>\n",
              "    <tr>\n",
              "      <th>3</th>\n",
              "      <td>3</td>\n",
              "      <td>3837644</td>\n",
              "      <td>(2019 AY3)</td>\n",
              "      <td>False</td>\n",
              "      <td>46.190746</td>\n",
              "      <td>103.285648</td>\n",
              "      <td>1995-01-07</td>\n",
              "      <td>789513900000</td>\n",
              "      <td>Earth</td>\n",
              "      <td>22.478615</td>\n",
              "      <td>80923.015021</td>\n",
              "    </tr>\n",
              "    <tr>\n",
              "      <th>4</th>\n",
              "      <td>4</td>\n",
              "      <td>3843493</td>\n",
              "      <td>(2019 PY)</td>\n",
              "      <td>False</td>\n",
              "      <td>22.108281</td>\n",
              "      <td>49.435619</td>\n",
              "      <td>1995-01-07</td>\n",
              "      <td>789446700000</td>\n",
              "      <td>Earth</td>\n",
              "      <td>4.998691</td>\n",
              "      <td>17995.288355</td>\n",
              "    </tr>\n",
              "    <tr>\n",
              "      <th>5</th>\n",
              "      <td>5</td>\n",
              "      <td>3765015</td>\n",
              "      <td>(2016 WR48)</td>\n",
              "      <td>False</td>\n",
              "      <td>160.160338</td>\n",
              "      <td>358.129403</td>\n",
              "      <td>1995-01-08</td>\n",
              "      <td>789569160000</td>\n",
              "      <td>Earth</td>\n",
              "      <td>7.465089</td>\n",
              "      <td>26874.321682</td>\n",
              "    </tr>\n",
              "    <tr>\n",
              "      <th>...</th>\n",
              "      <td>...</td>\n",
              "      <td>...</td>\n",
              "      <td>...</td>\n",
              "      <td>...</td>\n",
              "      <td>...</td>\n",
              "      <td>...</td>\n",
              "      <td>...</td>\n",
              "      <td>...</td>\n",
              "      <td>...</td>\n",
              "      <td>...</td>\n",
              "      <td>...</td>\n",
              "    </tr>\n",
              "    <tr>\n",
              "      <th>324</th>\n",
              "      <td>324</td>\n",
              "      <td>3743607</td>\n",
              "      <td>(2016 CV193)</td>\n",
              "      <td>False</td>\n",
              "      <td>80.270317</td>\n",
              "      <td>179.489885</td>\n",
              "      <td>1995-02-21</td>\n",
              "      <td>793402980000</td>\n",
              "      <td>Earth</td>\n",
              "      <td>5.279470</td>\n",
              "      <td>19006.091680</td>\n",
              "    </tr>\n",
              "    <tr>\n",
              "      <th>325</th>\n",
              "      <td>325</td>\n",
              "      <td>3744694</td>\n",
              "      <td>(2016 DH)</td>\n",
              "      <td>False</td>\n",
              "      <td>8.405334</td>\n",
              "      <td>18.794898</td>\n",
              "      <td>1995-02-21</td>\n",
              "      <td>793404960000</td>\n",
              "      <td>Earth</td>\n",
              "      <td>5.439277</td>\n",
              "      <td>19581.395990</td>\n",
              "    </tr>\n",
              "    <tr>\n",
              "      <th>326</th>\n",
              "      <td>326</td>\n",
              "      <td>3770349</td>\n",
              "      <td>(2017 EU)</td>\n",
              "      <td>False</td>\n",
              "      <td>231.502122</td>\n",
              "      <td>517.654482</td>\n",
              "      <td>1995-02-21</td>\n",
              "      <td>793376220000</td>\n",
              "      <td>Earth</td>\n",
              "      <td>24.585482</td>\n",
              "      <td>88507.735850</td>\n",
              "    </tr>\n",
              "    <tr>\n",
              "      <th>330</th>\n",
              "      <td>330</td>\n",
              "      <td>3656919</td>\n",
              "      <td>(2014 BG3)</td>\n",
              "      <td>False</td>\n",
              "      <td>160.160338</td>\n",
              "      <td>358.129403</td>\n",
              "      <td>1995-02-21</td>\n",
              "      <td>793368480000</td>\n",
              "      <td>Earth</td>\n",
              "      <td>20.343173</td>\n",
              "      <td>73235.423517</td>\n",
              "    </tr>\n",
              "    <tr>\n",
              "      <th>332</th>\n",
              "      <td>332</td>\n",
              "      <td>3989652</td>\n",
              "      <td>(2020 CH1)</td>\n",
              "      <td>False</td>\n",
              "      <td>21.525586</td>\n",
              "      <td>48.132673</td>\n",
              "      <td>1995-02-21</td>\n",
              "      <td>793404900000</td>\n",
              "      <td>Earth</td>\n",
              "      <td>6.998083</td>\n",
              "      <td>25193.097928</td>\n",
              "    </tr>\n",
              "  </tbody>\n",
              "</table>\n",
              "<p>264 rows × 11 columns</p>\n",
              "</div>"
            ],
            "text/plain": [
              "     Unnamed: 0  ...  relative_velocity.kilometers_per_hour\n",
              "1             1  ...                           44463.757734\n",
              "2             2  ...                           22393.567277\n",
              "3             3  ...                           80923.015021\n",
              "4             4  ...                           17995.288355\n",
              "5             5  ...                           26874.321682\n",
              "..          ...  ...                                    ...\n",
              "324         324  ...                           19006.091680\n",
              "325         325  ...                           19581.395990\n",
              "326         326  ...                           88507.735850\n",
              "330         330  ...                           73235.423517\n",
              "332         332  ...                           25193.097928\n",
              "\n",
              "[264 rows x 11 columns]"
            ]
          },
          "metadata": {
            "tags": []
          },
          "execution_count": 13
        }
      ]
    },
    {
      "cell_type": "markdown",
      "metadata": {
        "id": "-pVDumRt21vG"
      },
      "source": [
        "5. Obtén el porcentaje de muestras que están a una distancia de 2 desviaciones estándares del promedio (multiplicar * 2).\n"
      ]
    },
    {
      "cell_type": "code",
      "metadata": {
        "id": "jTGh53pP3ElS"
      },
      "source": [
        "df2 = df.loc[(df['estimated_diameter.meters.estimated_diameter_max'] <= (std * 2)) & (df['estimated_diameter.meters.estimated_diameter_max'] > (std))]"
      ],
      "execution_count": 11,
      "outputs": []
    },
    {
      "cell_type": "code",
      "metadata": {
        "id": "KTIMrNMQ33du"
      },
      "source": [
        ""
      ],
      "execution_count": null,
      "outputs": []
    },
    {
      "cell_type": "markdown",
      "metadata": {
        "id": "DYOQOfG23Hp2"
      },
      "source": [
        ""
      ]
    },
    {
      "cell_type": "markdown",
      "metadata": {
        "id": "DmleC6N6234Y"
      },
      "source": [
        "6. Obtén el porcentaje de muestras que están a una distancia de 3 desviaciones estándares del promedio (multiplicar * 3).\n"
      ]
    },
    {
      "cell_type": "code",
      "metadata": {
        "id": "OFC4tUI-3vjg"
      },
      "source": [
        "df3 = df.loc[(df['estimated_diameter.meters.estimated_diameter_max'] <= (std * 3)) & (df['estimated_diameter.meters.estimated_diameter_max'] > (std * 2))]"
      ],
      "execution_count": 12,
      "outputs": []
    },
    {
      "cell_type": "markdown",
      "metadata": {
        "id": "uNiFeuVu25oz"
      },
      "source": [
        "7. Compara los porcentajes obtenidos y comenta con tus compañeros y la experta tus hallazgos. ¿Qué significa esto? ¿La definición de desviación estándar tiene sentido? ¿Qué puedo inferir acerca de la dispersión de mis datos a partir de los valores obtenidos?\n",
        "\n",
        "> Nota: Este Reto está diseñado para tener una dificultad media. No te frustres si al principio parece demasiado difícil. Comienza poco a poco, resolviendo el problema en pedazos pequeños, y si no tienes la menor idea de cómo proceder recuerda que la experta está ahí para ayudarte."
      ]
    }
  ]
}