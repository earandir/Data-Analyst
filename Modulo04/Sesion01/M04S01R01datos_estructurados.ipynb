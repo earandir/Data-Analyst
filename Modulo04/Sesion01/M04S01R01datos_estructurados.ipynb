{
  "nbformat": 4,
  "nbformat_minor": 0,
  "metadata": {
    "kernelspec": {
      "display_name": "Python 3",
      "language": "python",
      "name": "python3"
    },
    "language_info": {
      "codemirror_mode": {
        "name": "ipython",
        "version": 3
      },
      "file_extension": ".py",
      "mimetype": "text/x-python",
      "name": "python",
      "nbconvert_exporter": "python",
      "pygments_lexer": "ipython3",
      "version": "3.8.5"
    },
    "colab": {
      "name": "datos_estructurados.ipynb",
      "provenance": []
    }
  },
  "cells": [
    {
      "cell_type": "markdown",
      "metadata": {
        "id": "L2Jb77tDpY6T"
      },
      "source": [
        "# Reto 1: Datos estructurados\n",
        "\n",
        "## 1. Objetivos\n",
        "\n",
        "- Aprender a diferenciar los diferentes tipos de datos estructurados que existen.\n",
        " \n",
        "---\n",
        "    \n",
        "## 2. Desarrollo"
      ]
    },
    {
      "cell_type": "code",
      "metadata": {
        "id": "AAleYHoEpY6W"
      },
      "source": [
        "import pandas as pd"
      ],
      "execution_count": 1,
      "outputs": []
    },
    {
      "cell_type": "markdown",
      "metadata": {
        "id": "gMhc3OU_pY6W"
      },
      "source": [
        "### a) Identificando datos estructurados\n",
        "\n",
        "A continuación verás varias muestras de datos y sus descripciones. Asígnales una de las categorías de datos estructurados que acabas de aprender. Después, comparte tus hipótesis con la experta y con tus compañeros.\n",
        "\n",
        "Es muy importante saber identificar tipos de datos estructurados, porque las técnicas y estrategias que aprenderás durante este módulo suelen estar dirigidas hacia un tipo de dato específico. La elección de las mejores herramientas viene después de entender a qué tipo de dato nos estamos enfrentando."
      ]
    },
    {
      "cell_type": "markdown",
      "metadata": {
        "id": "ze9XKxu2pY6X"
      },
      "source": [
        "####  Muestra 1: Extraída de un conjunto de datos que contiene edades de personas"
      ]
    },
    {
      "cell_type": "code",
      "metadata": {
        "id": "LcP70ytBpY6X",
        "outputId": "fd6c733b-ceb6-439e-9f84-b3d34e25a119",
        "colab": {
          "base_uri": "https://localhost:8080/"
        }
      },
      "source": [
        "edades = pd.Series([23, 34, 4, 45, 52, 59, 23, 48, 50, 49, 3, 4, 6, 8, 79, 6, 40, 17, 34, 4, 67, 97, 87, 65, 24, 4, 46])\n",
        "edades.head()"
      ],
      "execution_count": 2,
      "outputs": [
        {
          "output_type": "execute_result",
          "data": {
            "text/plain": [
              "0    23\n",
              "1    34\n",
              "2     4\n",
              "3    45\n",
              "4    52\n",
              "dtype: int64"
            ]
          },
          "metadata": {
            "tags": []
          },
          "execution_count": 2
        }
      ]
    },
    {
      "cell_type": "markdown",
      "metadata": {
        "id": "AuRJz1sfpY6X"
      },
      "source": [
        "*__Pregunta:__* ¿Qué tipo de dato estructurado tenemos en la serie `edades`?\n",
        "\n",
        "\n",
        "*   Numérica discreta\n"
      ]
    },
    {
      "cell_type": "markdown",
      "metadata": {
        "id": "tDggt4N6pY6X"
      },
      "source": [
        "#### Muestra 2: Extraída de un conjunto de datos que contiene evaluaciones de restaurantes hechas por usuarios de una app"
      ]
    },
    {
      "cell_type": "code",
      "metadata": {
        "id": "kEA2o0-zpY6X",
        "outputId": "6987f1b9-6de6-465e-acde-7efb4dd2cf5a",
        "colab": {
          "base_uri": "https://localhost:8080/"
        }
      },
      "source": [
        "evaluaciones = pd.Series([1, 4, 2, 2, 3, 5, 4, 4, 4, 5, 1, 2, 2, 3, 5, 2, 4, 3, 3, 1, 5, 5, 2, 4, 3, 3, 4, 4, 5, 1, 2])\n",
        "evaluaciones.head()"
      ],
      "execution_count": 3,
      "outputs": [
        {
          "output_type": "execute_result",
          "data": {
            "text/plain": [
              "0    1\n",
              "1    4\n",
              "2    2\n",
              "3    2\n",
              "4    3\n",
              "dtype: int64"
            ]
          },
          "metadata": {
            "tags": []
          },
          "execution_count": 3
        }
      ]
    },
    {
      "cell_type": "markdown",
      "metadata": {
        "id": "cs1ngyEdpY6Y"
      },
      "source": [
        "*__Pregunta:__* ¿Qué tipo de dato estructurado tenemos en la serie `evaluaciones`?\n",
        "\n",
        "\n",
        "*   Categórica ordinal\n",
        "\n"
      ]
    },
    {
      "cell_type": "markdown",
      "metadata": {
        "id": "DUEkuflfpY6Y"
      },
      "source": [
        "#### Muestra 3: Extraída de un conjunto de datos que contiene códigos de respuesta HTTP obtenidos al realizar llamadas constantes a una API"
      ]
    },
    {
      "cell_type": "code",
      "metadata": {
        "id": "xRoBwdiCpY6Y",
        "outputId": "673befd0-b697-496e-e583-7bdb2679d9a7",
        "colab": {
          "base_uri": "https://localhost:8080/"
        }
      },
      "source": [
        "codigos = pd.Series([400, 400, 200, 200, 201, 200, 201, 400, 201, 404, 400, 200, 200, 201, 200, 201, 201, 500, 400, 200])\n",
        "codigos.head()"
      ],
      "execution_count": 4,
      "outputs": [
        {
          "output_type": "execute_result",
          "data": {
            "text/plain": [
              "0    400\n",
              "1    400\n",
              "2    200\n",
              "3    200\n",
              "4    201\n",
              "dtype: int64"
            ]
          },
          "metadata": {
            "tags": []
          },
          "execution_count": 4
        }
      ]
    },
    {
      "cell_type": "markdown",
      "metadata": {
        "id": "iCYiBe51pY6Y"
      },
      "source": [
        "*__Pregunta:__* ¿Qué tipo de dato estructurado tenemos en la serie `codigos`?\n",
        "\n",
        "\n",
        "*   Numérica discreta\n",
        "\n"
      ]
    },
    {
      "cell_type": "markdown",
      "metadata": {
        "id": "u_iwGtVqpY6Z"
      },
      "source": [
        "#### Muestra 4: Extraída de un conjunto de datos que contiene mediciones precisas de temperaturas ambientales hechas durante un verano de la CDMX"
      ]
    },
    {
      "cell_type": "code",
      "metadata": {
        "id": "6xg3Z3oApY6Z",
        "outputId": "c3737fa0-4c3d-4e8f-cdaf-973cfeacabbc",
        "colab": {
          "base_uri": "https://localhost:8080/"
        }
      },
      "source": [
        "temperaturas = pd.Series([22.45, 21.34, 20.23, 20.34, 25.54, 24.34, 18.23, 19.35, 18.24, 25.5, 24.33, 20.19, 21.45, 22.45])\n",
        "temperaturas.head()"
      ],
      "execution_count": 5,
      "outputs": [
        {
          "output_type": "execute_result",
          "data": {
            "text/plain": [
              "0    22.45\n",
              "1    21.34\n",
              "2    20.23\n",
              "3    20.34\n",
              "4    25.54\n",
              "dtype: float64"
            ]
          },
          "metadata": {
            "tags": []
          },
          "execution_count": 5
        }
      ]
    },
    {
      "cell_type": "markdown",
      "metadata": {
        "id": "McuJLJ3RpY6Z"
      },
      "source": [
        "*__Pregunta:__* ¿Qué tipo de dato estructurado tenemos en la serie `temperaturas`?"
      ]
    },
    {
      "cell_type": "markdown",
      "metadata": {
        "id": "Dgjg_mqWqdQg"
      },
      "source": [
        "* numérica continua"
      ]
    },
    {
      "cell_type": "markdown",
      "metadata": {
        "id": "dtTLDevtpY6Z"
      },
      "source": [
        "#### Muestra 5: Extraída de un conjunto de datos que contiene resultados de una encuesta cuyas únicas posibles respuestas eran \"sí\" y \"no\""
      ]
    },
    {
      "cell_type": "code",
      "metadata": {
        "id": "L1VB3tpEpY6Z",
        "outputId": "444fc7f0-f9af-40c3-c5ca-9f82f7befd7f",
        "colab": {
          "base_uri": "https://localhost:8080/"
        }
      },
      "source": [
        "encuesta = pd.Series([0, 0, 1, 1, 1, 0, 1, 0, 0, 0, 1, 1, 1, 0, 0, 0, 1, 0, 1, 1, 1, 1, 0, 0, 0, 1, 0, 1, 0, 1, 0, 0])\n",
        "encuesta.head()"
      ],
      "execution_count": 6,
      "outputs": [
        {
          "output_type": "execute_result",
          "data": {
            "text/plain": [
              "0    0\n",
              "1    0\n",
              "2    1\n",
              "3    1\n",
              "4    1\n",
              "dtype: int64"
            ]
          },
          "metadata": {
            "tags": []
          },
          "execution_count": 6
        }
      ]
    },
    {
      "cell_type": "markdown",
      "metadata": {
        "id": "FjSksI0TpY6Z"
      },
      "source": [
        "*__Pregunta:__* ¿Qué tipo de dato estructurado tenemos en la serie `encuesta`?"
      ]
    },
    {
      "cell_type": "markdown",
      "metadata": {
        "id": "-8y-6grWqkgx"
      },
      "source": [
        "* Categórica binaria"
      ]
    }
  ]
}