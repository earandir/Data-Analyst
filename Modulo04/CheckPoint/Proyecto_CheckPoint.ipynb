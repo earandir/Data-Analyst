{
  "nbformat": 4,
  "nbformat_minor": 0,
  "metadata": {
    "kernelspec": {
      "display_name": "Python 3",
      "language": "python",
      "name": "python3"
    },
    "language_info": {
      "codemirror_mode": {
        "name": "ipython",
        "version": 3
      },
      "file_extension": ".py",
      "mimetype": "text/x-python",
      "name": "python",
      "nbconvert_exporter": "python",
      "pygments_lexer": "ipython3",
      "version": "3.7.4"
    },
    "colab": {
      "name": "Copia de M03 Proyecto CheckPoint.ipynb",
      "provenance": [],
      "collapsed_sections": [],
      "include_colab_link": true
    }
  },
  "cells": [
    {
      "cell_type": "markdown",
      "metadata": {
        "id": "view-in-github",
        "colab_type": "text"
      },
      "source": [
        "<a href=\"https://colab.research.google.com/github/earandir/DataAnalysis/blob/main/Modulo04/CheckPoint/Proyecto_CheckPoint.ipynb\" target=\"_parent\"><img src=\"https://colab.research.google.com/assets/colab-badge.svg\" alt=\"Open In Colab\"/></a>"
      ]
    },
    {
      "cell_type": "markdown",
      "metadata": {
        "id": "yfeB3wgvDBuU"
      },
      "source": [
        "#Módulo 04 - Proyecto CheckPoint\n",
        "\n",
        "## Análisis de atención y soporte en Mesa de Ayuda\n",
        "\n",
        "## 1. Objetivos:\n",
        "* Obtener las órdenes de trabajo desde una base de datos\n",
        "* Obtener la información de los agentes encargados\n",
        "* Unir ambas tablas para obtener inforamción completa\n",
        "* Analizar y transformar a Dataframes\n",
        "* Verificar que los datos sean del tipo correcto\n",
        "* Transformar las fechas en diferentes formatos para análisis\n",
        "* Análisis exploratorio de los datos\n",
        "* Gráficas de resultados"
      ]
    },
    {
      "cell_type": "markdown",
      "metadata": {
        "id": "xRIm4ZUXs9Ze"
      },
      "source": [
        "## 2. Desarrollo:"
      ]
    },
    {
      "cell_type": "markdown",
      "metadata": {
        "id": "Oxw93IJKtpNE"
      },
      "source": [
        "#### Importación de bibliotecas utilizadas"
      ]
    },
    {
      "cell_type": "code",
      "metadata": {
        "id": "0QvOk7Q1DbvV"
      },
      "source": [
        "import pandas as pd\n",
        "import datetime\n",
        "import matplotlib.pyplot as plt\n",
        "import seaborn as sns\n"
      ],
      "execution_count": 1,
      "outputs": []
    },
    {
      "cell_type": "markdown",
      "metadata": {
        "id": "soXbF6_8DBuW"
      },
      "source": [
        "### a) Obtener órdenes de trabajo:\n",
        "\n",
        "Para iniciar el proyecto, es necesario leer la información de la órdenes. Esta inofrmación se encuentra en dos archivos:\n",
        "\n",
        "\n",
        "*   Es necesario leer el encabezado de las solicitudes con el archivo: solicitudes.csv\n",
        "*   El detalle del trabajo realizado en cada una de las solicitudes se encuentra en el archivo: solicitudesdetalle.csv\n",
        "\n",
        "Después se necesario unir ambos registros para tener la información completa.\n",
        "\n"
      ]
    },
    {
      "cell_type": "code",
      "metadata": {
        "id": "bTBva7soDeKx"
      },
      "source": [
        "solicitudes = pd.read_csv('https://raw.githubusercontent.com/earandir/DataAnalysis/main/Modulo04/CheckPoint/solicitudes.csv', index_col=0)\n",
        "\n",
        "solicitudes_detalle = pd.read_csv('https://raw.githubusercontent.com/earandir/DataAnalysis/main/Modulo04/CheckPoint/solicitudes_detalle.csv', index_col=0)"
      ],
      "execution_count": 2,
      "outputs": []
    },
    {
      "cell_type": "code",
      "metadata": {
        "colab": {
          "base_uri": "https://localhost:8080/",
          "height": 165
        },
        "id": "xzm0h3qky942",
        "outputId": "86cae9f1-b709-4686-b40b-533541c805b6"
      },
      "source": [
        "pd.merge(solicitudes, solicitudes_detalle, left_on='idSolicitud', right_index=True)"
      ],
      "execution_count": 3,
      "outputs": [
        {
          "output_type": "execute_result",
          "data": {
            "text/html": [
              "<div>\n",
              "<style scoped>\n",
              "    .dataframe tbody tr th:only-of-type {\n",
              "        vertical-align: middle;\n",
              "    }\n",
              "\n",
              "    .dataframe tbody tr th {\n",
              "        vertical-align: top;\n",
              "    }\n",
              "\n",
              "    .dataframe thead th {\n",
              "        text-align: right;\n",
              "    }\n",
              "</style>\n",
              "<table border=\"1\" class=\"dataframe\">\n",
              "  <thead>\n",
              "    <tr style=\"text-align: right;\">\n",
              "      <th></th>\n",
              "      <th>idAgente_x</th>\n",
              "      <th>idUsuario</th>\n",
              "      <th>FechaCreacion_x</th>\n",
              "      <th>FechaResolucion</th>\n",
              "      <th>Categoria</th>\n",
              "      <th>SubCategoria</th>\n",
              "      <th>idModo</th>\n",
              "      <th>idModulo</th>\n",
              "      <th>ValorEncuesta</th>\n",
              "      <th>idSolicitud</th>\n",
              "      <th>idTipodeTrabajo</th>\n",
              "      <th>idAgente_y</th>\n",
              "      <th>FechaCreacion_y</th>\n",
              "      <th>FechaInicio</th>\n",
              "      <th>FechaFin</th>\n",
              "      <th>TiempoTranscurrido</th>\n",
              "      <th>TarifaAgente</th>\n",
              "      <th>CostoTrabajo</th>\n",
              "    </tr>\n",
              "    <tr>\n",
              "      <th>idSolicitud</th>\n",
              "      <th></th>\n",
              "      <th></th>\n",
              "      <th></th>\n",
              "      <th></th>\n",
              "      <th></th>\n",
              "      <th></th>\n",
              "      <th></th>\n",
              "      <th></th>\n",
              "      <th></th>\n",
              "      <th></th>\n",
              "      <th></th>\n",
              "      <th></th>\n",
              "      <th></th>\n",
              "      <th></th>\n",
              "      <th></th>\n",
              "      <th></th>\n",
              "      <th></th>\n",
              "      <th></th>\n",
              "    </tr>\n",
              "  </thead>\n",
              "  <tbody>\n",
              "    <tr>\n",
              "      <th>15762</th>\n",
              "      <td>694</td>\n",
              "      <td>616</td>\n",
              "      <td>2018-09-19 05:23:43</td>\n",
              "      <td>NaN</td>\n",
              "      <td>Soporte Externo</td>\n",
              "      <td>Error</td>\n",
              "      <td>10</td>\n",
              "      <td>66</td>\n",
              "      <td>0</td>\n",
              "      <td>23941</td>\n",
              "      <td>352</td>\n",
              "      <td>64</td>\n",
              "      <td>2021-04-05 04:32:01</td>\n",
              "      <td>2021-03-24 22:38:00</td>\n",
              "      <td>2021-03-25 00:19:00</td>\n",
              "      <td>6060</td>\n",
              "      <td>262</td>\n",
              "      <td>22</td>\n",
              "    </tr>\n",
              "  </tbody>\n",
              "</table>\n",
              "</div>"
            ],
            "text/plain": [
              "             idAgente_x  idUsuario  ... TarifaAgente  CostoTrabajo\n",
              "idSolicitud                         ...                           \n",
              "15762               694        616  ...          262            22\n",
              "\n",
              "[1 rows x 18 columns]"
            ]
          },
          "metadata": {},
          "execution_count": 3
        }
      ]
    },
    {
      "cell_type": "markdown",
      "metadata": {
        "id": "FGMXKvrm0Bjz"
      },
      "source": [
        "Además de las solicitudes, faltaría agregar la información de los usuarios, los agentes, módulos y tipos de trabajo.\n",
        "\n",
        "Pero en la base de datos encontramos un procedimiento que nos hace la unión de toda la información necesaria, así que vamos a usar esta vista para simplificar el proceso y no tener que unir todas las tablas."
      ]
    },
    {
      "cell_type": "code",
      "metadata": {
        "id": "TJBAMU8SDiy0",
        "colab": {
          "base_uri": "https://localhost:8080/",
          "height": 275
        },
        "outputId": "0c0b5c15-ee91-4f4f-8206-7094ff6f8a55"
      },
      "source": [
        "registros = pd.read_csv('https://raw.githubusercontent.com/earandir/DataAnalysis/main/Modulo04/CheckPoint/registrosmesaservicio.csv', index_col=0)\n",
        "\n",
        "registros.head(3)"
      ],
      "execution_count": 4,
      "outputs": [
        {
          "output_type": "execute_result",
          "data": {
            "text/html": [
              "<div>\n",
              "<style scoped>\n",
              "    .dataframe tbody tr th:only-of-type {\n",
              "        vertical-align: middle;\n",
              "    }\n",
              "\n",
              "    .dataframe tbody tr th {\n",
              "        vertical-align: top;\n",
              "    }\n",
              "\n",
              "    .dataframe thead th {\n",
              "        text-align: right;\n",
              "    }\n",
              "</style>\n",
              "<table border=\"1\" class=\"dataframe\">\n",
              "  <thead>\n",
              "    <tr style=\"text-align: right;\">\n",
              "      <th></th>\n",
              "      <th>Solicitante</th>\n",
              "      <th>Modo</th>\n",
              "      <th>FechaCreacionSolicitud</th>\n",
              "      <th>Modulo</th>\n",
              "      <th>Agente</th>\n",
              "      <th>Categoria</th>\n",
              "      <th>SubCategoria</th>\n",
              "      <th>ValorEncuesta</th>\n",
              "      <th>AgenteTrabajo</th>\n",
              "      <th>Trabajo</th>\n",
              "      <th>FechaCreacionTrabajo</th>\n",
              "      <th>FechaInicio</th>\n",
              "      <th>FechaFin</th>\n",
              "      <th>TiempoTranscurrido</th>\n",
              "      <th>TarifaAgente</th>\n",
              "      <th>CostoTrabajo</th>\n",
              "    </tr>\n",
              "    <tr>\n",
              "      <th>idSolicitud</th>\n",
              "      <th></th>\n",
              "      <th></th>\n",
              "      <th></th>\n",
              "      <th></th>\n",
              "      <th></th>\n",
              "      <th></th>\n",
              "      <th></th>\n",
              "      <th></th>\n",
              "      <th></th>\n",
              "      <th></th>\n",
              "      <th></th>\n",
              "      <th></th>\n",
              "      <th></th>\n",
              "      <th></th>\n",
              "      <th></th>\n",
              "      <th></th>\n",
              "    </tr>\n",
              "  </thead>\n",
              "  <tbody>\n",
              "    <tr>\n",
              "      <th>17804</th>\n",
              "      <td>Jaime</td>\n",
              "      <td>Web</td>\n",
              "      <td>2019-11-30 04:48:30</td>\n",
              "      <td>Zinc e-commerce</td>\n",
              "      <td>Sonia</td>\n",
              "      <td>Soporte Externo</td>\n",
              "      <td>Error</td>\n",
              "      <td>0</td>\n",
              "      <td>Sonia</td>\n",
              "      <td>Not Assigned</td>\n",
              "      <td>2020-01-02 17:50:30</td>\n",
              "      <td>2020-01-02 09:33:00</td>\n",
              "      <td>2020-01-02 09:40:00</td>\n",
              "      <td>420</td>\n",
              "      <td>242</td>\n",
              "      <td>21</td>\n",
              "    </tr>\n",
              "    <tr>\n",
              "      <th>17908</th>\n",
              "      <td>KENIA</td>\n",
              "      <td>Llamada</td>\n",
              "      <td>2020-01-03 01:17:50</td>\n",
              "      <td>Nomina</td>\n",
              "      <td>Sonia</td>\n",
              "      <td>Soporte Externo</td>\n",
              "      <td>Consulta</td>\n",
              "      <td>0</td>\n",
              "      <td>Sonia</td>\n",
              "      <td>Not Assigned</td>\n",
              "      <td>2020-01-02 19:23:02</td>\n",
              "      <td>2020-01-02 13:00:00</td>\n",
              "      <td>2020-01-02 13:24:00</td>\n",
              "      <td>1440</td>\n",
              "      <td>242</td>\n",
              "      <td>21</td>\n",
              "    </tr>\n",
              "    <tr>\n",
              "      <th>17909</th>\n",
              "      <td>David</td>\n",
              "      <td>Llamada</td>\n",
              "      <td>2020-01-03 01:50:12</td>\n",
              "      <td>Nomina</td>\n",
              "      <td>Sonia</td>\n",
              "      <td>Soporte Externo</td>\n",
              "      <td>Consulta</td>\n",
              "      <td>0</td>\n",
              "      <td>Sonia</td>\n",
              "      <td>Not Assigned</td>\n",
              "      <td>2020-01-02 19:53:51</td>\n",
              "      <td>2020-01-02 13:34:00</td>\n",
              "      <td>2020-01-02 13:54:00</td>\n",
              "      <td>1200</td>\n",
              "      <td>242</td>\n",
              "      <td>21</td>\n",
              "    </tr>\n",
              "  </tbody>\n",
              "</table>\n",
              "</div>"
            ],
            "text/plain": [
              "            Solicitante     Modo  ... TarifaAgente CostoTrabajo\n",
              "idSolicitud                       ...                          \n",
              "17804             Jaime      Web  ...          242           21\n",
              "17908             KENIA  Llamada  ...          242           21\n",
              "17909             David  Llamada  ...          242           21\n",
              "\n",
              "[3 rows x 16 columns]"
            ]
          },
          "metadata": {},
          "execution_count": 4
        }
      ]
    },
    {
      "cell_type": "markdown",
      "metadata": {
        "id": "uwSdRc0zz1gh"
      },
      "source": [
        "### b) Revisión de datos y conversión de tipos:\n",
        "Al revisar los datos del DataFrame, encontramos las fechas registradas como tipo \"Objeto\", por lo que hacemos la conversión al tipo \"datetime\" para poder realizar operaciones con las fechas."
      ]
    },
    {
      "cell_type": "code",
      "metadata": {
        "id": "9tVibemWERlJ",
        "colab": {
          "base_uri": "https://localhost:8080/"
        },
        "outputId": "34791b06-20ad-41ff-b13d-65105de3d4a1"
      },
      "source": [
        "registros.dtypes"
      ],
      "execution_count": 5,
      "outputs": [
        {
          "output_type": "execute_result",
          "data": {
            "text/plain": [
              "Solicitante               object\n",
              "Modo                      object\n",
              "FechaCreacionSolicitud    object\n",
              "Modulo                    object\n",
              "Agente                    object\n",
              "Categoria                 object\n",
              "SubCategoria              object\n",
              "ValorEncuesta              int64\n",
              "AgenteTrabajo             object\n",
              "Trabajo                   object\n",
              "FechaCreacionTrabajo      object\n",
              "FechaInicio               object\n",
              "FechaFin                  object\n",
              "TiempoTranscurrido         int64\n",
              "TarifaAgente               int64\n",
              "CostoTrabajo               int64\n",
              "dtype: object"
            ]
          },
          "metadata": {},
          "execution_count": 5
        }
      ]
    },
    {
      "cell_type": "code",
      "metadata": {
        "id": "GB-FuIZUFiJW",
        "colab": {
          "base_uri": "https://localhost:8080/"
        },
        "outputId": "d132f8df-5e7d-4103-9af8-f1d043e1c8d5"
      },
      "source": [
        "dates_dict = {'FechaCreacionSolicitud':'datetime64[ns]' \\\n",
        "              , 'FechaCreacionTrabajo': 'datetime64[ns]' \\\n",
        "              , 'FechaInicio': 'datetime64[ns]' \\\n",
        "              , 'FechaFin': 'datetime64[ns]'}\n",
        "registros = registros.astype(dates_dict)     \n",
        "\n",
        "registros.dtypes"
      ],
      "execution_count": 6,
      "outputs": [
        {
          "output_type": "execute_result",
          "data": {
            "text/plain": [
              "Solicitante                       object\n",
              "Modo                              object\n",
              "FechaCreacionSolicitud    datetime64[ns]\n",
              "Modulo                            object\n",
              "Agente                            object\n",
              "Categoria                         object\n",
              "SubCategoria                      object\n",
              "ValorEncuesta                      int64\n",
              "AgenteTrabajo                     object\n",
              "Trabajo                           object\n",
              "FechaCreacionTrabajo      datetime64[ns]\n",
              "FechaInicio               datetime64[ns]\n",
              "FechaFin                  datetime64[ns]\n",
              "TiempoTranscurrido                 int64\n",
              "TarifaAgente                       int64\n",
              "CostoTrabajo                       int64\n",
              "dtype: object"
            ]
          },
          "metadata": {},
          "execution_count": 6
        }
      ]
    },
    {
      "cell_type": "markdown",
      "metadata": {
        "id": "UbRph8sF3vkf"
      },
      "source": [
        ""
      ]
    },
    {
      "cell_type": "markdown",
      "metadata": {
        "id": "GGIEfV-9DBuX"
      },
      "source": [
        "### c) Análisis Exploratorio de datos:\n",
        "\n",
        "Una vez que contamos con la información completa, es momento de empezar a resolver dudas en relación a estos datos."
      ]
    },
    {
      "cell_type": "markdown",
      "metadata": {
        "id": "_OJDEsmb3R7S"
      },
      "source": [
        "####1) ¿De qué módulos piden ayuda?\n",
        "\n",
        "Para responder esta pregunta, es necesario agrupar por módulo todas las solicitudes y agregar la columna con el conteo de registros, dejando los 10 módulos que  más tienen registros."
      ]
    },
    {
      "cell_type": "code",
      "metadata": {
        "id": "32RLgMlU3wgI"
      },
      "source": [
        "top_modulos = registros.groupby('Modulo') \\\n",
        "  .agg(conteo=('Modulo', 'size')) \\\n",
        "  .reset_index()\n",
        "\n",
        "top_modulos = top_modulos.sort_values('conteo', ascending=False)\n",
        "\n",
        "top_modulos = top_modulos[:5]\n"
      ],
      "execution_count": 7,
      "outputs": []
    },
    {
      "cell_type": "code",
      "metadata": {
        "colab": {
          "base_uri": "https://localhost:8080/",
          "height": 343
        },
        "id": "27vVDwyJ1vAy",
        "outputId": "6b1c6f4a-0e3f-40fa-a8a1-47cf201c3b57"
      },
      "source": [
        "ax = sns.barplot(y= top_modulos['conteo'], x = top_modulos['Modulo'], data = top_modulos, palette=('autumn'))\n",
        "ax.set_title('Tickets por módulo')\n",
        "ax.set_ylabel('Tickets')\n",
        "ax.tick_params(axis='x', rotation=30)\n",
        "sns.set_context('notebook')"
      ],
      "execution_count": 8,
      "outputs": [
        {
          "output_type": "display_data",
          "data": {
            "image/png": "[encoded data removed]",
            "text/plain": [
              "<Figure size 432x288 with 1 Axes>"
            ]
          },
          "metadata": {
            "needs_background": "light"
          }
        }
      ]
    },
    {
      "cell_type": "markdown",
      "metadata": {
        "id": "laIINBX08LM9"
      },
      "source": [
        "####2) ¿De qué forma contactan al equipo de soporte?\n",
        "\n",
        "Esta pregunta se puede responder de una manera muy similar a la pregunta anterior, utilizando el campo del modo de contacto."
      ]
    },
    {
      "cell_type": "code",
      "metadata": {
        "id": "HFu117qB86Xr"
      },
      "source": [
        "modos = registros.groupby('Modo') \\\n",
        "  .agg(conteo=('Modo', 'size')) \\\n",
        "  .reset_index()\n",
        "\n",
        "modos = modos.sort_values('conteo', ascending=False)\n",
        "\n",
        "top_modos = modos[:5]\n"
      ],
      "execution_count": 9,
      "outputs": []
    },
    {
      "cell_type": "code",
      "metadata": {
        "colab": {
          "base_uri": "https://localhost:8080/",
          "height": 301
        },
        "id": "uHtR34iU0x5G",
        "outputId": "45ee1800-91d0-4f8b-f223-4a3f85a96109"
      },
      "source": [
        "ax = sns.barplot(y= top_modos['conteo'], x = top_modos['Modo'], data = top_modos, palette=('Blues_r'))\n",
        "ax.set_title('Tickets por modo de contacto')\n",
        "ax.set_ylabel('Tickets')\n",
        "sns.set_context('notebook')"
      ],
      "execution_count": 10,
      "outputs": [
        {
          "output_type": "display_data",
          "data": {
            "image/png": "[encoded data removed]",
            "text/plain": [
              "<Figure size 432x288 with 1 Axes>"
            ]
          },
          "metadata": {
            "needs_background": "light"
          }
        }
      ]
    },
    {
      "cell_type": "code",
      "metadata": {
        "id": "vEA-XHwK9_QZ"
      },
      "source": [
        ""
      ],
      "execution_count": 10,
      "outputs": []
    },
    {
      "cell_type": "markdown",
      "metadata": {
        "id": "tRAYjUbd9PUC"
      },
      "source": [
        "####3) ¿Quién es la persona a la que más tiempo se le ha invertido?\n",
        "\n",
        "En este caso, es necesario analizar los registros por usuario y sumar el tiempo invertido en cada una de las tareas que se hayan realizdo en sus casos de soporte técnico."
      ]
    },
    {
      "cell_type": "code",
      "metadata": {
        "id": "L8lL1y4m9PUD"
      },
      "source": [
        "soporte_externo = registros.loc[registros['Categoria'] == 'Soporte Externo']\n",
        "\n",
        "tiempo_usuario = soporte_externo.groupby('Solicitante') \\\n",
        "  .agg(tiempo_invertido=('TiempoTranscurrido', 'sum')) \\\n",
        "  .reset_index()\n",
        "\n",
        "tiempo_usuario = tiempo_usuario.sort_values('tiempo_invertido', ascending=False)\n",
        "\n",
        "tiempo_usuario['tiempo_invertido'] = tiempo_usuario['tiempo_invertido'] // 86400\n",
        "\n",
        "top_usuarios = tiempo_usuario[:5]\n"
      ],
      "execution_count": 11,
      "outputs": []
    },
    {
      "cell_type": "code",
      "metadata": {
        "colab": {
          "base_uri": "https://localhost:8080/",
          "height": 324
        },
        "id": "ivCNMm9z9VuY",
        "outputId": "477e1f95-b897-47a8-989a-ce7668c73ffe"
      },
      "source": [
        "ax = sns.barplot(y= top_usuarios['tiempo_invertido'], x = top_usuarios['Solicitante'], data = top_usuarios, palette=('magma'))\n",
        "ax.set_title('Días invertidos por Solicitante')\n",
        "ax.set_ylabel('Días')\n",
        "ax.tick_params(axis='x', rotation=30)\n",
        "sns.set_context('notebook')"
      ],
      "execution_count": 12,
      "outputs": [
        {
          "output_type": "display_data",
          "data": {
            "image/png": "[encoded data removed]",
            "text/plain": [
              "<Figure size 432x288 with 1 Axes>"
            ]
          },
          "metadata": {
            "needs_background": "light"
          }
        }
      ]
    },
    {
      "cell_type": "markdown",
      "metadata": {
        "id": "QBmhOtjmBvkB"
      },
      "source": [
        "####4) ¿Cuantos casos se han recibido en cada mes del año?\n",
        "\n",
        "Para responder esta pregunta, se requiere transformar el campo de la fecha para obtener el mes que le corresponde para poder sumar los casos por cada uno de los meses."
      ]
    },
    {
      "cell_type": "code",
      "metadata": {
        "id": "Yvg1pKjR3Lzm"
      },
      "source": [
        "months = [\"January\", \"February\", \"March\", \"April\", \"May\", \"June\", \n",
        "          \"July\", \"August\", \"September\", \"October\", \"November\", \"December\"]"
      ],
      "execution_count": 13,
      "outputs": []
    },
    {
      "cell_type": "code",
      "metadata": {
        "colab": {
          "base_uri": "https://localhost:8080/"
        },
        "id": "UhZDoX5IBvkB",
        "outputId": "7c522466-abe0-4bc5-f8f7-b7e1f84af899"
      },
      "source": [
        "soporte_externo = registros.loc[registros['Categoria'] == 'Soporte Externo']\n",
        "soporte_externo['MesCreacion'] = soporte_externo['FechaCreacionSolicitud'].apply(lambda x: x.strftime('%B'))\n",
        "soporte_externo['MesCreacion'] = pd.Categorical(soporte_externo['MesCreacion'], categories=months, ordered=True)\n",
        "soporte_externo['YearCreacion'] = soporte_externo['FechaCreacionSolicitud'].apply(lambda x: x.strftime('%Y'))\n",
        "\n",
        "soporte_grouped = soporte_externo.groupby(['YearCreacion','MesCreacion']) \\\n",
        "  .agg(conteo=('FechaCreacionSolicitud', 'size')) \\\n",
        "  .reset_index()\n",
        "\n"
      ],
      "execution_count": 14,
      "outputs": [
        {
          "output_type": "stream",
          "text": [
            "/usr/local/lib/python3.7/dist-packages/ipykernel_launcher.py:2: SettingWithCopyWarning: \n",
            "A value is trying to be set on a copy of a slice from a DataFrame.\n",
            "Try using .loc[row_indexer,col_indexer] = value instead\n",
            "\n",
            "See the caveats in the documentation: https://pandas.pydata.org/pandas-docs/stable/user_guide/indexing.html#returning-a-view-versus-a-copy\n",
            "  \n",
            "/usr/local/lib/python3.7/dist-packages/ipykernel_launcher.py:3: SettingWithCopyWarning: \n",
            "A value is trying to be set on a copy of a slice from a DataFrame.\n",
            "Try using .loc[row_indexer,col_indexer] = value instead\n",
            "\n",
            "See the caveats in the documentation: https://pandas.pydata.org/pandas-docs/stable/user_guide/indexing.html#returning-a-view-versus-a-copy\n",
            "  This is separate from the ipykernel package so we can avoid doing imports until\n",
            "/usr/local/lib/python3.7/dist-packages/ipykernel_launcher.py:4: SettingWithCopyWarning: \n",
            "A value is trying to be set on a copy of a slice from a DataFrame.\n",
            "Try using .loc[row_indexer,col_indexer] = value instead\n",
            "\n",
            "See the caveats in the documentation: https://pandas.pydata.org/pandas-docs/stable/user_guide/indexing.html#returning-a-view-versus-a-copy\n",
            "  after removing the cwd from sys.path.\n"
          ],
          "name": "stderr"
        }
      ]
    },
    {
      "cell_type": "markdown",
      "metadata": {
        "id": "bO1Hucg-zYFs"
      },
      "source": [
        "¿Cuántos tickets se reciben en promedio al mes al año pasado?"
      ]
    },
    {
      "cell_type": "code",
      "metadata": {
        "colab": {
          "base_uri": "https://localhost:8080/"
        },
        "id": "PQOmMXKM0xHV",
        "outputId": "db2425df-da69-4bc1-c57d-a1096c8d6f8b"
      },
      "source": [
        "mean = soporte_grouped.loc[soporte_grouped['YearCreacion'] == '2020']['conteo'].mean()\n",
        "\n",
        "print(f'El promedio de tickets por mes el año pasado fue de: {round(mean, ndigits=2)}') "
      ],
      "execution_count": 15,
      "outputs": [
        {
          "output_type": "stream",
          "text": [
            "El promedio de tickets por mes el año pasado fue de: 412.83\n"
          ],
          "name": "stdout"
        }
      ]
    },
    {
      "cell_type": "code",
      "metadata": {
        "colab": {
          "base_uri": "https://localhost:8080/"
        },
        "id": "5jYX8r0S9Fg0",
        "outputId": "30fa9817-235f-4ffc-a996-4596000a69da"
      },
      "source": [
        "maxmes = soporte_grouped.iloc[ soporte_grouped.loc[soporte_grouped['YearCreacion'] == '2020']['conteo'].idxmax() , ]['MesCreacion']\n",
        "maxtickets = soporte_grouped.iloc[ soporte_grouped.loc[soporte_grouped['YearCreacion'] == '2020']['conteo'].idxmax() , ]['conteo']\n",
        "\n",
        "print(f'El més con más trabajo fue: {maxmes}, con {maxtickets} tickets.')"
      ],
      "execution_count": 16,
      "outputs": [
        {
          "output_type": "stream",
          "text": [
            "El més con más trabajo fue: June, con 488 tickets.\n"
          ],
          "name": "stdout"
        }
      ]
    },
    {
      "cell_type": "code",
      "metadata": {
        "colab": {
          "base_uri": "https://localhost:8080/",
          "height": 297
        },
        "id": "FbCwwgok0lU6",
        "outputId": "f9032ece-ab2f-47c0-86fe-707c7cad304f"
      },
      "source": [
        "soporte_grouped.describe()"
      ],
      "execution_count": 17,
      "outputs": [
        {
          "output_type": "execute_result",
          "data": {
            "text/html": [
              "<div>\n",
              "<style scoped>\n",
              "    .dataframe tbody tr th:only-of-type {\n",
              "        vertical-align: middle;\n",
              "    }\n",
              "\n",
              "    .dataframe tbody tr th {\n",
              "        vertical-align: top;\n",
              "    }\n",
              "\n",
              "    .dataframe thead th {\n",
              "        text-align: right;\n",
              "    }\n",
              "</style>\n",
              "<table border=\"1\" class=\"dataframe\">\n",
              "  <thead>\n",
              "    <tr style=\"text-align: right;\">\n",
              "      <th></th>\n",
              "      <th>conteo</th>\n",
              "    </tr>\n",
              "  </thead>\n",
              "  <tbody>\n",
              "    <tr>\n",
              "      <th>count</th>\n",
              "      <td>48.000000</td>\n",
              "    </tr>\n",
              "    <tr>\n",
              "      <th>mean</th>\n",
              "      <td>149.458333</td>\n",
              "    </tr>\n",
              "    <tr>\n",
              "      <th>std</th>\n",
              "      <td>217.483671</td>\n",
              "    </tr>\n",
              "    <tr>\n",
              "      <th>min</th>\n",
              "      <td>0.000000</td>\n",
              "    </tr>\n",
              "    <tr>\n",
              "      <th>25%</th>\n",
              "      <td>0.000000</td>\n",
              "    </tr>\n",
              "    <tr>\n",
              "      <th>50%</th>\n",
              "      <td>0.000000</td>\n",
              "    </tr>\n",
              "    <tr>\n",
              "      <th>75%</th>\n",
              "      <td>397.000000</td>\n",
              "    </tr>\n",
              "    <tr>\n",
              "      <th>max</th>\n",
              "      <td>644.000000</td>\n",
              "    </tr>\n",
              "  </tbody>\n",
              "</table>\n",
              "</div>"
            ],
            "text/plain": [
              "           conteo\n",
              "count   48.000000\n",
              "mean   149.458333\n",
              "std    217.483671\n",
              "min      0.000000\n",
              "25%      0.000000\n",
              "50%      0.000000\n",
              "75%    397.000000\n",
              "max    644.000000"
            ]
          },
          "metadata": {},
          "execution_count": 17
        }
      ]
    },
    {
      "cell_type": "code",
      "metadata": {
        "colab": {
          "base_uri": "https://localhost:8080/",
          "height": 330
        },
        "id": "Crqy_He36JQV",
        "outputId": "995b69a3-5909-4b89-e34d-e2ebda608c8b"
      },
      "source": [
        "ax = sns.lineplot(data=soporte_grouped[(soporte_grouped['YearCreacion'] == '2020') | (soporte_grouped['YearCreacion'] == '2021')], x='MesCreacion', y='conteo', hue=\"YearCreacion\")\n",
        "ax.set_title('Tickets Recibidos por Mes')\n",
        "ax.set_ylabel('Mes')\n",
        "ax.tick_params(axis='x', rotation=30)\n",
        "sns.set_context('notebook')\n"
      ],
      "execution_count": 18,
      "outputs": [
        {
          "output_type": "display_data",
          "data": {
            "image/png": "[encoded data removed]",
            "text/plain": [
              "<Figure size 432x288 with 1 Axes>"
            ]
          },
          "metadata": {
            "needs_background": "light"
          }
        }
      ]
    },
    {
      "cell_type": "markdown",
      "metadata": {
        "id": "RrTzMtbEPLq6"
      },
      "source": [
        "anaálisis exploratorio de datos\n",
        "tiempo invertido\n",
        "tikets recibidos\n",
        "\n"
      ]
    },
    {
      "cell_type": "code",
      "metadata": {
        "colab": {
          "base_uri": "https://localhost:8080/",
          "height": 425
        },
        "id": "CZUhmCnvFDPc",
        "outputId": "1eb0b874-7a01-40f1-fc59-dc17eb10a6a9"
      },
      "source": [
        "soporte_externo.head()"
      ],
      "execution_count": 19,
      "outputs": [
        {
          "output_type": "execute_result",
          "data": {
            "text/html": [
              "<div>\n",
              "<style scoped>\n",
              "    .dataframe tbody tr th:only-of-type {\n",
              "        vertical-align: middle;\n",
              "    }\n",
              "\n",
              "    .dataframe tbody tr th {\n",
              "        vertical-align: top;\n",
              "    }\n",
              "\n",
              "    .dataframe thead th {\n",
              "        text-align: right;\n",
              "    }\n",
              "</style>\n",
              "<table border=\"1\" class=\"dataframe\">\n",
              "  <thead>\n",
              "    <tr style=\"text-align: right;\">\n",
              "      <th></th>\n",
              "      <th>Solicitante</th>\n",
              "      <th>Modo</th>\n",
              "      <th>FechaCreacionSolicitud</th>\n",
              "      <th>Modulo</th>\n",
              "      <th>Agente</th>\n",
              "      <th>Categoria</th>\n",
              "      <th>SubCategoria</th>\n",
              "      <th>ValorEncuesta</th>\n",
              "      <th>AgenteTrabajo</th>\n",
              "      <th>Trabajo</th>\n",
              "      <th>FechaCreacionTrabajo</th>\n",
              "      <th>FechaInicio</th>\n",
              "      <th>FechaFin</th>\n",
              "      <th>TiempoTranscurrido</th>\n",
              "      <th>TarifaAgente</th>\n",
              "      <th>CostoTrabajo</th>\n",
              "      <th>MesCreacion</th>\n",
              "      <th>YearCreacion</th>\n",
              "    </tr>\n",
              "    <tr>\n",
              "      <th>idSolicitud</th>\n",
              "      <th></th>\n",
              "      <th></th>\n",
              "      <th></th>\n",
              "      <th></th>\n",
              "      <th></th>\n",
              "      <th></th>\n",
              "      <th></th>\n",
              "      <th></th>\n",
              "      <th></th>\n",
              "      <th></th>\n",
              "      <th></th>\n",
              "      <th></th>\n",
              "      <th></th>\n",
              "      <th></th>\n",
              "      <th></th>\n",
              "      <th></th>\n",
              "      <th></th>\n",
              "      <th></th>\n",
              "    </tr>\n",
              "  </thead>\n",
              "  <tbody>\n",
              "    <tr>\n",
              "      <th>17804</th>\n",
              "      <td>Jaime</td>\n",
              "      <td>Web</td>\n",
              "      <td>2019-11-30 04:48:30</td>\n",
              "      <td>Zinc e-commerce</td>\n",
              "      <td>Sonia</td>\n",
              "      <td>Soporte Externo</td>\n",
              "      <td>Error</td>\n",
              "      <td>0</td>\n",
              "      <td>Sonia</td>\n",
              "      <td>Not Assigned</td>\n",
              "      <td>2020-01-02 17:50:30</td>\n",
              "      <td>2020-01-02 09:33:00</td>\n",
              "      <td>2020-01-02 09:40:00</td>\n",
              "      <td>420</td>\n",
              "      <td>242</td>\n",
              "      <td>21</td>\n",
              "      <td>November</td>\n",
              "      <td>2019</td>\n",
              "    </tr>\n",
              "    <tr>\n",
              "      <th>17908</th>\n",
              "      <td>KENIA</td>\n",
              "      <td>Llamada</td>\n",
              "      <td>2020-01-03 01:17:50</td>\n",
              "      <td>Nomina</td>\n",
              "      <td>Sonia</td>\n",
              "      <td>Soporte Externo</td>\n",
              "      <td>Consulta</td>\n",
              "      <td>0</td>\n",
              "      <td>Sonia</td>\n",
              "      <td>Not Assigned</td>\n",
              "      <td>2020-01-02 19:23:02</td>\n",
              "      <td>2020-01-02 13:00:00</td>\n",
              "      <td>2020-01-02 13:24:00</td>\n",
              "      <td>1440</td>\n",
              "      <td>242</td>\n",
              "      <td>21</td>\n",
              "      <td>January</td>\n",
              "      <td>2020</td>\n",
              "    </tr>\n",
              "    <tr>\n",
              "      <th>17909</th>\n",
              "      <td>David</td>\n",
              "      <td>Llamada</td>\n",
              "      <td>2020-01-03 01:50:12</td>\n",
              "      <td>Nomina</td>\n",
              "      <td>Sonia</td>\n",
              "      <td>Soporte Externo</td>\n",
              "      <td>Consulta</td>\n",
              "      <td>0</td>\n",
              "      <td>Sonia</td>\n",
              "      <td>Not Assigned</td>\n",
              "      <td>2020-01-02 19:53:51</td>\n",
              "      <td>2020-01-02 13:34:00</td>\n",
              "      <td>2020-01-02 13:54:00</td>\n",
              "      <td>1200</td>\n",
              "      <td>242</td>\n",
              "      <td>21</td>\n",
              "      <td>January</td>\n",
              "      <td>2020</td>\n",
              "    </tr>\n",
              "    <tr>\n",
              "      <th>17907</th>\n",
              "      <td>Claudia</td>\n",
              "      <td>Llamada</td>\n",
              "      <td>2020-01-03 00:24:50</td>\n",
              "      <td>Nomina</td>\n",
              "      <td>Sonia</td>\n",
              "      <td>Soporte Externo</td>\n",
              "      <td>Consulta</td>\n",
              "      <td>0</td>\n",
              "      <td>Sonia</td>\n",
              "      <td>Not Assigned</td>\n",
              "      <td>2020-01-02 19:55:49</td>\n",
              "      <td>2020-01-02 12:17:00</td>\n",
              "      <td>2020-01-02 12:35:00</td>\n",
              "      <td>1080</td>\n",
              "      <td>242</td>\n",
              "      <td>21</td>\n",
              "      <td>January</td>\n",
              "      <td>2020</td>\n",
              "    </tr>\n",
              "    <tr>\n",
              "      <th>17911</th>\n",
              "      <td>Victor</td>\n",
              "      <td>Llamada</td>\n",
              "      <td>2020-01-03 04:16:54</td>\n",
              "      <td>General</td>\n",
              "      <td>Carlos Enrique</td>\n",
              "      <td>Soporte Externo</td>\n",
              "      <td>Candados o PDA</td>\n",
              "      <td>0</td>\n",
              "      <td>Carlos Enrique</td>\n",
              "      <td>Llamada externa</td>\n",
              "      <td>2020-01-02 22:22:29</td>\n",
              "      <td>2020-01-02 22:15:00</td>\n",
              "      <td>2020-01-02 22:15:00</td>\n",
              "      <td>0</td>\n",
              "      <td>221</td>\n",
              "      <td>25</td>\n",
              "      <td>January</td>\n",
              "      <td>2020</td>\n",
              "    </tr>\n",
              "  </tbody>\n",
              "</table>\n",
              "</div>"
            ],
            "text/plain": [
              "            Solicitante     Modo  ... MesCreacion YearCreacion\n",
              "idSolicitud                       ...                         \n",
              "17804             Jaime      Web  ...    November         2019\n",
              "17908             KENIA  Llamada  ...     January         2020\n",
              "17909             David  Llamada  ...     January         2020\n",
              "17907           Claudia  Llamada  ...     January         2020\n",
              "17911            Victor  Llamada  ...     January         2020\n",
              "\n",
              "[5 rows x 18 columns]"
            ]
          },
          "metadata": {},
          "execution_count": 19
        }
      ]
    },
    {
      "cell_type": "code",
      "metadata": {
        "id": "4BsBoIf0IbsW"
      },
      "source": [
        "soporte = soporte_externo.groupby(['Agente','Modulo']).agg({'TiempoTranscurrido': 'sum'}).reset_index()"
      ],
      "execution_count": 20,
      "outputs": []
    },
    {
      "cell_type": "code",
      "metadata": {
        "colab": {
          "base_uri": "https://localhost:8080/",
          "height": 419
        },
        "id": "sgwBv0b1IxTl",
        "outputId": "95e5c690-2aec-4984-c9d2-04d26bf33eb6"
      },
      "source": [
        "soporte"
      ],
      "execution_count": 21,
      "outputs": [
        {
          "output_type": "execute_result",
          "data": {
            "text/html": [
              "<div>\n",
              "<style scoped>\n",
              "    .dataframe tbody tr th:only-of-type {\n",
              "        vertical-align: middle;\n",
              "    }\n",
              "\n",
              "    .dataframe tbody tr th {\n",
              "        vertical-align: top;\n",
              "    }\n",
              "\n",
              "    .dataframe thead th {\n",
              "        text-align: right;\n",
              "    }\n",
              "</style>\n",
              "<table border=\"1\" class=\"dataframe\">\n",
              "  <thead>\n",
              "    <tr style=\"text-align: right;\">\n",
              "      <th></th>\n",
              "      <th>Agente</th>\n",
              "      <th>Modulo</th>\n",
              "      <th>TiempoTranscurrido</th>\n",
              "    </tr>\n",
              "  </thead>\n",
              "  <tbody>\n",
              "    <tr>\n",
              "      <th>0</th>\n",
              "      <td>Adrian</td>\n",
              "      <td>ADD</td>\n",
              "      <td>28380</td>\n",
              "    </tr>\n",
              "    <tr>\n",
              "      <th>1</th>\n",
              "      <td>Adrian</td>\n",
              "      <td>Administracion de empresa</td>\n",
              "      <td>28800</td>\n",
              "    </tr>\n",
              "    <tr>\n",
              "      <th>2</th>\n",
              "      <td>Adrian</td>\n",
              "      <td>Administrador de Sucursales (AS)</td>\n",
              "      <td>6540</td>\n",
              "    </tr>\n",
              "    <tr>\n",
              "      <th>3</th>\n",
              "      <td>Adrian</td>\n",
              "      <td>Bancos</td>\n",
              "      <td>18600</td>\n",
              "    </tr>\n",
              "    <tr>\n",
              "      <th>4</th>\n",
              "      <td>Adrian</td>\n",
              "      <td>Bases de datos</td>\n",
              "      <td>47580</td>\n",
              "    </tr>\n",
              "    <tr>\n",
              "      <th>...</th>\n",
              "      <td>...</td>\n",
              "      <td>...</td>\n",
              "      <td>...</td>\n",
              "    </tr>\n",
              "    <tr>\n",
              "      <th>171</th>\n",
              "      <td>Sonia</td>\n",
              "      <td>Reporteador</td>\n",
              "      <td>61200</td>\n",
              "    </tr>\n",
              "    <tr>\n",
              "      <th>172</th>\n",
              "      <td>Sonia</td>\n",
              "      <td>Respaldos Automáticos</td>\n",
              "      <td>7080</td>\n",
              "    </tr>\n",
              "    <tr>\n",
              "      <th>173</th>\n",
              "      <td>Sonia</td>\n",
              "      <td>SiCS</td>\n",
              "      <td>82860</td>\n",
              "    </tr>\n",
              "    <tr>\n",
              "      <th>174</th>\n",
              "      <td>Sonia</td>\n",
              "      <td>Ventas</td>\n",
              "      <td>276840</td>\n",
              "    </tr>\n",
              "    <tr>\n",
              "      <th>175</th>\n",
              "      <td>Sonia</td>\n",
              "      <td>Zinc e-commerce</td>\n",
              "      <td>194760</td>\n",
              "    </tr>\n",
              "  </tbody>\n",
              "</table>\n",
              "<p>176 rows × 3 columns</p>\n",
              "</div>"
            ],
            "text/plain": [
              "     Agente                            Modulo  TiempoTranscurrido\n",
              "0    Adrian                               ADD               28380\n",
              "1    Adrian         Administracion de empresa               28800\n",
              "2    Adrian  Administrador de Sucursales (AS)                6540\n",
              "3    Adrian                            Bancos               18600\n",
              "4    Adrian                    Bases de datos               47580\n",
              "..      ...                               ...                 ...\n",
              "171   Sonia                       Reporteador               61200\n",
              "172   Sonia             Respaldos Automáticos                7080\n",
              "173   Sonia                              SiCS               82860\n",
              "174   Sonia                            Ventas              276840\n",
              "175   Sonia                   Zinc e-commerce              194760\n",
              "\n",
              "[176 rows x 3 columns]"
            ]
          },
          "metadata": {},
          "execution_count": 21
        }
      ]
    },
    {
      "cell_type": "markdown",
      "metadata": {
        "id": "69Gme0CNMSzW"
      },
      "source": [
        "De los diferentes módulos que existen, examinamos el total de módulos atendidos por cada agente:"
      ]
    },
    {
      "cell_type": "code",
      "metadata": {
        "id": "XSe1Ca4yLtAS",
        "outputId": "3ac97649-0567-4b3b-9409-1bc204b66246",
        "colab": {
          "base_uri": "https://localhost:8080/"
        }
      },
      "source": [
        "soporte['Agente'].value_counts()"
      ],
      "execution_count": 22,
      "outputs": [
        {
          "output_type": "execute_result",
          "data": {
            "text/plain": [
              "Carlos Enrique    26\n",
              "Sonia             24\n",
              "Angelica          23\n",
              "Adrian            22\n",
              "Rosa              21\n",
              "Jaime             20\n",
              "Manuel            19\n",
              "Edgar             11\n",
              "Ricardo            7\n",
              "Oscar              3\n",
              "Name: Agente, dtype: int64"
            ]
          },
          "metadata": {},
          "execution_count": 22
        }
      ]
    },
    {
      "cell_type": "markdown",
      "metadata": {
        "id": "dCBSkcXgMrlb"
      },
      "source": [
        "Analizamos la información de los módulos para poder crear un dicccionario de conversión estableciendo el número que le corresponde a cada módulo y agente:"
      ]
    },
    {
      "cell_type": "code",
      "metadata": {
        "id": "PARFEdCUMq2o",
        "outputId": "d67ef234-89cd-449f-812c-90ae8944ffae",
        "colab": {
          "base_uri": "https://localhost:8080/"
        }
      },
      "source": [
        "soporte['Modulo'].value_counts()"
      ],
      "execution_count": 23,
      "outputs": [
        {
          "output_type": "execute_result",
          "data": {
            "text/plain": [
              "PDA o Candados                         10\n",
              "General                                10\n",
              "Ventas                                  9\n",
              "Punto de venta                          9\n",
              "Inventarios                             8\n",
              "Zinc e-commerce                         8\n",
              "Nomina                                  8\n",
              "Contabilidad                            8\n",
              "SiCS                                    7\n",
              "Cuentas por Cobrar                      7\n",
              "Cuentas por Pagar                       7\n",
              "Administrador de Sucursales (AS)        7\n",
              "Administracion de empresa               7\n",
              "Reporteador                             7\n",
              "Candados Hasp                           7\n",
              "Compras                                 7\n",
              "Respaldos Automáticos                   7\n",
              "Microsip en ruta                        7\n",
              "Bancos                                  7\n",
              "CEO Movil                               6\n",
              "ADD                                     5\n",
              "Bases de datos                          5\n",
              "API                                     4\n",
              "Actualizador de licencias de rentas     3\n",
              "Not Assigned                            2\n",
              "Descarga Masiva CFDI                    2\n",
              "SAC                                     2\n",
              "Name: Modulo, dtype: int64"
            ]
          },
          "metadata": {},
          "execution_count": 23
        }
      ]
    },
    {
      "cell_type": "code",
      "metadata": {
        "id": "3qBOqWqSRI7c"
      },
      "source": [
        "#categorias = {'agentes':     {'Carlos Enrique': 305, 'Sonia': 304, 'Angelica': 123, 'Adrian': 147, 'Rosa': 601, 'Jaime': 701, 'Manuel': 306, 'Edgar': 401, 'Rcardo': 501, 'Oscar': 602},\n",
        "#              'modulos': {'General': 1, 'PDA o Candados': 2, 'Ventas': 3, 'Punto de venta': 4, 'Contabilidad': 5, 'Inventarios': 6, 'Nomina': 7, 'Zinc e-commerce': 8,\n",
        "#                           'Administrador de Sucursales (AS)': 9, 'Microsip en ruta': 10, 'Respaldos Automáticos': 11, 'Compras': 12, 'SiCS': 13, 'Reporteador': 14,\n",
        "#                           'Bancos': 15, 'Candados Hasp': 16, 'Cuentas por Pagar': 17, 'Cuentas por Cobrar': 18, 'Administracion de empresa': 19, 'CEO Movil': 20, 'ADD': 21,\n",
        "#                           'Bases de datos': 22, 'API': 23, 'Actualizador de licencias de rentas': 24, 'Not Assigned': 25, 'Descarga Masiva CFDI': 26, 'SAC': 27}}"
      ],
      "execution_count": 24,
      "outputs": []
    },
    {
      "cell_type": "code",
      "metadata": {
        "id": "gbyobTqnTBzR",
        "outputId": "e9cd5c5c-d553-4fbd-8c8e-62e350eb8ca4",
        "colab": {
          "base_uri": "https://localhost:8080/"
        }
      },
      "source": [
        "soporte['Agente'] = soporte['Agente'].astype('category')\n",
        "soporte['Modulo'] = soporte['Modulo'].astype('category')\n",
        "soporte.dtypes"
      ],
      "execution_count": 25,
      "outputs": [
        {
          "output_type": "execute_result",
          "data": {
            "text/plain": [
              "Agente                category\n",
              "Modulo                category\n",
              "TiempoTranscurrido       int64\n",
              "dtype: object"
            ]
          },
          "metadata": {},
          "execution_count": 25
        }
      ]
    },
    {
      "cell_type": "code",
      "metadata": {
        "id": "E0y0WfDOT_bR"
      },
      "source": [
        "#soporte['Agente']= soporte['Agente'].cat.codes\n",
        "#soporte['Modulo']= soporte['Modulo'].cat.codes"
      ],
      "execution_count": 26,
      "outputs": []
    },
    {
      "cell_type": "code",
      "metadata": {
        "id": "1LBaMsK3UKLH",
        "outputId": "b4499899-8dfa-4b56-e4c2-3d1956766f8f",
        "colab": {
          "base_uri": "https://localhost:8080/",
          "height": 419
        }
      },
      "source": [
        "soporte"
      ],
      "execution_count": 27,
      "outputs": [
        {
          "output_type": "execute_result",
          "data": {
            "text/html": [
              "<div>\n",
              "<style scoped>\n",
              "    .dataframe tbody tr th:only-of-type {\n",
              "        vertical-align: middle;\n",
              "    }\n",
              "\n",
              "    .dataframe tbody tr th {\n",
              "        vertical-align: top;\n",
              "    }\n",
              "\n",
              "    .dataframe thead th {\n",
              "        text-align: right;\n",
              "    }\n",
              "</style>\n",
              "<table border=\"1\" class=\"dataframe\">\n",
              "  <thead>\n",
              "    <tr style=\"text-align: right;\">\n",
              "      <th></th>\n",
              "      <th>Agente</th>\n",
              "      <th>Modulo</th>\n",
              "      <th>TiempoTranscurrido</th>\n",
              "    </tr>\n",
              "  </thead>\n",
              "  <tbody>\n",
              "    <tr>\n",
              "      <th>0</th>\n",
              "      <td>Adrian</td>\n",
              "      <td>ADD</td>\n",
              "      <td>28380</td>\n",
              "    </tr>\n",
              "    <tr>\n",
              "      <th>1</th>\n",
              "      <td>Adrian</td>\n",
              "      <td>Administracion de empresa</td>\n",
              "      <td>28800</td>\n",
              "    </tr>\n",
              "    <tr>\n",
              "      <th>2</th>\n",
              "      <td>Adrian</td>\n",
              "      <td>Administrador de Sucursales (AS)</td>\n",
              "      <td>6540</td>\n",
              "    </tr>\n",
              "    <tr>\n",
              "      <th>3</th>\n",
              "      <td>Adrian</td>\n",
              "      <td>Bancos</td>\n",
              "      <td>18600</td>\n",
              "    </tr>\n",
              "    <tr>\n",
              "      <th>4</th>\n",
              "      <td>Adrian</td>\n",
              "      <td>Bases de datos</td>\n",
              "      <td>47580</td>\n",
              "    </tr>\n",
              "    <tr>\n",
              "      <th>...</th>\n",
              "      <td>...</td>\n",
              "      <td>...</td>\n",
              "      <td>...</td>\n",
              "    </tr>\n",
              "    <tr>\n",
              "      <th>171</th>\n",
              "      <td>Sonia</td>\n",
              "      <td>Reporteador</td>\n",
              "      <td>61200</td>\n",
              "    </tr>\n",
              "    <tr>\n",
              "      <th>172</th>\n",
              "      <td>Sonia</td>\n",
              "      <td>Respaldos Automáticos</td>\n",
              "      <td>7080</td>\n",
              "    </tr>\n",
              "    <tr>\n",
              "      <th>173</th>\n",
              "      <td>Sonia</td>\n",
              "      <td>SiCS</td>\n",
              "      <td>82860</td>\n",
              "    </tr>\n",
              "    <tr>\n",
              "      <th>174</th>\n",
              "      <td>Sonia</td>\n",
              "      <td>Ventas</td>\n",
              "      <td>276840</td>\n",
              "    </tr>\n",
              "    <tr>\n",
              "      <th>175</th>\n",
              "      <td>Sonia</td>\n",
              "      <td>Zinc e-commerce</td>\n",
              "      <td>194760</td>\n",
              "    </tr>\n",
              "  </tbody>\n",
              "</table>\n",
              "<p>176 rows × 3 columns</p>\n",
              "</div>"
            ],
            "text/plain": [
              "     Agente                            Modulo  TiempoTranscurrido\n",
              "0    Adrian                               ADD               28380\n",
              "1    Adrian         Administracion de empresa               28800\n",
              "2    Adrian  Administrador de Sucursales (AS)                6540\n",
              "3    Adrian                            Bancos               18600\n",
              "4    Adrian                    Bases de datos               47580\n",
              "..      ...                               ...                 ...\n",
              "171   Sonia                       Reporteador               61200\n",
              "172   Sonia             Respaldos Automáticos                7080\n",
              "173   Sonia                              SiCS               82860\n",
              "174   Sonia                            Ventas              276840\n",
              "175   Sonia                   Zinc e-commerce              194760\n",
              "\n",
              "[176 rows x 3 columns]"
            ]
          },
          "metadata": {},
          "execution_count": 27
        }
      ]
    },
    {
      "cell_type": "code",
      "metadata": {
        "colab": {
          "base_uri": "https://localhost:8080/",
          "height": 297
        },
        "id": "neMdUAYJJSRW",
        "outputId": "cf206a71-b83a-41fe-9f62-e37f4c236be8"
      },
      "source": [
        "soporte.describe()"
      ],
      "execution_count": 28,
      "outputs": [
        {
          "output_type": "execute_result",
          "data": {
            "text/html": [
              "<div>\n",
              "<style scoped>\n",
              "    .dataframe tbody tr th:only-of-type {\n",
              "        vertical-align: middle;\n",
              "    }\n",
              "\n",
              "    .dataframe tbody tr th {\n",
              "        vertical-align: top;\n",
              "    }\n",
              "\n",
              "    .dataframe thead th {\n",
              "        text-align: right;\n",
              "    }\n",
              "</style>\n",
              "<table border=\"1\" class=\"dataframe\">\n",
              "  <thead>\n",
              "    <tr style=\"text-align: right;\">\n",
              "      <th></th>\n",
              "      <th>TiempoTranscurrido</th>\n",
              "    </tr>\n",
              "  </thead>\n",
              "  <tbody>\n",
              "    <tr>\n",
              "      <th>count</th>\n",
              "      <td>176.000000</td>\n",
              "    </tr>\n",
              "    <tr>\n",
              "      <th>mean</th>\n",
              "      <td>60885.681818</td>\n",
              "    </tr>\n",
              "    <tr>\n",
              "      <th>std</th>\n",
              "      <td>127618.982787</td>\n",
              "    </tr>\n",
              "    <tr>\n",
              "      <th>min</th>\n",
              "      <td>120.000000</td>\n",
              "    </tr>\n",
              "    <tr>\n",
              "      <th>25%</th>\n",
              "      <td>5085.000000</td>\n",
              "    </tr>\n",
              "    <tr>\n",
              "      <th>50%</th>\n",
              "      <td>17070.000000</td>\n",
              "    </tr>\n",
              "    <tr>\n",
              "      <th>75%</th>\n",
              "      <td>63135.000000</td>\n",
              "    </tr>\n",
              "    <tr>\n",
              "      <th>max</th>\n",
              "      <td>945300.000000</td>\n",
              "    </tr>\n",
              "  </tbody>\n",
              "</table>\n",
              "</div>"
            ],
            "text/plain": [
              "       TiempoTranscurrido\n",
              "count          176.000000\n",
              "mean         60885.681818\n",
              "std         127618.982787\n",
              "min            120.000000\n",
              "25%           5085.000000\n",
              "50%          17070.000000\n",
              "75%          63135.000000\n",
              "max         945300.000000"
            ]
          },
          "metadata": {},
          "execution_count": 28
        }
      ]
    },
    {
      "cell_type": "code",
      "metadata": {
        "id": "WqncXlRCLHXU"
      },
      "source": [
        "#sns.heatmap(soporte)"
      ],
      "execution_count": 29,
      "outputs": []
    },
    {
      "cell_type": "markdown",
      "metadata": {
        "id": "-7ViZcPVPLiU"
      },
      "source": [
        "revisar carga de trabajo por agente y promedios de atención por módulo"
      ]
    },
    {
      "cell_type": "markdown",
      "metadata": {
        "id": "MG7lswAtPLXp"
      },
      "source": [
        "recomendación de mejor agente para un módulo"
      ]
    }
  ]
}