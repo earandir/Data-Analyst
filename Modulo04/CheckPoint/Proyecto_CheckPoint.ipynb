{
  "nbformat": 4,
  "nbformat_minor": 0,
  "metadata": {
    "kernelspec": {
      "display_name": "Python 3",
      "language": "python",
      "name": "python3"
    },
    "language_info": {
      "codemirror_mode": {
        "name": "ipython",
        "version": 3
      },
      "file_extension": ".py",
      "mimetype": "text/x-python",
      "name": "python",
      "nbconvert_exporter": "python",
      "pygments_lexer": "ipython3",
      "version": "3.7.4"
    },
    "colab": {
      "name": "Copia de M03 Proyecto CheckPoint.ipynb",
      "provenance": [],
      "collapsed_sections": [],
      "include_colab_link": true
    }
  },
  "cells": [
    {
      "cell_type": "markdown",
      "metadata": {
        "id": "view-in-github",
        "colab_type": "text"
      },
      "source": [
        "<a href=\"https://colab.research.google.com/github/earandir/DataAnalysis/blob/main/Modulo04/CheckPoint/Proyecto_CheckPoint.ipynb\" target=\"_parent\"><img src=\"https://colab.research.google.com/assets/colab-badge.svg\" alt=\"Open In Colab\"/></a>"
      ]
    },
    {
      "cell_type": "markdown",
      "metadata": {
        "id": "yfeB3wgvDBuU"
      },
      "source": [
        "#Módulo 04 - Proyecto CheckPoint\n",
        "\n",
        "## Análisis de atención y soporte en Mesa de Ayuda\n",
        "\n",
        "## 1. Objetivos:\n",
        "* Obtener las órdenes de trabajo desde una base de datos\n",
        "* Obtener la información de los agentes encargados\n",
        "* Unir ambas tablas para obtener inforamción completa\n",
        "* Analizar y transformar a Dataframes\n",
        "* Verificar que los datos sean del tipo correcto\n",
        "* Transformar las fechas en diferentes formatos para análisis\n",
        "* Análisis exploratorio de los datos\n",
        "* Gráficas de resultados"
      ]
    },
    {
      "cell_type": "markdown",
      "metadata": {
        "id": "xRIm4ZUXs9Ze"
      },
      "source": [
        "## 2. Desarrollo:"
      ]
    },
    {
      "cell_type": "markdown",
      "metadata": {
        "id": "Oxw93IJKtpNE"
      },
      "source": [
        "#### Importación de bibliotecas utilizadas"
      ]
    },
    {
      "cell_type": "code",
      "metadata": {
        "id": "0QvOk7Q1DbvV"
      },
      "source": [
        "import pandas as pd\n",
        "import datetime\n",
        "import matplotlib.pyplot as plt\n",
        "import seaborn as sns\n"
      ],
      "execution_count": 16,
      "outputs": []
    },
    {
      "cell_type": "markdown",
      "metadata": {
        "id": "soXbF6_8DBuW"
      },
      "source": [
        "### a) Obtener órdenes de trabajo:\n",
        "\n",
        "Para iniciar el proyecto, es necesario leer la información de la órdenes. Esta inofrmación se encuentra en dos archivos:\n",
        "\n",
        "\n",
        "*   Es necesario leer el encabezado de las solicitudes con el archivo: solicitudes.csv\n",
        "*   El detalle del trabajo realizado en cada una de las solicitudes se encuentra en el archivo: solicitudesdetalle.csv\n",
        "\n",
        "Después se necesario unir ambos registros para tener la información completa.\n",
        "\n"
      ]
    },
    {
      "cell_type": "code",
      "metadata": {
        "id": "bTBva7soDeKx"
      },
      "source": [
        "solicitudes = pd.read_csv('https://raw.githubusercontent.com/earandir/DataAnalysis/main/Modulo04/CheckPoint/solicitudes.csv', index_col=0)\n",
        "\n",
        "solicitudes_detalle = pd.read_csv('https://raw.githubusercontent.com/earandir/DataAnalysis/main/Modulo04/CheckPoint/solicitudes_detalle.csv', index_col=0)"
      ],
      "execution_count": 2,
      "outputs": []
    },
    {
      "cell_type": "code",
      "metadata": {
        "colab": {
          "base_uri": "https://localhost:8080/",
          "height": 165
        },
        "id": "xzm0h3qky942",
        "outputId": "e252357f-cd1b-4dbe-fe24-9526ac814708"
      },
      "source": [
        "pd.merge(solicitudes, solicitudes_detalle, left_on='idSolicitud', right_index=True)"
      ],
      "execution_count": 3,
      "outputs": [
        {
          "output_type": "execute_result",
          "data": {
            "text/html": [
              "<div>\n",
              "<style scoped>\n",
              "    .dataframe tbody tr th:only-of-type {\n",
              "        vertical-align: middle;\n",
              "    }\n",
              "\n",
              "    .dataframe tbody tr th {\n",
              "        vertical-align: top;\n",
              "    }\n",
              "\n",
              "    .dataframe thead th {\n",
              "        text-align: right;\n",
              "    }\n",
              "</style>\n",
              "<table border=\"1\" class=\"dataframe\">\n",
              "  <thead>\n",
              "    <tr style=\"text-align: right;\">\n",
              "      <th></th>\n",
              "      <th>idAgente_x</th>\n",
              "      <th>idUsuario</th>\n",
              "      <th>FechaCreacion_x</th>\n",
              "      <th>FechaResolucion</th>\n",
              "      <th>Categoria</th>\n",
              "      <th>SubCategoria</th>\n",
              "      <th>idModo</th>\n",
              "      <th>idModulo</th>\n",
              "      <th>ValorEncuesta</th>\n",
              "      <th>idSolicitud</th>\n",
              "      <th>idTipodeTrabajo</th>\n",
              "      <th>idAgente_y</th>\n",
              "      <th>FechaCreacion_y</th>\n",
              "      <th>FechaInicio</th>\n",
              "      <th>FechaFin</th>\n",
              "      <th>TiempoTranscurrido</th>\n",
              "      <th>TarifaAgente</th>\n",
              "      <th>CostoTrabajo</th>\n",
              "    </tr>\n",
              "    <tr>\n",
              "      <th>idSolicitud</th>\n",
              "      <th></th>\n",
              "      <th></th>\n",
              "      <th></th>\n",
              "      <th></th>\n",
              "      <th></th>\n",
              "      <th></th>\n",
              "      <th></th>\n",
              "      <th></th>\n",
              "      <th></th>\n",
              "      <th></th>\n",
              "      <th></th>\n",
              "      <th></th>\n",
              "      <th></th>\n",
              "      <th></th>\n",
              "      <th></th>\n",
              "      <th></th>\n",
              "      <th></th>\n",
              "      <th></th>\n",
              "    </tr>\n",
              "  </thead>\n",
              "  <tbody>\n",
              "    <tr>\n",
              "      <th>15762</th>\n",
              "      <td>694</td>\n",
              "      <td>616</td>\n",
              "      <td>2018-09-19 05:23:43</td>\n",
              "      <td>NaN</td>\n",
              "      <td>Soporte Externo</td>\n",
              "      <td>Error</td>\n",
              "      <td>10</td>\n",
              "      <td>66</td>\n",
              "      <td>0</td>\n",
              "      <td>23941</td>\n",
              "      <td>352</td>\n",
              "      <td>64</td>\n",
              "      <td>2021-04-05 04:32:01</td>\n",
              "      <td>2021-03-24 22:38:00</td>\n",
              "      <td>2021-03-25 00:19:00</td>\n",
              "      <td>6060</td>\n",
              "      <td>262</td>\n",
              "      <td>22</td>\n",
              "    </tr>\n",
              "  </tbody>\n",
              "</table>\n",
              "</div>"
            ],
            "text/plain": [
              "             idAgente_x  idUsuario  ... TarifaAgente  CostoTrabajo\n",
              "idSolicitud                         ...                           \n",
              "15762               694        616  ...          262            22\n",
              "\n",
              "[1 rows x 18 columns]"
            ]
          },
          "metadata": {},
          "execution_count": 3
        }
      ]
    },
    {
      "cell_type": "markdown",
      "metadata": {
        "id": "FGMXKvrm0Bjz"
      },
      "source": [
        "Además de las solicitudes, faltaría agregar la información de los usuarios, los agentes, módulos y tipos de trabajo.\n",
        "\n",
        "Pero en la base de datos encontramos un procedimiento que nos hace la unión de toda la información necesaria, así que vamos a usar esta vista para simplificar el proceso y no tener que unir todas las tablas."
      ]
    },
    {
      "cell_type": "code",
      "metadata": {
        "id": "TJBAMU8SDiy0",
        "colab": {
          "base_uri": "https://localhost:8080/",
          "height": 275
        },
        "outputId": "7a4872f9-e7b7-4358-f5f2-1989540efefc"
      },
      "source": [
        "registros = pd.read_csv('https://raw.githubusercontent.com/earandir/DataAnalysis/main/Modulo04/CheckPoint/registrosmesaservicio.csv', index_col=0)\n",
        "\n",
        "registros.head(3)"
      ],
      "execution_count": 4,
      "outputs": [
        {
          "output_type": "execute_result",
          "data": {
            "text/html": [
              "<div>\n",
              "<style scoped>\n",
              "    .dataframe tbody tr th:only-of-type {\n",
              "        vertical-align: middle;\n",
              "    }\n",
              "\n",
              "    .dataframe tbody tr th {\n",
              "        vertical-align: top;\n",
              "    }\n",
              "\n",
              "    .dataframe thead th {\n",
              "        text-align: right;\n",
              "    }\n",
              "</style>\n",
              "<table border=\"1\" class=\"dataframe\">\n",
              "  <thead>\n",
              "    <tr style=\"text-align: right;\">\n",
              "      <th></th>\n",
              "      <th>Solicitante</th>\n",
              "      <th>Modo</th>\n",
              "      <th>FechaCreacionSolicitud</th>\n",
              "      <th>Modulo</th>\n",
              "      <th>Agente</th>\n",
              "      <th>Categoria</th>\n",
              "      <th>SubCategoria</th>\n",
              "      <th>ValorEncuesta</th>\n",
              "      <th>AgenteTrabajo</th>\n",
              "      <th>Trabajo</th>\n",
              "      <th>FechaCreacionTrabajo</th>\n",
              "      <th>FechaInicio</th>\n",
              "      <th>FechaFin</th>\n",
              "      <th>TiempoTranscurrido</th>\n",
              "      <th>TarifaAgente</th>\n",
              "      <th>CostoTrabajo</th>\n",
              "    </tr>\n",
              "    <tr>\n",
              "      <th>idSolicitud</th>\n",
              "      <th></th>\n",
              "      <th></th>\n",
              "      <th></th>\n",
              "      <th></th>\n",
              "      <th></th>\n",
              "      <th></th>\n",
              "      <th></th>\n",
              "      <th></th>\n",
              "      <th></th>\n",
              "      <th></th>\n",
              "      <th></th>\n",
              "      <th></th>\n",
              "      <th></th>\n",
              "      <th></th>\n",
              "      <th></th>\n",
              "      <th></th>\n",
              "    </tr>\n",
              "  </thead>\n",
              "  <tbody>\n",
              "    <tr>\n",
              "      <th>17804</th>\n",
              "      <td>Jaime</td>\n",
              "      <td>Web</td>\n",
              "      <td>2019-11-30 04:48:30</td>\n",
              "      <td>Zinc e-commerce</td>\n",
              "      <td>Sonia</td>\n",
              "      <td>Soporte Externo</td>\n",
              "      <td>Error</td>\n",
              "      <td>0</td>\n",
              "      <td>Sonia</td>\n",
              "      <td>Not Assigned</td>\n",
              "      <td>2020-01-02 17:50:30</td>\n",
              "      <td>2020-01-02 09:33:00</td>\n",
              "      <td>2020-01-02 09:40:00</td>\n",
              "      <td>420</td>\n",
              "      <td>242</td>\n",
              "      <td>21</td>\n",
              "    </tr>\n",
              "    <tr>\n",
              "      <th>17908</th>\n",
              "      <td>KENIA</td>\n",
              "      <td>Llamada</td>\n",
              "      <td>2020-01-03 01:17:50</td>\n",
              "      <td>Nomina</td>\n",
              "      <td>Sonia</td>\n",
              "      <td>Soporte Externo</td>\n",
              "      <td>Consulta</td>\n",
              "      <td>0</td>\n",
              "      <td>Sonia</td>\n",
              "      <td>Not Assigned</td>\n",
              "      <td>2020-01-02 19:23:02</td>\n",
              "      <td>2020-01-02 13:00:00</td>\n",
              "      <td>2020-01-02 13:24:00</td>\n",
              "      <td>1440</td>\n",
              "      <td>242</td>\n",
              "      <td>21</td>\n",
              "    </tr>\n",
              "    <tr>\n",
              "      <th>17909</th>\n",
              "      <td>David</td>\n",
              "      <td>Llamada</td>\n",
              "      <td>2020-01-03 01:50:12</td>\n",
              "      <td>Nomina</td>\n",
              "      <td>Sonia</td>\n",
              "      <td>Soporte Externo</td>\n",
              "      <td>Consulta</td>\n",
              "      <td>0</td>\n",
              "      <td>Sonia</td>\n",
              "      <td>Not Assigned</td>\n",
              "      <td>2020-01-02 19:53:51</td>\n",
              "      <td>2020-01-02 13:34:00</td>\n",
              "      <td>2020-01-02 13:54:00</td>\n",
              "      <td>1200</td>\n",
              "      <td>242</td>\n",
              "      <td>21</td>\n",
              "    </tr>\n",
              "  </tbody>\n",
              "</table>\n",
              "</div>"
            ],
            "text/plain": [
              "            Solicitante     Modo  ... TarifaAgente CostoTrabajo\n",
              "idSolicitud                       ...                          \n",
              "17804             Jaime      Web  ...          242           21\n",
              "17908             KENIA  Llamada  ...          242           21\n",
              "17909             David  Llamada  ...          242           21\n",
              "\n",
              "[3 rows x 16 columns]"
            ]
          },
          "metadata": {},
          "execution_count": 4
        }
      ]
    },
    {
      "cell_type": "markdown",
      "metadata": {
        "id": "uwSdRc0zz1gh"
      },
      "source": [
        "### b) Revisión de datos y conversión de tipos:\n",
        "Al revisar los datos del DataFrame, encontramos las fechas registradas como tipo \"Objeto\", por lo que hacemos la conversión al tipo \"datetime\" para poder realizar operaciones con las fechas."
      ]
    },
    {
      "cell_type": "code",
      "metadata": {
        "id": "9tVibemWERlJ",
        "colab": {
          "base_uri": "https://localhost:8080/"
        },
        "outputId": "056f7c9d-1619-41e7-bfc7-631f58f9c65f"
      },
      "source": [
        "registros.dtypes"
      ],
      "execution_count": 5,
      "outputs": [
        {
          "output_type": "execute_result",
          "data": {
            "text/plain": [
              "Solicitante               object\n",
              "Modo                      object\n",
              "FechaCreacionSolicitud    object\n",
              "Modulo                    object\n",
              "Agente                    object\n",
              "Categoria                 object\n",
              "SubCategoria              object\n",
              "ValorEncuesta              int64\n",
              "AgenteTrabajo             object\n",
              "Trabajo                   object\n",
              "FechaCreacionTrabajo      object\n",
              "FechaInicio               object\n",
              "FechaFin                  object\n",
              "TiempoTranscurrido         int64\n",
              "TarifaAgente               int64\n",
              "CostoTrabajo               int64\n",
              "dtype: object"
            ]
          },
          "metadata": {},
          "execution_count": 5
        }
      ]
    },
    {
      "cell_type": "code",
      "metadata": {
        "id": "GB-FuIZUFiJW",
        "colab": {
          "base_uri": "https://localhost:8080/"
        },
        "outputId": "18f9d454-4ecb-4c5a-b2a7-77dda2777cee"
      },
      "source": [
        "dates_dict = {'FechaCreacionSolicitud':'datetime64[ns]' \\\n",
        "              , 'FechaCreacionTrabajo': 'datetime64[ns]' \\\n",
        "              , 'FechaInicio': 'datetime64[ns]' \\\n",
        "              , 'FechaFin': 'datetime64[ns]'}\n",
        "registros = registros.astype(dates_dict)     \n",
        "\n",
        "registros.dtypes"
      ],
      "execution_count": 6,
      "outputs": [
        {
          "output_type": "execute_result",
          "data": {
            "text/plain": [
              "Solicitante                       object\n",
              "Modo                              object\n",
              "FechaCreacionSolicitud    datetime64[ns]\n",
              "Modulo                            object\n",
              "Agente                            object\n",
              "Categoria                         object\n",
              "SubCategoria                      object\n",
              "ValorEncuesta                      int64\n",
              "AgenteTrabajo                     object\n",
              "Trabajo                           object\n",
              "FechaCreacionTrabajo      datetime64[ns]\n",
              "FechaInicio               datetime64[ns]\n",
              "FechaFin                  datetime64[ns]\n",
              "TiempoTranscurrido                 int64\n",
              "TarifaAgente                       int64\n",
              "CostoTrabajo                       int64\n",
              "dtype: object"
            ]
          },
          "metadata": {},
          "execution_count": 6
        }
      ]
    },
    {
      "cell_type": "markdown",
      "metadata": {
        "id": "UbRph8sF3vkf"
      },
      "source": [
        ""
      ]
    },
    {
      "cell_type": "markdown",
      "metadata": {
        "id": "GGIEfV-9DBuX"
      },
      "source": [
        "### c) Análisis Exploratorio de datos:\n",
        "\n",
        "Una vez que contamos con la información completa, es momento de empezar a resolver dudas en relación a estos datos."
      ]
    },
    {
      "cell_type": "markdown",
      "metadata": {
        "id": "_OJDEsmb3R7S"
      },
      "source": [
        "####1) ¿De qué módulos piden ayuda?\n",
        "\n",
        "Para responder esta pregunta, es necesario agrupar por módulo todas las solicitudes y agregar la columna con el conteo de registros, dejando los 10 módulos que  más tienen registros."
      ]
    },
    {
      "cell_type": "code",
      "metadata": {
        "colab": {
          "base_uri": "https://localhost:8080/",
          "height": 204
        },
        "id": "32RLgMlU3wgI",
        "outputId": "37060bc5-d1be-4c4b-fdd3-cac527854286"
      },
      "source": [
        "top_modulos = registros.groupby('Modulo') \\\n",
        "  .agg(conteo=('Modulo', 'size')) \\\n",
        "  .reset_index()\n",
        "\n",
        "top_modulos = top_modulos.sort_values('conteo', ascending=False)\n",
        "\n",
        "top_modulos = top_modulos[:5]\n",
        "\n",
        "top_modulos"
      ],
      "execution_count": 7,
      "outputs": [
        {
          "output_type": "execute_result",
          "data": {
            "text/html": [
              "<div>\n",
              "<style scoped>\n",
              "    .dataframe tbody tr th:only-of-type {\n",
              "        vertical-align: middle;\n",
              "    }\n",
              "\n",
              "    .dataframe tbody tr th {\n",
              "        vertical-align: top;\n",
              "    }\n",
              "\n",
              "    .dataframe thead th {\n",
              "        text-align: right;\n",
              "    }\n",
              "</style>\n",
              "<table border=\"1\" class=\"dataframe\">\n",
              "  <thead>\n",
              "    <tr style=\"text-align: right;\">\n",
              "      <th></th>\n",
              "      <th>Modulo</th>\n",
              "      <th>conteo</th>\n",
              "    </tr>\n",
              "  </thead>\n",
              "  <tbody>\n",
              "    <tr>\n",
              "      <th>14</th>\n",
              "      <td>General</td>\n",
              "      <td>4105</td>\n",
              "    </tr>\n",
              "    <tr>\n",
              "      <th>17</th>\n",
              "      <td>Nomina</td>\n",
              "      <td>1576</td>\n",
              "    </tr>\n",
              "    <tr>\n",
              "      <th>25</th>\n",
              "      <td>Ventas</td>\n",
              "      <td>811</td>\n",
              "    </tr>\n",
              "    <tr>\n",
              "      <th>20</th>\n",
              "      <td>Punto de venta</td>\n",
              "      <td>707</td>\n",
              "    </tr>\n",
              "    <tr>\n",
              "      <th>11</th>\n",
              "      <td>Cuentas por Cobrar</td>\n",
              "      <td>430</td>\n",
              "    </tr>\n",
              "  </tbody>\n",
              "</table>\n",
              "</div>"
            ],
            "text/plain": [
              "                Modulo  conteo\n",
              "14             General    4105\n",
              "17              Nomina    1576\n",
              "25              Ventas     811\n",
              "20      Punto de venta     707\n",
              "11  Cuentas por Cobrar     430"
            ]
          },
          "metadata": {},
          "execution_count": 7
        }
      ]
    },
    {
      "cell_type": "code",
      "metadata": {
        "colab": {
          "base_uri": "https://localhost:8080/",
          "height": 354
        },
        "id": "27vVDwyJ1vAy",
        "outputId": "344d2f72-c702-47a0-cf5c-8d5d352cb3cb"
      },
      "source": [
        "ax = sns.barplot(y= top_modulos['conteo'], x = top_modulos['Modulo'], data = top_modulos, palette=('autumn'))\n",
        "ax.set_title('Tickets por módulo')\n",
        "ax.set_ylabel('Tickets')\n",
        "ax.tick_params(axis='x', rotation=30)\n",
        "sns.set_context('notebook')"
      ],
      "execution_count": 31,
      "outputs": [
        {
          "output_type": "display_data",
          "data": {
            "image/png": "[encoded data removed]",
            "text/plain": [
              "<Figure size 432x288 with 1 Axes>"
            ]
          },
          "metadata": {
            "needs_background": "light"
          }
        }
      ]
    },
    {
      "cell_type": "markdown",
      "metadata": {
        "id": "laIINBX08LM9"
      },
      "source": [
        "####2) ¿De qué forma contactan al equipo de soporte?\n",
        "\n",
        "Esta pregunta se puede responder de una manera muy similar a la pregunta anterior, utilizando el campo del modo de contacto."
      ]
    },
    {
      "cell_type": "code",
      "metadata": {
        "colab": {
          "base_uri": "https://localhost:8080/",
          "height": 204
        },
        "id": "HFu117qB86Xr",
        "outputId": "40e4715a-ba68-4b68-aa7f-bfa9b3d9f61c"
      },
      "source": [
        "modos = registros.groupby('Modo') \\\n",
        "  .agg(conteo=('Modo', 'size')) \\\n",
        "  .reset_index()\n",
        "\n",
        "modos = modos.sort_values('conteo', ascending=False)\n",
        "\n",
        "top_modos = modos[:5]\n",
        "\n",
        "top_modos"
      ],
      "execution_count": 12,
      "outputs": [
        {
          "output_type": "execute_result",
          "data": {
            "text/html": [
              "<div>\n",
              "<style scoped>\n",
              "    .dataframe tbody tr th:only-of-type {\n",
              "        vertical-align: middle;\n",
              "    }\n",
              "\n",
              "    .dataframe tbody tr th {\n",
              "        vertical-align: top;\n",
              "    }\n",
              "\n",
              "    .dataframe thead th {\n",
              "        text-align: right;\n",
              "    }\n",
              "</style>\n",
              "<table border=\"1\" class=\"dataframe\">\n",
              "  <thead>\n",
              "    <tr style=\"text-align: right;\">\n",
              "      <th></th>\n",
              "      <th>Modo</th>\n",
              "      <th>conteo</th>\n",
              "    </tr>\n",
              "  </thead>\n",
              "  <tbody>\n",
              "    <tr>\n",
              "      <th>3</th>\n",
              "      <td>Llamada</td>\n",
              "      <td>5232</td>\n",
              "    </tr>\n",
              "    <tr>\n",
              "      <th>4</th>\n",
              "      <td>Web</td>\n",
              "      <td>2044</td>\n",
              "    </tr>\n",
              "    <tr>\n",
              "      <th>2</th>\n",
              "      <td>En sitio</td>\n",
              "      <td>1580</td>\n",
              "    </tr>\n",
              "    <tr>\n",
              "      <th>1</th>\n",
              "      <td>E-Mail</td>\n",
              "      <td>1472</td>\n",
              "    </tr>\n",
              "    <tr>\n",
              "      <th>0</th>\n",
              "      <td>Chat</td>\n",
              "      <td>88</td>\n",
              "    </tr>\n",
              "  </tbody>\n",
              "</table>\n",
              "</div>"
            ],
            "text/plain": [
              "       Modo  conteo\n",
              "3   Llamada    5232\n",
              "4       Web    2044\n",
              "2  En sitio    1580\n",
              "1    E-Mail    1472\n",
              "0      Chat      88"
            ]
          },
          "metadata": {},
          "execution_count": 12
        }
      ]
    },
    {
      "cell_type": "code",
      "metadata": {
        "colab": {
          "base_uri": "https://localhost:8080/",
          "height": 321
        },
        "id": "uHtR34iU0x5G",
        "outputId": "56356880-15ca-4747-9b86-158728f2c0fe"
      },
      "source": [
        "ax = sns.barplot(y= top_modos['conteo'], x = top_modos['Modo'], data = top_modos, palette=('Blues_r'))\n",
        "ax.set_title('Tickets por modo de contacto')\n",
        "ax.set_ylabel('Tickets')\n",
        "sns.set_context('notebook')"
      ],
      "execution_count": 24,
      "outputs": [
        {
          "output_type": "display_data",
          "data": {
            "image/png": "[encoded data removed]",
            "text/plain": [
              "<Figure size 432x288 with 1 Axes>"
            ]
          },
          "metadata": {
            "needs_background": "light"
          }
        }
      ]
    },
    {
      "cell_type": "code",
      "metadata": {
        "id": "vEA-XHwK9_QZ"
      },
      "source": [
        ""
      ],
      "execution_count": 9,
      "outputs": []
    },
    {
      "cell_type": "markdown",
      "metadata": {
        "id": "tRAYjUbd9PUC"
      },
      "source": [
        "####3) ¿Quién es la persona a la que más tiempo se le ha invertido?\n",
        "\n",
        "En este caso, es necesario analizar los registros por usuario y sumar el tiempo invertido en cada una de las tareas que se hayan realizdo en sus casos de soporte técnico."
      ]
    },
    {
      "cell_type": "code",
      "metadata": {
        "colab": {
          "base_uri": "https://localhost:8080/",
          "height": 204
        },
        "id": "L8lL1y4m9PUD",
        "outputId": "a1345c87-b353-4d1e-c00f-dc15ddfc77ef"
      },
      "source": [
        "soporte_externo = registros.loc[registros['Categoria'] == 'Soporte Externo']\n",
        "\n",
        "tiempo_usuario = soporte_externo.groupby('Solicitante') \\\n",
        "  .agg(tiempo_invertido=('TiempoTranscurrido', 'sum')) \\\n",
        "  .reset_index()\n",
        "\n",
        "tiempo_usuario = tiempo_usuario.sort_values('tiempo_invertido', ascending=False)\n",
        "\n",
        "tiempo_usuario['tiempo_invertido'] = tiempo_usuario['tiempo_invertido'] // 86400\n",
        "\n",
        "tiempo_usuario[:5]"
      ],
      "execution_count": 10,
      "outputs": [
        {
          "output_type": "execute_result",
          "data": {
            "text/html": [
              "<div>\n",
              "<style scoped>\n",
              "    .dataframe tbody tr th:only-of-type {\n",
              "        vertical-align: middle;\n",
              "    }\n",
              "\n",
              "    .dataframe tbody tr th {\n",
              "        vertical-align: top;\n",
              "    }\n",
              "\n",
              "    .dataframe thead th {\n",
              "        text-align: right;\n",
              "    }\n",
              "</style>\n",
              "<table border=\"1\" class=\"dataframe\">\n",
              "  <thead>\n",
              "    <tr style=\"text-align: right;\">\n",
              "      <th></th>\n",
              "      <th>Solicitante</th>\n",
              "      <th>tiempo_invertido</th>\n",
              "    </tr>\n",
              "  </thead>\n",
              "  <tbody>\n",
              "    <tr>\n",
              "      <th>161</th>\n",
              "      <td>Rosa</td>\n",
              "      <td>11</td>\n",
              "    </tr>\n",
              "    <tr>\n",
              "      <th>91</th>\n",
              "      <td>Jaime</td>\n",
              "      <td>7</td>\n",
              "    </tr>\n",
              "    <tr>\n",
              "      <th>117</th>\n",
              "      <td>MARCO</td>\n",
              "      <td>6</td>\n",
              "    </tr>\n",
              "    <tr>\n",
              "      <th>155</th>\n",
              "      <td>Ricardo</td>\n",
              "      <td>5</td>\n",
              "    </tr>\n",
              "    <tr>\n",
              "      <th>167</th>\n",
              "      <td>Santiago</td>\n",
              "      <td>3</td>\n",
              "    </tr>\n",
              "  </tbody>\n",
              "</table>\n",
              "</div>"
            ],
            "text/plain": [
              "    Solicitante  tiempo_invertido\n",
              "161        Rosa                11\n",
              "91        Jaime                 7\n",
              "117       MARCO                 6\n",
              "155     Ricardo                 5\n",
              "167    Santiago                 3"
            ]
          },
          "metadata": {},
          "execution_count": 10
        }
      ]
    },
    {
      "cell_type": "markdown",
      "metadata": {
        "id": "QBmhOtjmBvkB"
      },
      "source": [
        "####4) ¿Cuantos casos se han recibido en cada mes del año?\n",
        "\n",
        "Para responder esta pregunta, se requiere transformar el campo de la fecha para obtener el mes que le corresponde para poder sumar los casos por cada uno de los meses."
      ]
    },
    {
      "cell_type": "code",
      "metadata": {
        "colab": {
          "base_uri": "https://localhost:8080/",
          "height": 398
        },
        "id": "UhZDoX5IBvkB",
        "outputId": "0eb085e4-ec1b-4417-a1d1-485ccd063a4a"
      },
      "source": [
        "soporte_externo = registros.loc[registros['Categoria'] == 'Soporte Externo']\n",
        "soporte_externo['FechaCreacionSolicitud'] = soporte_externo['FechaCreacionSolicitud'].apply(lambda x: x.strftime('%B'))\n",
        "\n",
        "soporte_externo = soporte_externo.groupby('FechaCreacionSolicitud') \\\n",
        "  .agg(conteo=('FechaCreacionSolicitud', 'size')) \\\n",
        "  .reset_index()\n",
        "\n",
        "soporte_externo.plot.bar(x='FechaCreacionSolicitud', y='conteo', rot=0)"
      ],
      "execution_count": 11,
      "outputs": [
        {
          "output_type": "stream",
          "text": [
            "/usr/local/lib/python3.7/dist-packages/ipykernel_launcher.py:2: SettingWithCopyWarning: \n",
            "A value is trying to be set on a copy of a slice from a DataFrame.\n",
            "Try using .loc[row_indexer,col_indexer] = value instead\n",
            "\n",
            "See the caveats in the documentation: https://pandas.pydata.org/pandas-docs/stable/user_guide/indexing.html#returning-a-view-versus-a-copy\n",
            "  \n"
          ],
          "name": "stderr"
        },
        {
          "output_type": "execute_result",
          "data": {
            "text/plain": [
              "<matplotlib.axes._subplots.AxesSubplot at 0x7efe24934d90>"
            ]
          },
          "metadata": {},
          "execution_count": 11
        },
        {
          "output_type": "display_data",
          "data": {
            "image/png": "[encoded data removed]",
            "text/plain": [
              "<Figure size 432x288 with 1 Axes>"
            ]
          },
          "metadata": {
            "needs_background": "light"
          }
        }
      ]
    },
    {
      "cell_type": "markdown",
      "metadata": {
        "id": "QCkS-0qCPLy7"
      },
      "source": [
        "filtrar por mes y por año para gráfica de serie de tiempo"
      ]
    },
    {
      "cell_type": "markdown",
      "metadata": {
        "id": "RrTzMtbEPLq6"
      },
      "source": [
        "anaálisis exploratorio de datos\n",
        "tiempo invertido\n",
        "tikets recibidos\n",
        "\n"
      ]
    },
    {
      "cell_type": "markdown",
      "metadata": {
        "id": "-7ViZcPVPLiU"
      },
      "source": [
        "revisar carga de trabajo por agente y promedios de atención por módulo"
      ]
    },
    {
      "cell_type": "markdown",
      "metadata": {
        "id": "MG7lswAtPLXp"
      },
      "source": [
        "recomendación de mejor agente para un módulo"
      ]
    }
  ]
}