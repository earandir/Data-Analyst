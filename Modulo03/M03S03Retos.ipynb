{
  "nbformat": 4,
  "nbformat_minor": 0,
  "metadata": {
    "colab": {
      "name": "M03S03Retos.ipynb",
      "provenance": [],
      "collapsed_sections": []
    },
    "kernelspec": {
      "name": "python3",
      "display_name": "Python 3"
    },
    "language_info": {
      "name": "python"
    }
  },
  "cells": [
    {
      "cell_type": "markdown",
      "metadata": {
        "id": "7KMGwS_3LcHf"
      },
      "source": [
        "#Módulo 03 - Sesión 03 - Retos"
      ]
    },
    {
      "cell_type": "markdown",
      "metadata": {
        "id": "q1etin22LhKL"
      },
      "source": [
        "\n",
        "---\n",
        "## Reto 01 Map"
      ]
    },
    {
      "cell_type": "markdown",
      "metadata": {
        "id": "P9ssj9_oLlws"
      },
      "source": [
        "Reto 01 a) Proporción de porcentajes"
      ]
    },
    {
      "cell_type": "code",
      "metadata": {
        "id": "GPludEIPMg_t"
      },
      "source": [
        "def imprimir_proporciones_en_equivalencia_a_porcentajes(proporciones, porcentajes):\n",
        "    \n",
        "    print(f'==Proporciones y su equivalencia en porcentajes de 1==\\n')\n",
        "    \n",
        "    for i in range(len(proporciones)):\n",
        "        print(f'- {proporciones[i]} es el {int(porcentajes[i])}% de 1.')"
      ],
      "execution_count": 1,
      "outputs": []
    },
    {
      "cell_type": "code",
      "metadata": {
        "colab": {
          "base_uri": "https://localhost:8080/"
        },
        "id": "2hq7jUo0LTL8",
        "outputId": "086f385d-f6e1-4ec4-e93c-dc0cf7c9a99e"
      },
      "source": [
        "proporciones = [0.45, 0.2, 0.78, 0.4, 0.77, 0.9, 0.4, 0.5, 0.67, 0.24, 0.73]\n",
        "\n",
        "def proporcion_a_porcentajes(proporcion):\n",
        "    return proporcion * 100\n",
        "\n",
        "porcentajes = list(map(proporcion_a_porcentajes, proporciones))\n",
        "\n",
        "\n",
        "imprimir_proporciones_en_equivalencia_a_porcentajes(proporciones, porcentajes)"
      ],
      "execution_count": 2,
      "outputs": [
        {
          "output_type": "stream",
          "text": [
            "==Proporciones y su equivalencia en porcentajes de 1==\n",
            "\n",
            "- 0.45 es el 45% de 1.\n",
            "- 0.2 es el 20% de 1.\n",
            "- 0.78 es el 78% de 1.\n",
            "- 0.4 es el 40% de 1.\n",
            "- 0.77 es el 77% de 1.\n",
            "- 0.9 es el 90% de 1.\n",
            "- 0.4 es el 40% de 1.\n",
            "- 0.5 es el 50% de 1.\n",
            "- 0.67 es el 67% de 1.\n",
            "- 0.24 es el 24% de 1.\n",
            "- 0.73 es el 73% de 1.\n"
          ],
          "name": "stdout"
        }
      ]
    },
    {
      "cell_type": "markdown",
      "metadata": {
        "id": "MKczYGKuL87J"
      },
      "source": [
        "Reto 01 b) Strings a números"
      ]
    },
    {
      "cell_type": "code",
      "metadata": {
        "id": "ym8rdiyUMSnK"
      },
      "source": [
        "# Pega aquí la función de verificación\n",
        "def imprimir_analisis_estadistico(datos):\n",
        "    \n",
        "    def mediana(datos):\n",
        "        datos_sorted = sorted(datos)\n",
        "        len_datos = len(datos)\n",
        "        \n",
        "        if len_datos % 2 == 0:\n",
        "            mediana = (datos_sorted[int(len_datos / 2) - 1] + datos_sorted[int(len_datos / 2)]) / 2\n",
        "        else:\n",
        "            import math\n",
        "            mediana = datos_sorted[int(math.floor(len_datos / 2))]\n",
        "            \n",
        "        return mediana\n",
        "    \n",
        "    print(f'==Análisis estadístico de los datos recibidos==\\n')\n",
        "    print(f'Valor mínimo: {min(datos)}')\n",
        "    print(f'Valor máximo: {max(datos)}')\n",
        "    print(f'Rango de valores: {max(datos) - min(datos)}')\n",
        "    print(f'Promedio: {sum(datos) / len(datos)}')\n",
        "    print(f'Mediana: {mediana(datos)}')"
      ],
      "execution_count": 3,
      "outputs": []
    },
    {
      "cell_type": "code",
      "metadata": {
        "colab": {
          "base_uri": "https://localhost:8080/"
        },
        "id": "uimN5WdDMBWB",
        "outputId": "50855530-3ffd-40ac-e313-c0e1a3ff66c2"
      },
      "source": [
        "numeros_como_strings = [\"3\", \"7\", \"45\", \"89\", \"12\", \"9\", \"5\", \"89\", \"78\", \"87\", \"44\", \"45\", \"26\", \"84\", \"98\", \"46\", \"99\", \"84\"]\n",
        "\n",
        "def string_a_int(string):\n",
        "  return int(string)\n",
        "\n",
        "numeros_como_ints = list(map(string_a_int, numeros_como_strings))\n",
        "\n",
        "imprimir_analisis_estadistico(numeros_como_ints)"
      ],
      "execution_count": 4,
      "outputs": [
        {
          "output_type": "stream",
          "text": [
            "==Análisis estadístico de los datos recibidos==\n",
            "\n",
            "Valor mínimo: 3\n",
            "Valor máximo: 99\n",
            "Rango de valores: 96\n",
            "Promedio: 52.77777777777778\n",
            "Mediana: 45.5\n"
          ],
          "name": "stdout"
        }
      ]
    },
    {
      "cell_type": "markdown",
      "metadata": {
        "id": "2dSpzO7eMttz"
      },
      "source": [
        "---\n",
        "##Reto 02 Filter"
      ]
    },
    {
      "cell_type": "markdown",
      "metadata": {
        "id": "HAmApAW3Mvv8"
      },
      "source": [
        "Reto 02 a) Limpiando datos nulos"
      ]
    },
    {
      "cell_type": "code",
      "metadata": {
        "colab": {
          "base_uri": "https://localhost:8080/",
          "height": 403
        },
        "id": "tlqEjIt8MyGl",
        "outputId": "eccb5f8b-9c5d-4448-ad79-87ed50102e41"
      },
      "source": [
        "edades = [12, 16, 19, None, 21, 25, 24, None, None, 16, 17, 25, 23, 28, None, 23, 35, 59, 67, None, 34, 21, 23, 15, 14, None, 18, 24, 23, 17]\n",
        "\n",
        "## Tu función va aquí\n",
        "def numero_es_null(numero):\n",
        "  if numero is None:\n",
        "    return True\n",
        "  else:\n",
        "    return False  \n",
        "\n",
        "edades_filtradas = list(map(numero_es_null, edades))\n",
        "\n",
        "# Pega aquí la función de verificación\n",
        "def crear_histograma(datos):\n",
        "    import seaborn as sns\n",
        "    import numpy as np\n",
        "    \n",
        "    sns.displot(datos, kde=False, bins=len(np.unique(datos)))\n",
        "\n",
        "crear_histograma(edades_filtradas)"
      ],
      "execution_count": 5,
      "outputs": [
        {
          "output_type": "stream",
          "text": [
            "<string>:6: RuntimeWarning: Converting input from bool to <class 'numpy.uint8'> for compatibility.\n",
            "<string>:6: RuntimeWarning: Converting input from bool to <class 'numpy.uint8'> for compatibility.\n"
          ],
          "name": "stderr"
        },
        {
          "output_type": "display_data",
          "data": {
            "image/png": "[encoded data removed]",
            "text/plain": [
              "<Figure size 360x360 with 1 Axes>"
            ]
          },
          "metadata": {
            "tags": [],
            "needs_background": "light"
          }
        }
      ]
    },
    {
      "cell_type": "markdown",
      "metadata": {
        "id": "57H2ckCtMyTr"
      },
      "source": [
        "Reto 02 b) Filtrando datos atípicos"
      ]
    },
    {
      "cell_type": "code",
      "metadata": {
        "colab": {
          "base_uri": "https://localhost:8080/"
        },
        "id": "bph9yU7oMz6t",
        "outputId": "9e4f1f5c-66c6-42f0-c016-ef3169a47379"
      },
      "source": [
        "sueldos = [26, 32, 26, 30, 30, 32, 28, 30, 28, 110, 34, 30, 28, 26, 28, 30, 28, 85, 25, 30, 34, 34, 30, 30, 120, 28, 28, 120, 125]\n",
        "\n",
        "## Tu función va aquí\n",
        "def numero_es_menor_que_40(numero):\n",
        "  if numero <= 40:\n",
        "    return True\n",
        "  else:\n",
        "    return False\n",
        "\n",
        "sueldos_filtrados = list(filter(numero_es_menor_que_40, sueldos))\n",
        "\n",
        "print(f'El sueldo \"típico\" en EyePoker Inc. es de {sum(sueldos_filtrados) / len(sueldos_filtrados)}')"
      ],
      "execution_count": 6,
      "outputs": [
        {
          "output_type": "stream",
          "text": [
            "El sueldo \"típico\" en EyePoker Inc. es de 29.375\n"
          ],
          "name": "stdout"
        }
      ]
    },
    {
      "cell_type": "markdown",
      "metadata": {
        "id": "iJNHkq7tTyKD"
      },
      "source": [
        "---\n",
        "## Reto 03 And"
      ]
    },
    {
      "cell_type": "markdown",
      "metadata": {
        "id": "L9lUrzpBT1nS"
      },
      "source": [
        "Reto 03 a) Filtrando valores atípicos en ambos extremos."
      ]
    },
    {
      "cell_type": "code",
      "metadata": {
        "colab": {
          "base_uri": "https://localhost:8080/"
        },
        "id": "RrFvhCYnT3Tz",
        "outputId": "316ad2dd-6537-4a41-9c42-55bde4f43e39"
      },
      "source": [
        "sueldos = [26, 32, 26, 1.5, 30, 30, 1, 2, 32, 28, 30, 28, 30, 28, 27, 30, 110, 1.5, 2, 34, 30, 28, 26, 28, 2, 30, 28, 85, 25, 1.5,\n",
        "           1.5, 30, 34, 34, 30, 30, 120, 28, 2, 2, 1.5, 28, 120, 1, 1.5, 125, 2, 1.5, 28, 29, 30, 34, 33, 28, 2, 1, 1.5, 26, 28,\n",
        "          26, 26, 30, 30, 28, 2, 2, 1.5, 2, 1.5, 28, 27, 130, 1.5, 2, 26, 26, 28, 30, 30, 30, 28, 28, 1, 1, 135, 1, 1, 1.5, 2,\n",
        "          2, 2, 1.5, 2]\n",
        "\n",
        "# Aquí va tu primera función\n",
        "def numero_es_mayor_que_20(numero):\n",
        "  if numero > 20:\n",
        "    return True\n",
        "  else:\n",
        "    return False\n",
        "\n",
        "# Aquí va tu segunda función\n",
        "def numero_es_menor_que_40(numero):\n",
        "  if numero <= 40:\n",
        "    return True\n",
        "  else:\n",
        "    return False\n",
        "\n",
        "# Aquí va tu tercera función\n",
        "def numero_entre_20_y_40(numero):\n",
        "  return numero_es_mayor_que_20(numero) and numero_es_menor_que_40(numero)\n",
        "\n",
        "sueldos_filtrados = list(filter(numero_entre_20_y_40, sueldos))\n",
        "\n",
        "print(f'El sueldo \"típico\" en EyePoker Inc. es de {sum(sueldos_filtrados) / len(sueldos_filtrados)}')"
      ],
      "execution_count": 7,
      "outputs": [
        {
          "output_type": "stream",
          "text": [
            "El sueldo \"típico\" en EyePoker Inc. es de 28.96078431372549\n"
          ],
          "name": "stdout"
        }
      ]
    },
    {
      "cell_type": "markdown",
      "metadata": {
        "id": "b6OLV1dVhkKA"
      },
      "source": [
        "---\n",
        "## Reto 04: Or"
      ]
    },
    {
      "cell_type": "markdown",
      "metadata": {
        "id": "df4JZA0YhoXn"
      },
      "source": [
        "Reto 04 a) Filtrando palabras"
      ]
    },
    {
      "cell_type": "code",
      "metadata": {
        "colab": {
          "base_uri": "https://localhost:8080/"
        },
        "id": "o5gWcXTxhs-Y",
        "outputId": "7a0fa99a-2423-4a10-e6ae-dd075ca15560"
      },
      "source": [
        "palabras = ['cabildo', 'genocidio', 'severo', 'jarana', 'enigmático', 'jaguar', 'solidaridad', 'reivindicar', 'bálsamo', 'panteón',\n",
        "            'cabestrillo', 'boicotear', 'letargo', 'jaqueca', 'tentáculo', 'legislar', 'gnomo', 'blasfemia', 'camposanto',\n",
        "            'factible', 'eficaz', 'sintonía', 'lloriquear', 'fachada', 'edificante', 'pétalo', 'libélula', 'pavimento', 'llovizna',\n",
        "            'racimo', 'gargantilla', 'relieve', 'bóveda', 'tecnicismo', 'terraplén', 'basílica']\n",
        "\n",
        "def starts_with_l(text):\n",
        "    return text[0] == \"l\"\n",
        " \n",
        "def starts_with_g(text):\n",
        "    return text[0] == \"g\"\n",
        " \n",
        "def starts_with_b(text):\n",
        "    return text[0] == \"b\"\n",
        " \n",
        "def starts_with_t(text):\n",
        "    return text[0] == \"t\"\n",
        " \n",
        "def starts_with_lgbt(text):\n",
        "    return starts_with_l(text) or starts_with_g(text) or starts_with_b(text) or starts_with_t(text)\n",
        " \n",
        "palabras_filtradas = list(filter(starts_with_lgbt, palabras))\n",
        "\n",
        "print(f'Palabras válidas: {palabras_filtradas}')"
      ],
      "execution_count": 8,
      "outputs": [
        {
          "output_type": "stream",
          "text": [
            "Palabras válidas: ['genocidio', 'bálsamo', 'boicotear', 'letargo', 'tentáculo', 'legislar', 'gnomo', 'blasfemia', 'lloriquear', 'libélula', 'llovizna', 'gargantilla', 'bóveda', 'tecnicismo', 'terraplén', 'basílica']\n"
          ],
          "name": "stdout"
        }
      ]
    },
    {
      "cell_type": "markdown",
      "metadata": {
        "id": "a_WsyLPvoqj9"
      },
      "source": [
        "---\n",
        "## Reto 05: Lambda"
      ]
    },
    {
      "cell_type": "markdown",
      "metadata": {
        "id": "Rv9xp332o18H"
      },
      "source": [
        "Reto 05 a) Conteo de votos"
      ]
    },
    {
      "cell_type": "code",
      "metadata": {
        "colab": {
          "base_uri": "https://localhost:8080/"
        },
        "id": "dv9ScW3yo77a",
        "outputId": "d20a0293-1619-4ed1-c199-eb548fce5f1f"
      },
      "source": [
        "votos = ['AI', 'CC', 'CC', 'CC', 'CC', 'CC', 'CC', 'CC', 'CC', 'CC', 'CC', 'CC', 'CC', 'AI', 'CC', 'CC', 'CC', 'AI', 'AI', 'AI'\n",
        "         , 'CC', 'AI', 'AI', 'CC', 'CC', 'CC', 'AI', 'CC', 'CC', 'AI', 'AI', 'CC', 'CC', 'CC', 'CC', 'CC', 'CC', 'CC', 'CC',\n",
        "         'CC', 'CC', 'CC', 'CC', 'AI', 'CC', 'CC', 'CC', 'CC', 'CC', 'CC', 'CC', 'CC', 'AI', 'AI', 'AI', 'CC', 'AI', 'CC', 'CC',\n",
        "         'CC', 'AI', 'CC', 'AI', 'CC', 'AI', 'CC', 'CC', 'CC', 'CC', 'CC', 'CC', 'CC', 'CC', 'AI', 'CC', 'CC', 'CC', 'CC', 'AI',\n",
        "         'CC', 'CC', 'CC', 'CC', 'CC', 'AI', 'CC', 'CC', 'CC', 'CC', 'CC', 'CC', 'CC', 'CC', 'AI', 'AI', 'CC', 'CC', 'CC', 'CC',\n",
        "         'CC', 'CC', 'CC', 'CC', 'AI', 'CC', 'CC', 'CC', 'CC', 'AI', 'CC', 'AI', 'CC', 'AI', 'CC', 'CC', 'AI', 'AI', 'CC', 'CC',\n",
        "         'CC', 'AI', 'CC', 'CC', 'CC', 'CC', 'CC', 'CC', 'CC', 'CC', 'CC', 'CC', 'CC', 'CC', 'CC', 'CC', 'CC', 'CC', 'CC', 'CC',\n",
        "         'CC', 'AI', 'CC', 'AI', 'CC', 'CC', 'CC', 'CC', 'AI', 'CC', 'CC', 'CC', 'CC', 'CC', 'CC', 'CC', 'CC', 'CC', 'CC', 'CC', \n",
        "         'AI', 'AI', 'AI', 'AI', 'CC', 'AI', 'CC', 'AI', 'AI', 'CC', 'CC', 'AI', 'CC', 'CC', 'CC', 'CC', 'CC', 'CC', 'CC', 'CC',\n",
        "         'AI', 'CC', 'CC', 'CC', 'CC', 'CC', 'CC', 'CC', 'CC', 'CC', 'CC', 'AI', 'CC', 'AI', 'CC', 'CC', 'AI', 'CC', 'AI', 'AI',\n",
        "         'AI', 'CC', 'CC', 'AI', 'CC', 'CC', 'CC', 'CC', 'CC', 'CC', 'AI', 'CC', 'CC', 'CC', 'CC', 'CC', 'CC', 'CC', 'AI', 'CC',\n",
        "         'AI', 'AI', 'CC', 'CC', 'CC', 'AI', 'AI', 'AI', 'CC', 'AI', 'CC', 'CC', 'AI', 'CC', 'CC', 'AI', 'AI', 'CC', 'CC', 'CC',\n",
        "         'CC', 'AI', 'AI', 'CC', 'CC', 'AI', 'AI', 'AI', 'CC', 'AI', 'CC', 'CC', 'CC', 'CC', 'CC', 'CC', 'CC', 'CC', 'CC', 'AI',\n",
        "         'AI', 'CC', 'CC', 'CC', 'CC', 'AI', 'CC', 'AI', 'AI', 'CC', 'CC', 'CC', 'CC', 'CC', 'CC', 'CC', 'AI', 'CC', 'AI', 'CC',\n",
        "         'CC', 'CC', 'CC', 'CC', 'AI', 'CC', 'CC', 'CC', 'CC', 'CC', 'CC', 'CC', 'CC', 'CC', 'AI', 'CC', 'CC', 'CC', 'AI', 'CC',\n",
        "         'AI', 'CC', 'CC', 'AI', 'AI', 'CC', 'CC', 'AI', 'CC', 'CC', 'CC', 'AI', 'CC', 'CC', 'AI', 'CC', 'AI', 'CC', 'AI', 'CC',\n",
        "         'AI', 'AI', 'AI', 'CC', 'CC', 'CC', 'CC', 'CC', 'AI', 'CC', 'CC', 'CC', 'AI', 'CC', 'AI', 'CC', 'CC', 'CC', 'AI', 'AI',\n",
        "         'CC', 'CC', 'CC', 'CC', 'CC', 'AI', 'CC', 'AI', 'AI', 'CC', 'CC', 'CC', 'AI', 'CC', 'CC', 'CC', 'CC', 'CC', 'CC', 'CC',\n",
        "         'AI', 'AI', 'AI', 'AI', 'CC', 'CC', 'AI', 'CC', 'CC', 'CC', 'CC', 'CC', 'CC', 'CC', 'AI', 'AI', 'CC', 'CC', 'CC', 'CC',\n",
        "         'AI', 'AI', 'CC', 'CC', 'CC', 'CC', 'CC', 'CC', 'CC', 'CC', 'CC', 'AI', 'CC', 'CC', 'AI', 'CC', 'CC', 'CC', 'CC', 'AI',\n",
        "         'CC', 'CC', 'AI', 'CC', 'AI', 'CC', 'CC', 'AI', 'CC', 'AI', 'CC', 'CC', 'CC', 'AI', 'CC', 'CC', 'AI', 'AI', 'CC', 'CC',\n",
        "         'CC', 'CC', 'CC', 'AI', 'CC', 'CC', 'CC', 'AI', 'CC', 'AI', 'CC', 'CC', 'CC', 'CC', 'CC', 'AI', 'CC', 'CC', 'AI', 'CC',\n",
        "         'AI', 'CC', 'CC', 'CC', 'AI', 'CC', 'AI']\n",
        "\n",
        "def votos_de_ai(voto):\n",
        "    return voto == \"AI\"\n",
        " \n",
        "votos_ai = list(filter(votos_de_ai, votos))\n",
        " \n",
        "votos_cc = list(filter(lambda x: not votos_de_ai(x), votos))\n",
        "\n",
        "print(f'== Resultados de la votación para el Proyecto Comunitario 2025 ==\\n')\n",
        "print(f'{(\"Proyecto\"):25}   Conteo')\n",
        "print(f'---------------------------------------')\n",
        "print(f'{(\"- Ética en AI\"):25} | {len(votos_ai)}')\n",
        "print(f'{(\"- Cambio Climático\"):25} | {len(votos_cc)}')\n",
        "print(f'---------------------------------------')\n",
        "print(f'{(\"- Total\"):25} | {len(votos_ai) + len(votos_cc)}')"
      ],
      "execution_count": 9,
      "outputs": [
        {
          "output_type": "stream",
          "text": [
            "== Resultados de la votación para el Proyecto Comunitario 2025 ==\n",
            "\n",
            "Proyecto                    Conteo\n",
            "---------------------------------------\n",
            "- Ética en AI             | 123\n",
            "- Cambio Climático        | 323\n",
            "---------------------------------------\n",
            "- Total                   | 446\n"
          ],
          "name": "stdout"
        }
      ]
    }
  ]
}