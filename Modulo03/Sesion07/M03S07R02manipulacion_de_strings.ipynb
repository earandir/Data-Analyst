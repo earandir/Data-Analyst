{
  "nbformat": 4,
  "nbformat_minor": 0,
  "metadata": {
    "kernelspec": {
      "display_name": "Python 3",
      "language": "python",
      "name": "python3"
    },
    "language_info": {
      "codemirror_mode": {
        "name": "ipython",
        "version": 3
      },
      "file_extension": ".py",
      "mimetype": "text/x-python",
      "name": "python",
      "nbconvert_exporter": "python",
      "pygments_lexer": "ipython3",
      "version": "3.7.4"
    },
    "colab": {
      "name": "M03S07E02manipulacion_de_strings.ipynb",
      "provenance": [],
      "collapsed_sections": [],
      "include_colab_link": true
    }
  },
  "cells": [
    {
      "cell_type": "markdown",
      "metadata": {
        "id": "view-in-github",
        "colab_type": "text"
      },
      "source": [
        "<a href=\"https://colab.research.google.com/github/earandir/DataAnalysis/blob/main/Modulo03/Sesion07/M03S07R02manipulacion_de_strings.ipynb\" target=\"_parent\"><img src=\"https://colab.research.google.com/assets/colab-badge.svg\" alt=\"Open In Colab\"/></a>"
      ]
    },
    {
      "cell_type": "markdown",
      "metadata": {
        "id": "6iJwOsKzdlBd"
      },
      "source": [
        "## Reto 2: Manipulación de Strings\n",
        "\n",
        "### 1. Objetivos:\n",
        "    - Practicar manipular `strings` usando métodos como `split`, `title`, `strip, etc.\n",
        " \n",
        "---\n",
        "    \n",
        "### 2. Desarrollo:"
      ]
    },
    {
      "cell_type": "code",
      "metadata": {
        "id": "NTvl_7jHdlBZ"
      },
      "source": [
        "import pandas as pd"
      ],
      "execution_count": 1,
      "outputs": []
    },
    {
      "cell_type": "code",
      "metadata": {
        "colab": {
          "base_uri": "https://localhost:8080/"
        },
        "id": "aRQwzfjDK-a1",
        "outputId": "6af14b0f-9ac3-47ac-c670-a6396ebbf090"
      },
      "source": [
        "from google.colab import drive\n",
        "drive.mount('/content/drive')"
      ],
      "execution_count": 2,
      "outputs": [
        {
          "output_type": "stream",
          "text": [
            "Mounted at /content/drive\n"
          ],
          "name": "stdout"
        }
      ]
    },
    {
      "cell_type": "markdown",
      "metadata": {
        "id": "PhKwJmMLdlBd"
      },
      "source": [
        "---\n",
        "---"
      ]
    },
    {
      "cell_type": "code",
      "metadata": {
        "id": "r70WrXNbsB9B"
      },
      "source": [
        "data = '/content/drive/MyDrive/DataAnalysis/new_york_times_bestsellers-clean.csv'"
      ],
      "execution_count": 3,
      "outputs": []
    },
    {
      "cell_type": "code",
      "metadata": {
        "id": "KQUrap2OsGNa"
      },
      "source": [
        "df_reto_2 = pd.read_csv(data, index_col=0)"
      ],
      "execution_count": 4,
      "outputs": []
    },
    {
      "cell_type": "code",
      "metadata": {
        "id": "tc7roTT6dlBe",
        "outputId": "3cab94ea-ab17-411e-bef5-70653a2a7d24",
        "colab": {
          "base_uri": "https://localhost:8080/",
          "height": 281
        }
      },
      "source": [
        "# examina\n",
        "df_reto_2.head(3)"
      ],
      "execution_count": 6,
      "outputs": [
        {
          "output_type": "execute_result",
          "data": {
            "text/html": [
              "<div>\n",
              "<style scoped>\n",
              "    .dataframe tbody tr th:only-of-type {\n",
              "        vertical-align: middle;\n",
              "    }\n",
              "\n",
              "    .dataframe tbody tr th {\n",
              "        vertical-align: top;\n",
              "    }\n",
              "\n",
              "    .dataframe thead th {\n",
              "        text-align: right;\n",
              "    }\n",
              "</style>\n",
              "<table border=\"1\" class=\"dataframe\">\n",
              "  <thead>\n",
              "    <tr style=\"text-align: right;\">\n",
              "      <th></th>\n",
              "      <th>id_name</th>\n",
              "      <th>is_potentially_hazardous_asteroid</th>\n",
              "      <th>estimated_diameter.meters.estimated_diameter_min</th>\n",
              "      <th>estimated_diameter.meters.estimated_diameter_max</th>\n",
              "      <th>close_approach_date</th>\n",
              "      <th>epoch_date_close_approach</th>\n",
              "      <th>orbiting_body</th>\n",
              "      <th>relative_velocity.kilometers_per_second</th>\n",
              "      <th>relative_velocity.kilometers_per_hour</th>\n",
              "      <th>orbit_class_description</th>\n",
              "    </tr>\n",
              "  </thead>\n",
              "  <tbody>\n",
              "    <tr>\n",
              "      <th>0</th>\n",
              "      <td>2154652-154652 (2004 EP20)</td>\n",
              "      <td>False</td>\n",
              "      <td>483.676488</td>\n",
              "      <td>1081.533507</td>\n",
              "      <td>1995-01-07</td>\n",
              "      <td>1995-01-07 08:33:00</td>\n",
              "      <td>earth</td>\n",
              "      <td>16.142864</td>\n",
              "      <td>58114.308667</td>\n",
              "      <td>Near-Earth-asteroid-orbits-similar-to-that-o...</td>\n",
              "    </tr>\n",
              "    <tr>\n",
              "      <th>1</th>\n",
              "      <td>3153509-(2003 HM)</td>\n",
              "      <td>True</td>\n",
              "      <td>96.506147</td>\n",
              "      <td>215.794305</td>\n",
              "      <td>1995-01-07</td>\n",
              "      <td>1995-01-07 15:09:00</td>\n",
              "      <td>earth</td>\n",
              "      <td>12.351044</td>\n",
              "      <td>44463.757734</td>\n",
              "      <td>Near-Earth-asteroid-orbits-which-cross-the-E...</td>\n",
              "    </tr>\n",
              "    <tr>\n",
              "      <th>3</th>\n",
              "      <td>3837644-(2019 AY3)</td>\n",
              "      <td>False</td>\n",
              "      <td>46.190746</td>\n",
              "      <td>103.285648</td>\n",
              "      <td>1995-01-07</td>\n",
              "      <td>1995-01-07 21:25:00</td>\n",
              "      <td>earth</td>\n",
              "      <td>22.478615</td>\n",
              "      <td>80923.015021</td>\n",
              "      <td>Near-Earth-asteroid-orbits-similar-to-that-o...</td>\n",
              "    </tr>\n",
              "  </tbody>\n",
              "</table>\n",
              "</div>"
            ],
            "text/plain": [
              "                      id_name  ...                            orbit_class_description\n",
              "0  2154652-154652 (2004 EP20)  ...    Near-Earth-asteroid-orbits-similar-to-that-o...\n",
              "1           3153509-(2003 HM)  ...    Near-Earth-asteroid-orbits-which-cross-the-E...\n",
              "3          3837644-(2019 AY3)  ...    Near-Earth-asteroid-orbits-similar-to-that-o...\n",
              "\n",
              "[3 rows x 10 columns]"
            ]
          },
          "metadata": {
            "tags": []
          },
          "execution_count": 6
        }
      ]
    },
    {
      "cell_type": "markdown",
      "metadata": {
        "id": "ixSRvsRJdlBd"
      },
      "source": [
        "#### a) Limpiando texto\n",
        "\n",
        "Vamos a trabajar en la versión del dataset que guardaste en el reto pasado. Las acciones que tienes que tomar en este Reto son las siguientes:\n",
        "\n",
        "1. Reemplaza los guiones en las `strings` de la columna `orbit_class_description` por espacios.\n"
      ]
    },
    {
      "cell_type": "code",
      "metadata": {
        "id": "_3ASfMm_dlBe",
        "outputId": "fe0b81bd-8b72-4a16-96c4-226ca15fe513",
        "colab": {
          "base_uri": "https://localhost:8080/"
        }
      },
      "source": [
        "# remplaza\n",
        "df_reto_2['orbit_class_description'].str.replace('-', ' ')"
      ],
      "execution_count": 11,
      "outputs": [
        {
          "output_type": "execute_result",
          "data": {
            "text/plain": [
              "0        Near Earth asteroid orbits similar to that o...\n",
              "1        Near Earth asteroid orbits which cross the E...\n",
              "3        Near Earth asteroid orbits similar to that o...\n",
              "4       Near Earth asteroid orbits similar to that of...\n",
              "5       An asteroid orbit contained entirely within t...\n",
              "                             ...                        \n",
              "327     Near Earth asteroid orbits similar to that of...\n",
              "328      Near Earth asteroid orbits similar to that o...\n",
              "329      Near Earth asteroid orbits which cross the E...\n",
              "330     An asteroid orbit contained entirely within t...\n",
              "331      Near Earth asteroid orbits similar to that o...\n",
              "Name: orbit_class_description, Length: 301, dtype: object"
            ]
          },
          "metadata": {
            "tags": []
          },
          "execution_count": 11
        }
      ]
    },
    {
      "cell_type": "code",
      "metadata": {
        "id": "cY5hUt9TdlBe",
        "outputId": "7b189741-2c4c-4b15-e17b-fa7f15617e93",
        "colab": {
          "base_uri": "https://localhost:8080/",
          "height": 35
        }
      },
      "source": [
        "# reasigna\n",
        "df_reto_2['orbit_class_description'] = df_reto_2['orbit_class_description'].str.replace('-', ' ')\n",
        "\n",
        "df_reto_2[\"orbit_class_description\"].loc[0]"
      ],
      "execution_count": 12,
      "outputs": [
        {
          "output_type": "execute_result",
          "data": {
            "application/vnd.google.colaboratory.intrinsic+json": {
              "type": "string"
            },
            "text/plain": [
              "'  Near Earth asteroid orbits similar to that of 2062 Aten  '"
            ]
          },
          "metadata": {
            "tags": []
          },
          "execution_count": 12
        }
      ]
    },
    {
      "cell_type": "markdown",
      "metadata": {
        "id": "1C9m2nwqsqmJ"
      },
      "source": [
        "2. Elimina los espacios vacíos al principio y final de las `strings` de la misma columna."
      ]
    },
    {
      "cell_type": "code",
      "metadata": {
        "id": "ZHRpolXTdlBe",
        "outputId": "14cc936a-cf15-45bb-f1bf-9264d2ac51ea",
        "colab": {
          "base_uri": "https://localhost:8080/",
          "height": 35
        }
      },
      "source": [
        "# elimina espacios en blanco\n",
        "df_reto_2['orbit_class_description'] = df_reto_2['orbit_class_description'].str.strip()\n",
        "\n",
        "df_reto_2[\"orbit_class_description\"].loc[0]"
      ],
      "execution_count": 13,
      "outputs": [
        {
          "output_type": "execute_result",
          "data": {
            "application/vnd.google.colaboratory.intrinsic+json": {
              "type": "string"
            },
            "text/plain": [
              "'Near Earth asteroid orbits similar to that of 2062 Aten'"
            ]
          },
          "metadata": {
            "tags": []
          },
          "execution_count": 13
        }
      ]
    },
    {
      "cell_type": "markdown",
      "metadata": {
        "id": "dab5gVdZsoh_"
      },
      "source": [
        "3. Hay una columna llamada `id_name` que contiene el 'id' y el nombre de cada objeto separados por un guión. Separa estos datos en dos columnas llamadas `id` y `name`.\n"
      ]
    },
    {
      "cell_type": "code",
      "metadata": {
        "id": "PjY23Ie2dlBe",
        "outputId": "4df9545c-5072-48d1-9375-59e427e9c776",
        "colab": {
          "base_uri": "https://localhost:8080/",
          "height": 281
        }
      },
      "source": [
        "# separa por guiones\n",
        "df_reto_2[['id', 'name']] = df_reto_2['id_name'].str.split('-', expand=True)\n",
        "\n",
        "df_reto_2.head(3)"
      ],
      "execution_count": 18,
      "outputs": [
        {
          "output_type": "execute_result",
          "data": {
            "text/html": [
              "<div>\n",
              "<style scoped>\n",
              "    .dataframe tbody tr th:only-of-type {\n",
              "        vertical-align: middle;\n",
              "    }\n",
              "\n",
              "    .dataframe tbody tr th {\n",
              "        vertical-align: top;\n",
              "    }\n",
              "\n",
              "    .dataframe thead th {\n",
              "        text-align: right;\n",
              "    }\n",
              "</style>\n",
              "<table border=\"1\" class=\"dataframe\">\n",
              "  <thead>\n",
              "    <tr style=\"text-align: right;\">\n",
              "      <th></th>\n",
              "      <th>id_name</th>\n",
              "      <th>is_potentially_hazardous_asteroid</th>\n",
              "      <th>estimated_diameter.meters.estimated_diameter_min</th>\n",
              "      <th>estimated_diameter.meters.estimated_diameter_max</th>\n",
              "      <th>close_approach_date</th>\n",
              "      <th>epoch_date_close_approach</th>\n",
              "      <th>orbiting_body</th>\n",
              "      <th>relative_velocity.kilometers_per_second</th>\n",
              "      <th>relative_velocity.kilometers_per_hour</th>\n",
              "      <th>orbit_class_description</th>\n",
              "      <th>id</th>\n",
              "      <th>name</th>\n",
              "    </tr>\n",
              "  </thead>\n",
              "  <tbody>\n",
              "    <tr>\n",
              "      <th>0</th>\n",
              "      <td>2154652-154652 (2004 EP20)</td>\n",
              "      <td>False</td>\n",
              "      <td>483.676488</td>\n",
              "      <td>1081.533507</td>\n",
              "      <td>1995-01-07</td>\n",
              "      <td>1995-01-07 08:33:00</td>\n",
              "      <td>earth</td>\n",
              "      <td>16.142864</td>\n",
              "      <td>58114.308667</td>\n",
              "      <td>Near Earth asteroid orbits similar to that of ...</td>\n",
              "      <td>2154652</td>\n",
              "      <td>154652 (2004 EP20)</td>\n",
              "    </tr>\n",
              "    <tr>\n",
              "      <th>1</th>\n",
              "      <td>3153509-(2003 HM)</td>\n",
              "      <td>True</td>\n",
              "      <td>96.506147</td>\n",
              "      <td>215.794305</td>\n",
              "      <td>1995-01-07</td>\n",
              "      <td>1995-01-07 15:09:00</td>\n",
              "      <td>earth</td>\n",
              "      <td>12.351044</td>\n",
              "      <td>44463.757734</td>\n",
              "      <td>Near Earth asteroid orbits which cross the Ear...</td>\n",
              "      <td>3153509</td>\n",
              "      <td>(2003 HM)</td>\n",
              "    </tr>\n",
              "    <tr>\n",
              "      <th>3</th>\n",
              "      <td>3837644-(2019 AY3)</td>\n",
              "      <td>False</td>\n",
              "      <td>46.190746</td>\n",
              "      <td>103.285648</td>\n",
              "      <td>1995-01-07</td>\n",
              "      <td>1995-01-07 21:25:00</td>\n",
              "      <td>earth</td>\n",
              "      <td>22.478615</td>\n",
              "      <td>80923.015021</td>\n",
              "      <td>Near Earth asteroid orbits similar to that of ...</td>\n",
              "      <td>3837644</td>\n",
              "      <td>(2019 AY3)</td>\n",
              "    </tr>\n",
              "  </tbody>\n",
              "</table>\n",
              "</div>"
            ],
            "text/plain": [
              "                      id_name  ...                name\n",
              "0  2154652-154652 (2004 EP20)  ...  154652 (2004 EP20)\n",
              "1           3153509-(2003 HM)  ...           (2003 HM)\n",
              "3          3837644-(2019 AY3)  ...          (2019 AY3)\n",
              "\n",
              "[3 rows x 12 columns]"
            ]
          },
          "metadata": {
            "tags": []
          },
          "execution_count": 18
        }
      ]
    },
    {
      "cell_type": "markdown",
      "metadata": {
        "id": "YxubUxgPsvTZ"
      },
      "source": [
        "4. Haz que las `strings` de la columna `orbiting_body` empiecen con mayúscula.\n"
      ]
    },
    {
      "cell_type": "code",
      "metadata": {
        "id": "yqH6io3OdlBf",
        "outputId": "b2bc92c2-e57a-41f6-85c8-a7d05544318c",
        "colab": {
          "base_uri": "https://localhost:8080/"
        }
      },
      "source": [
        "# cambia a títulos\n",
        "df_reto_2[\"orbiting_body\"].str.capitalize()"
      ],
      "execution_count": 26,
      "outputs": [
        {
          "output_type": "execute_result",
          "data": {
            "text/plain": [
              "0      Earth\n",
              "1      Earth\n",
              "3      Earth\n",
              "4      Earth\n",
              "5      Earth\n",
              "       ...  \n",
              "327    Earth\n",
              "328    Earth\n",
              "329    Earth\n",
              "330    Earth\n",
              "331    Earth\n",
              "Name: orbiting_body, Length: 301, dtype: object"
            ]
          },
          "metadata": {
            "tags": []
          },
          "execution_count": 26
        }
      ]
    },
    {
      "cell_type": "markdown",
      "metadata": {
        "id": "cy1xbVsIszVf"
      },
      "source": [
        "5. Asigna el `DataFrame` resultante a la variable `df_reto_2`.\n"
      ]
    },
    {
      "cell_type": "code",
      "metadata": {
        "id": "4iJ_Koybs1K9",
        "outputId": "648935a0-16c1-4bef-f5ec-c2ca9c03c22c",
        "colab": {
          "base_uri": "https://localhost:8080/"
        }
      },
      "source": [
        "df_reto_2[\"orbiting_body\"] = df_reto_2[\"orbiting_body\"].str.capitalize()\n",
        "\n",
        "df_reto_2[\"orbiting_body\"]"
      ],
      "execution_count": 27,
      "outputs": [
        {
          "output_type": "execute_result",
          "data": {
            "text/plain": [
              "0      Earth\n",
              "1      Earth\n",
              "3      Earth\n",
              "4      Earth\n",
              "5      Earth\n",
              "       ...  \n",
              "327    Earth\n",
              "328    Earth\n",
              "329    Earth\n",
              "330    Earth\n",
              "331    Earth\n",
              "Name: orbiting_body, Length: 301, dtype: object"
            ]
          },
          "metadata": {
            "tags": []
          },
          "execution_count": 27
        }
      ]
    },
    {
      "cell_type": "markdown",
      "metadata": {
        "id": "6q0C05fzs1or"
      },
      "source": [
        "6. Guarda tu resultado en un archivo .csv."
      ]
    },
    {
      "cell_type": "code",
      "metadata": {
        "id": "XoYbw9O8dlBf"
      },
      "source": [
        "# guarda en el archivo objetos_cercanos_2.csv\n",
        "path = '/content/drive/MyDrive/DataAnalysis/objetos_cercanos_2.csv'\n",
        "df_reto_2.to_csv(path)"
      ],
      "execution_count": 29,
      "outputs": []
    },
    {
      "cell_type": "markdown",
      "metadata": {
        "id": "_UdcYWzKdlBf"
      },
      "source": [
        "¡Compara con el Ingeniero de Datos de tu confianza y si coinciden entonces envíen su respuesta!"
      ]
    }
  ]
}