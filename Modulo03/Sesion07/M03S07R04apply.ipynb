{
  "nbformat": 4,
  "nbformat_minor": 0,
  "metadata": {
    "kernelspec": {
      "display_name": "Python 3",
      "language": "python",
      "name": "python3"
    },
    "language_info": {
      "codemirror_mode": {
        "name": "ipython",
        "version": 3
      },
      "file_extension": ".py",
      "mimetype": "text/x-python",
      "name": "python",
      "nbconvert_exporter": "python",
      "pygments_lexer": "ipython3",
      "version": "3.7.4"
    },
    "colab": {
      "name": "M03S07E04apply.ipynb",
      "provenance": [],
      "collapsed_sections": [],
      "include_colab_link": true
    }
  },
  "cells": [
    {
      "cell_type": "markdown",
      "metadata": {
        "id": "view-in-github",
        "colab_type": "text"
      },
      "source": [
        "<a href=\"https://colab.research.google.com/github/earandir/DataAnalysis/blob/main/Modulo03/Sesion07/M03S07R04apply.ipynb\" target=\"_parent\"><img src=\"https://colab.research.google.com/assets/colab-badge.svg\" alt=\"Open In Colab\"/></a>"
      ]
    },
    {
      "cell_type": "markdown",
      "metadata": {
        "id": "EOlK-jPymLrU"
      },
      "source": [
        "## Reto 4: Apply\n",
        "\n",
        "### 1. Objetivos:\n",
        "    - Practicar el uso del método `apply` para obtener columnas nuevas a partir de columnas existentes\n",
        "    \n",
        "### 2. Desarrollo:"
      ]
    },
    {
      "cell_type": "code",
      "metadata": {
        "id": "teKr7x30mLrQ"
      },
      "source": [
        "import pandas as pd\n",
        "import numpy as np"
      ],
      "execution_count": 16,
      "outputs": []
    },
    {
      "cell_type": "code",
      "metadata": {
        "colab": {
          "base_uri": "https://localhost:8080/"
        },
        "id": "aRQwzfjDK-a1",
        "outputId": "e6124925-9f66-4968-88f5-d784bc0b0c05"
      },
      "source": [
        "from google.colab import drive\n",
        "drive.mount('/content/drive')"
      ],
      "execution_count": 17,
      "outputs": [
        {
          "output_type": "stream",
          "text": [
            "Mounted at /content/drive\n"
          ],
          "name": "stdout"
        }
      ]
    },
    {
      "cell_type": "markdown",
      "metadata": {
        "id": "pHVmePVBmLrU"
      },
      "source": [
        "---\n",
        "---"
      ]
    },
    {
      "cell_type": "markdown",
      "metadata": {
        "id": "5kNfxvaPmLrU"
      },
      "source": [
        "#### a) Obteniendo columnas nuevas a partir de existentes\n",
        "\n",
        "Vamos a trabajar con el dataset que guardaste de tu Reto anterior. Esta vez tu Reto es el siguiente:\n",
        "\n",
        "1. Crea una función que reciba un valor (en este caso el diámetro en metros de un objeto espacial) y regrese la proporción de ese valor en comparación con el diámetro de la Tierra. El diámetro de la Tierra es de 12,742 km. Así que el diámetro de un objeto que mida 10000 metros corresponde a un valor de 0.00078 en proporción al diámetro de la Tierra.\n"
      ]
    },
    {
      "cell_type": "code",
      "metadata": {
        "id": "yvkWBAn_mLrU",
        "colab": {
          "base_uri": "https://localhost:8080/",
          "height": 281
        },
        "outputId": "13fffb03-aed1-4ccd-cb0a-88d117737419"
      },
      "source": [
        "df_reto_4 = pd.read_csv('/content/drive/MyDrive/DataAnalysis/objetos_cercanos_3.csv', index_col=0)\n",
        "df_reto_4.head(3)"
      ],
      "execution_count": 19,
      "outputs": [
        {
          "output_type": "execute_result",
          "data": {
            "text/html": [
              "<div>\n",
              "<style scoped>\n",
              "    .dataframe tbody tr th:only-of-type {\n",
              "        vertical-align: middle;\n",
              "    }\n",
              "\n",
              "    .dataframe tbody tr th {\n",
              "        vertical-align: top;\n",
              "    }\n",
              "\n",
              "    .dataframe thead th {\n",
              "        text-align: right;\n",
              "    }\n",
              "</style>\n",
              "<table border=\"1\" class=\"dataframe\">\n",
              "  <thead>\n",
              "    <tr style=\"text-align: right;\">\n",
              "      <th></th>\n",
              "      <th>id_name</th>\n",
              "      <th>is_potentially_hazardous_asteroid</th>\n",
              "      <th>estimated_diameter.meters.estimated_diameter_min</th>\n",
              "      <th>estimated_diameter.meters.estimated_diameter_max</th>\n",
              "      <th>close_approach_date</th>\n",
              "      <th>epoch_date_close_approach</th>\n",
              "      <th>orbiting_body</th>\n",
              "      <th>relative_velocity.kilometers_per_second</th>\n",
              "      <th>relative_velocity.kilometers_per_hour</th>\n",
              "      <th>orbit_class_description</th>\n",
              "      <th>id</th>\n",
              "      <th>name</th>\n",
              "      <th>relative_velocity.kilometers_per_minute</th>\n",
              "    </tr>\n",
              "  </thead>\n",
              "  <tbody>\n",
              "    <tr>\n",
              "      <th>0</th>\n",
              "      <td>2154652-154652 (2004 EP20)</td>\n",
              "      <td>0</td>\n",
              "      <td>483.676488</td>\n",
              "      <td>1081.533507</td>\n",
              "      <td>1995-01-07</td>\n",
              "      <td>1995-01-07 08:33:00</td>\n",
              "      <td>Earth</td>\n",
              "      <td>16.142864</td>\n",
              "      <td>58114.308667</td>\n",
              "      <td>Near Earth asteroid orbits similar to that of ...</td>\n",
              "      <td>2154652</td>\n",
              "      <td>154652 (2004 EP20)</td>\n",
              "      <td>968.571811</td>\n",
              "    </tr>\n",
              "    <tr>\n",
              "      <th>1</th>\n",
              "      <td>3153509-(2003 HM)</td>\n",
              "      <td>1</td>\n",
              "      <td>96.506147</td>\n",
              "      <td>215.794305</td>\n",
              "      <td>1995-01-07</td>\n",
              "      <td>1995-01-07 15:09:00</td>\n",
              "      <td>Earth</td>\n",
              "      <td>12.351044</td>\n",
              "      <td>44463.757734</td>\n",
              "      <td>Near Earth asteroid orbits which cross the Ear...</td>\n",
              "      <td>3153509</td>\n",
              "      <td>(2003 HM)</td>\n",
              "      <td>741.062629</td>\n",
              "    </tr>\n",
              "    <tr>\n",
              "      <th>3</th>\n",
              "      <td>3837644-(2019 AY3)</td>\n",
              "      <td>0</td>\n",
              "      <td>46.190746</td>\n",
              "      <td>103.285648</td>\n",
              "      <td>1995-01-07</td>\n",
              "      <td>1995-01-07 21:25:00</td>\n",
              "      <td>Earth</td>\n",
              "      <td>22.478615</td>\n",
              "      <td>80923.015021</td>\n",
              "      <td>Near Earth asteroid orbits similar to that of ...</td>\n",
              "      <td>3837644</td>\n",
              "      <td>(2019 AY3)</td>\n",
              "      <td>1348.716917</td>\n",
              "    </tr>\n",
              "  </tbody>\n",
              "</table>\n",
              "</div>"
            ],
            "text/plain": [
              "                      id_name  ...  relative_velocity.kilometers_per_minute\n",
              "0  2154652-154652 (2004 EP20)  ...                               968.571811\n",
              "1           3153509-(2003 HM)  ...                               741.062629\n",
              "3          3837644-(2019 AY3)  ...                              1348.716917\n",
              "\n",
              "[3 rows x 13 columns]"
            ]
          },
          "metadata": {
            "tags": []
          },
          "execution_count": 19
        }
      ]
    },
    {
      "cell_type": "code",
      "metadata": {
        "id": "jNqPCSxBmLrU"
      },
      "source": [
        "def proporcion_vs_tierra(valor):\n",
        "    \"\"\" Regresa la proporción de valor con respecto a la Tierra \"\"\"   \n",
        "    return (valor / 12742000.0)"
      ],
      "execution_count": 20,
      "outputs": []
    },
    {
      "cell_type": "code",
      "metadata": {
        "colab": {
          "base_uri": "https://localhost:8080/"
        },
        "id": "gwXHM8mMF33g",
        "outputId": "33631475-b927-4878-be8f-cb9a26ec9c73"
      },
      "source": [
        "proporcion_vs_tierra(1000)"
      ],
      "execution_count": 21,
      "outputs": [
        {
          "output_type": "execute_result",
          "data": {
            "text/plain": [
              "7.848061528802385e-05"
            ]
          },
          "metadata": {
            "tags": []
          },
          "execution_count": 21
        }
      ]
    },
    {
      "cell_type": "markdown",
      "metadata": {
        "id": "FTyNLPpXFdKD"
      },
      "source": [
        "2. Usa la columna 'estimated_diameter.meters.estimated_diameter_max', aplícale la función usando `apply` y crea una nueva columna llamada `proportion_of_max_diameter_to_earth` que deberá de ser de tipo `float64` y deberá contener valores entre 0 y 1 ya que es una proporción.\n"
      ]
    },
    {
      "cell_type": "code",
      "metadata": {
        "id": "ogB5kXzdmLrV",
        "colab": {
          "base_uri": "https://localhost:8080/"
        },
        "outputId": "5511bafd-09ee-4bab-c0f4-cec8284eef03"
      },
      "source": [
        "df_reto_4[\"proportion_of_max_diameter_to_earth\"] = df_reto_4['estimated_diameter.meters.estimated_diameter_max'].apply(proporcion_vs_tierra)\n",
        "df_reto_4[\"proportion_of_max_diameter_to_earth\"]"
      ],
      "execution_count": 22,
      "outputs": [
        {
          "output_type": "execute_result",
          "data": {
            "text/plain": [
              "0      0.000085\n",
              "1      0.000017\n",
              "3      0.000008\n",
              "4      0.000004\n",
              "5      0.000028\n",
              "         ...   \n",
              "327    0.000085\n",
              "328    0.000077\n",
              "329    0.000077\n",
              "330    0.000028\n",
              "331    0.000074\n",
              "Name: proportion_of_max_diameter_to_earth, Length: 301, dtype: float64"
            ]
          },
          "metadata": {
            "tags": []
          },
          "execution_count": 22
        }
      ]
    },
    {
      "cell_type": "markdown",
      "metadata": {
        "id": "ZCt0GYvjFf3S"
      },
      "source": [
        "3. Asigna el resultado a la variable `df_reto_4`.\n"
      ]
    },
    {
      "cell_type": "code",
      "metadata": {
        "id": "aIbSMoL9FmFH"
      },
      "source": [
        ""
      ],
      "execution_count": null,
      "outputs": []
    },
    {
      "cell_type": "markdown",
      "metadata": {
        "id": "V9613pVtFiR_"
      },
      "source": [
        "4. Guarda tu conjunto de datos en un archivo .csv."
      ]
    },
    {
      "cell_type": "code",
      "metadata": {
        "id": "uD8nCk2KmLrV"
      },
      "source": [
        "# guarda en el archivo objetos_cercanos_4.csv\n",
        "path = '/content/drive/MyDrive/DataAnalysis/objetos_cercanos_4.csv'\n",
        "df_reto_4.to_csv(path)"
      ],
      "execution_count": 24,
      "outputs": []
    },
    {
      "cell_type": "markdown",
      "metadata": {
        "id": "S5vDtDfVmLrV"
      },
      "source": [
        "La celda de validación nuevamente te ayudará a darte pautas para saber si tus resultados van por buen camino!"
      ]
    },
    {
      "cell_type": "code",
      "metadata": {
        "id": "FUtfwBh8mLrV",
        "colab": {
          "base_uri": "https://localhost:8080/"
        },
        "outputId": "24cef3ce-8940-4522-9d63-bc168f89e14a"
      },
      "source": [
        "def revisar_aplicacion(df):\n",
        "    \n",
        "    assert 'proportion_of_max_diameter_to_earth' in df, 'No existe una columna llamada \"proportion_of_max_diameter_to_earth\" en el DataFrame'\n",
        "    assert df['proportion_of_max_diameter_to_earth'].equals(df['estimated_diameter.meters.estimated_diameter_max'] / 12742000), 'La transformacion no fue realizada adecuadamente'\n",
        "    \n",
        "    print(f'La transformación y creación de una nueva columna fue realizada exitosamente!')\n",
        "\n",
        "revisar_aplicacion(df_reto_4)"
      ],
      "execution_count": 23,
      "outputs": [
        {
          "output_type": "stream",
          "text": [
            "La transformación y creación de una nueva columna fue realizada exitosamente!\n"
          ],
          "name": "stdout"
        }
      ]
    }
  ]
}