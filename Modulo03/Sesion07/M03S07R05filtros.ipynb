{
  "nbformat": 4,
  "nbformat_minor": 0,
  "metadata": {
    "kernelspec": {
      "display_name": "Python 3",
      "language": "python",
      "name": "python3"
    },
    "language_info": {
      "codemirror_mode": {
        "name": "ipython",
        "version": 3
      },
      "file_extension": ".py",
      "mimetype": "text/x-python",
      "name": "python",
      "nbconvert_exporter": "python",
      "pygments_lexer": "ipython3",
      "version": "3.7.4"
    },
    "colab": {
      "name": "M03S07E05filtros.ipynb",
      "provenance": [],
      "collapsed_sections": [],
      "include_colab_link": true
    }
  },
  "cells": [
    {
      "cell_type": "markdown",
      "metadata": {
        "id": "view-in-github",
        "colab_type": "text"
      },
      "source": [
        "<a href=\"https://colab.research.google.com/github/earandir/DataAnalysis/blob/main/Modulo03/Sesion07/M03S07R05filtros.ipynb\" target=\"_parent\"><img src=\"https://colab.research.google.com/assets/colab-badge.svg\" alt=\"Open In Colab\"/></a>"
      ]
    },
    {
      "cell_type": "markdown",
      "metadata": {
        "id": "NDRM7X-NuAdj"
      },
      "source": [
        "## Reto 5: Filtros\n",
        "\n",
        "### 1. Objetivos:\n",
        "    - Practicar el uso de filtros para la obtención de subconjuntos de datos\n",
        "    \n",
        "### 2. Desarrollo:"
      ]
    },
    {
      "cell_type": "code",
      "metadata": {
        "id": "cjjwHDaPuAdf"
      },
      "source": [
        "import pandas as pd\n",
        "import datetime as dt"
      ],
      "execution_count": 1,
      "outputs": []
    },
    {
      "cell_type": "code",
      "metadata": {
        "colab": {
          "base_uri": "https://localhost:8080/"
        },
        "id": "aRQwzfjDK-a1",
        "outputId": "a499352d-2c76-4baf-b46f-5567ed1d6f00"
      },
      "source": [
        "from google.colab import drive\n",
        "drive.mount('/content/drive')"
      ],
      "execution_count": 2,
      "outputs": [
        {
          "output_type": "stream",
          "text": [
            "Mounted at /content/drive\n"
          ],
          "name": "stdout"
        }
      ]
    },
    {
      "cell_type": "code",
      "metadata": {
        "id": "LjdIF3JduAdj",
        "colab": {
          "base_uri": "https://localhost:8080/",
          "height": 281
        },
        "outputId": "283346a3-a7bf-449b-b68b-1488e2e4fc7b"
      },
      "source": [
        "df_reto_5 = pd.read_csv('/content/drive/MyDrive/DataAnalysis/objetos_cercanos_4.csv', index_col=0)\n",
        "df_reto_5.head(3)"
      ],
      "execution_count": 3,
      "outputs": [
        {
          "output_type": "execute_result",
          "data": {
            "text/html": [
              "<div>\n",
              "<style scoped>\n",
              "    .dataframe tbody tr th:only-of-type {\n",
              "        vertical-align: middle;\n",
              "    }\n",
              "\n",
              "    .dataframe tbody tr th {\n",
              "        vertical-align: top;\n",
              "    }\n",
              "\n",
              "    .dataframe thead th {\n",
              "        text-align: right;\n",
              "    }\n",
              "</style>\n",
              "<table border=\"1\" class=\"dataframe\">\n",
              "  <thead>\n",
              "    <tr style=\"text-align: right;\">\n",
              "      <th></th>\n",
              "      <th>id_name</th>\n",
              "      <th>is_potentially_hazardous_asteroid</th>\n",
              "      <th>estimated_diameter.meters.estimated_diameter_min</th>\n",
              "      <th>estimated_diameter.meters.estimated_diameter_max</th>\n",
              "      <th>close_approach_date</th>\n",
              "      <th>epoch_date_close_approach</th>\n",
              "      <th>orbiting_body</th>\n",
              "      <th>relative_velocity.kilometers_per_second</th>\n",
              "      <th>relative_velocity.kilometers_per_hour</th>\n",
              "      <th>orbit_class_description</th>\n",
              "      <th>id</th>\n",
              "      <th>name</th>\n",
              "      <th>relative_velocity.kilometers_per_minute</th>\n",
              "      <th>proportion_of_max_diameter_to_earth</th>\n",
              "    </tr>\n",
              "  </thead>\n",
              "  <tbody>\n",
              "    <tr>\n",
              "      <th>0</th>\n",
              "      <td>2154652-154652 (2004 EP20)</td>\n",
              "      <td>0</td>\n",
              "      <td>483.676488</td>\n",
              "      <td>1081.533507</td>\n",
              "      <td>1995-01-07</td>\n",
              "      <td>1995-01-07 08:33:00</td>\n",
              "      <td>Earth</td>\n",
              "      <td>16.142864</td>\n",
              "      <td>58114.308667</td>\n",
              "      <td>Near Earth asteroid orbits similar to that of ...</td>\n",
              "      <td>2154652</td>\n",
              "      <td>154652 (2004 EP20)</td>\n",
              "      <td>968.571811</td>\n",
              "      <td>0.000085</td>\n",
              "    </tr>\n",
              "    <tr>\n",
              "      <th>1</th>\n",
              "      <td>3153509-(2003 HM)</td>\n",
              "      <td>1</td>\n",
              "      <td>96.506147</td>\n",
              "      <td>215.794305</td>\n",
              "      <td>1995-01-07</td>\n",
              "      <td>1995-01-07 15:09:00</td>\n",
              "      <td>Earth</td>\n",
              "      <td>12.351044</td>\n",
              "      <td>44463.757734</td>\n",
              "      <td>Near Earth asteroid orbits which cross the Ear...</td>\n",
              "      <td>3153509</td>\n",
              "      <td>(2003 HM)</td>\n",
              "      <td>741.062629</td>\n",
              "      <td>0.000017</td>\n",
              "    </tr>\n",
              "    <tr>\n",
              "      <th>3</th>\n",
              "      <td>3837644-(2019 AY3)</td>\n",
              "      <td>0</td>\n",
              "      <td>46.190746</td>\n",
              "      <td>103.285648</td>\n",
              "      <td>1995-01-07</td>\n",
              "      <td>1995-01-07 21:25:00</td>\n",
              "      <td>Earth</td>\n",
              "      <td>22.478615</td>\n",
              "      <td>80923.015021</td>\n",
              "      <td>Near Earth asteroid orbits similar to that of ...</td>\n",
              "      <td>3837644</td>\n",
              "      <td>(2019 AY3)</td>\n",
              "      <td>1348.716917</td>\n",
              "      <td>0.000008</td>\n",
              "    </tr>\n",
              "  </tbody>\n",
              "</table>\n",
              "</div>"
            ],
            "text/plain": [
              "                      id_name  ...  proportion_of_max_diameter_to_earth\n",
              "0  2154652-154652 (2004 EP20)  ...                             0.000085\n",
              "1           3153509-(2003 HM)  ...                             0.000017\n",
              "3          3837644-(2019 AY3)  ...                             0.000008\n",
              "\n",
              "[3 rows x 14 columns]"
            ]
          },
          "metadata": {
            "tags": []
          },
          "execution_count": 3
        }
      ]
    },
    {
      "cell_type": "markdown",
      "metadata": {
        "id": "hLNXr4POuAdj"
      },
      "source": [
        "---\n",
        "---"
      ]
    },
    {
      "cell_type": "markdown",
      "metadata": {
        "id": "K0HKMj1YuAdj"
      },
      "source": [
        "#### a) Filtrando por fechas, booleanos y valores numéricos\n",
        "\n",
        "Vamos a trabajar con el mismo dataset que guardaste del Reto anterior. Este Reto consiste en los siguiente:\n",
        "\n",
        "Usando filtros, crea 3 subconjuntos de datos:\n",
        "\n",
        "1. Un subconjunto llamado `df_hazardous` que contenga sólo los records que correspondan a los objetos donde `is_potentially_hazardous_asteroid` sea `True` (o `1`).\n",
        "2. Un subconjunto llamado `df_greater_than_1000` que contenga sólo los records donde el `estimated_diameter.meters.estimated_diameter_max` sea mayor a 1000 metros.\n",
        "3. Un subconjunto llamado `df_february` que contenga sólo los records que pertenezcan exactamente al mes de Febrero de 1995. Recuerda que los datos en la columna `epoch_date_close_approach` están en milisegundos.\n"
      ]
    },
    {
      "cell_type": "code",
      "metadata": {
        "id": "iBmou1c_uAdj"
      },
      "source": [
        "is_hazardous = df_reto_5['is_potentially_hazardous_asteroid'] == 1\n",
        "df_hazardous = df_reto_5[is_hazardous]"
      ],
      "execution_count": 4,
      "outputs": []
    },
    {
      "cell_type": "code",
      "metadata": {
        "id": "jU3pCgJcuAdk"
      },
      "source": [
        "is_bigger_than_1000 = df_reto_5['estimated_diameter.meters.estimated_diameter_max'] > 1000\n",
        "df_bigger_than_1000 = df_reto_5[is_bigger_than_1000]"
      ],
      "execution_count": 5,
      "outputs": []
    },
    {
      "cell_type": "code",
      "metadata": {
        "colab": {
          "base_uri": "https://localhost:8080/",
          "height": 264
        },
        "id": "GJVSFsmLRP8n",
        "outputId": "1a19770f-8fe4-44e7-8782-a42a16898e84"
      },
      "source": [
        "df_reto_5['epoch_date_close_approach'] = pd.to_datetime(df_reto_5['epoch_date_close_approach'], unit='ns')\n",
        "is95 = df_reto_5['epoch_date_close_approach'].map(lambda x : x.year == 1995)\n",
        "isFeb = df_reto_5['epoch_date_close_approach'].map(lambda x : x.month == 2)\n",
        "\n",
        "df_february = df_reto_5[is95 & isFeb]\n",
        "\n",
        "df_february.head(3)"
      ],
      "execution_count": 6,
      "outputs": [
        {
          "output_type": "execute_result",
          "data": {
            "text/html": [
              "<div>\n",
              "<style scoped>\n",
              "    .dataframe tbody tr th:only-of-type {\n",
              "        vertical-align: middle;\n",
              "    }\n",
              "\n",
              "    .dataframe tbody tr th {\n",
              "        vertical-align: top;\n",
              "    }\n",
              "\n",
              "    .dataframe thead th {\n",
              "        text-align: right;\n",
              "    }\n",
              "</style>\n",
              "<table border=\"1\" class=\"dataframe\">\n",
              "  <thead>\n",
              "    <tr style=\"text-align: right;\">\n",
              "      <th></th>\n",
              "      <th>id_name</th>\n",
              "      <th>is_potentially_hazardous_asteroid</th>\n",
              "      <th>estimated_diameter.meters.estimated_diameter_min</th>\n",
              "      <th>estimated_diameter.meters.estimated_diameter_max</th>\n",
              "      <th>close_approach_date</th>\n",
              "      <th>epoch_date_close_approach</th>\n",
              "      <th>orbiting_body</th>\n",
              "      <th>relative_velocity.kilometers_per_second</th>\n",
              "      <th>relative_velocity.kilometers_per_hour</th>\n",
              "      <th>orbit_class_description</th>\n",
              "      <th>id</th>\n",
              "      <th>name</th>\n",
              "      <th>relative_velocity.kilometers_per_minute</th>\n",
              "      <th>proportion_of_max_diameter_to_earth</th>\n",
              "    </tr>\n",
              "  </thead>\n",
              "  <tbody>\n",
              "    <tr>\n",
              "      <th>175</th>\n",
              "      <td>3405174-(2008 ED8)</td>\n",
              "      <td>0</td>\n",
              "      <td>44.111820</td>\n",
              "      <td>98.637028</td>\n",
              "      <td>1995-02-04</td>\n",
              "      <td>1995-02-04 09:06:00</td>\n",
              "      <td>Earth</td>\n",
              "      <td>13.317721</td>\n",
              "      <td>47943.796767</td>\n",
              "      <td>Near Earth asteroid orbits similar to that of ...</td>\n",
              "      <td>3405174</td>\n",
              "      <td>(2008 ED8)</td>\n",
              "      <td>799.063279</td>\n",
              "      <td>0.000008</td>\n",
              "    </tr>\n",
              "    <tr>\n",
              "      <th>176</th>\n",
              "      <td>3792431-(2017 XT61)</td>\n",
              "      <td>0</td>\n",
              "      <td>60.891262</td>\n",
              "      <td>136.157002</td>\n",
              "      <td>1995-02-04</td>\n",
              "      <td>1995-02-04 00:37:00</td>\n",
              "      <td>Earth</td>\n",
              "      <td>9.359303</td>\n",
              "      <td>33693.492339</td>\n",
              "      <td>Near Earth asteroid orbits which cross the Ear...</td>\n",
              "      <td>3792431</td>\n",
              "      <td>(2017 XT61)</td>\n",
              "      <td>561.558206</td>\n",
              "      <td>0.000011</td>\n",
              "    </tr>\n",
              "    <tr>\n",
              "      <th>178</th>\n",
              "      <td>3511508-(2010 CW180)</td>\n",
              "      <td>0</td>\n",
              "      <td>253.837029</td>\n",
              "      <td>567.596853</td>\n",
              "      <td>1995-02-05</td>\n",
              "      <td>1995-02-05 10:31:00</td>\n",
              "      <td>Earth</td>\n",
              "      <td>11.657770</td>\n",
              "      <td>41967.973343</td>\n",
              "      <td>An asteroid orbit contained entirely within th...</td>\n",
              "      <td>3511508</td>\n",
              "      <td>(2010 CW180)</td>\n",
              "      <td>699.466222</td>\n",
              "      <td>0.000045</td>\n",
              "    </tr>\n",
              "  </tbody>\n",
              "</table>\n",
              "</div>"
            ],
            "text/plain": [
              "                  id_name  ...  proportion_of_max_diameter_to_earth\n",
              "175    3405174-(2008 ED8)  ...                             0.000008\n",
              "176   3792431-(2017 XT61)  ...                             0.000011\n",
              "178  3511508-(2010 CW180)  ...                             0.000045\n",
              "\n",
              "[3 rows x 14 columns]"
            ]
          },
          "metadata": {
            "tags": []
          },
          "execution_count": 6
        }
      ]
    },
    {
      "cell_type": "code",
      "metadata": {
        "id": "k1HokRWsuAdk"
      },
      "source": [
        "#is_february_95 = df_reto_5['epoch_date_close_approach'].str.startswith('1995-02')\n",
        "#df_february = df_reto_5[is_february_95]"
      ],
      "execution_count": null,
      "outputs": []
    },
    {
      "cell_type": "code",
      "metadata": {
        "id": "VXneXMu5uAdk",
        "colab": {
          "base_uri": "https://localhost:8080/",
          "height": 459
        },
        "outputId": "5a0e7ee2-7fe8-4968-8862-96a2df4cbc45"
      },
      "source": [
        "def checar_subconjuntos(df_february, df_hazardous, df_bigger_than_1000):\n",
        "    \n",
        "    import pandas as pd\n",
        "    import base64\n",
        "\n",
        "    datos = b'CmFzc2VydCAoZGZfaGF6YXJkb3VzWydpc19wb3RlbnRpYWxseV9oYXphcmRvdXNfYXN0ZXJvaWQnXSA9PSAwKS5zdW0oKSA9PSAwLCAnQWxndW5vcyByZWNvcmRzIGVuIGBkZl9oYXphcmRvdXNgIHBlcnRlbmVjZW4gYSBvYmpldG9zIGRvbmRlIGlzX3BvdGVudGlhbGx5X2hhemFyZG91c19hc3Rlcm9pZCBlcyBgRmFsc2VgJwphc3NlcnQgKGRmX2hhemFyZG91c1snaXNfcG90ZW50aWFsbHlfaGF6YXJkb3VzX2FzdGVyb2lkJ10gPT0gMSkuc3VtKCkgPiAwLCAnTm8gaGF5IG5pbmd1biByZWNvcmQgZW4gYGRmX2hhemFyZG91c2AgZG9uZGUgaXNfcG90ZW50aWFsbHlfaGF6YXJkb3VzX2FzdGVyb2lkIHNlYSBgVHJ1ZWAnCgphc3NlcnQgKGRmX2JpZ2dlcl90aGFuXzEwMDBbJ2VzdGltYXRlZF9kaWFtZXRlci5tZXRlcnMuZXN0aW1hdGVkX2RpYW1ldGVyX21heCddIDw9IDEwMDApLnN1bSgpID09IDAsICdBbGd1bm9zIHJlY29yZHMgZW4gYGRmX2JpZ2dlcl90aGFuXzEwMDBgIHBlcnRlbmVjZW4gYSBvYmpldG9zIGNvbiBkacOhbWV0cm8gbWVub3IgYSAxMDAwIG1ldHJvcycKYXNzZXJ0IChkZl9iaWdnZXJfdGhhbl8xMDAwWydlc3RpbWF0ZWRfZGlhbWV0ZXIubWV0ZXJzLmVzdGltYXRlZF9kaWFtZXRlcl9tYXgnXSA+IDEwMDApLnN1bSgpID4gMCwgJ05vIGhheSBuaW5nw7puIHJlY29yZCBlbiBgZGZfYmlnZ2VyX3RoYW5fMTAwMGAgcXVlIHBlcnRlbmV6Y2EgYSBvYmpldG9zIGNvbiBkacOhbWV0cm8gbWF5b3IgYSAxMDAwIG1ldHJvcycKCmZlYnJ1YXJ5ID0gcGQudG9fZGF0ZXRpbWUoJzE5OTUtMDItMDEnLCBmb3JtYXQ9JyVZLSVtLSVkJykudGltZXN0YW1wKCkgKiAxMDAwCm1hcmNoID0gcGQudG9fZGF0ZXRpbWUoJzE5OTUtMDMtMDEnLCBmb3JtYXQ9JyVZLSVtLSVkJykudGltZXN0YW1wKCkgKiAxMDAwIAoKYXNzZXJ0IChkZl9mZWJydWFyeVsnZXBvY2hfZGF0ZV9jbG9zZV9hcHByb2FjaCddIDwgZmVicnVhcnkpLnN1bSgpID09IDAsICdBbGd1bm9zIHJlY29yZHMgZGUgYGRmX2ZlYnJ1YXJ5YCBwZXJ0ZW5lY2VuIGEgbWVzZXMgYW50ZXJpb3JlcyBhIEZlYnJlcm8gZGUgMTk5NScKYXNzZXJ0IChkZl9mZWJydWFyeVsnZXBvY2hfZGF0ZV9jbG9zZV9hcHByb2FjaCddID49IG1hcmNoKS5zdW0oKSA9PSAwLCAnQWxndW5vcyByZWNvcmRzIGRlIGBkZl9mZWJydWFyeWAgcGVydGVuZWNlbiBhIG1lc2VzIHBvc3RlcmlvcmVzIGEgRmVicmVybyBkZSAxOTk1Jwo='\n",
        "    eval(compile(base64.b64decode(datos), \"\", \"exec\"), globals())\n",
        "    \n",
        "    print('Todos tus subconjuntos son correctos. ¡Gran trabajo!')\n",
        "    \n",
        "checar_subconjuntos(df_february, df_hazardous, df_bigger_than_1000)"
      ],
      "execution_count": 7,
      "outputs": [
        {
          "output_type": "error",
          "ename": "TypeError",
          "evalue": "ignored",
          "traceback": [
            "\u001b[0;31m---------------------------------------------------------------------------\u001b[0m",
            "\u001b[0;31mInvalidComparison\u001b[0m                         Traceback (most recent call last)",
            "\u001b[0;32m/usr/local/lib/python3.7/dist-packages/pandas/core/arrays/datetimelike.py\u001b[0m in \u001b[0;36mwrapper\u001b[0;34m(self, other)\u001b[0m\n\u001b[1;32m    115\u001b[0m         \u001b[0;32mtry\u001b[0m\u001b[0;34m:\u001b[0m\u001b[0;34m\u001b[0m\u001b[0;34m\u001b[0m\u001b[0m\n\u001b[0;32m--> 116\u001b[0;31m             \u001b[0mother\u001b[0m \u001b[0;34m=\u001b[0m \u001b[0m_validate_comparison_value\u001b[0m\u001b[0;34m(\u001b[0m\u001b[0mself\u001b[0m\u001b[0;34m,\u001b[0m \u001b[0mother\u001b[0m\u001b[0;34m)\u001b[0m\u001b[0;34m\u001b[0m\u001b[0;34m\u001b[0m\u001b[0m\n\u001b[0m\u001b[1;32m    117\u001b[0m         \u001b[0;32mexcept\u001b[0m \u001b[0mInvalidComparison\u001b[0m\u001b[0;34m:\u001b[0m\u001b[0;34m\u001b[0m\u001b[0;34m\u001b[0m\u001b[0m\n",
            "\u001b[0;32m/usr/local/lib/python3.7/dist-packages/pandas/core/arrays/datetimelike.py\u001b[0m in \u001b[0;36m_validate_comparison_value\u001b[0;34m(self, other)\u001b[0m\n\u001b[1;32m     95\u001b[0m         \u001b[0;32melif\u001b[0m \u001b[0;32mnot\u001b[0m \u001b[0mis_list_like\u001b[0m\u001b[0;34m(\u001b[0m\u001b[0mother\u001b[0m\u001b[0;34m)\u001b[0m\u001b[0;34m:\u001b[0m\u001b[0;34m\u001b[0m\u001b[0;34m\u001b[0m\u001b[0m\n\u001b[0;32m---> 96\u001b[0;31m             \u001b[0;32mraise\u001b[0m \u001b[0mInvalidComparison\u001b[0m\u001b[0;34m(\u001b[0m\u001b[0mother\u001b[0m\u001b[0;34m)\u001b[0m\u001b[0;34m\u001b[0m\u001b[0;34m\u001b[0m\u001b[0m\n\u001b[0m\u001b[1;32m     97\u001b[0m \u001b[0;34m\u001b[0m\u001b[0m\n",
            "\u001b[0;31mInvalidComparison\u001b[0m: 791596800000.0",
            "\nDuring handling of the above exception, another exception occurred:\n",
            "\u001b[0;31mTypeError\u001b[0m                                 Traceback (most recent call last)",
            "\u001b[0;32m<ipython-input-7-04bf0ee5f0f1>\u001b[0m in \u001b[0;36m<module>\u001b[0;34m()\u001b[0m\n\u001b[1;32m      9\u001b[0m     \u001b[0mprint\u001b[0m\u001b[0;34m(\u001b[0m\u001b[0;34m'Todos tus subconjuntos son correctos. ¡Gran trabajo!'\u001b[0m\u001b[0;34m)\u001b[0m\u001b[0;34m\u001b[0m\u001b[0;34m\u001b[0m\u001b[0m\n\u001b[1;32m     10\u001b[0m \u001b[0;34m\u001b[0m\u001b[0m\n\u001b[0;32m---> 11\u001b[0;31m \u001b[0mchecar_subconjuntos\u001b[0m\u001b[0;34m(\u001b[0m\u001b[0mdf_february\u001b[0m\u001b[0;34m,\u001b[0m \u001b[0mdf_hazardous\u001b[0m\u001b[0;34m,\u001b[0m \u001b[0mdf_bigger_than_1000\u001b[0m\u001b[0;34m)\u001b[0m\u001b[0;34m\u001b[0m\u001b[0;34m\u001b[0m\u001b[0m\n\u001b[0m",
            "\u001b[0;32m<ipython-input-7-04bf0ee5f0f1>\u001b[0m in \u001b[0;36mchecar_subconjuntos\u001b[0;34m(df_february, df_hazardous, df_bigger_than_1000)\u001b[0m\n\u001b[1;32m      5\u001b[0m \u001b[0;34m\u001b[0m\u001b[0m\n\u001b[1;32m      6\u001b[0m     \u001b[0mdatos\u001b[0m \u001b[0;34m=\u001b[0m \u001b[0;34mb'CmFzc2VydCAoZGZfaGF6YXJkb3VzWydpc19wb3RlbnRpYWxseV9oYXphcmRvdXNfYXN0ZXJvaWQnXSA9PSAwKS5zdW0oKSA9PSAwLCAnQWxndW5vcyByZWNvcmRzIGVuIGBkZl9oYXphcmRvdXNgIHBlcnRlbmVjZW4gYSBvYmpldG9zIGRvbmRlIGlzX3BvdGVudGlhbGx5X2hhemFyZG91c19hc3Rlcm9pZCBlcyBgRmFsc2VgJwphc3NlcnQgKGRmX2hhemFyZG91c1snaXNfcG90ZW50aWFsbHlfaGF6YXJkb3VzX2FzdGVyb2lkJ10gPT0gMSkuc3VtKCkgPiAwLCAnTm8gaGF5IG5pbmd1biByZWNvcmQgZW4gYGRmX2hhemFyZG91c2AgZG9uZGUgaXNfcG90ZW50aWFsbHlfaGF6YXJkb3VzX2FzdGVyb2lkIHNlYSBgVHJ1ZWAnCgphc3NlcnQgKGRmX2JpZ2dlcl90aGFuXzEwMDBbJ2VzdGltYXRlZF9kaWFtZXRlci5tZXRlcnMuZXN0aW1hdGVkX2RpYW1ldGVyX21heCddIDw9IDEwMDApLnN1bSgpID09IDAsICdBbGd1bm9zIHJlY29yZHMgZW4gYGRmX2JpZ2dlcl90aGFuXzEwMDBgIHBlcnRlbmVjZW4gYSBvYmpldG9zIGNvbiBkacOhbWV0cm8gbWVub3IgYSAxMDAwIG1ldHJvcycKYXNzZXJ0IChkZl9iaWdnZXJfdGhhbl8xMDAwWydlc3RpbWF0ZWRfZGlhbWV0ZXIubWV0ZXJzLmVzdGltYXRlZF9kaWFtZXRlcl9tYXgnXSA+IDEwMDApLnN1bSgpID4gMCwgJ05vIGhheSBuaW5nw7puIHJlY29yZCBlbiBgZGZfYmlnZ2VyX3RoYW5fMTAwMGAgcXVlIHBlcnRlbmV6Y2EgYSBvYmpldG9zIGNvbiBkacOhbWV0cm8gbWF5b3IgYSAxMDAwIG1ldHJvcycKCmZlYnJ1YXJ5ID0gcGQudG9fZGF0ZXRpbWUoJzE5OTUtMDItMDEnLCBmb3JtYXQ9JyVZLSVtLSVkJykudGltZXN0YW1wKCkgKiAxMDAwCm1hcmNoID0gcGQudG9fZGF0ZXRpbWUoJzE5OTUtMDMtMDEnLCBmb3JtYXQ9JyVZLSVtLSVkJykudGltZXN0YW1wKCkgKiAxMDAwIAoKYXNzZXJ0IChkZl9mZWJydWFyeVsnZXBvY2hfZGF0ZV9jbG9zZV9hcHByb2FjaCddIDwgZmVicnVhcnkpLnN1bSgpID09IDAsICdBbGd1bm9zIHJlY29yZHMgZGUgYGRmX2ZlYnJ1YXJ5YCBwZXJ0ZW5lY2VuIGEgbWVzZXMgYW50ZXJpb3JlcyBhIEZlYnJlcm8gZGUgMTk5NScKYXNzZXJ0IC...\n\u001b[0;32m----> 7\u001b[0;31m     \u001b[0meval\u001b[0m\u001b[0;34m(\u001b[0m\u001b[0mcompile\u001b[0m\u001b[0;34m(\u001b[0m\u001b[0mbase64\u001b[0m\u001b[0;34m.\u001b[0m\u001b[0mb64decode\u001b[0m\u001b[0;34m(\u001b[0m\u001b[0mdatos\u001b[0m\u001b[0;34m)\u001b[0m\u001b[0;34m,\u001b[0m \u001b[0;34m\"\"\u001b[0m\u001b[0;34m,\u001b[0m \u001b[0;34m\"exec\"\u001b[0m\u001b[0;34m)\u001b[0m\u001b[0;34m,\u001b[0m \u001b[0mglobals\u001b[0m\u001b[0;34m(\u001b[0m\u001b[0;34m)\u001b[0m\u001b[0;34m)\u001b[0m\u001b[0;34m\u001b[0m\u001b[0;34m\u001b[0m\u001b[0m\n\u001b[0m\u001b[1;32m      8\u001b[0m \u001b[0;34m\u001b[0m\u001b[0m\n\u001b[1;32m      9\u001b[0m     \u001b[0mprint\u001b[0m\u001b[0;34m(\u001b[0m\u001b[0;34m'Todos tus subconjuntos son correctos. ¡Gran trabajo!'\u001b[0m\u001b[0;34m)\u001b[0m\u001b[0;34m\u001b[0m\u001b[0;34m\u001b[0m\u001b[0m\n",
            "\u001b[0;32m?\u001b[0m in \u001b[0;36m<module>\u001b[0;34m()\u001b[0m\n",
            "\u001b[0;32m/usr/local/lib/python3.7/dist-packages/pandas/core/ops/common.py\u001b[0m in \u001b[0;36mnew_method\u001b[0;34m(self, other)\u001b[0m\n\u001b[1;32m     63\u001b[0m         \u001b[0mother\u001b[0m \u001b[0;34m=\u001b[0m \u001b[0mitem_from_zerodim\u001b[0m\u001b[0;34m(\u001b[0m\u001b[0mother\u001b[0m\u001b[0;34m)\u001b[0m\u001b[0;34m\u001b[0m\u001b[0;34m\u001b[0m\u001b[0m\n\u001b[1;32m     64\u001b[0m \u001b[0;34m\u001b[0m\u001b[0m\n\u001b[0;32m---> 65\u001b[0;31m         \u001b[0;32mreturn\u001b[0m \u001b[0mmethod\u001b[0m\u001b[0;34m(\u001b[0m\u001b[0mself\u001b[0m\u001b[0;34m,\u001b[0m \u001b[0mother\u001b[0m\u001b[0;34m)\u001b[0m\u001b[0;34m\u001b[0m\u001b[0;34m\u001b[0m\u001b[0m\n\u001b[0m\u001b[1;32m     66\u001b[0m \u001b[0;34m\u001b[0m\u001b[0m\n\u001b[1;32m     67\u001b[0m     \u001b[0;32mreturn\u001b[0m \u001b[0mnew_method\u001b[0m\u001b[0;34m\u001b[0m\u001b[0;34m\u001b[0m\u001b[0m\n",
            "\u001b[0;32m/usr/local/lib/python3.7/dist-packages/pandas/core/ops/__init__.py\u001b[0m in \u001b[0;36mwrapper\u001b[0;34m(self, other)\u001b[0m\n\u001b[1;32m    368\u001b[0m         \u001b[0mrvalues\u001b[0m \u001b[0;34m=\u001b[0m \u001b[0mextract_array\u001b[0m\u001b[0;34m(\u001b[0m\u001b[0mother\u001b[0m\u001b[0;34m,\u001b[0m \u001b[0mextract_numpy\u001b[0m\u001b[0;34m=\u001b[0m\u001b[0;32mTrue\u001b[0m\u001b[0;34m)\u001b[0m\u001b[0;34m\u001b[0m\u001b[0;34m\u001b[0m\u001b[0m\n\u001b[1;32m    369\u001b[0m \u001b[0;34m\u001b[0m\u001b[0m\n\u001b[0;32m--> 370\u001b[0;31m         \u001b[0mres_values\u001b[0m \u001b[0;34m=\u001b[0m \u001b[0mcomparison_op\u001b[0m\u001b[0;34m(\u001b[0m\u001b[0mlvalues\u001b[0m\u001b[0;34m,\u001b[0m \u001b[0mrvalues\u001b[0m\u001b[0;34m,\u001b[0m \u001b[0mop\u001b[0m\u001b[0;34m)\u001b[0m\u001b[0;34m\u001b[0m\u001b[0;34m\u001b[0m\u001b[0m\n\u001b[0m\u001b[1;32m    371\u001b[0m \u001b[0;34m\u001b[0m\u001b[0m\n\u001b[1;32m    372\u001b[0m         \u001b[0;32mreturn\u001b[0m \u001b[0mself\u001b[0m\u001b[0;34m.\u001b[0m\u001b[0m_construct_result\u001b[0m\u001b[0;34m(\u001b[0m\u001b[0mres_values\u001b[0m\u001b[0;34m,\u001b[0m \u001b[0mname\u001b[0m\u001b[0;34m=\u001b[0m\u001b[0mres_name\u001b[0m\u001b[0;34m)\u001b[0m\u001b[0;34m\u001b[0m\u001b[0;34m\u001b[0m\u001b[0m\n",
            "\u001b[0;32m/usr/local/lib/python3.7/dist-packages/pandas/core/ops/array_ops.py\u001b[0m in \u001b[0;36mcomparison_op\u001b[0;34m(left, right, op)\u001b[0m\n\u001b[1;32m    228\u001b[0m     \u001b[0;32mif\u001b[0m \u001b[0mshould_extension_dispatch\u001b[0m\u001b[0;34m(\u001b[0m\u001b[0mlvalues\u001b[0m\u001b[0;34m,\u001b[0m \u001b[0mrvalues\u001b[0m\u001b[0;34m)\u001b[0m\u001b[0;34m:\u001b[0m\u001b[0;34m\u001b[0m\u001b[0;34m\u001b[0m\u001b[0m\n\u001b[1;32m    229\u001b[0m         \u001b[0;31m# Call the method on lvalues\u001b[0m\u001b[0;34m\u001b[0m\u001b[0;34m\u001b[0m\u001b[0;34m\u001b[0m\u001b[0m\n\u001b[0;32m--> 230\u001b[0;31m         \u001b[0mres_values\u001b[0m \u001b[0;34m=\u001b[0m \u001b[0mop\u001b[0m\u001b[0;34m(\u001b[0m\u001b[0mlvalues\u001b[0m\u001b[0;34m,\u001b[0m \u001b[0mrvalues\u001b[0m\u001b[0;34m)\u001b[0m\u001b[0;34m\u001b[0m\u001b[0;34m\u001b[0m\u001b[0m\n\u001b[0m\u001b[1;32m    231\u001b[0m \u001b[0;34m\u001b[0m\u001b[0m\n\u001b[1;32m    232\u001b[0m     \u001b[0;32melif\u001b[0m \u001b[0mis_scalar\u001b[0m\u001b[0;34m(\u001b[0m\u001b[0mrvalues\u001b[0m\u001b[0;34m)\u001b[0m \u001b[0;32mand\u001b[0m \u001b[0misna\u001b[0m\u001b[0;34m(\u001b[0m\u001b[0mrvalues\u001b[0m\u001b[0;34m)\u001b[0m\u001b[0;34m:\u001b[0m\u001b[0;34m\u001b[0m\u001b[0;34m\u001b[0m\u001b[0m\n",
            "\u001b[0;32m/usr/local/lib/python3.7/dist-packages/pandas/core/ops/common.py\u001b[0m in \u001b[0;36mnew_method\u001b[0;34m(self, other)\u001b[0m\n\u001b[1;32m     63\u001b[0m         \u001b[0mother\u001b[0m \u001b[0;34m=\u001b[0m \u001b[0mitem_from_zerodim\u001b[0m\u001b[0;34m(\u001b[0m\u001b[0mother\u001b[0m\u001b[0;34m)\u001b[0m\u001b[0;34m\u001b[0m\u001b[0;34m\u001b[0m\u001b[0m\n\u001b[1;32m     64\u001b[0m \u001b[0;34m\u001b[0m\u001b[0m\n\u001b[0;32m---> 65\u001b[0;31m         \u001b[0;32mreturn\u001b[0m \u001b[0mmethod\u001b[0m\u001b[0;34m(\u001b[0m\u001b[0mself\u001b[0m\u001b[0;34m,\u001b[0m \u001b[0mother\u001b[0m\u001b[0;34m)\u001b[0m\u001b[0;34m\u001b[0m\u001b[0;34m\u001b[0m\u001b[0m\n\u001b[0m\u001b[1;32m     66\u001b[0m \u001b[0;34m\u001b[0m\u001b[0m\n\u001b[1;32m     67\u001b[0m     \u001b[0;32mreturn\u001b[0m \u001b[0mnew_method\u001b[0m\u001b[0;34m\u001b[0m\u001b[0;34m\u001b[0m\u001b[0m\n",
            "\u001b[0;32m/usr/local/lib/python3.7/dist-packages/pandas/core/arrays/datetimelike.py\u001b[0m in \u001b[0;36mwrapper\u001b[0;34m(self, other)\u001b[0m\n\u001b[1;32m    116\u001b[0m             \u001b[0mother\u001b[0m \u001b[0;34m=\u001b[0m \u001b[0m_validate_comparison_value\u001b[0m\u001b[0;34m(\u001b[0m\u001b[0mself\u001b[0m\u001b[0;34m,\u001b[0m \u001b[0mother\u001b[0m\u001b[0;34m)\u001b[0m\u001b[0;34m\u001b[0m\u001b[0;34m\u001b[0m\u001b[0m\n\u001b[1;32m    117\u001b[0m         \u001b[0;32mexcept\u001b[0m \u001b[0mInvalidComparison\u001b[0m\u001b[0;34m:\u001b[0m\u001b[0;34m\u001b[0m\u001b[0;34m\u001b[0m\u001b[0m\n\u001b[0;32m--> 118\u001b[0;31m             \u001b[0;32mreturn\u001b[0m \u001b[0minvalid_comparison\u001b[0m\u001b[0;34m(\u001b[0m\u001b[0mself\u001b[0m\u001b[0;34m,\u001b[0m \u001b[0mother\u001b[0m\u001b[0;34m,\u001b[0m \u001b[0mop\u001b[0m\u001b[0;34m)\u001b[0m\u001b[0;34m\u001b[0m\u001b[0;34m\u001b[0m\u001b[0m\n\u001b[0m\u001b[1;32m    119\u001b[0m \u001b[0;34m\u001b[0m\u001b[0m\n\u001b[1;32m    120\u001b[0m         \u001b[0mdtype\u001b[0m \u001b[0;34m=\u001b[0m \u001b[0mgetattr\u001b[0m\u001b[0;34m(\u001b[0m\u001b[0mother\u001b[0m\u001b[0;34m,\u001b[0m \u001b[0;34m\"dtype\"\u001b[0m\u001b[0;34m,\u001b[0m \u001b[0;32mNone\u001b[0m\u001b[0;34m)\u001b[0m\u001b[0;34m\u001b[0m\u001b[0;34m\u001b[0m\u001b[0m\n",
            "\u001b[0;32m/usr/local/lib/python3.7/dist-packages/pandas/core/ops/invalid.py\u001b[0m in \u001b[0;36minvalid_comparison\u001b[0;34m(left, right, op)\u001b[0m\n\u001b[1;32m     32\u001b[0m     \u001b[0;32melse\u001b[0m\u001b[0;34m:\u001b[0m\u001b[0;34m\u001b[0m\u001b[0;34m\u001b[0m\u001b[0m\n\u001b[1;32m     33\u001b[0m         \u001b[0mtyp\u001b[0m \u001b[0;34m=\u001b[0m \u001b[0mtype\u001b[0m\u001b[0;34m(\u001b[0m\u001b[0mright\u001b[0m\u001b[0;34m)\u001b[0m\u001b[0;34m.\u001b[0m\u001b[0m__name__\u001b[0m\u001b[0;34m\u001b[0m\u001b[0;34m\u001b[0m\u001b[0m\n\u001b[0;32m---> 34\u001b[0;31m         \u001b[0;32mraise\u001b[0m \u001b[0mTypeError\u001b[0m\u001b[0;34m(\u001b[0m\u001b[0;34mf\"Invalid comparison between dtype={left.dtype} and {typ}\"\u001b[0m\u001b[0;34m)\u001b[0m\u001b[0;34m\u001b[0m\u001b[0;34m\u001b[0m\u001b[0m\n\u001b[0m\u001b[1;32m     35\u001b[0m     \u001b[0;32mreturn\u001b[0m \u001b[0mres_values\u001b[0m\u001b[0;34m\u001b[0m\u001b[0;34m\u001b[0m\u001b[0m\n\u001b[1;32m     36\u001b[0m \u001b[0;34m\u001b[0m\u001b[0m\n",
            "\u001b[0;31mTypeError\u001b[0m: Invalid comparison between dtype=datetime64[ns] and float"
          ]
        }
      ]
    }
  ]
}