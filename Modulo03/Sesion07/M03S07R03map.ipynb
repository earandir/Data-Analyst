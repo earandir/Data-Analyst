{
  "nbformat": 4,
  "nbformat_minor": 0,
  "metadata": {
    "kernelspec": {
      "display_name": "Python 3",
      "language": "python",
      "name": "python3"
    },
    "language_info": {
      "codemirror_mode": {
        "name": "ipython",
        "version": 3
      },
      "file_extension": ".py",
      "mimetype": "text/x-python",
      "name": "python",
      "nbconvert_exporter": "python",
      "pygments_lexer": "ipython3",
      "version": "3.7.4"
    },
    "colab": {
      "name": "M03S07E03map.ipynb",
      "provenance": [],
      "collapsed_sections": [],
      "include_colab_link": true
    }
  },
  "cells": [
    {
      "cell_type": "markdown",
      "metadata": {
        "id": "view-in-github",
        "colab_type": "text"
      },
      "source": [
        "<a href=\"https://colab.research.google.com/github/earandir/DataAnalysis/blob/main/Modulo03/Sesion07/M03S07R03map.ipynb\" target=\"_parent\"><img src=\"https://colab.research.google.com/assets/colab-badge.svg\" alt=\"Open In Colab\"/></a>"
      ]
    },
    {
      "cell_type": "markdown",
      "metadata": {
        "id": "NEjZanowioFL"
      },
      "source": [
        "## Reto 3: Map\n",
        "\n",
        "### 1. Objetivos:\n",
        "    - Practicar el uso del método `map` para mapear un dato a otro dato que le corresponde.\n",
        "    \n",
        "---\n",
        "    \n",
        "### 2. Desarrollo:"
      ]
    },
    {
      "cell_type": "code",
      "metadata": {
        "id": "mFCdSunbioFH"
      },
      "source": [
        "import pandas as pd"
      ],
      "execution_count": 2,
      "outputs": []
    },
    {
      "cell_type": "code",
      "metadata": {
        "colab": {
          "base_uri": "https://localhost:8080/"
        },
        "id": "aRQwzfjDK-a1",
        "outputId": "282abdd1-13a8-4905-b199-26b71c967f98"
      },
      "source": [
        "from google.colab import drive\n",
        "drive.mount('/content/drive')\n",
        "\n",
        "data = '/content/drive/MyDrive/DataAnalysis/objetos_cercanos_2.csv'"
      ],
      "execution_count": 3,
      "outputs": [
        {
          "output_type": "stream",
          "text": [
            "Mounted at /content/drive\n"
          ],
          "name": "stdout"
        }
      ]
    },
    {
      "cell_type": "markdown",
      "metadata": {
        "id": "7BD2kKcxioFL"
      },
      "source": [
        "---\n",
        "---"
      ]
    },
    {
      "cell_type": "code",
      "metadata": {
        "id": "cn5Za4vcioFL",
        "colab": {
          "base_uri": "https://localhost:8080/",
          "height": 281
        },
        "outputId": "7fcd9cd9-50a6-443a-ca46-a8d1e457e2a9"
      },
      "source": [
        "df_reto_3 = pd.read_csv(data, index_col=0)\n",
        "df_reto_3.head(3)"
      ],
      "execution_count": 4,
      "outputs": [
        {
          "output_type": "execute_result",
          "data": {
            "text/html": [
              "<div>\n",
              "<style scoped>\n",
              "    .dataframe tbody tr th:only-of-type {\n",
              "        vertical-align: middle;\n",
              "    }\n",
              "\n",
              "    .dataframe tbody tr th {\n",
              "        vertical-align: top;\n",
              "    }\n",
              "\n",
              "    .dataframe thead th {\n",
              "        text-align: right;\n",
              "    }\n",
              "</style>\n",
              "<table border=\"1\" class=\"dataframe\">\n",
              "  <thead>\n",
              "    <tr style=\"text-align: right;\">\n",
              "      <th></th>\n",
              "      <th>id_name</th>\n",
              "      <th>is_potentially_hazardous_asteroid</th>\n",
              "      <th>estimated_diameter.meters.estimated_diameter_min</th>\n",
              "      <th>estimated_diameter.meters.estimated_diameter_max</th>\n",
              "      <th>close_approach_date</th>\n",
              "      <th>epoch_date_close_approach</th>\n",
              "      <th>orbiting_body</th>\n",
              "      <th>relative_velocity.kilometers_per_second</th>\n",
              "      <th>relative_velocity.kilometers_per_hour</th>\n",
              "      <th>orbit_class_description</th>\n",
              "      <th>id</th>\n",
              "      <th>name</th>\n",
              "    </tr>\n",
              "  </thead>\n",
              "  <tbody>\n",
              "    <tr>\n",
              "      <th>0</th>\n",
              "      <td>2154652-154652 (2004 EP20)</td>\n",
              "      <td>False</td>\n",
              "      <td>483.676488</td>\n",
              "      <td>1081.533507</td>\n",
              "      <td>1995-01-07</td>\n",
              "      <td>1995-01-07 08:33:00</td>\n",
              "      <td>Earth</td>\n",
              "      <td>16.142864</td>\n",
              "      <td>58114.308667</td>\n",
              "      <td>Near Earth asteroid orbits similar to that of ...</td>\n",
              "      <td>2154652</td>\n",
              "      <td>154652 (2004 EP20)</td>\n",
              "    </tr>\n",
              "    <tr>\n",
              "      <th>1</th>\n",
              "      <td>3153509-(2003 HM)</td>\n",
              "      <td>True</td>\n",
              "      <td>96.506147</td>\n",
              "      <td>215.794305</td>\n",
              "      <td>1995-01-07</td>\n",
              "      <td>1995-01-07 15:09:00</td>\n",
              "      <td>Earth</td>\n",
              "      <td>12.351044</td>\n",
              "      <td>44463.757734</td>\n",
              "      <td>Near Earth asteroid orbits which cross the Ear...</td>\n",
              "      <td>3153509</td>\n",
              "      <td>(2003 HM)</td>\n",
              "    </tr>\n",
              "    <tr>\n",
              "      <th>3</th>\n",
              "      <td>3837644-(2019 AY3)</td>\n",
              "      <td>False</td>\n",
              "      <td>46.190746</td>\n",
              "      <td>103.285648</td>\n",
              "      <td>1995-01-07</td>\n",
              "      <td>1995-01-07 21:25:00</td>\n",
              "      <td>Earth</td>\n",
              "      <td>22.478615</td>\n",
              "      <td>80923.015021</td>\n",
              "      <td>Near Earth asteroid orbits similar to that of ...</td>\n",
              "      <td>3837644</td>\n",
              "      <td>(2019 AY3)</td>\n",
              "    </tr>\n",
              "  </tbody>\n",
              "</table>\n",
              "</div>"
            ],
            "text/plain": [
              "                      id_name  ...                name\n",
              "0  2154652-154652 (2004 EP20)  ...  154652 (2004 EP20)\n",
              "1           3153509-(2003 HM)  ...           (2003 HM)\n",
              "3          3837644-(2019 AY3)  ...          (2019 AY3)\n",
              "\n",
              "[3 rows x 12 columns]"
            ]
          },
          "metadata": {
            "tags": []
          },
          "execution_count": 4
        }
      ]
    },
    {
      "cell_type": "code",
      "metadata": {
        "id": "P5i4sJ8SioFL",
        "colab": {
          "base_uri": "https://localhost:8080/"
        },
        "outputId": "390f6906-e203-4a6f-9f00-b27d4f04c527"
      },
      "source": [
        "# analiza\n",
        "df_reto_3.dtypes"
      ],
      "execution_count": 5,
      "outputs": [
        {
          "output_type": "execute_result",
          "data": {
            "text/plain": [
              "id_name                                              object\n",
              "is_potentially_hazardous_asteroid                      bool\n",
              "estimated_diameter.meters.estimated_diameter_min    float64\n",
              "estimated_diameter.meters.estimated_diameter_max    float64\n",
              "close_approach_date                                  object\n",
              "epoch_date_close_approach                            object\n",
              "orbiting_body                                        object\n",
              "relative_velocity.kilometers_per_second             float64\n",
              "relative_velocity.kilometers_per_hour               float64\n",
              "orbit_class_description                              object\n",
              "id                                                    int64\n",
              "name                                                 object\n",
              "dtype: object"
            ]
          },
          "metadata": {
            "tags": []
          },
          "execution_count": 5
        }
      ]
    },
    {
      "cell_type": "markdown",
      "metadata": {
        "id": "jFHKP_dTioFL"
      },
      "source": [
        "#### a) Booleanos a numéricos\n",
        "\n",
        "Vamos a trabajar sobre el dataset que guardaste en el Reto anterior. Esta vez tu Reto es muy sencillo:\n",
        "\n",
        "1. La columna `is_potentially_hazardous_asteroid` tiene valores `booleanos`. Crea un diccionario de mapeo donde hagas un correspondencia de cada valor `booleano` con su equivalente numérico y transforma esa columna.\n"
      ]
    },
    {
      "cell_type": "code",
      "metadata": {
        "id": "sutEeqJW-x2t"
      },
      "source": [
        "dict_tf = {True: 1, False: 0}"
      ],
      "execution_count": 9,
      "outputs": []
    },
    {
      "cell_type": "code",
      "metadata": {
        "id": "DnWhTpygioFL",
        "colab": {
          "base_uri": "https://localhost:8080/"
        },
        "outputId": "a553282d-4715-42af-af76-a7a41cca0712"
      },
      "source": [
        "# mapea\n",
        "df_reto_3[\"is_potentially_hazardous_asteroid\"] = df_reto_3['is_potentially_hazardous_asteroid'].map(dict_tf)\n",
        "df_reto_3[\"is_potentially_hazardous_asteroid\"]"
      ],
      "execution_count": 13,
      "outputs": [
        {
          "output_type": "execute_result",
          "data": {
            "text/plain": [
              "0      0\n",
              "1      1\n",
              "3      0\n",
              "4      0\n",
              "5      0\n",
              "      ..\n",
              "327    0\n",
              "328    0\n",
              "329    0\n",
              "330    0\n",
              "331    0\n",
              "Name: is_potentially_hazardous_asteroid, Length: 301, dtype: int64"
            ]
          },
          "metadata": {
            "tags": []
          },
          "execution_count": 13
        }
      ]
    },
    {
      "cell_type": "markdown",
      "metadata": {
        "id": "9z9HnS-36zLh"
      },
      "source": [
        "2. Usa una función para mapear la columna `relative_velocity.kilometers_per_hour` a una nueva columna llamada `relative_velocity.kilometers_per_minute`, que contenga la velocidad del objeto en kilómetros por minuto.\n"
      ]
    },
    {
      "cell_type": "code",
      "metadata": {
        "id": "LOaiRvxvioFM",
        "colab": {
          "base_uri": "https://localhost:8080/"
        },
        "outputId": "03d2656c-40f2-42cc-8bd1-54af941449db"
      },
      "source": [
        "# analiza\n",
        "df_reto_3['relative_velocity.kilometers_per_hour'].apply(lambda x: x / 60)"
      ],
      "execution_count": 18,
      "outputs": [
        {
          "output_type": "execute_result",
          "data": {
            "text/plain": [
              "0       968.571811\n",
              "1       741.062629\n",
              "3      1348.716917\n",
              "4       299.921473\n",
              "5       447.905361\n",
              "          ...     \n",
              "327     928.485664\n",
              "328     970.823503\n",
              "329     906.368411\n",
              "330    1220.590392\n",
              "331    1783.945551\n",
              "Name: relative_velocity.kilometers_per_hour, Length: 301, dtype: float64"
            ]
          },
          "metadata": {
            "tags": []
          },
          "execution_count": 18
        }
      ]
    },
    {
      "cell_type": "code",
      "metadata": {
        "id": "nQdVjGJwioFM",
        "colab": {
          "base_uri": "https://localhost:8080/"
        },
        "outputId": "95a25a27-d709-42d0-fd54-c0e9353d0f49"
      },
      "source": [
        "# transforma usando función\n",
        "def kmh_to_kmm(value):\n",
        "  return value / 60.0\n",
        "\n",
        "df_reto_3[\"relative_velocity.kilometers_per_minute\"] = df_reto_3['relative_velocity.kilometers_per_hour'].map(kmh_to_kmm)\n",
        "\n",
        "df_reto_3[\"relative_velocity.kilometers_per_minute\"]"
      ],
      "execution_count": 20,
      "outputs": [
        {
          "output_type": "execute_result",
          "data": {
            "text/plain": [
              "0       968.571811\n",
              "1       741.062629\n",
              "3      1348.716917\n",
              "4       299.921473\n",
              "5       447.905361\n",
              "          ...     \n",
              "327     928.485664\n",
              "328     970.823503\n",
              "329     906.368411\n",
              "330    1220.590392\n",
              "331    1783.945551\n",
              "Name: relative_velocity.kilometers_per_minute, Length: 301, dtype: float64"
            ]
          },
          "metadata": {
            "tags": []
          },
          "execution_count": 20
        }
      ]
    },
    {
      "cell_type": "markdown",
      "metadata": {
        "id": "TnWDdj5m6440"
      },
      "source": [
        "3. Guarda tu `DataFrame` resultante en la variable `df_reto_3`.\n"
      ]
    },
    {
      "cell_type": "markdown",
      "metadata": {
        "id": "BecHVK_F67SM"
      },
      "source": [
        "4. Guarda tu resultado en un archivo .csv."
      ]
    },
    {
      "cell_type": "code",
      "metadata": {
        "id": "iktU5R-XioFM"
      },
      "source": [
        "# guarda resultado al archivo objetos_cercanos_3.csv\n",
        "path = '/content/drive/MyDrive/DataAnalysis/objetos_cercanos_3.csv'\n",
        "df_reto_3.to_csv(path)\n"
      ],
      "execution_count": 21,
      "outputs": []
    },
    {
      "cell_type": "markdown",
      "metadata": {
        "id": "rFAWqojgioFM"
      },
      "source": [
        "A continuación la celda de validación que en este caso sólo te ayuda a corroborar si estás realizando bien parte del proceso, compara tus resultados con tu Ingenier@ de Datos de confianza y si coinciden envía tus resultados"
      ]
    },
    {
      "cell_type": "code",
      "metadata": {
        "id": "z_OgZcb2ioFM",
        "colab": {
          "base_uri": "https://localhost:8080/"
        },
        "outputId": "44c3708e-497d-4dfd-ca61-443f296229e9"
      },
      "source": [
        "def revisar_resultados(df):\n",
        "    \n",
        "    import pandas as np\n",
        "    import pandas.api.types as pdtypes\n",
        "    \n",
        "    assert pdtypes.is_int64_dtype(df['is_potentially_hazardous_asteroid']), 'La columna \"is_potentially_hazardous_asteroid\" no ha sido transformada a tipo numerico'\n",
        "    assert len(df['is_potentially_hazardous_asteroid'].unique()) == 2, 'Hubo un error con la correspondencia de valores booleanos a numéricos. Hay más de dos valores posibles en la columna resultante'\n",
        "    assert df['relative_velocity.kilometers_per_minute'].equals(df['relative_velocity.kilometers_per_hour'] / 60), 'La conversión de kilometros por hora a kilómetros por minuto no fue realizada correctamente'\n",
        "    \n",
        "    print(f'Todos los procesos fueron realizados exitosamente!')\n",
        "\n",
        "revisar_resultados(df_reto_3)"
      ],
      "execution_count": 22,
      "outputs": [
        {
          "output_type": "stream",
          "text": [
            "Todos los procesos fueron realizados exitosamente!\n"
          ],
          "name": "stdout"
        }
      ]
    }
  ]
}