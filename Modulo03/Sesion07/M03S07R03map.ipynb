{
  "nbformat": 4,
  "nbformat_minor": 0,
  "metadata": {
    "kernelspec": {
      "display_name": "Python 3",
      "language": "python",
      "name": "python3"
    },
    "language_info": {
      "codemirror_mode": {
        "name": "ipython",
        "version": 3
      },
      "file_extension": ".py",
      "mimetype": "text/x-python",
      "name": "python",
      "nbconvert_exporter": "python",
      "pygments_lexer": "ipython3",
      "version": "3.7.4"
    },
    "colab": {
      "name": "M03S07E03map.ipynb",
      "provenance": [],
      "collapsed_sections": [],
      "include_colab_link": true
    }
  },
  "cells": [
    {
      "cell_type": "markdown",
      "metadata": {
        "id": "view-in-github",
        "colab_type": "text"
      },
      "source": [
        "<a href=\"https://colab.research.google.com/github/earandir/DataAnalysis/blob/main/Modulo03/Sesion07/M03S07R03map.ipynb\" target=\"_parent\"><img src=\"https://colab.research.google.com/assets/colab-badge.svg\" alt=\"Open In Colab\"/></a>"
      ]
    },
    {
      "cell_type": "markdown",
      "metadata": {
        "id": "LONgsOQFioFF"
      },
      "source": [
        "## Ejemplo 3: `map`\n",
        "\n",
        "### 1. Objetivos:\n",
        "    - Usar `map` para convertir datos usando un `diccionario` o una `función``\n",
        " \n",
        "---\n",
        "    \n",
        "### 2. Desarrollo:"
      ]
    },
    {
      "cell_type": "code",
      "metadata": {
        "id": "mFCdSunbioFH"
      },
      "source": [
        "import pandas as pd"
      ],
      "execution_count": 1,
      "outputs": []
    },
    {
      "cell_type": "markdown",
      "metadata": {
        "id": "czJTXNIJioFH"
      },
      "source": [
        "Nuevemente puedes usar el archivo `new_york_times_bestsellers-dirty.csv` para usar los datos sin procesar:"
      ]
    },
    {
      "cell_type": "code",
      "metadata": {
        "colab": {
          "base_uri": "https://localhost:8080/"
        },
        "id": "aRQwzfjDK-a1",
        "outputId": "ea87be85-5621-4827-846d-f834b31aab99"
      },
      "source": [
        "from google.colab import drive\n",
        "drive.mount('/content/drive')\n",
        "\n",
        "data = '/content/drive/MyDrive/DataAnalysis/Datasets/new_york_times_bestsellers-dirty.csv'"
      ],
      "execution_count": null,
      "outputs": [
        {
          "output_type": "stream",
          "text": [
            "Mounted at /content/drive\n"
          ],
          "name": "stdout"
        }
      ]
    },
    {
      "cell_type": "code",
      "metadata": {
        "id": "9QwDiJ-jPMcx"
      },
      "source": [
        "df = pd.read_csv(data, index_col=0)"
      ],
      "execution_count": null,
      "outputs": []
    },
    {
      "cell_type": "code",
      "metadata": {
        "colab": {
          "base_uri": "https://localhost:8080/",
          "height": 366
        },
        "id": "SuKcPiE7dlBZ",
        "outputId": "d0f5d8a2-3da4-4f32-fc9d-d67201bbf367"
      },
      "source": [
        "df.head(3)"
      ],
      "execution_count": null,
      "outputs": [
        {
          "output_type": "execute_result",
          "data": {
            "text/html": [
              "<div>\n",
              "<style scoped>\n",
              "    .dataframe tbody tr th:only-of-type {\n",
              "        vertical-align: middle;\n",
              "    }\n",
              "\n",
              "    .dataframe tbody tr th {\n",
              "        vertical-align: top;\n",
              "    }\n",
              "\n",
              "    .dataframe thead th {\n",
              "        text-align: right;\n",
              "    }\n",
              "</style>\n",
              "<table border=\"1\" class=\"dataframe\">\n",
              "  <thead>\n",
              "    <tr style=\"text-align: right;\">\n",
              "      <th></th>\n",
              "      <th>amazon_product_url</th>\n",
              "      <th>author</th>\n",
              "      <th>description</th>\n",
              "      <th>publisher</th>\n",
              "      <th>title</th>\n",
              "      <th>oid</th>\n",
              "      <th>bestsellers_date.numberLong</th>\n",
              "      <th>published_date.numberLong</th>\n",
              "      <th>rank.numberInt</th>\n",
              "      <th>rank_last_week.numberInt</th>\n",
              "      <th>weeks_on_list.numberInt</th>\n",
              "      <th>price.numberDouble</th>\n",
              "    </tr>\n",
              "  </thead>\n",
              "  <tbody>\n",
              "    <tr>\n",
              "      <th>0</th>\n",
              "      <td>http://www.amazon.com/The-Host-Novel-Stephenie...</td>\n",
              "      <td>Stephenie Meyer</td>\n",
              "      <td>Descr: Aliens have taken control of the minds ...</td>\n",
              "      <td>Little, Brown</td>\n",
              "      <td>THE HOST</td>\n",
              "      <td>5b4aa4ead3089013507db18c</td>\n",
              "      <td>2008-05-24 00:00:00</td>\n",
              "      <td>1212883200000</td>\n",
              "      <td>2</td>\n",
              "      <td>1</td>\n",
              "      <td>3</td>\n",
              "      <td>25.99</td>\n",
              "    </tr>\n",
              "    <tr>\n",
              "      <th>1</th>\n",
              "      <td>http://www.amazon.com/Love-Youre-With-Emily-Gi...</td>\n",
              "      <td>Emily Giffin</td>\n",
              "      <td>Descr: A woman's happy marriage is shaken when...</td>\n",
              "      <td>St. Martin's</td>\n",
              "      <td>LOVE THE ONE YOU'RE WITH</td>\n",
              "      <td>5b4aa4ead3089013507db18d</td>\n",
              "      <td>2008-05-24 00:00:00</td>\n",
              "      <td>1212883200000</td>\n",
              "      <td>3</td>\n",
              "      <td>2</td>\n",
              "      <td>2</td>\n",
              "      <td>24.95</td>\n",
              "    </tr>\n",
              "    <tr>\n",
              "      <th>2</th>\n",
              "      <td>http://www.amazon.com/The-Front-Garano-Patrici...</td>\n",
              "      <td>Patricia Cornwell</td>\n",
              "      <td>Descr: A Massachusetts state investigator and ...</td>\n",
              "      <td>Putnam</td>\n",
              "      <td>THE FRONT</td>\n",
              "      <td>5b4aa4ead3089013507db18e</td>\n",
              "      <td>2008-05-24 00:00:00</td>\n",
              "      <td>1212883200000</td>\n",
              "      <td>4</td>\n",
              "      <td>0</td>\n",
              "      <td>1</td>\n",
              "      <td>22.95</td>\n",
              "    </tr>\n",
              "  </tbody>\n",
              "</table>\n",
              "</div>"
            ],
            "text/plain": [
              "                                  amazon_product_url  ... price.numberDouble\n",
              "0  http://www.amazon.com/The-Host-Novel-Stephenie...  ...              25.99\n",
              "1  http://www.amazon.com/Love-Youre-With-Emily-Gi...  ...              24.95\n",
              "2  http://www.amazon.com/The-Front-Garano-Patrici...  ...              22.95\n",
              "\n",
              "[3 rows x 12 columns]"
            ]
          },
          "metadata": {
            "tags": []
          },
          "execution_count": 4
        }
      ]
    },
    {
      "cell_type": "markdown",
      "metadata": {
        "id": "Uc679jpHioFI"
      },
      "source": [
        "Para imprimir todos los elementos únicos en la columna `rank.numberInt` se usa la siguiente función:\n",
        "\n",
        "`df[-columna-].unique()`"
      ]
    },
    {
      "cell_type": "code",
      "metadata": {
        "colab": {
          "base_uri": "https://localhost:8080/"
        },
        "id": "MuH2JTluioFJ",
        "outputId": "88e45472-aad1-4bef-dd08-56187a3b92de"
      },
      "source": [
        "df['rank.numberInt'].unique()"
      ],
      "execution_count": null,
      "outputs": [
        {
          "output_type": "execute_result",
          "data": {
            "text/plain": [
              "array(['2', '3', '4', '5', '7', '8', '9', '10', '12', '13', '14',\n",
              "       'No Rank', '6', '11', '15', '1', '16'], dtype=object)"
            ]
          },
          "metadata": {
            "tags": []
          },
          "execution_count": 5
        }
      ]
    },
    {
      "cell_type": "markdown",
      "metadata": {
        "id": "219OSiACioFJ"
      },
      "source": [
        "Digamos que queremos transformar los datos de nuestra columna 'rank.numberInt' para que esté dado por letras, no por números.\n",
        "\n",
        "Sabemos que hay un valor 'No Rank' en esa columna, así que nuestro diccionario de conversión podría verse así:"
      ]
    },
    {
      "cell_type": "code",
      "metadata": {
        "id": "URJdMDwFioFJ"
      },
      "source": [
        "int_a_letra = {\n",
        "    '1': 'a',\n",
        "    '2': 'b',\n",
        "    '3': 'c',\n",
        "    '4': 'd',\n",
        "    '5': 'e',\n",
        "    '6': 'f',\n",
        "    '7': 'g',\n",
        "    '8': 'h',\n",
        "    '9': 'i',\n",
        "    '10': 'j',\n",
        "    '11': 'k',\n",
        "    '12': 'l',\n",
        "    '13': 'm',\n",
        "    '14': 'n',\n",
        "    '15': 'o',\n",
        "    '16': 'p',\n",
        "    'No Rank': 'z'\n",
        "}"
      ],
      "execution_count": null,
      "outputs": []
    },
    {
      "cell_type": "markdown",
      "metadata": {
        "id": "KFqbO4s0ioFK"
      },
      "source": [
        "Lo aplicamos usando `map` y podemos aplicar `head()` al mismo tiempo para cortar resultados:\n",
        "\n",
        "`dataframe[-columna-].map(-diccionario-)`"
      ]
    },
    {
      "cell_type": "code",
      "metadata": {
        "colab": {
          "base_uri": "https://localhost:8080/"
        },
        "id": "uhq6bccuioFK",
        "outputId": "f3067983-1a3c-46f5-a05c-8fffc705bd4b"
      },
      "source": [
        "df['rank.numberInt'].map(int_a_letra)"
      ],
      "execution_count": null,
      "outputs": [
        {
          "output_type": "execute_result",
          "data": {
            "text/plain": [
              "0       b\n",
              "1       c\n",
              "2       d\n",
              "3       e\n",
              "5       g\n",
              "       ..\n",
              "3027    h\n",
              "3028    i\n",
              "3029    k\n",
              "3030    m\n",
              "3031    n\n",
              "Name: rank.numberInt, Length: 2266, dtype: object"
            ]
          },
          "metadata": {
            "tags": []
          },
          "execution_count": 9
        }
      ]
    },
    {
      "cell_type": "markdown",
      "metadata": {
        "id": "wzxd4JL9ioFK"
      },
      "source": [
        "Y como sabemos, también podemos usar una función para `map`, por ejemplo para realizar una correspondencia entre el precio de un libro y su representación en `string`:"
      ]
    },
    {
      "cell_type": "code",
      "metadata": {
        "id": "34B7_6PxioFK"
      },
      "source": [
        "def numero_a_pesos_mn(valor):\n",
        "    \"\"\" convierte de float a pesos en el formato de moneda nacional \"\"\"\n",
        "    return f'$ {valor:.2f} M.N.'"
      ],
      "execution_count": null,
      "outputs": []
    },
    {
      "cell_type": "code",
      "metadata": {
        "colab": {
          "base_uri": "https://localhost:8080/"
        },
        "id": "SLpkOEvQioFK",
        "outputId": "5e7af873-4b17-4e6c-99c5-b90aa1a390d4"
      },
      "source": [
        "df['price.numberDouble'].map(numero_a_pesos_mn).head(20)"
      ],
      "execution_count": null,
      "outputs": [
        {
          "output_type": "execute_result",
          "data": {
            "text/plain": [
              "0     $ 25.99 M.N.\n",
              "1     $ 24.95 M.N.\n",
              "2     $ 22.95 M.N.\n",
              "3     $ 24.95 M.N.\n",
              "5     $ 26.95 M.N.\n",
              "6     $ 21.99 M.N.\n",
              "7     $ 27.95 M.N.\n",
              "8     $ 26.99 M.N.\n",
              "9     $ 26.95 M.N.\n",
              "10    $ 23.95 M.N.\n",
              "11    $ 24.95 M.N.\n",
              "13    $ 25.99 M.N.\n",
              "14    $ 24.95 M.N.\n",
              "16    $ 25.95 M.N.\n",
              "17    $ 22.95 M.N.\n",
              "18    $ 24.95 M.N.\n",
              "19    $ 26.95 M.N.\n",
              "20    $ 24.95 M.N.\n",
              "21    $ 26.95 M.N.\n",
              "22    $ 27.95 M.N.\n",
              "Name: price.numberDouble, dtype: object"
            ]
          },
          "metadata": {
            "tags": []
          },
          "execution_count": 12
        }
      ]
    },
    {
      "cell_type": "markdown",
      "metadata": {
        "id": "ZiNgyn3JioFK"
      },
      "source": [
        "Lo único que tienes que pensar al usar `map` es: \"¿Este dato tiene una correspondencia con otro dato que pueda representar con un diccionario o una función?\". Y listo."
      ]
    },
    {
      "cell_type": "markdown",
      "metadata": {
        "id": "7BD2kKcxioFL"
      },
      "source": [
        "---\n",
        "---"
      ]
    },
    {
      "cell_type": "markdown",
      "metadata": {
        "id": "NEjZanowioFL"
      },
      "source": [
        "## Reto 3: Map\n",
        "\n",
        "### 1. Objetivos:\n",
        "    - Practicar el uso del método `map` para mapear un dato a otro dato que le corresponde.\n",
        "    \n",
        "---\n",
        "    \n",
        "### 2. Desarrollo:"
      ]
    },
    {
      "cell_type": "markdown",
      "metadata": {
        "id": "jFHKP_dTioFL"
      },
      "source": [
        "#### a) Booleanos a numéricos\n",
        "\n",
        "Vamos a trabajar sobre el dataset que guardaste en el Reto anterior. Esta vez tu Reto es muy sencillo:\n",
        "\n",
        "1. La columna `is_potentially_hazardous_asteroid` tiene valores `booleanos`. Crea un diccionario de mapeo donde hagas un correspondencia de cada valor `booleano` con su equivalente numérico y transforma esa columna.\n"
      ]
    },
    {
      "cell_type": "code",
      "metadata": {
        "id": "PxDtS0TWioFL"
      },
      "source": [
        "import pandas as pd"
      ],
      "execution_count": null,
      "outputs": []
    },
    {
      "cell_type": "code",
      "metadata": {
        "id": "cn5Za4vcioFL"
      },
      "source": [
        "df_reto_3 = pd.read_csv(\"../Ejemplo-02/objetos_cercanos_2.csv\", index_col=0)\n",
        "df_reto_3.head(3)"
      ],
      "execution_count": null,
      "outputs": []
    },
    {
      "cell_type": "code",
      "metadata": {
        "id": "P5i4sJ8SioFL"
      },
      "source": [
        "# analiza"
      ],
      "execution_count": null,
      "outputs": []
    },
    {
      "cell_type": "markdown",
      "metadata": {
        "id": "9z9HnS-36zLh"
      },
      "source": [
        "2. Usa una función para mapear la columna `relative_velocity.kilometers_per_hour` a una nueva columna llamada `relative_velocity.kilometers_per_minute`, que contenga la velocidad del objeto en kilómetros por minuto.\n"
      ]
    },
    {
      "cell_type": "code",
      "metadata": {
        "id": "DnWhTpygioFL"
      },
      "source": [
        "# mapea\n",
        "...\n",
        "df_reto_3[\"is_potentially_hazardous_asteroid\"]"
      ],
      "execution_count": null,
      "outputs": []
    },
    {
      "cell_type": "code",
      "metadata": {
        "id": "LOaiRvxvioFM"
      },
      "source": [
        "# analiza"
      ],
      "execution_count": null,
      "outputs": []
    },
    {
      "cell_type": "code",
      "metadata": {
        "id": "nQdVjGJwioFM"
      },
      "source": [
        "# transforma usando función\n",
        "...\n",
        "df_reto_3[\"relative_velocity.kilometers_per_minute\"]"
      ],
      "execution_count": null,
      "outputs": []
    },
    {
      "cell_type": "markdown",
      "metadata": {
        "id": "TnWDdj5m6440"
      },
      "source": [
        "3. Guarda tu `DataFrame` resultante en la variable `df_reto_3`.\n"
      ]
    },
    {
      "cell_type": "code",
      "metadata": {
        "id": "iktU5R-XioFM"
      },
      "source": [
        "# guarda resultado al archivo objetos_cercanos_3.csv"
      ],
      "execution_count": null,
      "outputs": []
    },
    {
      "cell_type": "markdown",
      "metadata": {
        "id": "BecHVK_F67SM"
      },
      "source": [
        "4. Guarda tu resultado en un archivo .csv."
      ]
    },
    {
      "cell_type": "code",
      "metadata": {
        "id": "IH23EYQx68JM"
      },
      "source": [
        ""
      ],
      "execution_count": null,
      "outputs": []
    },
    {
      "cell_type": "markdown",
      "metadata": {
        "id": "rFAWqojgioFM"
      },
      "source": [
        "A continuación la celda de validación que en este caso sólo te ayuda a corroborar si estás realizando bien parte del proceso, compara tus resultados con tu Ingenier@ de Datos de confianza y si coinciden envía tus resultados"
      ]
    },
    {
      "cell_type": "code",
      "metadata": {
        "id": "z_OgZcb2ioFM"
      },
      "source": [
        "def revisar_resultados(df):\n",
        "    \n",
        "    import pandas as np\n",
        "    import pandas.api.types as pdtypes\n",
        "    \n",
        "    assert pdtypes.is_int64_dtype(df['is_potentially_hazardous_asteroid']), 'La columna \"is_potentially_hazardous_asteroid\" no ha sido transformada a tipo numerico'\n",
        "    assert len(df['is_potentially_hazardous_asteroid'].unique()) == 2, 'Hubo un error con la correspondencia de valores booleanos a numéricos. Hay más de dos valores posibles en la columna resultante'\n",
        "    assert df['relative_velocity.kilometers_per_minute'].equals(df['relative_velocity.kilometers_per_hour'] / 60), 'La conversión de kilometros por hora a kilómetros por minuto no fue realizada correctamente'\n",
        "    \n",
        "    print(f'Todos los procesos fueron realizados exitosamente!')\n",
        "\n",
        "revisar_resultados(df_reto_3)"
      ],
      "execution_count": null,
      "outputs": []
    }
  ]
}