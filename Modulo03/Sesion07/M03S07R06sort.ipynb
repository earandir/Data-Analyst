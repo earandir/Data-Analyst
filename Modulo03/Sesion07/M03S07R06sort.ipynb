{
  "nbformat": 4,
  "nbformat_minor": 0,
  "metadata": {
    "kernelspec": {
      "display_name": "Python 3",
      "language": "python",
      "name": "python3"
    },
    "language_info": {
      "codemirror_mode": {
        "name": "ipython",
        "version": 3
      },
      "file_extension": ".py",
      "mimetype": "text/x-python",
      "name": "python",
      "nbconvert_exporter": "python",
      "pygments_lexer": "ipython3",
      "version": "3.7.4"
    },
    "colab": {
      "name": "M03S07R06sort.ipynb",
      "provenance": [],
      "collapsed_sections": [],
      "include_colab_link": true
    }
  },
  "cells": [
    {
      "cell_type": "markdown",
      "metadata": {
        "id": "view-in-github",
        "colab_type": "text"
      },
      "source": [
        "<a href=\"https://colab.research.google.com/github/earandir/DataAnalysis/blob/main/Modulo03/Sesion07/M03S07R06sort.ipynb\" target=\"_parent\"><img src=\"https://colab.research.google.com/assets/colab-badge.svg\" alt=\"Open In Colab\"/></a>"
      ]
    },
    {
      "cell_type": "markdown",
      "metadata": {
        "id": "VjXdDFGryIEs"
      },
      "source": [
        "## Reto 6: Sort\n",
        "\n",
        "### 1. Objetivos:\n",
        "    - Practicar el uso de `sort_values` para obtener datos específicos\n",
        "    \n",
        "### 2. Desarrollo:"
      ]
    },
    {
      "cell_type": "code",
      "metadata": {
        "id": "xz1NNmvOyIEo"
      },
      "source": [
        "import pandas as pd"
      ],
      "execution_count": 1,
      "outputs": []
    },
    {
      "cell_type": "code",
      "metadata": {
        "colab": {
          "base_uri": "https://localhost:8080/"
        },
        "id": "aRQwzfjDK-a1",
        "outputId": "fb066fdb-2fc5-4837-f053-a7b0050a96cc"
      },
      "source": [
        "from google.colab import drive\n",
        "drive.mount('/content/drive')\n",
        "\n",
        "data = '/content/drive/MyDrive/DataAnalysis/objetos_cercanos_4.csv'"
      ],
      "execution_count": 2,
      "outputs": [
        {
          "output_type": "stream",
          "text": [
            "Mounted at /content/drive\n"
          ],
          "name": "stdout"
        }
      ]
    },
    {
      "cell_type": "markdown",
      "metadata": {
        "id": "i-TTED02yIEs"
      },
      "source": [
        "---\n",
        "---"
      ]
    },
    {
      "cell_type": "markdown",
      "metadata": {
        "id": "KQJByTYMyIEs"
      },
      "source": [
        "#### a) Reordenamiento para hallazgo de valores\n",
        "\n",
        "Vamos a trabajar sobre el dataset que guardaste en la sesión anterior. Tu Reto consiste en lo siguiente:\n",
        "\n",
        "1. Usa `sort_values` y `loc` para obtener el valor de la velocidad en kilómetros por segundo más lenta de todos los objetos que tenemos en el dataset y asígnalo a `velocidad_en_kilometros_por_segundo_de_objeto_mas_lento`.\n",
        "2. Usa `sort_values` y `loc` para obtener el valor del diámetro más grande medido que existe en nuestro dataset y asígnalo a `medida_de_diametro_mas_grande`"
      ]
    },
    {
      "cell_type": "code",
      "metadata": {
        "id": "r6hfA0tJyIEt",
        "colab": {
          "base_uri": "https://localhost:8080/",
          "height": 281
        },
        "outputId": "d9fff633-46c9-465d-ff5b-95ea8d216aad"
      },
      "source": [
        "df_reto_6 = pd.read_csv(data, index_col=0)\n",
        "df_reto_6.head(3)"
      ],
      "execution_count": 3,
      "outputs": [
        {
          "output_type": "execute_result",
          "data": {
            "text/html": [
              "<div>\n",
              "<style scoped>\n",
              "    .dataframe tbody tr th:only-of-type {\n",
              "        vertical-align: middle;\n",
              "    }\n",
              "\n",
              "    .dataframe tbody tr th {\n",
              "        vertical-align: top;\n",
              "    }\n",
              "\n",
              "    .dataframe thead th {\n",
              "        text-align: right;\n",
              "    }\n",
              "</style>\n",
              "<table border=\"1\" class=\"dataframe\">\n",
              "  <thead>\n",
              "    <tr style=\"text-align: right;\">\n",
              "      <th></th>\n",
              "      <th>id_name</th>\n",
              "      <th>is_potentially_hazardous_asteroid</th>\n",
              "      <th>estimated_diameter.meters.estimated_diameter_min</th>\n",
              "      <th>estimated_diameter.meters.estimated_diameter_max</th>\n",
              "      <th>close_approach_date</th>\n",
              "      <th>epoch_date_close_approach</th>\n",
              "      <th>orbiting_body</th>\n",
              "      <th>relative_velocity.kilometers_per_second</th>\n",
              "      <th>relative_velocity.kilometers_per_hour</th>\n",
              "      <th>orbit_class_description</th>\n",
              "      <th>id</th>\n",
              "      <th>name</th>\n",
              "      <th>relative_velocity.kilometers_per_minute</th>\n",
              "      <th>proportion_of_max_diameter_to_earth</th>\n",
              "    </tr>\n",
              "  </thead>\n",
              "  <tbody>\n",
              "    <tr>\n",
              "      <th>0</th>\n",
              "      <td>2154652-154652 (2004 EP20)</td>\n",
              "      <td>0</td>\n",
              "      <td>483.676488</td>\n",
              "      <td>1081.533507</td>\n",
              "      <td>1995-01-07</td>\n",
              "      <td>1995-01-07 08:33:00</td>\n",
              "      <td>Earth</td>\n",
              "      <td>16.142864</td>\n",
              "      <td>58114.308667</td>\n",
              "      <td>Near Earth asteroid orbits similar to that of ...</td>\n",
              "      <td>2154652</td>\n",
              "      <td>154652 (2004 EP20)</td>\n",
              "      <td>968.571811</td>\n",
              "      <td>0.000085</td>\n",
              "    </tr>\n",
              "    <tr>\n",
              "      <th>1</th>\n",
              "      <td>3153509-(2003 HM)</td>\n",
              "      <td>1</td>\n",
              "      <td>96.506147</td>\n",
              "      <td>215.794305</td>\n",
              "      <td>1995-01-07</td>\n",
              "      <td>1995-01-07 15:09:00</td>\n",
              "      <td>Earth</td>\n",
              "      <td>12.351044</td>\n",
              "      <td>44463.757734</td>\n",
              "      <td>Near Earth asteroid orbits which cross the Ear...</td>\n",
              "      <td>3153509</td>\n",
              "      <td>(2003 HM)</td>\n",
              "      <td>741.062629</td>\n",
              "      <td>0.000017</td>\n",
              "    </tr>\n",
              "    <tr>\n",
              "      <th>3</th>\n",
              "      <td>3837644-(2019 AY3)</td>\n",
              "      <td>0</td>\n",
              "      <td>46.190746</td>\n",
              "      <td>103.285648</td>\n",
              "      <td>1995-01-07</td>\n",
              "      <td>1995-01-07 21:25:00</td>\n",
              "      <td>Earth</td>\n",
              "      <td>22.478615</td>\n",
              "      <td>80923.015021</td>\n",
              "      <td>Near Earth asteroid orbits similar to that of ...</td>\n",
              "      <td>3837644</td>\n",
              "      <td>(2019 AY3)</td>\n",
              "      <td>1348.716917</td>\n",
              "      <td>0.000008</td>\n",
              "    </tr>\n",
              "  </tbody>\n",
              "</table>\n",
              "</div>"
            ],
            "text/plain": [
              "                      id_name  ...  proportion_of_max_diameter_to_earth\n",
              "0  2154652-154652 (2004 EP20)  ...                             0.000085\n",
              "1           3153509-(2003 HM)  ...                             0.000017\n",
              "3          3837644-(2019 AY3)  ...                             0.000008\n",
              "\n",
              "[3 rows x 14 columns]"
            ]
          },
          "metadata": {
            "tags": []
          },
          "execution_count": 3
        }
      ]
    },
    {
      "cell_type": "code",
      "metadata": {
        "id": "hNfqL2uaWoDW",
        "colab": {
          "base_uri": "https://localhost:8080/",
          "height": 264
        },
        "outputId": "a85c25df-42fe-4eb3-bf9a-e0a8971de831"
      },
      "source": [
        "df_reto_6.sort_values('relative_velocity.kilometers_per_second', ascending=True).head(3)"
      ],
      "execution_count": null,
      "outputs": [
        {
          "output_type": "execute_result",
          "data": {
            "text/html": [
              "<div>\n",
              "<style scoped>\n",
              "    .dataframe tbody tr th:only-of-type {\n",
              "        vertical-align: middle;\n",
              "    }\n",
              "\n",
              "    .dataframe tbody tr th {\n",
              "        vertical-align: top;\n",
              "    }\n",
              "\n",
              "    .dataframe thead th {\n",
              "        text-align: right;\n",
              "    }\n",
              "</style>\n",
              "<table border=\"1\" class=\"dataframe\">\n",
              "  <thead>\n",
              "    <tr style=\"text-align: right;\">\n",
              "      <th></th>\n",
              "      <th>id_name</th>\n",
              "      <th>is_potentially_hazardous_asteroid</th>\n",
              "      <th>estimated_diameter.meters.estimated_diameter_min</th>\n",
              "      <th>estimated_diameter.meters.estimated_diameter_max</th>\n",
              "      <th>close_approach_date</th>\n",
              "      <th>epoch_date_close_approach</th>\n",
              "      <th>orbiting_body</th>\n",
              "      <th>relative_velocity.kilometers_per_second</th>\n",
              "      <th>relative_velocity.kilometers_per_hour</th>\n",
              "      <th>orbit_class_description</th>\n",
              "      <th>id</th>\n",
              "      <th>name</th>\n",
              "      <th>relative_velocity.kilometers_per_minute</th>\n",
              "      <th>proportion_of_max_diameter_to_earth</th>\n",
              "    </tr>\n",
              "  </thead>\n",
              "  <tbody>\n",
              "    <tr>\n",
              "      <th>313</th>\n",
              "      <td>3781977-(2017 SV19)</td>\n",
              "      <td>0</td>\n",
              "      <td>26.580000</td>\n",
              "      <td>59.434687</td>\n",
              "      <td>1995-02-20</td>\n",
              "      <td>1995-02-20 22:41:00</td>\n",
              "      <td>Earth</td>\n",
              "      <td>0.681437</td>\n",
              "      <td>2453.172023</td>\n",
              "      <td>Near Earth asteroid orbits which cross the Ear...</td>\n",
              "      <td>3781977</td>\n",
              "      <td>(2017 SV19)</td>\n",
              "      <td>40.886200</td>\n",
              "      <td>0.000005</td>\n",
              "    </tr>\n",
              "    <tr>\n",
              "      <th>262</th>\n",
              "      <td>3447920-(2009 DF1)</td>\n",
              "      <td>0</td>\n",
              "      <td>201.629919</td>\n",
              "      <td>450.858206</td>\n",
              "      <td>1995-02-15</td>\n",
              "      <td>1995-02-15 22:36:00</td>\n",
              "      <td>Earth</td>\n",
              "      <td>2.164376</td>\n",
              "      <td>7791.753083</td>\n",
              "      <td>Near Earth asteroid orbits which cross the Ear...</td>\n",
              "      <td>3447920</td>\n",
              "      <td>(2009 DF1)</td>\n",
              "      <td>129.862551</td>\n",
              "      <td>0.000035</td>\n",
              "    </tr>\n",
              "    <tr>\n",
              "      <th>248</th>\n",
              "      <td>3648878-(2013 TG6)</td>\n",
              "      <td>0</td>\n",
              "      <td>12.721988</td>\n",
              "      <td>28.447230</td>\n",
              "      <td>1995-02-17</td>\n",
              "      <td>1995-02-17 08:54:00</td>\n",
              "      <td>Earth</td>\n",
              "      <td>2.344519</td>\n",
              "      <td>8440.267424</td>\n",
              "      <td>Near Earth asteroid orbits similar to that of ...</td>\n",
              "      <td>3648878</td>\n",
              "      <td>(2013 TG6)</td>\n",
              "      <td>140.671124</td>\n",
              "      <td>0.000002</td>\n",
              "    </tr>\n",
              "  </tbody>\n",
              "</table>\n",
              "</div>"
            ],
            "text/plain": [
              "                 id_name  ...  proportion_of_max_diameter_to_earth\n",
              "313  3781977-(2017 SV19)  ...                             0.000005\n",
              "262   3447920-(2009 DF1)  ...                             0.000035\n",
              "248   3648878-(2013 TG6)  ...                             0.000002\n",
              "\n",
              "[3 rows x 14 columns]"
            ]
          },
          "metadata": {
            "tags": []
          },
          "execution_count": 8
        }
      ]
    },
    {
      "cell_type": "code",
      "metadata": {
        "id": "rn4LC3kjTHMK",
        "colab": {
          "base_uri": "https://localhost:8080/",
          "height": 134
        },
        "outputId": "a54f93bd-79dc-4443-f18c-404c0c184ec3"
      },
      "source": [
        "df_reto_6.loc[df_reto_6['relative_velocity.kilometers_per_second'] == df_reto_6['relative_velocity.kilometers_per_second'].min()]\n"
      ],
      "execution_count": 4,
      "outputs": [
        {
          "output_type": "execute_result",
          "data": {
            "text/html": [
              "<div>\n",
              "<style scoped>\n",
              "    .dataframe tbody tr th:only-of-type {\n",
              "        vertical-align: middle;\n",
              "    }\n",
              "\n",
              "    .dataframe tbody tr th {\n",
              "        vertical-align: top;\n",
              "    }\n",
              "\n",
              "    .dataframe thead th {\n",
              "        text-align: right;\n",
              "    }\n",
              "</style>\n",
              "<table border=\"1\" class=\"dataframe\">\n",
              "  <thead>\n",
              "    <tr style=\"text-align: right;\">\n",
              "      <th></th>\n",
              "      <th>id_name</th>\n",
              "      <th>is_potentially_hazardous_asteroid</th>\n",
              "      <th>estimated_diameter.meters.estimated_diameter_min</th>\n",
              "      <th>estimated_diameter.meters.estimated_diameter_max</th>\n",
              "      <th>close_approach_date</th>\n",
              "      <th>epoch_date_close_approach</th>\n",
              "      <th>orbiting_body</th>\n",
              "      <th>relative_velocity.kilometers_per_second</th>\n",
              "      <th>relative_velocity.kilometers_per_hour</th>\n",
              "      <th>orbit_class_description</th>\n",
              "      <th>id</th>\n",
              "      <th>name</th>\n",
              "      <th>relative_velocity.kilometers_per_minute</th>\n",
              "      <th>proportion_of_max_diameter_to_earth</th>\n",
              "    </tr>\n",
              "  </thead>\n",
              "  <tbody>\n",
              "    <tr>\n",
              "      <th>313</th>\n",
              "      <td>3781977-(2017 SV19)</td>\n",
              "      <td>0</td>\n",
              "      <td>26.58</td>\n",
              "      <td>59.434687</td>\n",
              "      <td>1995-02-20</td>\n",
              "      <td>1995-02-20 22:41:00</td>\n",
              "      <td>Earth</td>\n",
              "      <td>0.681437</td>\n",
              "      <td>2453.172023</td>\n",
              "      <td>Near Earth asteroid orbits which cross the Ear...</td>\n",
              "      <td>3781977</td>\n",
              "      <td>(2017 SV19)</td>\n",
              "      <td>40.8862</td>\n",
              "      <td>0.000005</td>\n",
              "    </tr>\n",
              "  </tbody>\n",
              "</table>\n",
              "</div>"
            ],
            "text/plain": [
              "                 id_name  ...  proportion_of_max_diameter_to_earth\n",
              "313  3781977-(2017 SV19)  ...                             0.000005\n",
              "\n",
              "[1 rows x 14 columns]"
            ]
          },
          "metadata": {
            "tags": []
          },
          "execution_count": 4
        }
      ]
    },
    {
      "cell_type": "code",
      "metadata": {
        "id": "QhoXOgJTyIEt"
      },
      "source": [
        "velocidad_en_kilometros_por_segundo_de_objeto_mas_lento = df_reto_6['relative_velocity.kilometers_per_second'].min()"
      ],
      "execution_count": 5,
      "outputs": []
    },
    {
      "cell_type": "code",
      "metadata": {
        "colab": {
          "base_uri": "https://localhost:8080/",
          "height": 151
        },
        "id": "sCBgKJo3h6RF",
        "outputId": "d95ed3f8-c3cc-4dbc-ca64-b631a505f335"
      },
      "source": [
        "df_reto_6.loc[df_reto_6['estimated_diameter.meters.estimated_diameter_max'] == df_reto_6['estimated_diameter.meters.estimated_diameter_max'].max()]"
      ],
      "execution_count": 8,
      "outputs": [
        {
          "output_type": "execute_result",
          "data": {
            "text/html": [
              "<div>\n",
              "<style scoped>\n",
              "    .dataframe tbody tr th:only-of-type {\n",
              "        vertical-align: middle;\n",
              "    }\n",
              "\n",
              "    .dataframe tbody tr th {\n",
              "        vertical-align: top;\n",
              "    }\n",
              "\n",
              "    .dataframe thead th {\n",
              "        text-align: right;\n",
              "    }\n",
              "</style>\n",
              "<table border=\"1\" class=\"dataframe\">\n",
              "  <thead>\n",
              "    <tr style=\"text-align: right;\">\n",
              "      <th></th>\n",
              "      <th>id_name</th>\n",
              "      <th>is_potentially_hazardous_asteroid</th>\n",
              "      <th>estimated_diameter.meters.estimated_diameter_min</th>\n",
              "      <th>estimated_diameter.meters.estimated_diameter_max</th>\n",
              "      <th>close_approach_date</th>\n",
              "      <th>epoch_date_close_approach</th>\n",
              "      <th>orbiting_body</th>\n",
              "      <th>relative_velocity.kilometers_per_second</th>\n",
              "      <th>relative_velocity.kilometers_per_hour</th>\n",
              "      <th>orbit_class_description</th>\n",
              "      <th>id</th>\n",
              "      <th>name</th>\n",
              "      <th>relative_velocity.kilometers_per_minute</th>\n",
              "      <th>proportion_of_max_diameter_to_earth</th>\n",
              "    </tr>\n",
              "  </thead>\n",
              "  <tbody>\n",
              "    <tr>\n",
              "      <th>138</th>\n",
              "      <td>2005751-5751 Zao (1992 AC)</td>\n",
              "      <td>0</td>\n",
              "      <td>2914.439045</td>\n",
              "      <td>6516.883822</td>\n",
              "      <td>1995-01-25</td>\n",
              "      <td>1995-01-25 22:34:00</td>\n",
              "      <td>Earth</td>\n",
              "      <td>8.677449</td>\n",
              "      <td>31238.817229</td>\n",
              "      <td>Near Earth asteroid orbits similar to that of ...</td>\n",
              "      <td>2005751</td>\n",
              "      <td>5751 Zao (1992 AC)</td>\n",
              "      <td>520.646954</td>\n",
              "      <td>0.000511</td>\n",
              "    </tr>\n",
              "  </tbody>\n",
              "</table>\n",
              "</div>"
            ],
            "text/plain": [
              "                        id_name  ...  proportion_of_max_diameter_to_earth\n",
              "138  2005751-5751 Zao (1992 AC)  ...                             0.000511\n",
              "\n",
              "[1 rows x 14 columns]"
            ]
          },
          "metadata": {
            "tags": []
          },
          "execution_count": 8
        }
      ]
    },
    {
      "cell_type": "code",
      "metadata": {
        "id": "XP03j9tayIEt"
      },
      "source": [
        "medida_de_diametro_mas_grande = df_reto_6['estimated_diameter.meters.estimated_diameter_max'].max()"
      ],
      "execution_count": 9,
      "outputs": []
    },
    {
      "cell_type": "markdown",
      "metadata": {
        "id": "d5yHwycdyIEt"
      },
      "source": [
        "En este caso la celda de valición si comprueba si tus resultados son correctos, adelante ..."
      ]
    },
    {
      "cell_type": "code",
      "metadata": {
        "id": "hMRj_SSWyIEt",
        "colab": {
          "base_uri": "https://localhost:8080/"
        },
        "outputId": "13ec0394-8d8f-4d09-8e77-f2ff2a27ff23"
      },
      "source": [
        "def corroborar_hallazgos(velocidad_en_kilometros_por_segundo_de_objeto_mas_lento, medida_de_diametro_mas_grande):\n",
        "   \n",
        "  assert velocidad_en_kilometros_por_segundo_de_objeto_mas_lento == 0.681436673, 'Esa no es la velocidad en kilómetros por segundo del objeto más lento'\n",
        "  assert medida_de_diametro_mas_grande == 6516.883821679, 'Ese no es el diámetro más grande medido en nuestro dataset'\n",
        "  \n",
        "  print('Tus hallazgos son correctos. ¡Bien hecho!')\n",
        "  \n",
        "corroborar_hallazgos(velocidad_en_kilometros_por_segundo_de_objeto_mas_lento, medida_de_diametro_mas_grande)"
      ],
      "execution_count": 10,
      "outputs": [
        {
          "output_type": "stream",
          "text": [
            "Tus hallazgos son correctos. ¡Bien hecho!\n"
          ],
          "name": "stdout"
        }
      ]
    }
  ]
}