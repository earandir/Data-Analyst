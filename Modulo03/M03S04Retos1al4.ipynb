{
  "nbformat": 4,
  "nbformat_minor": 0,
  "metadata": {
    "colab": {
      "name": "M03S04Retos1al4.ipynb",
      "provenance": [],
      "collapsed_sections": []
    },
    "kernelspec": {
      "name": "python3",
      "display_name": "Python 3"
    },
    "language_info": {
      "name": "python"
    }
  },
  "cells": [
    {
      "cell_type": "markdown",
      "metadata": {
        "id": "Y6dRG7Sbi3-Y"
      },
      "source": [
        "# Módulo 03 - Sesión 04 - Retos"
      ]
    },
    {
      "cell_type": "markdown",
      "metadata": {
        "id": "amkdJ9zxi-R2"
      },
      "source": [
        "---\n",
        "## Reto 01"
      ]
    },
    {
      "cell_type": "markdown",
      "metadata": {
        "id": "dlUwKpCLjBDC"
      },
      "source": [
        "Reto 01 a) Creación de series"
      ]
    },
    {
      "cell_type": "code",
      "metadata": {
        "id": "IkQ7z_xajFyQ"
      },
      "source": [
        "import pandas as pd"
      ],
      "execution_count": 1,
      "outputs": []
    },
    {
      "cell_type": "code",
      "metadata": {
        "id": "dQwMwyEjjJcj",
        "colab": {
          "base_uri": "https://localhost:8080/"
        },
        "outputId": "dac96097-475b-4e8d-8d1d-3536c5a27250"
      },
      "source": [
        "ejecutivo_1 = 'Marco P.'\n",
        "ejecutivo_2 = 'Jenny'\n",
        "ejecutivo_3 = 'Britney Baby'\n",
        "ejecutivo_4 = 'Pepe Guardabosques'\n",
        "ejecutivo_5 = 'Lombardo El Destructor'\n",
        "\n",
        "sueldos = pd.Series([1000, 2000, 1500, 1350, 1800], index=(ejecutivo_1, ejecutivo_2, ejecutivo_3, ejecutivo_4, ejecutivo_5))\n",
        "\n",
        "print('== Sueldos de los principales ejecutivos de EyePoker Inc. ==\\n')\n",
        "\n",
        "print(f'{(\"Ejecutivo\"):25} | {(\"Sueldo\")}')\n",
        "print('----------------------------------------')\n",
        "print(f'{ejecutivo_1:25} | ${(sueldos.loc[ejecutivo_1])} MXN')\n",
        "print(f'{ejecutivo_2:25} | ${(sueldos.loc[ejecutivo_2])} MXN')\n",
        "print(f'{ejecutivo_3:25} | ${(sueldos.loc[ejecutivo_3])} MXN')\n",
        "print(f'{ejecutivo_4:25} | ${(sueldos.loc[ejecutivo_4])} MXN')\n",
        "print(f'{ejecutivo_5:25} | ${(sueldos.loc[ejecutivo_5])} MXN')"
      ],
      "execution_count": 2,
      "outputs": [
        {
          "output_type": "stream",
          "text": [
            "== Sueldos de los principales ejecutivos de EyePoker Inc. ==\n",
            "\n",
            "Ejecutivo                 | Sueldo\n",
            "----------------------------------------\n",
            "Marco P.                  | $1000 MXN\n",
            "Jenny                     | $2000 MXN\n",
            "Britney Baby              | $1500 MXN\n",
            "Pepe Guardabosques        | $1350 MXN\n",
            "Lombardo El Destructor    | $1800 MXN\n"
          ],
          "name": "stdout"
        }
      ]
    },
    {
      "cell_type": "markdown",
      "metadata": {
        "id": "XlnoHaD5_TBx"
      },
      "source": [
        "---\n",
        "##Reto 02 Indexación de series"
      ]
    },
    {
      "cell_type": "markdown",
      "metadata": {
        "id": "xX1H2Np-_WAP"
      },
      "source": [
        "Reto 02 a) Indexación de series"
      ]
    },
    {
      "cell_type": "code",
      "metadata": {
        "id": "t_rH5JIl_ZeY"
      },
      "source": [
        "def revisar_indexaciones(gastos_serie, gastos_D_G, gastos_A_E, gastos_B_F_H,\n",
        "                         gastos_principio_a_E, gastos_D_a_G, gastos_C_a_final):\n",
        "\n",
        "    print(f'== Revisión de Indexaciones ==\\n')\n",
        "    print(f\"{'Indexación':30} | {'Resultado':15} | {'Suma esperada ':15} | {'Suma recibida ':15}\")\n",
        "    print(\"-\"*85)\n",
        "    revisar_indexacion(gastos_serie.loc[['D', 'G']], gastos_D_G, 'División D y G')\n",
        "    revisar_indexacion(gastos_serie.loc[['A', 'E']], gastos_A_E, 'División A y E')\n",
        "    revisar_indexacion(gastos_serie.loc[['B', 'F', 'H']], gastos_B_F_H, 'División B, F y H')\n",
        "    revisar_indexacion(gastos_serie.loc[:'E'], gastos_principio_a_E, 'Desde primera División a E')\n",
        "    revisar_indexacion(gastos_serie.loc['D':'G'], gastos_D_a_G, 'División D y G')\n",
        "    revisar_indexacion(gastos_serie.loc['C':], gastos_C_a_final, 'División C a última División')\n",
        "\n",
        "def formatear_precio(precio):\n",
        "    return f\"${precio} MXN\"\n",
        "\n",
        "def revisar_indexacion(esperada, recibida, nombre):\n",
        "    es_correcta = 'Correcta' if esperada.equals(recibida) else 'Incorrecta'\n",
        "    suma_esperada = formatear_precio(sum(esperada))\n",
        "    suma_recibida = formatear_precio(sum(recibida))\n",
        "    print(f\"{nombre:30} | {es_correcta:15} | {suma_esperada:15} | {suma_recibida:15}\")"
      ],
      "execution_count": 3,
      "outputs": []
    },
    {
      "cell_type": "code",
      "metadata": {
        "id": "T-cpNBuD_dru"
      },
      "source": [
        "gastos_mensuales = {\n",
        "    'A': 15000,\n",
        "    'B': 200000,\n",
        "    'C': 3250000,\n",
        "    'D': 120000,\n",
        "    'E': 135000,\n",
        "    'F': 55000,\n",
        "    'G': 100000,\n",
        "    'H': 25000\n",
        "}\n",
        "\n",
        "gastos_serie = pd.Series(gastos_mensuales)"
      ],
      "execution_count": 4,
      "outputs": []
    },
    {
      "cell_type": "code",
      "metadata": {
        "id": "Mszk7C_a_rqY"
      },
      "source": [
        "# Los gastos de la división 'D' y 'G'\n",
        "gastos_D_G = gastos_serie.loc[['D', 'G']]\n",
        "\n",
        "# Los gastos de la división 'A' y 'E'\n",
        "gastos_A_E = gastos_serie.loc[['A', 'E']]\n",
        "\n",
        "# Los gastos de la división 'B', 'F' y 'H'\n",
        "gastos_B_F_H = gastos_serie.loc[['B', 'F', 'H']]\n",
        "\n",
        "# Los gastos desde la primera división hasta la división 'E'\n",
        "gastos_principio_a_E = gastos_serie.loc[:'E']\n",
        "\n",
        "# Los gastos desde la división 'D' hasta la 'G'\n",
        "gastos_D_a_G = gastos_serie.loc['D':'G']\n",
        "\n",
        "# Los gastos desde la división 'C' hasta el la última división\n",
        "gastos_C_a_final =gastos_serie.loc['C':]"
      ],
      "execution_count": 5,
      "outputs": []
    },
    {
      "cell_type": "code",
      "metadata": {
        "colab": {
          "base_uri": "https://localhost:8080/"
        },
        "id": "saR8gmuC_stV",
        "outputId": "b70e39ef-d57d-44ba-a7a5-fff4e1d49960"
      },
      "source": [
        "revisar_indexaciones(gastos_serie, gastos_D_G, gastos_A_E, gastos_B_F_H,\n",
        "                         gastos_principio_a_E, gastos_D_a_G, gastos_C_a_final)"
      ],
      "execution_count": 6,
      "outputs": [
        {
          "output_type": "stream",
          "text": [
            "== Revisión de Indexaciones ==\n",
            "\n",
            "Indexación                     | Resultado       | Suma esperada   | Suma recibida  \n",
            "-------------------------------------------------------------------------------------\n",
            "División D y G                 | Correcta        | $220000 MXN     | $220000 MXN    \n",
            "División A y E                 | Correcta        | $150000 MXN     | $150000 MXN    \n",
            "División B, F y H              | Correcta        | $280000 MXN     | $280000 MXN    \n",
            "Desde primera División a E     | Correcta        | $3720000 MXN    | $3720000 MXN   \n",
            "División D y G                 | Correcta        | $410000 MXN     | $410000 MXN    \n",
            "División C a última División   | Correcta        | $3685000 MXN    | $3685000 MXN   \n"
          ],
          "name": "stdout"
        }
      ]
    },
    {
      "cell_type": "markdown",
      "metadata": {
        "id": "mnB9ASRl_7om"
      },
      "source": [
        "---\n",
        "##Reto 03 DataFrames"
      ]
    },
    {
      "cell_type": "markdown",
      "metadata": {
        "id": "LyaHio-4_9KS"
      },
      "source": [
        "Reto 03 a) Creación e indexación de DataFrames"
      ]
    },
    {
      "cell_type": "code",
      "metadata": {
        "id": "JVNPNCEfE5YI"
      },
      "source": [
        "def verificar_indexaciones(datos_productos, indice, df_productos, pm_sw, p4_final, amd_lt_n, primer_p5, pm_lt_pp, t_pcdr, p3_p6_pd):\n",
        "\n",
        "    import pandas as pd\n",
        "\n",
        "    df_productos_esperado = pd.DataFrame(datos_productos, index=indice)\n",
        "    if not df_productos_esperado.equals(df_productos):\n",
        "        print(f'df_productos ha sido creado incorrectamente ... Favor de revisar')\n",
        "        return\n",
        "\n",
        "    print(f'== Verificación de Indexaciones ==\\n')\n",
        "    verificar_indexacion(df_productos.loc[[3, 5]], pm_sw, 'DataFrame que contenga los productos \"Pikame Mucho\" y \"Stevie Wonder\"')\n",
        "    verificar_indexacion(df_productos.loc[4:], p4_final, 'DataFrame que contenga desde el producto #4 hasta el último')\n",
        "    verificar_indexacion(df_productos.loc[[7, 4, 6]], amd_lt_n, 'DataFrame que contenga los productos \"El AyMeDuele\", \"Lazarillo de Tormes\" y \"Needle\"')\n",
        "    verificar_indexacion(df_productos.loc[:5], primer_p5, 'DataFrame que contenga desde el primer producto hasta el producto #5')\n",
        "    verificar_indexacion(df_productos.loc[[3, 4], ['nombre', 'precio', 'peso']], pm_lt_pp, 'DataFrame que contenga los productos \"Pikame Mucho\" y \"Lazarillo de Tormes\", pero sólo con las columnas \"nombre\", \"precio\" y \"peso\"')\n",
        "    verificar_indexacion(df_productos[['nombre', 'precio', 'capacidad de destrucción retinal']], t_pcdr, \"DataFrame que contenga todos los productos pero con sólo las columnas 'nombre', 'precio' y 'capacidad de destrucción retinal'\")\n",
        "    verificar_indexacion(df_productos.loc[3:6, ['nombre', 'precio', 'disponible']], p3_p6_pd, \"DataFrame que contenga desde el producto #3 hasta el #6, pero sólo las columnas 'nombre', 'precio' y 'disponible'\")\n",
        "\n",
        "def verificar_indexacion(esperada, recibida, descripcion):\n",
        "    es_correcta = \"Correcto\" if esperada.equals(recibida) else \"Incorrecto\"\n",
        "    respuesta = \"Muchas gracias!\" if es_correcta == \"Correcto\" else \"Favor de revisar\"\n",
        "    print(f\"\\n- Descripción de pedido: {descripcion}\")\n",
        "    print(f\"El pedido es {es_correcta} ... {respuesta}\")"
      ],
      "execution_count": 7,
      "outputs": []
    },
    {
      "cell_type": "code",
      "metadata": {
        "id": "2qvLavmQAUc9"
      },
      "source": [
        "datos_productos = {\n",
        "    \"nombre\": [\"Pokemaster\", \"Cegatron\", \"Pikame Mucho\", \"Lazarillo de Tormes\", \"Stevie Wonder\", \"Needle\", \"El AyMeDuele\"],\n",
        "    \"precio\": [10000, 5500, 3500, 750, 15500, 12250, 23000],\n",
        "    \"peso\": [1.2, 1.5, 2.3, 5.5, 3.4, 2.4, 8.8],\n",
        "    \"capacidad de destrucción retinal\": [3, 7, 6, 8, 9, 2, 10],\n",
        "    \"disponible\": [True, False, True, True, False, False, True]\n",
        "}\n",
        "\n",
        "indice = [1, 2, 3, 4, 5, 6, 7]"
      ],
      "execution_count": 8,
      "outputs": []
    },
    {
      "cell_type": "code",
      "metadata": {
        "id": "aseq1XzuEz7t"
      },
      "source": [
        "df_productos = pd.DataFrame(datos_productos, index=indice)    "
      ],
      "execution_count": 9,
      "outputs": []
    },
    {
      "cell_type": "code",
      "metadata": {
        "id": "8eBaPL7DE2vV"
      },
      "source": [
        "# Quiero un DataFrame que contenga los productos \"Pikame Mucho\" y \"Stevie Wonder\"\n",
        "pm_sw = df_productos.loc[[3, 5]]\n",
        "\n",
        "# Quiero un DataFrame que contenga desde el producto #4 hasta el último\n",
        "p4_final = df_productos.loc[4:]\n",
        "\n",
        "# Quiero un DataFrame que contenga los productos \"El AyMeDuele\", \"Lazarillo de Tormes\" y \"Needle\"\n",
        "amd_lt_n = df_productos.loc[[7, 4, 6]]\n",
        "\n",
        "# Quiero un DataFrame que contenga desde el primer producto hasta el producto #5\n",
        "primer_p5 = df_productos.loc[:5]\n",
        "\n",
        "# Quiero un DataFrame que contenga los productos \"Pikame Mucho\" y \"Lazarillo de Tormes\", pero sólo con las columnas \"nombre\", \"precio\" y \"peso\"\n",
        "pm_lt_pp = df_productos.loc[[3, 4], ['nombre', 'precio', 'peso']]\n",
        "\n",
        "# Quiero un DataFrame que contenga todos los productos pero con sólo las columnas 'nombre', 'precio' y 'capacidad de destrucción retinal'\n",
        "t_pcdr = df_productos[['nombre', 'precio', 'capacidad de destrucción retinal']]\n",
        "\n",
        "# Quiero un DataFrame que contenga desde el producto #3 hasta el #6, pero sólo las columnas 'nombre', 'precio' y 'disponible'\n",
        "p3_p6_pd = df_productos.loc[3:6, ['nombre', 'precio', 'disponible']]"
      ],
      "execution_count": 10,
      "outputs": []
    },
    {
      "cell_type": "code",
      "metadata": {
        "id": "SHrfIjfRE-Dk",
        "colab": {
          "base_uri": "https://localhost:8080/"
        },
        "outputId": "128b8c47-2597-42da-812d-f04934697a20"
      },
      "source": [
        "verificar_indexaciones(datos_productos, indice, df_productos, pm_sw, p4_final, amd_lt_n, primer_p5, pm_lt_pp, t_pcdr, p3_p6_pd)"
      ],
      "execution_count": 11,
      "outputs": [
        {
          "output_type": "stream",
          "text": [
            "== Verificación de Indexaciones ==\n",
            "\n",
            "\n",
            "- Descripción de pedido: DataFrame que contenga los productos \"Pikame Mucho\" y \"Stevie Wonder\"\n",
            "El pedido es Correcto ... Muchas gracias!\n",
            "\n",
            "- Descripción de pedido: DataFrame que contenga desde el producto #4 hasta el último\n",
            "El pedido es Correcto ... Muchas gracias!\n",
            "\n",
            "- Descripción de pedido: DataFrame que contenga los productos \"El AyMeDuele\", \"Lazarillo de Tormes\" y \"Needle\"\n",
            "El pedido es Correcto ... Muchas gracias!\n",
            "\n",
            "- Descripción de pedido: DataFrame que contenga desde el primer producto hasta el producto #5\n",
            "El pedido es Correcto ... Muchas gracias!\n",
            "\n",
            "- Descripción de pedido: DataFrame que contenga los productos \"Pikame Mucho\" y \"Lazarillo de Tormes\", pero sólo con las columnas \"nombre\", \"precio\" y \"peso\"\n",
            "El pedido es Correcto ... Muchas gracias!\n",
            "\n",
            "- Descripción de pedido: DataFrame que contenga todos los productos pero con sólo las columnas 'nombre', 'precio' y 'capacidad de destrucción retinal'\n",
            "El pedido es Correcto ... Muchas gracias!\n",
            "\n",
            "- Descripción de pedido: DataFrame que contenga desde el producto #3 hasta el #6, pero sólo las columnas 'nombre', 'precio' y 'disponible'\n",
            "El pedido es Correcto ... Muchas gracias!\n"
          ],
          "name": "stdout"
        }
      ]
    },
    {
      "cell_type": "markdown",
      "metadata": {
        "id": "Ub8oAhJ9FI8z"
      },
      "source": [
        "---\n",
        "##Reto 04 - Manipulación de columnas"
      ]
    },
    {
      "cell_type": "code",
      "metadata": {
        "id": "gTzGmfCaIzAf"
      },
      "source": [
        "def verificar_modificaciones(datos_productos, indice, df_productos, columna_nueva, df_productos_mas_columna_nueva, \n",
        "                             precios_descuento, df_productos_descuento, df_productos_sin_precio_ni_peso):\n",
        "\n",
        "    import pandas as pd\n",
        "\n",
        "    df_productos_esperado = pd.DataFrame(datos_productos, index=indice)\n",
        "    if not df_productos_esperado.equals(df_productos):\n",
        "        print(f'df_productos ha sido creado incorrectamente ... Favor de revisar')\n",
        "        return\n",
        "\n",
        "    print(f'== Verificación de Modificaciones ==\\n')\n",
        "    columna_nueva_serie = pd.Series(columna_nueva, index=indice)\n",
        "    df_productos_mas_columna_nueva_2 = df_productos.copy()\n",
        "    df_productos_mas_columna_nueva_2['nivel de dolor'] = columna_nueva_serie\n",
        "    verificar_modificacion(df_productos_mas_columna_nueva_2, df_productos_mas_columna_nueva, 'Agrega por favor columna `columna_nueva` a `df_productos_mas_columna_nueva` con el nombre de columna \"nivel de dolor\"')\n",
        "\n",
        "    precios_descuento_serie = pd.Series(precios_descuento, index=indice)\n",
        "    df_productos_descuento_2 = df_productos.copy()\n",
        "    df_productos_descuento_2['precio'] = precios_descuento_serie\n",
        "    verificar_modificacion(df_productos_descuento_2, df_productos_descuento, 'Cambia por favor el `DataFrame` `df_productos_descuento` cambiando la columna `precio` por la información contenida en `precios_descuento`')\n",
        "\n",
        "    df_productos_sin_precio_ni_peso_2 = df_productos.drop(columns=['precio', 'peso'])\n",
        "    verificar_modificacion(df_productos_sin_precio_ni_peso_2, df_productos_sin_precio_ni_peso, 'Elimina por favor las columnas \"precio\" y \"peso\"')\n",
        "\n",
        "def verificar_modificacion(esperada, recibida, descripcion):\n",
        "    es_correcta = \"Correcto\" if esperada.equals(recibida) else \"Incorrecto\"\n",
        "    respuesta = \"Muchas gracias!\" if es_correcta == \"Correcto\" else \"Favor de revisar\"\n",
        "    print(f\"\\n- Descripción de pedido: {descripcion}\")\n",
        "    print(f\"El pedido es {es_correcta} ... {respuesta}\")"
      ],
      "execution_count": 12,
      "outputs": []
    },
    {
      "cell_type": "code",
      "metadata": {
        "id": "fSLtblEBFMt2"
      },
      "source": [
        "datos_productos = {\n",
        "    \"nombre\": [\"Pokemaster\", \"Cegatron\", \"Pikame Mucho\", \"Lazarillo de Tormes\", \"Stevie Wonder\", \"Needle\", \"El AyMeDuele\"],\n",
        "    \"precio\": [10000, 5500, 3500, 750, 15500, 12250, 23000],\n",
        "    \"peso\": [1.2, 1.5, 2.3, 5.5, 3.4, 2.4, 8.8],\n",
        "    \"capacidad de destrucción retinal\": [3, 7, 6, 8, 9, 2, 10],\n",
        "    \"disponible\": [True, False, True, True, False, False, True]\n",
        "}\n",
        "\n",
        "indice = [1, 2, 3, 4, 5, 6, 7]"
      ],
      "execution_count": 13,
      "outputs": []
    },
    {
      "cell_type": "code",
      "metadata": {
        "id": "VoDYIbNHIoYo"
      },
      "source": [
        "df_productos = pd.DataFrame(datos_productos, index=indice)"
      ],
      "execution_count": 14,
      "outputs": []
    },
    {
      "cell_type": "code",
      "metadata": {
        "id": "_U3dhIw-Itso"
      },
      "source": [
        "# Agrega por favor una nueva columna a `df_productos_mas_columna_nueva` con el nombre de columna \"nivel de dolor\"\n",
        "columna_nueva = [4, 7, 6, 8, 9, 7, 3]\n",
        "df_productos_mas_columna_nueva = df_productos.copy()\n",
        "\n",
        "df_productos_mas_columna_nueva['nivel de dolor'] = pd.Series(columna_nueva, index=indice)\n",
        "\n",
        "# Cambia por favor el `DataFrame` `df_productos_descuento` cambiando la columna `precio` por la información contenida en `precios_descuento`\n",
        "precios_descuento = [8000, 4000, 2000, 500, 14000, 10000, 15000]\n",
        "df_productos_descuento = df_productos.copy()\n",
        "\n",
        "df_productos_descuento['precio'] = pd.Series(precios_descuento, index=indice)\n",
        "\n",
        "# Elimina por favor las columnas \"precio\" y \"peso\" de `df_productos` y asigna el resultado a `df_productos_sin_precio_ni_peso`\n",
        "df_productos_sin_precio_ni_peso = df_productos.drop(columns=['precio', 'peso'])"
      ],
      "execution_count": 15,
      "outputs": []
    },
    {
      "cell_type": "code",
      "metadata": {
        "colab": {
          "base_uri": "https://localhost:8080/"
        },
        "id": "fLS1mKHkI11X",
        "outputId": "dcf1a92d-35b4-4ba0-87e0-2135651fefd5"
      },
      "source": [
        "verificar_modificaciones(datos_productos, indice, df_productos, columna_nueva, df_productos_mas_columna_nueva, \n",
        "                             precios_descuento, df_productos_descuento, df_productos_sin_precio_ni_peso)"
      ],
      "execution_count": 16,
      "outputs": [
        {
          "output_type": "stream",
          "text": [
            "== Verificación de Modificaciones ==\n",
            "\n",
            "\n",
            "- Descripción de pedido: Agrega por favor columna `columna_nueva` a `df_productos_mas_columna_nueva` con el nombre de columna \"nivel de dolor\"\n",
            "El pedido es Correcto ... Muchas gracias!\n",
            "\n",
            "- Descripción de pedido: Cambia por favor el `DataFrame` `df_productos_descuento` cambiando la columna `precio` por la información contenida en `precios_descuento`\n",
            "El pedido es Correcto ... Muchas gracias!\n",
            "\n",
            "- Descripción de pedido: Elimina por favor las columnas \"precio\" y \"peso\"\n",
            "El pedido es Correcto ... Muchas gracias!\n"
          ],
          "name": "stdout"
        }
      ]
    }
  ]
}