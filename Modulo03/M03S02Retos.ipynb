{
  "nbformat": 4,
  "nbformat_minor": 0,
  "metadata": {
    "colab": {
      "name": "M03S02Retos.ipynb",
      "provenance": [],
      "collapsed_sections": []
    },
    "kernelspec": {
      "name": "python3",
      "display_name": "Python 3"
    },
    "language_info": {
      "name": "python"
    }
  },
  "cells": [
    {
      "cell_type": "markdown",
      "metadata": {
        "id": "3c2dfjX3ZbQT"
      },
      "source": [
        "# Módulo 03 - Sesión 02 - Retos\n",
        "\n",
        "---"
      ]
    },
    {
      "cell_type": "markdown",
      "metadata": {
        "id": "uy5hA2_LZtC7"
      },
      "source": [
        "### Reto 01 - Creando listas y accediendo a ellas"
      ]
    },
    {
      "cell_type": "markdown",
      "metadata": {
        "id": "_ij35ls4Z0N4"
      },
      "source": [
        "Reto 01 \n",
        "\n",
        "a) Definiendo una lista"
      ]
    },
    {
      "cell_type": "code",
      "metadata": {
        "colab": {
          "base_uri": "https://localhost:8080/"
        },
        "id": "n8gcwWMZZWdK",
        "outputId": "260edb0d-73a5-423e-d06e-8d22e6f616b4"
      },
      "source": [
        "mi_informacion = [\"Carlos\", \"Eärandir\", \"el mole\", \"el ostión\", \"ser astronauta\"]\n",
        "\n",
        "print(f'''\n",
        "¡Hola! Mi nombre es {mi_informacion[0]}. Todos me dicen {mi_informacion[1]}.\n",
        "Mi comida favorita es {mi_informacion[2]}. Y la comida que más detesto es {mi_informacion[3]}.\n",
        "Mi trabajo ideal sería {mi_informacion[4]}.\n",
        "¡Gracias, chau!\n",
        "''')"
      ],
      "execution_count": 1,
      "outputs": [
        {
          "output_type": "stream",
          "text": [
            "\n",
            "¡Hola! Mi nombre es Carlos. Todos me dicen Eärandir.\n",
            "Mi comida favorita es el mole. Y la comida que más detesto es el ostión.\n",
            "Mi trabajo ideal sería ser astronauta.\n",
            "¡Gracias, chau!\n",
            "\n"
          ],
          "name": "stdout"
        }
      ]
    },
    {
      "cell_type": "markdown",
      "metadata": {
        "id": "wSUBXDSja1ZZ"
      },
      "source": [
        "Reto 01 \n",
        "\n",
        "b) Una lista construida con variables"
      ]
    },
    {
      "cell_type": "code",
      "metadata": {
        "id": "9b1-5OQ0bLDf"
      },
      "source": [
        "info_0 = \"extraterrestres\"\n",
        "info_1 = \"volar en su propio planeta\"\n",
        "info_2 = \"ya estarán colonizando otros planetas\"\n",
        "info_3 = \"defenderse de los invasores\"\n",
        "info_4 = \"busco aprender cosas nuevas\"\n",
        "\n",
        "info_faltante = [info_0, info_1, info_2, info_3, info_4]\n",
        "\n",
        "print(f'''\n",
        "Algún día los {info_faltante[0]} lograrán su objetivo. Su objetivo de {info_faltante[1]}.\n",
        "Ese día, los humanos {info_faltante[2]} y tendrán que {info_faltante[3]}.\n",
        "Por esa razón yo todos los días {info_faltante[4]}.\n",
        "''')"
      ],
      "execution_count": null,
      "outputs": []
    },
    {
      "cell_type": "markdown",
      "metadata": {
        "id": "9dYDt-wLa3A2"
      },
      "source": [
        "Reto 01 \n",
        "\n",
        "c) Practicando el operador de indexación"
      ]
    },
    {
      "cell_type": "code",
      "metadata": {
        "colab": {
          "base_uri": "https://localhost:8080/"
        },
        "id": "c60kkBLZbLq9",
        "outputId": "9c5ae386-a33f-46a6-faf9-9c7b821edbed"
      },
      "source": [
        "respuestas = [0.58, 9, 2, 3, 37, 5, 75, 4]\n",
        "\n",
        "print(f'''\n",
        "1. Los humanos tenemos {respuestas[-6]} ojos en la cara.\n",
        "2. Un humano adulto tiene {respuestas[-4] - respuestas[-3]} dientes dentro de su boca.\n",
        "3. Un feto tarda {respuestas[-7]} meses en gestarse antes de nacer.\n",
        "4. La expectativa de vida en México es de alrededor de {respuestas[-2]} años.\n",
        "5. Las horas de sueño al día recomendadas para adultos jóvenes son entre {respuestas[-5] + respuestas[-1]} y {respuestas[-7]}.\n",
        "6. El récord actual de velocidad en 100 metros (09/05/2020) fue establecido por Usain Bolt y es de {respuestas[-8] + respuestas[-7]}\n",
        "''')"
      ],
      "execution_count": 9,
      "outputs": [
        {
          "output_type": "stream",
          "text": [
            "\n",
            "1. Los humanos tenemos 2 ojos en la cara.\n",
            "2. Un humano adulto tiene 32 dientes dentro de su boca.\n",
            "3. Un feto tarda 9 meses en gestarse antes de nacer.\n",
            "4. La expectativa de vida en México es de alrededor de 75 años.\n",
            "5. Las horas de sueño al día recomendadas para adultos jóvenes son entre 7 y 9.\n",
            "6. El récord actual de velocidad en 100 metros (09/05/2020) fue establecido por Usain Bolt y es de 9.58\n",
            "\n"
          ],
          "name": "stdout"
        }
      ]
    },
    {
      "cell_type": "markdown",
      "metadata": {
        "id": "mjnJs71Pd01M"
      },
      "source": [
        "---\n",
        "\n",
        "### Reto 02 - Modificando listas"
      ]
    },
    {
      "cell_type": "markdown",
      "metadata": {
        "id": "MMjZgTlJd5Qt"
      },
      "source": [
        "Reto 02 \n",
        "\n",
        "a) Modificar para eliminar diferencias"
      ]
    },
    {
      "cell_type": "code",
      "metadata": {
        "id": "q75jOY-yeEsC"
      },
      "source": [
        "lista_1 = [3.4, 0.7, 99.9, 5.41, 6.23, 7.9]\n",
        "\n",
        "lista_2 = [3.4, 63.4, 0.7, 6.46, 99.9, 2.2, 5.41]\n",
        "\n",
        "# Tu código va aquí\n",
        "lista_2.pop(1)\n",
        "lista_2.pop(2)\n",
        "lista_2.pop(3)\n",
        "lista_2.append(6.23)\n",
        "lista_2.append(7.9)\n",
        "\n",
        "if lista_1 == lista_2:\n",
        "    print(\"Tú y yo somos uno mismo\")"
      ],
      "execution_count": null,
      "outputs": []
    },
    {
      "cell_type": "markdown",
      "metadata": {
        "id": "iNcHjCk5d9YS"
      },
      "source": [
        "Reto 02 \n",
        "\n",
        "b) Corrigiendo fragmentos"
      ]
    },
    {
      "cell_type": "code",
      "metadata": {
        "id": "G0rKXNjaeFMh"
      },
      "source": [
        "fragmento_fragmentado = ['Apenas', 'él', 'le', 'amalaba', 'hidrolizado' 'el', 'poema,',\n",
        "                         'a', 'ella', 'se', 'le', 'agolpaba', 'el', 'clémiso', 'súbito',\n",
        "                         'y', 'caían', 'en', 'fermales', 'hidromurias,', 'en', 'salvajes', 'ambonios,',\n",
        "                         'en', 'sustalos', 'distales', 'exasperantes.',\n",
        "                         'Cada', 'vez', 'que', 'él', 'procuraba', 'relamar', 'las', 'incopelusas,']\n",
        "\n",
        "# Tu código va aquí\n",
        "fragmento_fragmentado.pop(4)\n",
        "fragmento_fragmentado.pop(12)\n",
        "fragmento_fragmentado.pop(15)\n",
        "fragmento_fragmentado.pop(21) \n",
        "fragmento_fragmentado.append(\"se enredaba en un grimado quejumbroso y tenía que envulsionarse de cara al nóvalo\")\n",
        "\n",
        "tu_nombre = \"Carlos Loza\"  # Tu nombre va aquí\n",
        "\n",
        "print(f'==Colaboración póstuma de Córtazar y {tu_nombre}==')\n",
        "print(f'{\" \".join(fragmento_fragmentado)}')"
      ],
      "execution_count": null,
      "outputs": []
    },
    {
      "cell_type": "markdown",
      "metadata": {
        "id": "yap5YDI5eBVX"
      },
      "source": [
        "---\n",
        "### Reto 03 - Creando y accesando diccionarios"
      ]
    },
    {
      "cell_type": "code",
      "metadata": {
        "colab": {
          "base_uri": "https://localhost:8080/"
        },
        "id": "h6hgnZq3hdJO",
        "outputId": "b6179cb0-85b9-4a52-ad93-e23659d9744f"
      },
      "source": [
        "ventas_mensuales = {\n",
        "    \"fecha_de_corte\": \"18/06/2021\",\n",
        "    \"unidad\": \"TRC\",\n",
        "    # Tu código va aquí\n",
        "    \"ventas_pasteleria\": 458,\n",
        "    \"ventas_panaderia\": 321,\n",
        "    \"ganancias_pasteleria\": 54862,\n",
        "    \"ganancias_panaderia\": 7815,\n",
        "    \"gastos_mensuales_totales\": 7625,\n",
        "    \"analista\": \"Carlos Loza\"\n",
        "}\n",
        "\n",
        "ventas_totales_de_insumos = ventas_mensuales[\"ventas_pasteleria\"] + ventas_mensuales[\"ventas_panaderia\"]\n",
        "ganancias_totales = ventas_mensuales[\"ganancias_pasteleria\"] + ventas_mensuales[\"ganancias_panaderia\"]\n",
        "ganancias_netas = ganancias_totales - ventas_mensuales[\"gastos_mensuales_totales\"]\n",
        "\n",
        "print(f'==Resumen de ventas mensuales de la unidad {ventas_mensuales[\"unidad\"]}==')\n",
        "print(f'Fecha de corte: {ventas_mensuales[\"fecha_de_corte\"]}')\n",
        "print(f'  - Ventas totales de insumos: {ventas_totales_de_insumos}')\n",
        "print(f'  - Ganancias totales: {ganancias_totales}')\n",
        "print(f'  - Ganancias netas: {ganancias_netas}')\n",
        "print(f'\\n')\n",
        "print(f'(Información recabada por: {ventas_mensuales[\"analista\"]})')\n"
      ],
      "execution_count": 10,
      "outputs": [
        {
          "output_type": "stream",
          "text": [
            "==Resumen de ventas mensuales de la unidad TRC==\n",
            "Fecha de corte: 18/06/2021\n",
            "  - Ventas totales de insumos: 779\n",
            "  - Ganancias totales: 62677\n",
            "  - Ganancias netas: 55052\n",
            "\n",
            "\n",
            "(Información recabada por: Carlos Loza)\n"
          ],
          "name": "stdout"
        }
      ]
    },
    {
      "cell_type": "markdown",
      "metadata": {
        "id": "PiD7zU1Chq34"
      },
      "source": [
        "---\n",
        "\n",
        "### Reto 04 - Modificando diccionarios"
      ]
    },
    {
      "cell_type": "code",
      "metadata": {
        "colab": {
          "base_uri": "https://localhost:8080/"
        },
        "id": "kTxOTsmziQnt",
        "outputId": "89cfc650-488e-4177-a1c4-2cb9d5a990b5"
      },
      "source": [
        "registro = {\n",
        "    \"id\": \"23f-58j-kju7-54re\",\n",
        "    \"nombre\": \"Alberto\",\n",
        "    \"apellido_materno\": \"Gutierrez\",\n",
        "    \"apellido_paterno\": \"Sosa\",\n",
        "    \"profesion\": \"Contador\",\n",
        "    \"ultimo_nivel_de_estudios\": \"Maestría\",\n",
        "    \"lugar_de_estudios\": \"UAM\",\n",
        "    \"numero_de_cuenta\": \"25367890\",\n",
        "    \"nip_de_cajero\": \"142\"\n",
        "}\n",
        "\n",
        "# Tu código va aquí\n",
        "# 1)\n",
        "registro[\"nombre\"] = \"Carlos\"\n",
        "registro[\"apellido_materno\"] = \"Zavala\"\n",
        "registro[\"apellido_paterno\"] = \"Loza\"\n",
        "registro[\"profesion\"] = \"Analista de datos\"\n",
        "registro[\"ultimo_nivel_de_estudios\"] = \"Licenciado\"\n",
        "registro[\"lugar_de_estudios\"] = \"UAC\"\n",
        "# 2)\n",
        "registro[\"fecha_de_nacimiento\"] = \"31 de Julio de 1979\"\n",
        "registro[\"lugar_de_nacimiento\"] = \"Torreón\"\n",
        "# 3)\n",
        "registro.pop(\"numero_de_cuenta\")\n",
        "registro.pop(\"nip_de_cajero\")\n",
        "\n",
        "print(f'Registro con id: {registro[\"id\"]}\\n')\n",
        "print(f'---------------------------------------\\n')\n",
        "print(f'{(\"Nombre\"):25} | {registro[\"nombre\"]:25}')\n",
        "print(f'{(\"Apellido Materno\"):25} | {registro[\"apellido_materno\"]:25}')\n",
        "print(f'{(\"Apellido Paterno\"):25} | {registro[\"apellido_paterno\"]:25}')\n",
        "print(f'{(\"Profesión\"):25} | {registro[\"profesion\"]:25}')\n",
        "print(f'{(\"Último nivel de estudios\"):25} | {registro[\"ultimo_nivel_de_estudios\"]:25}')\n",
        "print(f'{(\"Lugar de estudios\"):25} | {registro[\"lugar_de_estudios\"]:25}')\n",
        "print(f'{(\"Fecha de nacimiento\"):25} | {registro[\"fecha_de_nacimiento\"]:25}')\n",
        "print(f'{(\"Lugar de nacimiento\"):25} | {registro[\"lugar_de_nacimiento\"]:25}')"
      ],
      "execution_count": 11,
      "outputs": [
        {
          "output_type": "stream",
          "text": [
            "Registro con id: 23f-58j-kju7-54re\n",
            "\n",
            "---------------------------------------\n",
            "\n",
            "Nombre                    | Carlos                   \n",
            "Apellido Materno          | Zavala                   \n",
            "Apellido Paterno          | Loza                     \n",
            "Profesión                 | Analista de datos        \n",
            "Último nivel de estudios  | Licenciado               \n",
            "Lugar de estudios         | UAC                      \n",
            "Fecha de nacimiento       | 31 de Julio de 1979      \n",
            "Lugar de nacimiento       | Torreón                  \n"
          ],
          "name": "stdout"
        }
      ]
    },
    {
      "cell_type": "markdown",
      "metadata": {
        "id": "toviD-S1jl_Y"
      },
      "source": [
        "---\n",
        "\n",
        "# Reto 05 - Funciones"
      ]
    },
    {
      "cell_type": "markdown",
      "metadata": {
        "id": "dEuoXtstjqEy"
      },
      "source": [
        "Reto 05\n",
        "\n",
        "a) Número es par"
      ]
    },
    {
      "cell_type": "code",
      "metadata": {
        "colab": {
          "base_uri": "https://localhost:8080/"
        },
        "id": "AZEQSbNukLTO",
        "outputId": "a31c9ef5-4971-4235-e9d5-6fb2dee62727"
      },
      "source": [
        "def test_funcion(funcion_a_probar, num_de_errores, contador, parametros=[], resultado_esperado=None):\n",
        "    resultado_test = funcion_a_probar(*parametros)\n",
        "    print(f'Test {contador}: Resultado esperado es `{resultado_esperado}`, obtuvimos `{resultado_test}`')\n",
        "    if resultado_test != resultado_esperado:\n",
        "        num_de_errores += 1\n",
        "        \n",
        "    return num_de_errores\n",
        "\n",
        "def numero_es_par(numero):\n",
        "    \n",
        "    # Tu código va aquí \n",
        "    return numero%2 == 0\n",
        "\n",
        "print(\"== Tests numero_es_par==\\n\")\n",
        "\n",
        "contador_de_tests = 0\n",
        "errores = 0\n",
        "\n",
        "contador_de_tests += 1\n",
        "errores = test_funcion(numero_es_par, errores, contador_de_tests, parametros=[2], resultado_esperado=True)\n",
        "contador_de_tests += 1\n",
        "errores = test_funcion(numero_es_par, errores, contador_de_tests, parametros=[3], resultado_esperado=False)\n",
        "contador_de_tests += 1\n",
        "errores = test_funcion(numero_es_par, errores, contador_de_tests, parametros=[0], resultado_esperado=True)\n",
        "contador_de_tests += 1\n",
        "errores = test_funcion(numero_es_par, errores, contador_de_tests, parametros=[127], resultado_esperado=False)\n",
        "contador_de_tests += 1\n",
        "errores = test_funcion(numero_es_par, errores, contador_de_tests, parametros=[-88], resultado_esperado=True)\n",
        "contador_de_tests += 1\n",
        "errores = test_funcion(numero_es_par, errores, contador_de_tests, parametros=[-1349], resultado_esperado=False)\n",
        "\n",
        "print(f'\\nErrores encontrados: {errores}')"
      ],
      "execution_count": 18,
      "outputs": [
        {
          "output_type": "stream",
          "text": [
            "== Tests numero_es_par==\n",
            "\n",
            "Test 1: Resultado esperado es `True`, obtuvimos `True`\n",
            "Test 2: Resultado esperado es `False`, obtuvimos `False`\n",
            "Test 3: Resultado esperado es `True`, obtuvimos `True`\n",
            "Test 4: Resultado esperado es `False`, obtuvimos `False`\n",
            "Test 5: Resultado esperado es `True`, obtuvimos `True`\n",
            "Test 6: Resultado esperado es `False`, obtuvimos `False`\n",
            "\n",
            "Errores encontrados: 0\n"
          ],
          "name": "stdout"
        }
      ]
    },
    {
      "cell_type": "markdown",
      "metadata": {
        "id": "T30GsBRzkbOy"
      },
      "source": [
        "Reto 05\n",
        "\n",
        "b) Reutilizar código"
      ]
    },
    {
      "cell_type": "code",
      "metadata": {
        "id": "WIl78dNKkeBN"
      },
      "source": [
        "resultado_1 = 34 * 100 / 100\n",
        "print(f'34 es el {resultado_1}% del número 100\\n')\n",
        "\n",
        "resultado_2 = 57 * 100 / 127\n",
        "print(f'57 es el {resultado_2}% del número 127\\n')\n",
        "\n",
        "resultado_3 = 12 * 100 / 228\n",
        "print(f'12 es el {resultado_3}% del número 228\\n')\n",
        "\n",
        "resultado_4 = 87 * 100 / 90\n",
        "print(f'87 es el {resultado_4}% del número 90\\n')\n",
        "\n",
        "resultado_5 = 1 * 100 / 999\n",
        "print(f'1 es el {resultado_5}% del número 999\\n')\n",
        "\n",
        "resultado_6 = 66 * 100 / 66\n",
        "print(f'66 es el {resultado_6}% del número 66\\n')\n",
        "\n",
        "\n",
        "## Tu función va aquí\n",
        "def get_percent(num, pob):\n",
        "  return round(((num * 100)  / pob), 2)\n",
        "\n",
        "def show_percent(num, pob):\n",
        "  return f'{num} es el {get_percent(num, pob)}% de un total de {pob}'\n",
        "# ...\n",
        "\n",
        "resultado_1 = [25, 50]\n",
        "print(f'{show_percent(resultado_1[0], resultado_1[1])}')\n",
        "\n",
        "resultado_2 = [254, 8456]\n",
        "print(f'{show_percent(resultado_2[0], resultado_2[1])}')\n",
        "\n",
        "resultado_3 = [10, 70]\n",
        "print(f'{show_percent(resultado_3[0], resultado_3[1])}')\n",
        "\n",
        "resultado_4 = [45, 100]\n",
        "print(f'{show_percent(resultado_4[0], resultado_4[1])}')\n",
        "\n",
        "resultado_5 = [41, 148]\n",
        "print(f'{show_percent(resultado_5[0], resultado_5[1])}')\n",
        "\n",
        "resultado_6 = [458, 458]\n",
        "print(f'{show_percent(resultado_6[0], resultado_6[1])}')"
      ],
      "execution_count": null,
      "outputs": []
    },
    {
      "cell_type": "markdown",
      "metadata": {
        "id": "gbmk6ht1ksIn"
      },
      "source": [
        "Reto 05\n",
        "\n",
        "c) Acceso autorizado"
      ]
    },
    {
      "cell_type": "code",
      "metadata": {
        "id": "li2YkowIkxH_"
      },
      "source": [
        "usuarios = {\n",
        "    \"manolito_garcia\": {\n",
        "        \"rol\": \"admin\"\n",
        "    },\n",
        "    \"sebas_macaco_23\": {\n",
        "        \"rol\": \"editor\",\n",
        "        \"nip_de_acceso\": 3594\n",
        "    },\n",
        "    \"la_susanita_maestra\": {\n",
        "        \"rol\": \"admin\"\n",
        "    },\n",
        "    \"pepe_le_pu_88\": {\n",
        "        \"rol\": \"lector\"\n",
        "    },\n",
        "    \"jonny_bravo_estuvo_aqui\": {\n",
        "        \"rol\": \"editor\",\n",
        "        \"nip_de_acceso\": 9730\n",
        "    },\n",
        "    \"alfonso_torres_69\": {\n",
        "        \"rol\": \"editor\",\n",
        "        \"nip_de_acceso\": 2849\n",
        "    },\n",
        "    \"jocosita_99\": {\n",
        "        \"rol\": \"lector\"\n",
        "    }\n",
        "}\n"
      ],
      "execution_count": 15,
      "outputs": []
    },
    {
      "cell_type": "code",
      "metadata": {
        "id": "wzGmKgkLk-Sv"
      },
      "source": [
        "## Tu función va aquí\n",
        "def nivel_de_acceso_para_username(base_de_datos, username,  nip_de_acceso):\n",
        "    # Reto extra\n",
        "    if username not in base_de_datos:\n",
        "        return 0\n",
        " \n",
        "    # Reto estandar\n",
        "    if base_de_datos[username][\"rol\"] == \"admin\":\n",
        "        return 1\n",
        "    elif base_de_datos[username][\"rol\"] == \"lector\":\n",
        "        return 2\n",
        "    else:\n",
        "        if base_de_datos[username][\"nip_de_acceso\"] == nip_de_acceso:\n",
        "            return 1\n",
        "        else:\n",
        "            return 0"
      ],
      "execution_count": 16,
      "outputs": []
    },
    {
      "cell_type": "code",
      "metadata": {
        "colab": {
          "base_uri": "https://localhost:8080/"
        },
        "id": "jo8uzrn3k8E0",
        "outputId": "a0feeb94-b53f-4b56-d332-21497182eb8c"
      },
      "source": [
        "print(\"== Tests nivel_de_acceso_para_username==\\n\")\n",
        "\n",
        "contador_de_tests = 0\n",
        "errores = 0\n",
        "\n",
        "contador_de_tests += 1\n",
        "errores = test_funcion(nivel_de_acceso_para_username, errores, contador_de_tests,\n",
        "                       parametros=[usuarios, \"manolito_garcia\", None], resultado_esperado=1)\n",
        "contador_de_tests += 1\n",
        "errores = test_funcion(nivel_de_acceso_para_username, errores, contador_de_tests,\n",
        "                       parametros=[usuarios, \"sebas_macaco_23\", 3594], resultado_esperado=1)\n",
        "contador_de_tests += 1\n",
        "errores = test_funcion(nivel_de_acceso_para_username, errores, contador_de_tests,\n",
        "                       parametros=[usuarios, \"jonny_bravo_estuvo_aqui\", 9999], resultado_esperado=0)\n",
        "contador_de_tests += 1\n",
        "errores = test_funcion(nivel_de_acceso_para_username, errores, contador_de_tests,\n",
        "                       parametros=[usuarios, \"pepe_le_pu_88\", None], resultado_esperado=2)\n",
        "contador_de_tests += 1\n",
        "errores = test_funcion(nivel_de_acceso_para_username, errores, contador_de_tests, \n",
        "                       parametros=[usuarios, \"alfonso_torres_69\", None], resultado_esperado=0)\n",
        "\n",
        "# Corre el siguiente código sólo si decidiste realizar el reto extra\n",
        "#\n",
        "# contador_de_tests += 1\n",
        "# errores = test_funcion(nivel_de_acceso_para_username, errores, contador_de_tests,\n",
        "#                        parametros=[usuarios, \"los_yeah_yeahs_97\", 1345], resultado_esperado=0)\n",
        "\n",
        "print(f'\\nErrores encontrados: {errores}')"
      ],
      "execution_count": 17,
      "outputs": [
        {
          "output_type": "stream",
          "text": [
            "== Tests nivel_de_acceso_para_username==\n",
            "\n",
            "Test 1: Resultado esperado es `1`, obtuvimos `1`\n",
            "Test 2: Resultado esperado es `1`, obtuvimos `1`\n",
            "Test 3: Resultado esperado es `0`, obtuvimos `0`\n",
            "Test 4: Resultado esperado es `2`, obtuvimos `2`\n",
            "Test 5: Resultado esperado es `0`, obtuvimos `0`\n",
            "\n",
            "Errores encontrados: 0\n"
          ],
          "name": "stdout"
        }
      ]
    }
  ]
}