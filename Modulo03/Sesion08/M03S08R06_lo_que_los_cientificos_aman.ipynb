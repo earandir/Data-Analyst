{
  "nbformat": 4,
  "nbformat_minor": 0,
  "metadata": {
    "kernelspec": {
      "display_name": "Python 3",
      "language": "python",
      "name": "python3"
    },
    "language_info": {
      "codemirror_mode": {
        "name": "ipython",
        "version": 3
      },
      "file_extension": ".py",
      "mimetype": "text/x-python",
      "name": "python",
      "nbconvert_exporter": "python",
      "pygments_lexer": "ipython3",
      "version": "3.7.4"
    },
    "colab": {
      "name": "M03S08R06-lo_que_los_cientificos_aman.ipynb",
      "provenance": [],
      "collapsed_sections": [],
      "include_colab_link": true
    }
  },
  "cells": [
    {
      "cell_type": "markdown",
      "metadata": {
        "id": "view-in-github",
        "colab_type": "text"
      },
      "source": [
        "<a href=\"https://colab.research.google.com/github/earandir/DataAnalysis/blob/main/Modulo03/Sesion08/M03S08R06_lo_que_los_cientificos_aman.ipynb\" target=\"_parent\"><img src=\"https://colab.research.google.com/assets/colab-badge.svg\" alt=\"Open In Colab\"/></a>"
      ]
    },
    {
      "cell_type": "markdown",
      "metadata": {
        "id": "Erp2GZ_OxG66"
      },
      "source": [
        "## Reto 6: Lo que los científicos aman\n",
        "\n",
        "### 1. Objetivos:\n",
        "    - Practicar las siguientes herramientas:\n",
        "        - Lectura de .csv\n",
        "        - `merge`\n",
        "        - Filtros con value_counts()\n",
        "        - Agrupaciones y reordenamientos\n",
        "    \n",
        "---\n",
        "    \n",
        "### 2. Desarrollo:"
      ]
    },
    {
      "cell_type": "markdown",
      "metadata": {
        "id": "cdVm1u_9xG7A"
      },
      "source": [
        "#### a) Lo que los científicos aman\n",
        "\n",
        "En este Reto vamos a obtener una lista de las películas que fueron mejor evaluadas por científicos para saber cuáles son sus favoritas. Vamos a realizar los siguientes pasos:\n",
        "\n",
        "1. Lee los archivos para `movies`, `ratings` y `users`.\n"
      ]
    },
    {
      "cell_type": "code",
      "metadata": {
        "id": "S2HQFAoRzaOk"
      },
      "source": [
        "import pandas as pd"
      ],
      "execution_count": 1,
      "outputs": []
    },
    {
      "cell_type": "code",
      "metadata": {
        "colab": {
          "base_uri": "https://localhost:8080/"
        },
        "id": "CGx5pJylzZ9o",
        "outputId": "c05e4332-0a25-4780-c7f4-bccf75f00219"
      },
      "source": [
        "ratings = pd.read_csv('ratings.csv', index_col=0)\n",
        "ratings.reset_index(inplace=True)"
      ],
      "execution_count": 2,
      "outputs": [
        {
          "output_type": "stream",
          "text": [
            "/usr/local/lib/python3.7/dist-packages/numpy/lib/arraysetops.py:580: FutureWarning: elementwise comparison failed; returning scalar instead, but in the future will perform elementwise comparison\n",
            "  mask |= (ar1 == a)\n"
          ],
          "name": "stderr"
        }
      ]
    },
    {
      "cell_type": "code",
      "metadata": {
        "id": "7rrmVG2XzdCL"
      },
      "source": [
        "users = pd.read_csv('users.csv', index_col=0)\n",
        "users.reset_index(inplace=True)"
      ],
      "execution_count": 3,
      "outputs": []
    },
    {
      "cell_type": "code",
      "metadata": {
        "id": "FIGeZssizdj9"
      },
      "source": [
        "movies = pd.read_csv('movies.csv', index_col=0)\n",
        "movies.reset_index(inplace=True)"
      ],
      "execution_count": 4,
      "outputs": []
    },
    {
      "cell_type": "code",
      "metadata": {
        "id": "qQhaQFci1MFo"
      },
      "source": [
        "occupations = pd.read_csv('occupations.csv', index_col=0)\n",
        "occupations.reset_index(inplace=True)"
      ],
      "execution_count": 5,
      "outputs": []
    },
    {
      "cell_type": "markdown",
      "metadata": {
        "id": "eQ9AEfS4yDIX"
      },
      "source": [
        "2. Agrega **solamente** la columna `occupation` al `DataFrame` `ratings`, para tener la información de las ocupaciones de los usuarios que realizaron los ratings.\n"
      ]
    },
    {
      "cell_type": "code",
      "metadata": {
        "id": "Ask6y5Pnz98G"
      },
      "source": [
        "ratings = pd.merge(ratings, users, left_on='user_id', right_index=True)"
      ],
      "execution_count": 6,
      "outputs": []
    },
    {
      "cell_type": "code",
      "metadata": {
        "id": "nmaPdSud1HpL"
      },
      "source": [
        "ratings = pd.merge(ratings, occupations, left_on='occupation', right_index=True)"
      ],
      "execution_count": 7,
      "outputs": []
    },
    {
      "cell_type": "code",
      "metadata": {
        "id": "NHoapGGCz2G0"
      },
      "source": [
        "ratings = ratings[['user_id', 'movie_id', 'rating', 'description']]"
      ],
      "execution_count": 8,
      "outputs": []
    },
    {
      "cell_type": "code",
      "metadata": {
        "id": "zYZiFinO1jJm"
      },
      "source": [
        "ratings.rename(columns={'description' :'occupation'},inplace=True)"
      ],
      "execution_count": 9,
      "outputs": []
    },
    {
      "cell_type": "markdown",
      "metadata": {
        "id": "Bi-M7q7oyFF-"
      },
      "source": [
        "3. Filtra tu tabla `ratings` para quedarte solamente con los ratings hechos por científicos.\n"
      ]
    },
    {
      "cell_type": "code",
      "metadata": {
        "id": "_tTWmX6w1wbF"
      },
      "source": [
        "ratings = ratings.loc[ratings['occupation'].isin(['scientist'])]"
      ],
      "execution_count": 10,
      "outputs": []
    },
    {
      "cell_type": "markdown",
      "metadata": {
        "id": "ZiC_96YvyGs2"
      },
      "source": [
        "4. Agrega **solamente** la columna `title` de la tabla `movies` a la tabla `ratings` para tener la información de los nombres de las películas que fueron evaluadas por científicos.\n"
      ]
    },
    {
      "cell_type": "code",
      "metadata": {
        "id": "T1vnCB4w2wA3"
      },
      "source": [
        "ratings = pd.merge(ratings, movies, left_on='movie_id', right_index=True)"
      ],
      "execution_count": 11,
      "outputs": []
    },
    {
      "cell_type": "code",
      "metadata": {
        "id": "vgerZQpx2zCQ"
      },
      "source": [
        "ratings = ratings[['user_id', 'movie_id', 'rating', 'occupation', 'title']]"
      ],
      "execution_count": 12,
      "outputs": []
    },
    {
      "cell_type": "markdown",
      "metadata": {
        "id": "pR42ksFQyIqT"
      },
      "source": [
        "5. Filtra tu `DataFrame` para quedarte **solamente** con las películas que fueron evaluadas más de 50 veces.\n"
      ]
    },
    {
      "cell_type": "code",
      "metadata": {
        "id": "DhcWHJkNhuIM"
      },
      "source": [
        "ratings = ratings.groupby('movie_id') \\\n",
        "  .agg(title=('title', 'max'), rating_count=('rating', 'size'), rating_mean=('rating', 'mean')) \\\n",
        "  .reset_index()"
      ],
      "execution_count": 13,
      "outputs": []
    },
    {
      "cell_type": "code",
      "metadata": {
        "id": "meG4XfS0lknj"
      },
      "source": [
        "ratings = ratings.loc[ratings['rating_count'] >= 50]"
      ],
      "execution_count": 14,
      "outputs": []
    },
    {
      "cell_type": "markdown",
      "metadata": {
        "id": "L2L6BdcPyKV0"
      },
      "source": [
        "6. Realiza una agrupación por película y computa el promedio de los ratings de cada película.\n"
      ]
    },
    {
      "cell_type": "code",
      "metadata": {
        "colab": {
          "base_uri": "https://localhost:8080/",
          "height": 419
        },
        "id": "pENySsFamB6N",
        "outputId": "5ab3d2e4-0da9-401d-c833-e224b757cf48"
      },
      "source": [
        "ratings[['movie_id', 'title', 'rating_count', 'rating_mean']]"
      ],
      "execution_count": 15,
      "outputs": [
        {
          "output_type": "execute_result",
          "data": {
            "text/html": [
              "<div>\n",
              "<style scoped>\n",
              "    .dataframe tbody tr th:only-of-type {\n",
              "        vertical-align: middle;\n",
              "    }\n",
              "\n",
              "    .dataframe tbody tr th {\n",
              "        vertical-align: top;\n",
              "    }\n",
              "\n",
              "    .dataframe thead th {\n",
              "        text-align: right;\n",
              "    }\n",
              "</style>\n",
              "<table border=\"1\" class=\"dataframe\">\n",
              "  <thead>\n",
              "    <tr style=\"text-align: right;\">\n",
              "      <th></th>\n",
              "      <th>movie_id</th>\n",
              "      <th>title</th>\n",
              "      <th>rating_count</th>\n",
              "      <th>rating_mean</th>\n",
              "    </tr>\n",
              "  </thead>\n",
              "  <tbody>\n",
              "    <tr>\n",
              "      <th>0</th>\n",
              "      <td>1</td>\n",
              "      <td>Jumanji (1995)</td>\n",
              "      <td>141</td>\n",
              "      <td>4.191489</td>\n",
              "    </tr>\n",
              "    <tr>\n",
              "      <th>5</th>\n",
              "      <td>6</td>\n",
              "      <td>Sabrina (1995)</td>\n",
              "      <td>72</td>\n",
              "      <td>3.666667</td>\n",
              "    </tr>\n",
              "    <tr>\n",
              "      <th>9</th>\n",
              "      <td>10</td>\n",
              "      <td>American President, The (1995)</td>\n",
              "      <td>75</td>\n",
              "      <td>3.320000</td>\n",
              "    </tr>\n",
              "    <tr>\n",
              "      <th>16</th>\n",
              "      <td>17</td>\n",
              "      <td>Four Rooms (1995)</td>\n",
              "      <td>57</td>\n",
              "      <td>3.842105</td>\n",
              "    </tr>\n",
              "    <tr>\n",
              "      <th>20</th>\n",
              "      <td>21</td>\n",
              "      <td>Copycat (1995)</td>\n",
              "      <td>102</td>\n",
              "      <td>3.558824</td>\n",
              "    </tr>\n",
              "    <tr>\n",
              "      <th>...</th>\n",
              "      <td>...</td>\n",
              "      <td>...</td>\n",
              "      <td>...</td>\n",
              "      <td>...</td>\n",
              "    </tr>\n",
              "    <tr>\n",
              "      <th>2764</th>\n",
              "      <td>3755</td>\n",
              "      <td>Coyote Ugly (2000)</td>\n",
              "      <td>96</td>\n",
              "      <td>3.343750</td>\n",
              "    </tr>\n",
              "    <tr>\n",
              "      <th>2771</th>\n",
              "      <td>3763</td>\n",
              "      <td>Brain That Wouldn't Die, The (1962)</td>\n",
              "      <td>54</td>\n",
              "      <td>3.666667</td>\n",
              "    </tr>\n",
              "    <tr>\n",
              "      <th>2797</th>\n",
              "      <td>3793</td>\n",
              "      <td>Cell, The (2000)</td>\n",
              "      <td>108</td>\n",
              "      <td>3.777778</td>\n",
              "    </tr>\n",
              "    <tr>\n",
              "      <th>2808</th>\n",
              "      <td>3809</td>\n",
              "      <td>Art of War, The (2000)</td>\n",
              "      <td>63</td>\n",
              "      <td>3.285714</td>\n",
              "    </tr>\n",
              "    <tr>\n",
              "      <th>2853</th>\n",
              "      <td>3868</td>\n",
              "      <td>Slumber Party Massacre, The (1982)</td>\n",
              "      <td>57</td>\n",
              "      <td>3.631579</td>\n",
              "    </tr>\n",
              "  </tbody>\n",
              "</table>\n",
              "<p>441 rows × 4 columns</p>\n",
              "</div>"
            ],
            "text/plain": [
              "      movie_id                                title  rating_count  rating_mean\n",
              "0            1                       Jumanji (1995)           141     4.191489\n",
              "5            6                       Sabrina (1995)            72     3.666667\n",
              "9           10       American President, The (1995)            75     3.320000\n",
              "16          17                    Four Rooms (1995)            57     3.842105\n",
              "20          21                       Copycat (1995)           102     3.558824\n",
              "...        ...                                  ...           ...          ...\n",
              "2764      3755                   Coyote Ugly (2000)            96     3.343750\n",
              "2771      3763  Brain That Wouldn't Die, The (1962)            54     3.666667\n",
              "2797      3793                     Cell, The (2000)           108     3.777778\n",
              "2808      3809               Art of War, The (2000)            63     3.285714\n",
              "2853      3868   Slumber Party Massacre, The (1982)            57     3.631579\n",
              "\n",
              "[441 rows x 4 columns]"
            ]
          },
          "metadata": {
            "tags": []
          },
          "execution_count": 15
        }
      ]
    },
    {
      "cell_type": "markdown",
      "metadata": {
        "id": "iTrFebX7yL5O"
      },
      "source": [
        "7. Ordena la `Serie` resultante descendentemente y asígnala  a la variable `mean_of_scientists_ratings_sorted`.\n",
        "\n",
        "> **Nota**: el paso #5 es un poco complejo. No te desesperes si no encuentras una solución rápidamente. ¡Pídele a la experta que te guíe para que puedas resolverlo sin que te explote la cabeza!"
      ]
    },
    {
      "cell_type": "code",
      "metadata": {
        "id": "iHSHcDeBxG7B"
      },
      "source": [
        "mean_of_scientists_ratings_sorted = ratings.sort_values('rating_mean', ascending=False)"
      ],
      "execution_count": 16,
      "outputs": []
    },
    {
      "cell_type": "markdown",
      "metadata": {
        "id": "JEexD3OIxG7C"
      },
      "source": [
        "La celda de validación a continuación, considera que este reto es la culimnación de todo el módulo, así que presume tus resultados y hasta la vista!"
      ]
    },
    {
      "cell_type": "code",
      "metadata": {
        "id": "aBVFUqX1xG7C",
        "colab": {
          "base_uri": "https://localhost:8080/",
          "height": 295
        },
        "outputId": "f4bc88ab-ce4a-4be2-888d-4839c3d9957b"
      },
      "source": [
        "def visualizar_lista(mean_of_scientists_ratings_sorted):\n",
        "    import matplotlib.pyplot as plt\n",
        "    #import seaborn as sns\n",
        "\n",
        "    #fig, ax = plt.subplots(figsize=(10, 10))\n",
        "    ax = mean_of_scientists_ratings_sorted.plot.bar(x='movie_id', y='rating_mean', rot=0)\n",
        "    ax.set_title('Ratings promedio de las películas más evaluadas por científicos')\n",
        "    #sns.barplot(mean_of_scientists_ratings_sorted.any(), mean_of_scientists_ratings_sorted.index, ax=ax)\n",
        "    ax.set(ylabel='Rating Promedio', xlabel='Título')\n",
        "    \n",
        "visualizar_lista(mean_of_scientists_ratings_sorted)"
      ],
      "execution_count": 17,
      "outputs": [
        {
          "output_type": "display_data",
          "data": {
            "image/png": "[encoded data removed]",
            "text/plain": [
              "<Figure size 432x288 with 1 Axes>"
            ]
          },
          "metadata": {
            "tags": [],
            "needs_background": "light"
          }
        }
      ]
    }
  ]
}