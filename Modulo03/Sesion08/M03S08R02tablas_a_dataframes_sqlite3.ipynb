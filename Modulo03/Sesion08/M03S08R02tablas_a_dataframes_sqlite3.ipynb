{
  "nbformat": 4,
  "nbformat_minor": 0,
  "metadata": {
    "kernelspec": {
      "display_name": "Python 3",
      "language": "python",
      "name": "python3"
    },
    "language_info": {
      "codemirror_mode": {
        "name": "ipython",
        "version": 3
      },
      "file_extension": ".py",
      "mimetype": "text/x-python",
      "name": "python",
      "nbconvert_exporter": "python",
      "pygments_lexer": "ipython3",
      "version": "3.7.4"
    },
    "colab": {
      "name": "M03S08E02tablas_a_dataframes-sqlite3.ipynb",
      "provenance": [],
      "collapsed_sections": [],
      "include_colab_link": true
    }
  },
  "cells": [
    {
      "cell_type": "markdown",
      "metadata": {
        "id": "view-in-github",
        "colab_type": "text"
      },
      "source": [
        "<a href=\"https://colab.research.google.com/github/earandir/DataAnalysis/blob/main/Modulo03/Sesion08/M03S08R02tablas_a_dataframes_sqlite3.ipynb\" target=\"_parent\"><img src=\"https://colab.research.google.com/assets/colab-badge.svg\" alt=\"Open In Colab\"/></a>"
      ]
    },
    {
      "cell_type": "markdown",
      "metadata": {
        "id": "I9kqh8powdaN"
      },
      "source": [
        "## Ejemplo 2: Consultas a la base de datos y construcción de `DataFrames`\n",
        "\n",
        "### 1. Objetivos:\n",
        "    - Realizar consultas a la base de datos y construir un `DataFrame` para cada tabla.\n",
        " \n",
        "---\n",
        "    \n",
        "### 2. Desarrollo:"
      ]
    },
    {
      "cell_type": "markdown",
      "metadata": {
        "id": "HP3WcuI9wdaQ"
      },
      "source": [
        "#### a) Tablas a `DataFrames`"
      ]
    },
    {
      "cell_type": "code",
      "metadata": {
        "id": "QahvgPNYwdaQ"
      },
      "source": [
        "import pandas as pd\n",
        "import sqlite3"
      ],
      "execution_count": 1,
      "outputs": []
    },
    {
      "cell_type": "markdown",
      "metadata": {
        "id": "XFjmgbKCwdaR"
      },
      "source": [
        "Realizamos la conexión y obtenemos nuestro índice (cursor) para poder realizar operaciones con la base de datos:"
      ]
    },
    {
      "cell_type": "code",
      "metadata": {
        "colab": {
          "base_uri": "https://localhost:8080/"
        },
        "id": "OxJyOmsiwdaS",
        "outputId": "9d7d67df-fcd8-4ae8-faee-dcdc83681f28"
      },
      "source": [
        "bd = \"movielens.sqlite3\"\n",
        "conn = sqlite3.connect(bd)\n",
        "cur = conn.cursor()\n",
        "\n",
        "cur"
      ],
      "execution_count": 2,
      "outputs": [
        {
          "output_type": "execute_result",
          "data": {
            "text/plain": [
              "<sqlite3.Cursor at 0x7f2c2c00cce0>"
            ]
          },
          "metadata": {
            "tags": []
          },
          "execution_count": 2
        }
      ]
    },
    {
      "cell_type": "markdown",
      "metadata": {
        "id": "i_UpGD-1wdaS"
      },
      "source": [
        "Ahora vamos a obtener la lista de todos los registros de la tabla `users` usando la función `execute(-sql-)` y la instrucción SQL:\n",
        "\n",
        "`SELECT * FROM users`"
      ]
    },
    {
      "cell_type": "code",
      "metadata": {
        "colab": {
          "base_uri": "https://localhost:8080/"
        },
        "id": "BHu9SrugwdaS",
        "outputId": "398d8413-3528-48c4-c99b-e220a204fd97"
      },
      "source": [
        "sql = 'SELECT * FROM users;'\n",
        "\n",
        "cur.execute(sql)"
      ],
      "execution_count": 3,
      "outputs": [
        {
          "output_type": "execute_result",
          "data": {
            "text/plain": [
              "<sqlite3.Cursor at 0x7f2c2c00cce0>"
            ]
          },
          "metadata": {
            "tags": []
          },
          "execution_count": 3
        }
      ]
    },
    {
      "cell_type": "markdown",
      "metadata": {
        "id": "Cb9eVrAmwdaT"
      },
      "source": [
        "Ahora hay que obtener todos los resultados de la consulta con:\n",
        "    \n",
        "`mi_cursor.fetchall()`"
      ]
    },
    {
      "cell_type": "code",
      "metadata": {
        "id": "n-LFmdyDwdaU"
      },
      "source": [
        "resultados = cur.fetchall()\n",
        "\n"
      ],
      "execution_count": 4,
      "outputs": []
    },
    {
      "cell_type": "markdown",
      "metadata": {
        "id": "o5ftCuC4wdaU"
      },
      "source": [
        "Si recuerdas el último ejemplo, `fetchall` nos regresa una `lista` de `tuplas`. Cada `tupla` representa una fila de nuestro conjunto de datos, por ejemplo obtén el primer registro se podría obtener como:"
      ]
    },
    {
      "cell_type": "code",
      "metadata": {
        "colab": {
          "base_uri": "https://localhost:8080/"
        },
        "id": "WXtiWuyMwdaU",
        "outputId": "9c382615-f9ae-4a21-8854-3b62f30c4160"
      },
      "source": [
        "resultados[0]"
      ],
      "execution_count": 5,
      "outputs": [
        {
          "output_type": "execute_result",
          "data": {
            "text/plain": [
              "(1, 'F', 1, 10, '48067')"
            ]
          },
          "metadata": {
            "tags": []
          },
          "execution_count": 5
        }
      ]
    },
    {
      "cell_type": "markdown",
      "metadata": {
        "id": "6T6gjX9gwdaV"
      },
      "source": [
        "O podríamos obtener el género del primer usuario con:"
      ]
    },
    {
      "cell_type": "code",
      "metadata": {
        "colab": {
          "base_uri": "https://localhost:8080/",
          "height": 35
        },
        "id": "WE4dPU5bwdaV",
        "outputId": "c1e53145-fa1e-412f-8f7d-19027bde1295"
      },
      "source": [
        "resultados[0][1]"
      ],
      "execution_count": 6,
      "outputs": [
        {
          "output_type": "execute_result",
          "data": {
            "application/vnd.google.colaboratory.intrinsic+json": {
              "type": "string"
            },
            "text/plain": [
              "'F'"
            ]
          },
          "metadata": {
            "tags": []
          },
          "execution_count": 6
        }
      ]
    },
    {
      "cell_type": "markdown",
      "metadata": {
        "id": "7GuY9UktwdaV"
      },
      "source": [
        "Algo muy util es obtener la lista de los nombres de las columnas de la tabla consultada, para eso se hacer uso del atributo:\n",
        "\n",
        "`mi_cursor.description`"
      ]
    },
    {
      "cell_type": "code",
      "metadata": {
        "colab": {
          "base_uri": "https://localhost:8080/"
        },
        "id": "hVo85_8LwdaV",
        "outputId": "bf8d8e76-39d6-4696-aee2-0ea50ecffd7c"
      },
      "source": [
        "cur.description"
      ],
      "execution_count": 7,
      "outputs": [
        {
          "output_type": "execute_result",
          "data": {
            "text/plain": [
              "(('user_id', None, None, None, None, None, None),\n",
              " ('gender', None, None, None, None, None, None),\n",
              " ('age', None, None, None, None, None, None),\n",
              " ('occupation', None, None, None, None, None, None),\n",
              " ('cp', None, None, None, None, None, None))"
            ]
          },
          "metadata": {
            "tags": []
          },
          "execution_count": 7
        }
      ]
    },
    {
      "cell_type": "markdown",
      "metadata": {
        "id": "waXzmEi9wdaV"
      },
      "source": [
        "y aplicando listas de compresión se puede obtener la lista deseada:"
      ]
    },
    {
      "cell_type": "code",
      "metadata": {
        "colab": {
          "base_uri": "https://localhost:8080/"
        },
        "id": "F8Knd1k8x0rn",
        "outputId": "cb88c0f1-2b27-4b8c-c5d0-58dc39e84ad8"
      },
      "source": [
        "#first_tuple_elements = []\n",
        "#for a_tuple in cur.description:\n",
        "#  first_tuple_elements.append(a_tuple[0])\n",
        "\n",
        "columnas = [a_tuple[0] for a_tuple in cur.description]\n",
        "columnas"
      ],
      "execution_count": 8,
      "outputs": [
        {
          "output_type": "execute_result",
          "data": {
            "text/plain": [
              "['user_id', 'gender', 'age', 'occupation', 'cp']"
            ]
          },
          "metadata": {
            "tags": []
          },
          "execution_count": 8
        }
      ]
    },
    {
      "cell_type": "code",
      "metadata": {
        "colab": {
          "base_uri": "https://localhost:8080/"
        },
        "id": "q_P08m2dwdaV",
        "outputId": "95afbc3f-3e4c-41f5-a9ad-65b7af7e9bed"
      },
      "source": [
        "cols = [t[0] for t in cur.description]\n",
        "\n",
        "cols"
      ],
      "execution_count": 9,
      "outputs": [
        {
          "output_type": "execute_result",
          "data": {
            "text/plain": [
              "['user_id', 'gender', 'age', 'occupation', 'cp']"
            ]
          },
          "metadata": {
            "tags": []
          },
          "execution_count": 9
        }
      ]
    },
    {
      "cell_type": "markdown",
      "metadata": {
        "id": "JG6DzQUtwdaW"
      },
      "source": [
        "Afortunadamente `pandas` puede recibir justamente `listas` de `tuplas` como ingredientes para construir `DataFrames`. Sólo hace falta indicarle el nombre de las columnas. Los nombres de las columnas están especificados en el [archivo Readme.md](../../Datasets/MovieLens/Readme.md) que venía incluido con el dataset:"
      ]
    },
    {
      "cell_type": "markdown",
      "metadata": {
        "id": "Ou_y1ERkwdaW"
      },
      "source": [
        "Así que ahora se crea el dataframe usando la forma:\n",
        "\n",
        "`pd.DataFrame(-lista de registros-,\n",
        "    columns=-lista de nombres de columnas-)`"
      ]
    },
    {
      "cell_type": "code",
      "metadata": {
        "colab": {
          "base_uri": "https://localhost:8080/",
          "height": 204
        },
        "id": "YarCYqjrwdaW",
        "outputId": "68a91a1d-18e4-40e7-dbab-6f753cd53863"
      },
      "source": [
        "df = pd.DataFrame(resultados, columns=columnas)\n",
        "\n",
        "df.head()"
      ],
      "execution_count": 10,
      "outputs": [
        {
          "output_type": "execute_result",
          "data": {
            "text/html": [
              "<div>\n",
              "<style scoped>\n",
              "    .dataframe tbody tr th:only-of-type {\n",
              "        vertical-align: middle;\n",
              "    }\n",
              "\n",
              "    .dataframe tbody tr th {\n",
              "        vertical-align: top;\n",
              "    }\n",
              "\n",
              "    .dataframe thead th {\n",
              "        text-align: right;\n",
              "    }\n",
              "</style>\n",
              "<table border=\"1\" class=\"dataframe\">\n",
              "  <thead>\n",
              "    <tr style=\"text-align: right;\">\n",
              "      <th></th>\n",
              "      <th>user_id</th>\n",
              "      <th>gender</th>\n",
              "      <th>age</th>\n",
              "      <th>occupation</th>\n",
              "      <th>cp</th>\n",
              "    </tr>\n",
              "  </thead>\n",
              "  <tbody>\n",
              "    <tr>\n",
              "      <th>0</th>\n",
              "      <td>1</td>\n",
              "      <td>F</td>\n",
              "      <td>1</td>\n",
              "      <td>10</td>\n",
              "      <td>48067</td>\n",
              "    </tr>\n",
              "    <tr>\n",
              "      <th>1</th>\n",
              "      <td>2</td>\n",
              "      <td>M</td>\n",
              "      <td>56</td>\n",
              "      <td>16</td>\n",
              "      <td>70072</td>\n",
              "    </tr>\n",
              "    <tr>\n",
              "      <th>2</th>\n",
              "      <td>3</td>\n",
              "      <td>M</td>\n",
              "      <td>25</td>\n",
              "      <td>15</td>\n",
              "      <td>55117</td>\n",
              "    </tr>\n",
              "    <tr>\n",
              "      <th>3</th>\n",
              "      <td>4</td>\n",
              "      <td>M</td>\n",
              "      <td>45</td>\n",
              "      <td>7</td>\n",
              "      <td>02460</td>\n",
              "    </tr>\n",
              "    <tr>\n",
              "      <th>4</th>\n",
              "      <td>5</td>\n",
              "      <td>M</td>\n",
              "      <td>25</td>\n",
              "      <td>20</td>\n",
              "      <td>55455</td>\n",
              "    </tr>\n",
              "  </tbody>\n",
              "</table>\n",
              "</div>"
            ],
            "text/plain": [
              "   user_id gender  age  occupation     cp\n",
              "0        1      F    1          10  48067\n",
              "1        2      M   56          16  70072\n",
              "2        3      M   25          15  55117\n",
              "3        4      M   45           7  02460\n",
              "4        5      M   25          20  55455"
            ]
          },
          "metadata": {
            "tags": []
          },
          "execution_count": 10
        }
      ]
    },
    {
      "cell_type": "markdown",
      "metadata": {
        "id": "_DqUpCIYwdaW"
      },
      "source": [
        "Otra manera de realizar esta operación de una manera más compacta es utilizando la siguiente función de Pandas:\n",
        "\n",
        "`pd.read_sql(-consulta sql-, -variable de conexión a la BD-)`\n",
        "\n",
        "así que vamos a obtener justo el mismo dataframe y lu guardaremos en la viable `df_1`:"
      ]
    },
    {
      "cell_type": "code",
      "metadata": {
        "colab": {
          "base_uri": "https://localhost:8080/",
          "height": 204
        },
        "id": "SvfthSAZwdaW",
        "outputId": "df6f63d6-45db-44a9-8c32-d089c2df396f"
      },
      "source": [
        "df_1 = pd.read_sql(sql, conn)\n",
        "\n",
        "df_1.head()"
      ],
      "execution_count": 11,
      "outputs": [
        {
          "output_type": "execute_result",
          "data": {
            "text/html": [
              "<div>\n",
              "<style scoped>\n",
              "    .dataframe tbody tr th:only-of-type {\n",
              "        vertical-align: middle;\n",
              "    }\n",
              "\n",
              "    .dataframe tbody tr th {\n",
              "        vertical-align: top;\n",
              "    }\n",
              "\n",
              "    .dataframe thead th {\n",
              "        text-align: right;\n",
              "    }\n",
              "</style>\n",
              "<table border=\"1\" class=\"dataframe\">\n",
              "  <thead>\n",
              "    <tr style=\"text-align: right;\">\n",
              "      <th></th>\n",
              "      <th>user_id</th>\n",
              "      <th>gender</th>\n",
              "      <th>age</th>\n",
              "      <th>occupation</th>\n",
              "      <th>cp</th>\n",
              "    </tr>\n",
              "  </thead>\n",
              "  <tbody>\n",
              "    <tr>\n",
              "      <th>0</th>\n",
              "      <td>1</td>\n",
              "      <td>F</td>\n",
              "      <td>1</td>\n",
              "      <td>10</td>\n",
              "      <td>48067</td>\n",
              "    </tr>\n",
              "    <tr>\n",
              "      <th>1</th>\n",
              "      <td>2</td>\n",
              "      <td>M</td>\n",
              "      <td>56</td>\n",
              "      <td>16</td>\n",
              "      <td>70072</td>\n",
              "    </tr>\n",
              "    <tr>\n",
              "      <th>2</th>\n",
              "      <td>3</td>\n",
              "      <td>M</td>\n",
              "      <td>25</td>\n",
              "      <td>15</td>\n",
              "      <td>55117</td>\n",
              "    </tr>\n",
              "    <tr>\n",
              "      <th>3</th>\n",
              "      <td>4</td>\n",
              "      <td>M</td>\n",
              "      <td>45</td>\n",
              "      <td>7</td>\n",
              "      <td>02460</td>\n",
              "    </tr>\n",
              "    <tr>\n",
              "      <th>4</th>\n",
              "      <td>5</td>\n",
              "      <td>M</td>\n",
              "      <td>25</td>\n",
              "      <td>20</td>\n",
              "      <td>55455</td>\n",
              "    </tr>\n",
              "  </tbody>\n",
              "</table>\n",
              "</div>"
            ],
            "text/plain": [
              "   user_id gender  age  occupation     cp\n",
              "0        1      F    1          10  48067\n",
              "1        2      M   56          16  70072\n",
              "2        3      M   25          15  55117\n",
              "3        4      M   45           7  02460\n",
              "4        5      M   25          20  55455"
            ]
          },
          "metadata": {
            "tags": []
          },
          "execution_count": 11
        }
      ]
    },
    {
      "cell_type": "markdown",
      "metadata": {
        "id": "xlZaE5PuwdaW"
      },
      "source": [
        "Sería una buena idea convertir la columna `user_id` en índice para no tener información redundante usando:\n",
        "\n",
        "`dataframe.set_index(-columna-, drop=True)`\n",
        "\n",
        "y el resultado lo guardamos en la variable `df_2`:"
      ]
    },
    {
      "cell_type": "code",
      "metadata": {
        "colab": {
          "base_uri": "https://localhost:8080/",
          "height": 156
        },
        "id": "4tPeSZgvwdaX",
        "outputId": "9b974c10-c3aa-4e8f-c6bd-89521863157c"
      },
      "source": [
        "df_2 = df_1.set_index(columnas, drop=True)\n",
        "\n",
        "df_2.head(3)"
      ],
      "execution_count": 12,
      "outputs": [
        {
          "output_type": "execute_result",
          "data": {
            "text/html": [
              "<div>\n",
              "<style scoped>\n",
              "    .dataframe tbody tr th:only-of-type {\n",
              "        vertical-align: middle;\n",
              "    }\n",
              "\n",
              "    .dataframe tbody tr th {\n",
              "        vertical-align: top;\n",
              "    }\n",
              "\n",
              "    .dataframe thead th {\n",
              "        text-align: right;\n",
              "    }\n",
              "</style>\n",
              "<table border=\"1\" class=\"dataframe\">\n",
              "  <thead>\n",
              "    <tr style=\"text-align: right;\">\n",
              "      <th></th>\n",
              "      <th></th>\n",
              "      <th></th>\n",
              "      <th></th>\n",
              "      <th></th>\n",
              "    </tr>\n",
              "    <tr>\n",
              "      <th>user_id</th>\n",
              "      <th>gender</th>\n",
              "      <th>age</th>\n",
              "      <th>occupation</th>\n",
              "      <th>cp</th>\n",
              "    </tr>\n",
              "  </thead>\n",
              "  <tbody>\n",
              "    <tr>\n",
              "      <th>1</th>\n",
              "      <th>F</th>\n",
              "      <th>1</th>\n",
              "      <th>10</th>\n",
              "      <th>48067</th>\n",
              "    </tr>\n",
              "    <tr>\n",
              "      <th>2</th>\n",
              "      <th>M</th>\n",
              "      <th>56</th>\n",
              "      <th>16</th>\n",
              "      <th>70072</th>\n",
              "    </tr>\n",
              "    <tr>\n",
              "      <th>3</th>\n",
              "      <th>M</th>\n",
              "      <th>25</th>\n",
              "      <th>15</th>\n",
              "      <th>55117</th>\n",
              "    </tr>\n",
              "  </tbody>\n",
              "</table>\n",
              "</div>"
            ],
            "text/plain": [
              "Empty DataFrame\n",
              "Columns: []\n",
              "Index: [(1, F, 1, 10, 48067), (2, M, 56, 16, 70072), (3, M, 25, 15, 55117)]"
            ]
          },
          "metadata": {
            "tags": []
          },
          "execution_count": 12
        }
      ]
    },
    {
      "cell_type": "markdown",
      "metadata": {
        "id": "YhK5ZDJswdaX"
      },
      "source": [
        "¡Listo! Vamos a guardar nuestros `DataFrames` en el archivo `users.csv` para que no haga falta volver a extraerlos de la base de datos. Ya podemos decirle adiós a nuestro fiel MySQL. ¡Chao, bellisimo!"
      ]
    },
    {
      "cell_type": "code",
      "metadata": {
        "id": "DgGfTv9owdaX"
      },
      "source": [
        "df_2.to_csv('users.csv')"
      ],
      "execution_count": 13,
      "outputs": []
    },
    {
      "cell_type": "markdown",
      "metadata": {
        "id": "3e9DNNCYwdaX"
      },
      "source": [
        "Ahora hagamos lo mismo para la tabla `occupations`, obtengamos todos los registros, examinemos, obtengamos los nombres de las columnas, creemos el dataframe, reasignemos índices en caso de ser necesario y guardemos el resultado en el archivo `occupations.csv`"
      ]
    },
    {
      "cell_type": "code",
      "metadata": {
        "colab": {
          "base_uri": "https://localhost:8080/",
          "height": 433
        },
        "id": "tiZDZTSHwdaX",
        "outputId": "fbaa450f-031c-4037-f608-8b84ff5e3943"
      },
      "source": [
        "sql_occupation = 'SELECT * FROM occupations'\n",
        "\n",
        "df_occupation = pd.read_sql(sql_occupation, conn)\n",
        "\n",
        "df_occupation.set_index(list(df_occupation.columns), drop=True, inplace=True)\n",
        "\n",
        "df_occupation"
      ],
      "execution_count": 14,
      "outputs": [
        {
          "output_type": "execute_result",
          "data": {
            "text/html": [
              "<div>\n",
              "<style scoped>\n",
              "    .dataframe tbody tr th:only-of-type {\n",
              "        vertical-align: middle;\n",
              "    }\n",
              "\n",
              "    .dataframe tbody tr th {\n",
              "        vertical-align: top;\n",
              "    }\n",
              "\n",
              "    .dataframe thead th {\n",
              "        text-align: right;\n",
              "    }\n",
              "</style>\n",
              "<table border=\"1\" class=\"dataframe\">\n",
              "  <thead>\n",
              "    <tr style=\"text-align: right;\">\n",
              "      <th></th>\n",
              "      <th></th>\n",
              "    </tr>\n",
              "    <tr>\n",
              "      <th>occupation_id</th>\n",
              "      <th>description</th>\n",
              "    </tr>\n",
              "  </thead>\n",
              "  <tbody>\n",
              "    <tr>\n",
              "      <th>0</th>\n",
              "      <th>other or not specified</th>\n",
              "    </tr>\n",
              "    <tr>\n",
              "      <th>1</th>\n",
              "      <th>academic/educator</th>\n",
              "    </tr>\n",
              "    <tr>\n",
              "      <th>2</th>\n",
              "      <th>artist</th>\n",
              "    </tr>\n",
              "    <tr>\n",
              "      <th>3</th>\n",
              "      <th>clerical/admin</th>\n",
              "    </tr>\n",
              "    <tr>\n",
              "      <th>4</th>\n",
              "      <th>college/grad student</th>\n",
              "    </tr>\n",
              "    <tr>\n",
              "      <th>...</th>\n",
              "      <th>...</th>\n",
              "    </tr>\n",
              "    <tr>\n",
              "      <th>16</th>\n",
              "      <th>self-employed</th>\n",
              "    </tr>\n",
              "    <tr>\n",
              "      <th>17</th>\n",
              "      <th>technician/engineer</th>\n",
              "    </tr>\n",
              "    <tr>\n",
              "      <th>18</th>\n",
              "      <th>tradesman/craftsman</th>\n",
              "    </tr>\n",
              "    <tr>\n",
              "      <th>19</th>\n",
              "      <th>unemployed</th>\n",
              "    </tr>\n",
              "    <tr>\n",
              "      <th>20</th>\n",
              "      <th>writer</th>\n",
              "    </tr>\n",
              "  </tbody>\n",
              "</table>\n",
              "<p>63 rows × 0 columns</p>\n",
              "</div>"
            ],
            "text/plain": [
              "Empty DataFrame\n",
              "Columns: []\n",
              "Index: [(0, other or not specified), (1, academic/educator), (2, artist), (3, clerical/admin), (4, college/grad student), (5, customer service), (6, doctor/health care), (7, executive/managerial), (8, farmer), (9, homemaker), (10, K-12 student), (11, lawyer), (12, programmer), (13, retired), (14, sales/marketing), (15, scientist), (16, self-employed), (17, technician/engineer), (18, tradesman/craftsman), (19, unemployed), (20, writer), (0, other or not specified), (1, academic/educator), (2, artist), (3, clerical/admin), (4, college/grad student), (5, customer service), (6, doctor/health care), (7, executive/managerial), (8, farmer), (9, homemaker), (10, K-12 student), (11, lawyer), (12, programmer), (13, retired), (14, sales/marketing), (15, scientist), (16, self-employed), (17, technician/engineer), (18, tradesman/craftsman), (19, unemployed), (20, writer), (0, other or not specified), (1, academic/educator), (2, artist), (3, clerical/admin), (4, college/grad student), (5, customer service), (6, doctor/health care), (7, executive/managerial), (8, farmer), (9, homemaker), (10, K-12 student), (11, lawyer), (12, programmer), (13, retired), (14, sales/marketing), (15, scientist), (16, self-employed), (17, technician/engineer), (18, tradesman/craftsman), (19, unemployed), (20, writer)]\n",
              "\n",
              "[63 rows x 0 columns]"
            ]
          },
          "metadata": {
            "tags": []
          },
          "execution_count": 14
        }
      ]
    },
    {
      "cell_type": "markdown",
      "metadata": {
        "id": "E3lWRGrCwdaX"
      },
      "source": [
        "Haaa y no olvides cerrar tu índice y tu conexión:"
      ]
    },
    {
      "cell_type": "code",
      "metadata": {
        "id": "mIlGvuZvwdaX"
      },
      "source": [
        "cur.close()\n",
        "conn.close()"
      ],
      "execution_count": 15,
      "outputs": []
    },
    {
      "cell_type": "markdown",
      "metadata": {
        "id": "6BsXPtDMwdaX"
      },
      "source": [
        "---\n",
        "---"
      ]
    },
    {
      "cell_type": "markdown",
      "metadata": {
        "id": "g-CylfslwdaX"
      },
      "source": [
        "## Reto 2: Convertir tablas en MySQL a `DataFrames` de `pandas`\n",
        "\n",
        "### 1. Objetivos:\n",
        "    - Solicitar todos los datos de las tablas que están almacenadas en nuestra base de datos, convertirlos a `DataFrames` y guardarlos.\n",
        "    \n",
        "---\n",
        "    \n",
        "### 2. Desarrollo:"
      ]
    },
    {
      "cell_type": "markdown",
      "metadata": {
        "id": "16Lsc-GrwdaY"
      },
      "source": [
        "#### a) Tablas a `DataFrames`\n",
        "\n",
        "Ya que tenemos nuestra conexión funcionando adecuadamente, vamos a utilizarla para realizar consultas a las base de datos y construir una base de datos local. Tu Reto consiste en los siguientes pasos:\n",
        "\n",
        "1. Vuelve a establecer la conexión a la base de datos\n",
        "2. Usando el comando `SELECT * FROM nombre_de_tabla`, realiza consultas a cada una de las 5 tablas que existen en la base de datos.\n",
        "3. Crea un `DataFrame` por cada tabla que obtuviste. Para asignarle los nombres de las columnas correctamente, revisa el archivo [Readme.md](../../Datasets/MovieLens/Readme.md) donde está contenida toda esa información.\n",
        "4. Asegúrate de que el índice sea adecuado en cada `DataFrame`. En los casos en los que haya datos redundantes, convierte una de las columnas en índice.\n",
        "5. Si lo deseas ordena las columnas de la manera en la que mejor te parezca.\n",
        "6. Guarda tus `DataFrames` en formato .csv para utilizarlos en los siguientes Retos.\n",
        "\n",
        "> **NOTA IMPORTANTE**: La tabla movies es un poco complicada porque contiene muchos signos distintos. Tanto en la columna de nombre de película como la de género, encontramos signos como `,`, `:`, `.`, `|`. Esto hace un poco complicado el almacenamiento y lectura de este archivo. Si elijes guardar este archivo como un .csv separado por comas (`,`), a la hora de leerlo de regreso, `pandas` puede confundirse y pensar que el título de una película que contiene comas constituye dos columnas. Por esta razón, te recomiendo que la tabla `movies` la guardes agregando un separador poco convencional como `sep='$'`. De esta manera será muchísimo más fácil leer tu archivo de regreso usando ese separador."
      ]
    },
    {
      "cell_type": "code",
      "metadata": {
        "id": "kf35TUja2s4z"
      },
      "source": [
        "import pandas as pd\n",
        "import sqlite3"
      ],
      "execution_count": 16,
      "outputs": []
    },
    {
      "cell_type": "code",
      "metadata": {
        "id": "uwlBDmOF2s49"
      },
      "source": [
        "bd = \"movielens.sqlite3\"\n",
        "conn = sqlite3.connect(bd)\n"
      ],
      "execution_count": 17,
      "outputs": []
    },
    {
      "cell_type": "code",
      "metadata": {
        "id": "-6jZpnQK2s49"
      },
      "source": [
        "users_sql = 'SELECT * FROM users'\n",
        "occupations_sql = 'SELECT * FROM occupations'\n",
        "ratings_sql = 'SELECT * FROM ratings'\n",
        "age_ranges_sql = 'SELECT * FROM age_ranges'\n",
        "movies_sql = 'SELECT * FROM movies'\n",
        "\n",
        "tables = 'SELECT name FROM sqlite_master WHERE type=\\'table\\''\n"
      ],
      "execution_count": 18,
      "outputs": []
    },
    {
      "cell_type": "code",
      "metadata": {
        "id": "PbDBxFIf2-Ms"
      },
      "source": [
        "def get_dataframe(a_sql, a_conn):\n",
        "  a_df = pd.read_sql(a_sql, a_conn)\n",
        "  a_df.set_index(list(a_df.columns), drop=True, inplace=True)\n",
        "  return a_df"
      ],
      "execution_count": 19,
      "outputs": []
    },
    {
      "cell_type": "code",
      "metadata": {
        "id": "r6gB5b9K26oU"
      },
      "source": [
        "df_users = get_dataframe(users_sql, conn)\n",
        "\n",
        "df_occupations = get_dataframe(occupations_sql, conn)\n",
        "\n",
        "df_ratings = get_dataframe(ratings_sql, conn)\n",
        "\n",
        "df_age_ranges = get_dataframe(age_ranges_sql, conn)\n",
        "\n",
        "df_movies = get_dataframe(movies_sql, conn)"
      ],
      "execution_count": 20,
      "outputs": []
    },
    {
      "cell_type": "code",
      "metadata": {
        "id": "Vx7M2NAW5aV-"
      },
      "source": [
        "df_users.to_csv('users.csv')\n",
        "\n",
        "df_occupations.to_csv('occupations.csv')\n",
        "\n",
        "df_ratings.to_csv('ratings.csv')\n",
        "\n",
        "df_age_ranges.to_csv('age_ranges.csv')\n",
        "\n",
        "df_movies.to_csv('movies.csv')\n"
      ],
      "execution_count": 21,
      "outputs": []
    },
    {
      "cell_type": "code",
      "metadata": {
        "id": "Ry9rBigm26oW"
      },
      "source": [
        "conn.close()"
      ],
      "execution_count": 22,
      "outputs": []
    },
    {
      "cell_type": "markdown",
      "metadata": {
        "id": "W6OsZN_zwdaY"
      },
      "source": [
        "Compara con tus compañeros y revisa con la experta para que todos estén seguros de que tienen sus `DataFrames` estructurados de la manera correcta y que sus archivos .csv fueron creados exitosamente. Vamos a utilizar estos archivos en los Retos siguientes, así que es muy importante que tus datos estén estructurados adecuadamente."
      ]
    }
  ]
}