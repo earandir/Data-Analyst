{
  "nbformat": 4,
  "nbformat_minor": 0,
  "metadata": {
    "colab": {
      "name": "M03S05RetosCompletos.ipynb",
      "provenance": [],
      "collapsed_sections": []
    },
    "kernelspec": {
      "name": "python3",
      "display_name": "Python 3"
    },
    "language_info": {
      "name": "python"
    }
  },
  "cells": [
    {
      "cell_type": "markdown",
      "metadata": {
        "id": "Y6dRG7Sbi3-Y"
      },
      "source": [
        "# Módulo 03 - Sesión 05 - Retos"
      ]
    },
    {
      "cell_type": "markdown",
      "metadata": {
        "id": "amkdJ9zxi-R2"
      },
      "source": [
        "## Reto 01 Porcentaje del total"
      ]
    },
    {
      "cell_type": "code",
      "metadata": {
        "id": "CZUQB4WvwVj5"
      },
      "source": [
        "import numpy as np\n",
        "import pandas as pd\n",
        "import json \n",
        "import datetime"
      ],
      "execution_count": 1,
      "outputs": []
    },
    {
      "cell_type": "code",
      "metadata": {
        "id": "YkUBzr9NwUbr"
      },
      "source": [
        "def obtener_calificaciones(aciertos, porcentajes):\n",
        "    \n",
        "    import numpy as np\n",
        "    \n",
        "    datos_1 = [73.52941176470588, 80.88235294117646, 66.17647058823529, 95.58823529411765, 97.05882352941177, 67.6470588235294, 70.58823529411765, 77.94117647058823, 80.88235294117646, 82.3529411764706, 86.76470588235294, 100.0, 98.52941176470588, 88.23529411764706, 66.17647058823529, 82.3529411764706, 97.05882352941177, 94.11764705882354, 86.76470588235294, 80.88235294117646, 50.0, 66.17647058823529, 72.05882352941177, 70.58823529411765, 80.88235294117646]\n",
        "        \n",
        "    titulo = \"== Calificaciones finales ==\"\n",
        "    linea = lambda: print(\"-\" * 41)\n",
        "    vf = lambda valor, i: f\"{valor: 22.2f}%\" if valor == datos_1[i] else f\"Error: {valor:22.2f}% | Valor esperado: {datos_1[i]:22.2f}%\"\n",
        "    f = lambda valor, i: f\"{valor:22}\" if type(valor) == str else vf(valor, i-1)\n",
        "    fila = lambda idalum, porcentaje: print(f'{idalum:15} | {f(porcentaje, idalum)}')\n",
        "\n",
        "    print(f\"{titulo:^41}\")\n",
        "    linea()\n",
        "    fila(\"Id de alumno\", \"Procentaje de aciertos\")\n",
        "    linea()\n",
        "    for i, p in enumerate(porcentajes, 1):\n",
        "        fila(i, p)\n",
        "    linea()"
      ],
      "execution_count": 2,
      "outputs": []
    },
    {
      "cell_type": "code",
      "metadata": {
        "colab": {
          "base_uri": "https://localhost:8080/"
        },
        "id": "c-g2-au7wa1g",
        "outputId": "f052dc30-b7c4-4fd6-a4fa-dea0382087f8"
      },
      "source": [
        "aciertos = pd.Series([50, 55, 45, 65, 66, 46, 48, 53, 55, 56, 59, 68, 67, 60, 45, 56, 66, 64,\n",
        "    59, 55, 34, 45, 49, 48, 55])\n",
        "\n",
        "porcentajes = (aciertos * 100.0) / 68\n",
        "\n",
        "porcentajes\n"
      ],
      "execution_count": 3,
      "outputs": [
        {
          "output_type": "execute_result",
          "data": {
            "text/plain": [
              "0      73.529412\n",
              "1      80.882353\n",
              "2      66.176471\n",
              "3      95.588235\n",
              "4      97.058824\n",
              "5      67.647059\n",
              "6      70.588235\n",
              "7      77.941176\n",
              "8      80.882353\n",
              "9      82.352941\n",
              "10     86.764706\n",
              "11    100.000000\n",
              "12     98.529412\n",
              "13     88.235294\n",
              "14     66.176471\n",
              "15     82.352941\n",
              "16     97.058824\n",
              "17     94.117647\n",
              "18     86.764706\n",
              "19     80.882353\n",
              "20     50.000000\n",
              "21     66.176471\n",
              "22     72.058824\n",
              "23     70.588235\n",
              "24     80.882353\n",
              "dtype: float64"
            ]
          },
          "metadata": {
            "tags": []
          },
          "execution_count": 3
        }
      ]
    },
    {
      "cell_type": "code",
      "metadata": {
        "colab": {
          "base_uri": "https://localhost:8080/"
        },
        "id": "nxETl7I3wyk2",
        "outputId": "42af0273-cc88-454c-ecda-815dec07d372"
      },
      "source": [
        "obtener_calificaciones(aciertos, porcentajes)"
      ],
      "execution_count": 4,
      "outputs": [
        {
          "output_type": "stream",
          "text": [
            "      == Calificaciones finales ==       \n",
            "-----------------------------------------\n",
            "Id de alumno    | Procentaje de aciertos\n",
            "-----------------------------------------\n",
            "              1 |                  73.53%\n",
            "              2 |                  80.88%\n",
            "              3 |                  66.18%\n",
            "              4 |                  95.59%\n",
            "              5 |                  97.06%\n",
            "              6 |                  67.65%\n",
            "              7 |                  70.59%\n",
            "              8 |                  77.94%\n",
            "              9 |                  80.88%\n",
            "             10 |                  82.35%\n",
            "             11 |                  86.76%\n",
            "             12 |                 100.00%\n",
            "             13 |                  98.53%\n",
            "             14 |                  88.24%\n",
            "             15 |                  66.18%\n",
            "             16 |                  82.35%\n",
            "             17 |                  97.06%\n",
            "             18 |                  94.12%\n",
            "             19 |                  86.76%\n",
            "             20 |                  80.88%\n",
            "             21 |                  50.00%\n",
            "             22 |                  66.18%\n",
            "             23 |                  72.06%\n",
            "             24 |                  70.59%\n",
            "             25 |                  80.88%\n",
            "-----------------------------------------\n"
          ],
          "name": "stdout"
        }
      ]
    },
    {
      "cell_type": "markdown",
      "metadata": {
        "id": "XlnoHaD5_TBx"
      },
      "source": [
        "---\n",
        "##Reto 02 Desviación estandar"
      ]
    },
    {
      "cell_type": "code",
      "metadata": {
        "id": "LtsppCiBy5GT"
      },
      "source": [
        "def comparar_std(edades, std):\n",
        "    print(f'== Comparación Desviaciones Estándares ==\\n')\n",
        "    print(f'Esperada: {round(edades.std(), ndigits=14)}\\nRecibida: {round(std, ndigits=14)}')\n",
        "    print(f'Cálculo {\"Correcto... Felicidades!\" if round(edades.std(), ndigits=14) == round(std, ndigits=14) else \"Incorrecto... Intenta de nuevo\"}')"
      ],
      "execution_count": 5,
      "outputs": []
    },
    {
      "cell_type": "code",
      "metadata": {
        "colab": {
          "base_uri": "https://localhost:8080/"
        },
        "id": "jzaPgLNzxxIb",
        "outputId": "1a4d33c2-6f95-4fa8-cead-7502801cf99e"
      },
      "source": [
        "edades = pd.Series([23, 24, 23, 34, 30, 17, 18, 24, 35, 28, 27,\n",
        "    27, 34, 32, 29, 16, 16, 17, 19, 34, 45, 46, 43, 45, 43, 32,\n",
        "    25, 29, 28, 38, 30, 37, 38, 24, 26, 25, 24, 19, 19, 18, 17,\n",
        "    18, 21, 20, 23, 24, 25, 25, 26, 24, 23, 32, 24, 25, 24, 36,\n",
        "    35, 36, 38, 39, 45, 46, 43, 48, 42, 41, 41, 26, 19, 19, 19,\n",
        "    20, 39, 38, 43, 28, 27, 39, 43, 52, 50, 38, 15, 17, 23, 25,\n",
        "    19, 32, 34, 35, 19, 19, 20, 26, 25, 43, 45, 46, 34, 33, 30,\n",
        "    30, 34, 45, 50, 50, 47, 25, 34, 37, 38, 19, 19, 20, 25, 28,\n",
        "    34, 32, 36, 39, 39, 28, 34, 33, 22, 25, 17, 17, 22, 24, 25,\n",
        "    45, 46, 43, 34, 35, 32, 23])\n",
        "\n",
        "promedio = edades.sum() / edades.count()\n",
        "diferencia = edades - promedio\n",
        "cuadrado = np.power(diferencia, 2)\n",
        "suma = cuadrado.sum()\n",
        "division = suma / (edades.count() - 1)\n",
        "raiz = np.sqrt(division)\n",
        "\n",
        "comparar_std(edades, raiz)"
      ],
      "execution_count": 6,
      "outputs": [
        {
          "output_type": "stream",
          "text": [
            "== Comparación Desviaciones Estándares ==\n",
            "\n",
            "Esperada: 9.55678104254041\n",
            "Recibida: 9.55678104254041\n",
            "Cálculo Correcto... Felicidades!\n"
          ],
          "name": "stdout"
        }
      ]
    },
    {
      "cell_type": "markdown",
      "metadata": {
        "id": "mnB9ASRl_7om"
      },
      "source": [
        "---\n",
        "##Reto 03 Análisis estadístico con agregaciones"
      ]
    },
    {
      "cell_type": "code",
      "metadata": {
        "colab": {
          "base_uri": "https://localhost:8080/",
          "height": 452
        },
        "id": "tyArQ7Ik1MH-",
        "outputId": "128686f9-7090-4d2f-87ac-395b53d13b25"
      },
      "source": [
        "datos = {\n",
        "    'producto': [\"Pokemaster\", \"Cegatron\", \"Pikame Mucho\", \"Lazarillo de Tormes\", \"Stevie Wonder\", \"Needle\", \"El AyMeDuele\", \"El Desretinador\", \"Sacamel Ojocles\", \"Desojado\", \"Maribel Buenas Noches\", \"Cíclope\", \"El Cuatro Ojos\"],\n",
        "    'precio': [12000, 5500, 2350, 4800, 8900, 6640, 1280, 1040, 23100, 16700, 15000, 13400, 19600],\n",
        "    'cantidad_en_stock': [34, 54, 36, 78, 56, 12, 34, 4, 0, 18, 45, 23, 5],\n",
        "    'cantidad_vendidos': [120, 34, 59, 9, 15, 51, 103, 72, 39, 23, 10, 62, 59]\n",
        "}\n",
        "\n",
        "df = pd.DataFrame(datos)\n",
        "\n",
        "df"
      ],
      "execution_count": 7,
      "outputs": [
        {
          "output_type": "execute_result",
          "data": {
            "text/html": [
              "<div>\n",
              "<style scoped>\n",
              "    .dataframe tbody tr th:only-of-type {\n",
              "        vertical-align: middle;\n",
              "    }\n",
              "\n",
              "    .dataframe tbody tr th {\n",
              "        vertical-align: top;\n",
              "    }\n",
              "\n",
              "    .dataframe thead th {\n",
              "        text-align: right;\n",
              "    }\n",
              "</style>\n",
              "<table border=\"1\" class=\"dataframe\">\n",
              "  <thead>\n",
              "    <tr style=\"text-align: right;\">\n",
              "      <th></th>\n",
              "      <th>producto</th>\n",
              "      <th>precio</th>\n",
              "      <th>cantidad_en_stock</th>\n",
              "      <th>cantidad_vendidos</th>\n",
              "    </tr>\n",
              "  </thead>\n",
              "  <tbody>\n",
              "    <tr>\n",
              "      <th>0</th>\n",
              "      <td>Pokemaster</td>\n",
              "      <td>12000</td>\n",
              "      <td>34</td>\n",
              "      <td>120</td>\n",
              "    </tr>\n",
              "    <tr>\n",
              "      <th>1</th>\n",
              "      <td>Cegatron</td>\n",
              "      <td>5500</td>\n",
              "      <td>54</td>\n",
              "      <td>34</td>\n",
              "    </tr>\n",
              "    <tr>\n",
              "      <th>2</th>\n",
              "      <td>Pikame Mucho</td>\n",
              "      <td>2350</td>\n",
              "      <td>36</td>\n",
              "      <td>59</td>\n",
              "    </tr>\n",
              "    <tr>\n",
              "      <th>3</th>\n",
              "      <td>Lazarillo de Tormes</td>\n",
              "      <td>4800</td>\n",
              "      <td>78</td>\n",
              "      <td>9</td>\n",
              "    </tr>\n",
              "    <tr>\n",
              "      <th>4</th>\n",
              "      <td>Stevie Wonder</td>\n",
              "      <td>8900</td>\n",
              "      <td>56</td>\n",
              "      <td>15</td>\n",
              "    </tr>\n",
              "    <tr>\n",
              "      <th>5</th>\n",
              "      <td>Needle</td>\n",
              "      <td>6640</td>\n",
              "      <td>12</td>\n",
              "      <td>51</td>\n",
              "    </tr>\n",
              "    <tr>\n",
              "      <th>6</th>\n",
              "      <td>El AyMeDuele</td>\n",
              "      <td>1280</td>\n",
              "      <td>34</td>\n",
              "      <td>103</td>\n",
              "    </tr>\n",
              "    <tr>\n",
              "      <th>7</th>\n",
              "      <td>El Desretinador</td>\n",
              "      <td>1040</td>\n",
              "      <td>4</td>\n",
              "      <td>72</td>\n",
              "    </tr>\n",
              "    <tr>\n",
              "      <th>8</th>\n",
              "      <td>Sacamel Ojocles</td>\n",
              "      <td>23100</td>\n",
              "      <td>0</td>\n",
              "      <td>39</td>\n",
              "    </tr>\n",
              "    <tr>\n",
              "      <th>9</th>\n",
              "      <td>Desojado</td>\n",
              "      <td>16700</td>\n",
              "      <td>18</td>\n",
              "      <td>23</td>\n",
              "    </tr>\n",
              "    <tr>\n",
              "      <th>10</th>\n",
              "      <td>Maribel Buenas Noches</td>\n",
              "      <td>15000</td>\n",
              "      <td>45</td>\n",
              "      <td>10</td>\n",
              "    </tr>\n",
              "    <tr>\n",
              "      <th>11</th>\n",
              "      <td>Cíclope</td>\n",
              "      <td>13400</td>\n",
              "      <td>23</td>\n",
              "      <td>62</td>\n",
              "    </tr>\n",
              "    <tr>\n",
              "      <th>12</th>\n",
              "      <td>El Cuatro Ojos</td>\n",
              "      <td>19600</td>\n",
              "      <td>5</td>\n",
              "      <td>59</td>\n",
              "    </tr>\n",
              "  </tbody>\n",
              "</table>\n",
              "</div>"
            ],
            "text/plain": [
              "                 producto  precio  cantidad_en_stock  cantidad_vendidos\n",
              "0              Pokemaster   12000                 34                120\n",
              "1                Cegatron    5500                 54                 34\n",
              "2            Pikame Mucho    2350                 36                 59\n",
              "3     Lazarillo de Tormes    4800                 78                  9\n",
              "4           Stevie Wonder    8900                 56                 15\n",
              "5                  Needle    6640                 12                 51\n",
              "6            El AyMeDuele    1280                 34                103\n",
              "7         El Desretinador    1040                  4                 72\n",
              "8         Sacamel Ojocles   23100                  0                 39\n",
              "9                Desojado   16700                 18                 23\n",
              "10  Maribel Buenas Noches   15000                 45                 10\n",
              "11                Cíclope   13400                 23                 62\n",
              "12         El Cuatro Ojos   19600                  5                 59"
            ]
          },
          "metadata": {
            "tags": []
          },
          "execution_count": 7
        }
      ]
    },
    {
      "cell_type": "code",
      "metadata": {
        "colab": {
          "base_uri": "https://localhost:8080/",
          "height": 452
        },
        "id": "Y--JyOop12ap",
        "outputId": "62be2229-9453-4bd3-ff87-740483ea9c30"
      },
      "source": [
        "# Eliminando columna\n",
        "df_dropped = df.drop(columns=['producto'])\n",
        "\n",
        "df_dropped"
      ],
      "execution_count": 8,
      "outputs": [
        {
          "output_type": "execute_result",
          "data": {
            "text/html": [
              "<div>\n",
              "<style scoped>\n",
              "    .dataframe tbody tr th:only-of-type {\n",
              "        vertical-align: middle;\n",
              "    }\n",
              "\n",
              "    .dataframe tbody tr th {\n",
              "        vertical-align: top;\n",
              "    }\n",
              "\n",
              "    .dataframe thead th {\n",
              "        text-align: right;\n",
              "    }\n",
              "</style>\n",
              "<table border=\"1\" class=\"dataframe\">\n",
              "  <thead>\n",
              "    <tr style=\"text-align: right;\">\n",
              "      <th></th>\n",
              "      <th>precio</th>\n",
              "      <th>cantidad_en_stock</th>\n",
              "      <th>cantidad_vendidos</th>\n",
              "    </tr>\n",
              "  </thead>\n",
              "  <tbody>\n",
              "    <tr>\n",
              "      <th>0</th>\n",
              "      <td>12000</td>\n",
              "      <td>34</td>\n",
              "      <td>120</td>\n",
              "    </tr>\n",
              "    <tr>\n",
              "      <th>1</th>\n",
              "      <td>5500</td>\n",
              "      <td>54</td>\n",
              "      <td>34</td>\n",
              "    </tr>\n",
              "    <tr>\n",
              "      <th>2</th>\n",
              "      <td>2350</td>\n",
              "      <td>36</td>\n",
              "      <td>59</td>\n",
              "    </tr>\n",
              "    <tr>\n",
              "      <th>3</th>\n",
              "      <td>4800</td>\n",
              "      <td>78</td>\n",
              "      <td>9</td>\n",
              "    </tr>\n",
              "    <tr>\n",
              "      <th>4</th>\n",
              "      <td>8900</td>\n",
              "      <td>56</td>\n",
              "      <td>15</td>\n",
              "    </tr>\n",
              "    <tr>\n",
              "      <th>5</th>\n",
              "      <td>6640</td>\n",
              "      <td>12</td>\n",
              "      <td>51</td>\n",
              "    </tr>\n",
              "    <tr>\n",
              "      <th>6</th>\n",
              "      <td>1280</td>\n",
              "      <td>34</td>\n",
              "      <td>103</td>\n",
              "    </tr>\n",
              "    <tr>\n",
              "      <th>7</th>\n",
              "      <td>1040</td>\n",
              "      <td>4</td>\n",
              "      <td>72</td>\n",
              "    </tr>\n",
              "    <tr>\n",
              "      <th>8</th>\n",
              "      <td>23100</td>\n",
              "      <td>0</td>\n",
              "      <td>39</td>\n",
              "    </tr>\n",
              "    <tr>\n",
              "      <th>9</th>\n",
              "      <td>16700</td>\n",
              "      <td>18</td>\n",
              "      <td>23</td>\n",
              "    </tr>\n",
              "    <tr>\n",
              "      <th>10</th>\n",
              "      <td>15000</td>\n",
              "      <td>45</td>\n",
              "      <td>10</td>\n",
              "    </tr>\n",
              "    <tr>\n",
              "      <th>11</th>\n",
              "      <td>13400</td>\n",
              "      <td>23</td>\n",
              "      <td>62</td>\n",
              "    </tr>\n",
              "    <tr>\n",
              "      <th>12</th>\n",
              "      <td>19600</td>\n",
              "      <td>5</td>\n",
              "      <td>59</td>\n",
              "    </tr>\n",
              "  </tbody>\n",
              "</table>\n",
              "</div>"
            ],
            "text/plain": [
              "    precio  cantidad_en_stock  cantidad_vendidos\n",
              "0    12000                 34                120\n",
              "1     5500                 54                 34\n",
              "2     2350                 36                 59\n",
              "3     4800                 78                  9\n",
              "4     8900                 56                 15\n",
              "5     6640                 12                 51\n",
              "6     1280                 34                103\n",
              "7     1040                  4                 72\n",
              "8    23100                  0                 39\n",
              "9    16700                 18                 23\n",
              "10   15000                 45                 10\n",
              "11   13400                 23                 62\n",
              "12   19600                  5                 59"
            ]
          },
          "metadata": {
            "tags": []
          },
          "execution_count": 8
        }
      ]
    },
    {
      "cell_type": "code",
      "metadata": {
        "colab": {
          "base_uri": "https://localhost:8080/"
        },
        "id": "zzYLMnLF2Ih7",
        "outputId": "3f0214d2-974e-4231-a1ec-a57ad2387633"
      },
      "source": [
        "# El valor mínimo de cada columna\n",
        "mins = df_dropped.min()\n",
        "\n",
        "mins"
      ],
      "execution_count": 9,
      "outputs": [
        {
          "output_type": "execute_result",
          "data": {
            "text/plain": [
              "precio               1040\n",
              "cantidad_en_stock       0\n",
              "cantidad_vendidos       9\n",
              "dtype: int64"
            ]
          },
          "metadata": {
            "tags": []
          },
          "execution_count": 9
        }
      ]
    },
    {
      "cell_type": "code",
      "metadata": {
        "colab": {
          "base_uri": "https://localhost:8080/"
        },
        "id": "VvXn32is2XVF",
        "outputId": "7b3a31c1-d77f-4907-ffc1-84e891986dd2"
      },
      "source": [
        "# El valor máximo de cada columna\n",
        "maxs = df_dropped.max()\n",
        "\n",
        "maxs"
      ],
      "execution_count": 10,
      "outputs": [
        {
          "output_type": "execute_result",
          "data": {
            "text/plain": [
              "precio               23100\n",
              "cantidad_en_stock       78\n",
              "cantidad_vendidos      120\n",
              "dtype: int64"
            ]
          },
          "metadata": {
            "tags": []
          },
          "execution_count": 10
        }
      ]
    },
    {
      "cell_type": "code",
      "metadata": {
        "colab": {
          "base_uri": "https://localhost:8080/"
        },
        "id": "OKXYV-qB2kKl",
        "outputId": "22e53f8e-ccd5-4116-ffb1-428443058c67"
      },
      "source": [
        "# El promedio por columna\n",
        "media = df_dropped.mean()\n",
        "\n",
        "media"
      ],
      "execution_count": 11,
      "outputs": [
        {
          "output_type": "execute_result",
          "data": {
            "text/plain": [
              "precio               10023.846154\n",
              "cantidad_en_stock       30.692308\n",
              "cantidad_vendidos       50.461538\n",
              "dtype: float64"
            ]
          },
          "metadata": {
            "tags": []
          },
          "execution_count": 11
        }
      ]
    },
    {
      "cell_type": "code",
      "metadata": {
        "colab": {
          "base_uri": "https://localhost:8080/"
        },
        "id": "XFCY0I9H2w1A",
        "outputId": "931179e2-7212-42f4-a163-e0c2cec71c63"
      },
      "source": [
        "# La mediana por columna (El valor que se encuentra a la mitad de la secuencia ordenada de valores)\n",
        "mediana = df_dropped.median()\n",
        "\n",
        "mediana"
      ],
      "execution_count": 12,
      "outputs": [
        {
          "output_type": "execute_result",
          "data": {
            "text/plain": [
              "precio               8900.0\n",
              "cantidad_en_stock      34.0\n",
              "cantidad_vendidos      51.0\n",
              "dtype: float64"
            ]
          },
          "metadata": {
            "tags": []
          },
          "execution_count": 12
        }
      ]
    },
    {
      "cell_type": "code",
      "metadata": {
        "colab": {
          "base_uri": "https://localhost:8080/"
        },
        "id": "pQ7k-wjB2xJU",
        "outputId": "f6ef59fe-1364-44c4-9036-85406f488f17"
      },
      "source": [
        "# La desviación estándar por columna\n",
        "stds = df_dropped.std()\n",
        "\n",
        "stds"
      ],
      "execution_count": 13,
      "outputs": [
        {
          "output_type": "execute_result",
          "data": {
            "text/plain": [
              "precio               7210.205196\n",
              "cantidad_en_stock      23.382275\n",
              "cantidad_vendidos      34.289492\n",
              "dtype: float64"
            ]
          },
          "metadata": {
            "tags": []
          },
          "execution_count": 13
        }
      ]
    },
    {
      "cell_type": "code",
      "metadata": {
        "colab": {
          "base_uri": "https://localhost:8080/"
        },
        "id": "d8_o4hne2eVv",
        "outputId": "1e0a6139-3181-4a94-889c-e61114902998"
      },
      "source": [
        "def resumen_estadistico(df, df_dropped, mins, maxs, means, medians, stds):\n",
        "    \n",
        "    import pandas as pd\n",
        "    f = lambda x: \"\".join([chr(int(x[i:i+2], 16)) for i in range(0, len(x), 2)])\n",
        "    datos_1 = [\"64662E64726F7028636F6C756D6E733D5B2770726F647563746F275D29\", \"64665F64726F707065642E6D696E28617869733D3029\", \"64665F64726F707065642E6D617828617869733D3029\", \"64665F64726F707065642E6D65616E28617869733D3029\", \"64665F64726F707065642E6D656469616E28617869733D3029\", \"64665F64726F707065642E73746428617869733D3029\"]\n",
        "    error = False\n",
        "    \n",
        "    df_eva = eval(f(datos_1[0]))\n",
        "    if not df_eva.equals(df_dropped):\n",
        "        print(f'La columna no-numérica no fue eliminada correctamente... Por favor inténtalo de nuevo')\n",
        "        error = True\n",
        "        \n",
        "    df_eva = eval(f(datos_1[1]))\n",
        "    if not df_eva.equals(mins):\n",
        "        print(f'El valor mínimo no fue computado adecuadamente... Por favor inténtalo de nuevo')\n",
        "        error = True\n",
        "        \n",
        "    df_eva = eval(f(datos_1[2]))\n",
        "    if not df_eva.equals(maxs):\n",
        "        print(f'El valor máximo no fue computado adecuadamente... Por favor inténtalo de nuevo')\n",
        "        error = True\n",
        "        \n",
        "    df_eva = eval(f(datos_1[3]))\n",
        "    if not df_eva.equals(means):\n",
        "        print(f'El promedio no fue computado adecuadamente... Por favor inténtalo de nuevo')\n",
        "        error = True\n",
        "    \n",
        "    df_eva = eval(f(datos_1[4]))\n",
        "    if not df_eva.equals(medians):\n",
        "        print(f'La mediana no fue computada adecuadamente... Por favor inténtalo de nuevo')\n",
        "        error = True\n",
        "        \n",
        "    df_eva = eval(f(datos_1[5]))\n",
        "    if not df_eva.equals(stds):\n",
        "        print(f'La desviación estándar no fue computada adecuadamente... Por favor inténtalo de nuevo')\n",
        "        error = True\n",
        "    \n",
        "    if not error:\n",
        "        rango = maxs - mins\n",
        "        mins.name = 'Min'\n",
        "        maxs.name = 'Max'\n",
        "        rango.name = 'Rango'\n",
        "        means.name = 'Promedio'\n",
        "        medians.name = 'Mediana'\n",
        "        stds.name = 'Std'\n",
        "        \n",
        "        resumen = pd.concat([mins, maxs, rango, means, medians, stds], axis=1)\n",
        "        print(resumen)\n",
        "        \n",
        "resumen_estadistico(df, df_dropped, mins, maxs, media, mediana, stds)"
      ],
      "execution_count": 14,
      "outputs": [
        {
          "output_type": "stream",
          "text": [
            "                    Min    Max  Rango      Promedio  Mediana          Std\n",
            "precio             1040  23100  22060  10023.846154   8900.0  7210.205196\n",
            "cantidad_en_stock     0     78     78     30.692308     34.0    23.382275\n",
            "cantidad_vendidos     9    120    111     50.461538     51.0    34.289492\n"
          ],
          "name": "stdout"
        }
      ]
    },
    {
      "cell_type": "markdown",
      "metadata": {
        "id": "Ub8oAhJ9FI8z"
      },
      "source": [
        "---\n",
        "##Reto 05 (04) - Limpiando un conjunto de datos de NaNs"
      ]
    },
    {
      "cell_type": "code",
      "metadata": {
        "id": "iLJP7KHp3LzZ"
      },
      "source": [
        "pd.options.mode.chained_assignment = None "
      ],
      "execution_count": 15,
      "outputs": []
    },
    {
      "cell_type": "code",
      "metadata": {
        "id": "Fn0LLz1T3j3d"
      },
      "source": [
        "datos = {\n",
        "    'precio': [12000, 5500, np.nan, 4800, 8900, np.nan, 1280, 1040, 23100, np.nan, 15000, 13400, np.nan],\n",
        "    'cantidad_en_stock': [34, 54, np.nan, 78, 56, np.nan, 34, 4, 0, 18, 45, 23, 5],\n",
        "    'cantidad_vendidos': [120, 34, np.nan, 9, 15, np.nan, 103, np.nan, np.nan, 23, 10, 62, 59],\n",
        "    'descuentos': [np.nan] * 13\n",
        "}\n",
        "\n",
        "df = pd.DataFrame(datos, index=[\"Pokemaster\", \"Cegatron\", \"Pikame Mucho\", \"Lazarillo de Tormes\", \"Stevie Wonder\", \"Needle\", \"El AyMeDuele\", \"El Desretinador\", \"Sacamel Ojocles\", \"Desojado\", \"Maribel Buenas Noches\", \"Cíclope\", \"El Cuatro Ojos\"])"
      ],
      "execution_count": 16,
      "outputs": []
    },
    {
      "cell_type": "code",
      "metadata": {
        "colab": {
          "base_uri": "https://localhost:8080/",
          "height": 452
        },
        "id": "Is3Q5LAw3qKQ",
        "outputId": "179ee570-d2b2-42aa-b9a8-f575eff67a92"
      },
      "source": [
        "df"
      ],
      "execution_count": 17,
      "outputs": [
        {
          "output_type": "execute_result",
          "data": {
            "text/html": [
              "<div>\n",
              "<style scoped>\n",
              "    .dataframe tbody tr th:only-of-type {\n",
              "        vertical-align: middle;\n",
              "    }\n",
              "\n",
              "    .dataframe tbody tr th {\n",
              "        vertical-align: top;\n",
              "    }\n",
              "\n",
              "    .dataframe thead th {\n",
              "        text-align: right;\n",
              "    }\n",
              "</style>\n",
              "<table border=\"1\" class=\"dataframe\">\n",
              "  <thead>\n",
              "    <tr style=\"text-align: right;\">\n",
              "      <th></th>\n",
              "      <th>precio</th>\n",
              "      <th>cantidad_en_stock</th>\n",
              "      <th>cantidad_vendidos</th>\n",
              "      <th>descuentos</th>\n",
              "    </tr>\n",
              "  </thead>\n",
              "  <tbody>\n",
              "    <tr>\n",
              "      <th>Pokemaster</th>\n",
              "      <td>12000.0</td>\n",
              "      <td>34.0</td>\n",
              "      <td>120.0</td>\n",
              "      <td>NaN</td>\n",
              "    </tr>\n",
              "    <tr>\n",
              "      <th>Cegatron</th>\n",
              "      <td>5500.0</td>\n",
              "      <td>54.0</td>\n",
              "      <td>34.0</td>\n",
              "      <td>NaN</td>\n",
              "    </tr>\n",
              "    <tr>\n",
              "      <th>Pikame Mucho</th>\n",
              "      <td>NaN</td>\n",
              "      <td>NaN</td>\n",
              "      <td>NaN</td>\n",
              "      <td>NaN</td>\n",
              "    </tr>\n",
              "    <tr>\n",
              "      <th>Lazarillo de Tormes</th>\n",
              "      <td>4800.0</td>\n",
              "      <td>78.0</td>\n",
              "      <td>9.0</td>\n",
              "      <td>NaN</td>\n",
              "    </tr>\n",
              "    <tr>\n",
              "      <th>Stevie Wonder</th>\n",
              "      <td>8900.0</td>\n",
              "      <td>56.0</td>\n",
              "      <td>15.0</td>\n",
              "      <td>NaN</td>\n",
              "    </tr>\n",
              "    <tr>\n",
              "      <th>Needle</th>\n",
              "      <td>NaN</td>\n",
              "      <td>NaN</td>\n",
              "      <td>NaN</td>\n",
              "      <td>NaN</td>\n",
              "    </tr>\n",
              "    <tr>\n",
              "      <th>El AyMeDuele</th>\n",
              "      <td>1280.0</td>\n",
              "      <td>34.0</td>\n",
              "      <td>103.0</td>\n",
              "      <td>NaN</td>\n",
              "    </tr>\n",
              "    <tr>\n",
              "      <th>El Desretinador</th>\n",
              "      <td>1040.0</td>\n",
              "      <td>4.0</td>\n",
              "      <td>NaN</td>\n",
              "      <td>NaN</td>\n",
              "    </tr>\n",
              "    <tr>\n",
              "      <th>Sacamel Ojocles</th>\n",
              "      <td>23100.0</td>\n",
              "      <td>0.0</td>\n",
              "      <td>NaN</td>\n",
              "      <td>NaN</td>\n",
              "    </tr>\n",
              "    <tr>\n",
              "      <th>Desojado</th>\n",
              "      <td>NaN</td>\n",
              "      <td>18.0</td>\n",
              "      <td>23.0</td>\n",
              "      <td>NaN</td>\n",
              "    </tr>\n",
              "    <tr>\n",
              "      <th>Maribel Buenas Noches</th>\n",
              "      <td>15000.0</td>\n",
              "      <td>45.0</td>\n",
              "      <td>10.0</td>\n",
              "      <td>NaN</td>\n",
              "    </tr>\n",
              "    <tr>\n",
              "      <th>Cíclope</th>\n",
              "      <td>13400.0</td>\n",
              "      <td>23.0</td>\n",
              "      <td>62.0</td>\n",
              "      <td>NaN</td>\n",
              "    </tr>\n",
              "    <tr>\n",
              "      <th>El Cuatro Ojos</th>\n",
              "      <td>NaN</td>\n",
              "      <td>5.0</td>\n",
              "      <td>59.0</td>\n",
              "      <td>NaN</td>\n",
              "    </tr>\n",
              "  </tbody>\n",
              "</table>\n",
              "</div>"
            ],
            "text/plain": [
              "                        precio  ...  descuentos\n",
              "Pokemaster             12000.0  ...         NaN\n",
              "Cegatron                5500.0  ...         NaN\n",
              "Pikame Mucho               NaN  ...         NaN\n",
              "Lazarillo de Tormes     4800.0  ...         NaN\n",
              "Stevie Wonder           8900.0  ...         NaN\n",
              "Needle                     NaN  ...         NaN\n",
              "El AyMeDuele            1280.0  ...         NaN\n",
              "El Desretinador         1040.0  ...         NaN\n",
              "Sacamel Ojocles        23100.0  ...         NaN\n",
              "Desojado                   NaN  ...         NaN\n",
              "Maribel Buenas Noches  15000.0  ...         NaN\n",
              "Cíclope                13400.0  ...         NaN\n",
              "El Cuatro Ojos             NaN  ...         NaN\n",
              "\n",
              "[13 rows x 4 columns]"
            ]
          },
          "metadata": {
            "tags": []
          },
          "execution_count": 17
        }
      ]
    },
    {
      "cell_type": "code",
      "metadata": {
        "id": "sRGj5lhK6epC"
      },
      "source": [
        "df_copy = df.copy()"
      ],
      "execution_count": 18,
      "outputs": []
    },
    {
      "cell_type": "code",
      "metadata": {
        "colab": {
          "base_uri": "https://localhost:8080/"
        },
        "id": "n8GUjoLH6gwe",
        "outputId": "f7aacb11-d4f0-4476-bd55-2f0f443ef49b"
      },
      "source": [
        "#Has un conteo de cuántos NaNs hay en cada fila y en cada columna\n",
        "df_copy.isna().sum()"
      ],
      "execution_count": 19,
      "outputs": [
        {
          "output_type": "execute_result",
          "data": {
            "text/plain": [
              "precio                4\n",
              "cantidad_en_stock     2\n",
              "cantidad_vendidos     4\n",
              "descuentos           13\n",
              "dtype: int64"
            ]
          },
          "metadata": {
            "tags": []
          },
          "execution_count": 19
        }
      ]
    },
    {
      "cell_type": "code",
      "metadata": {
        "id": "6PODJPL76m9j"
      },
      "source": [
        "#Elimina las filas y columnas donde todos los valores sean NaN.\n",
        "df_copy = df_copy.dropna(axis=0, how='all')"
      ],
      "execution_count": 20,
      "outputs": []
    },
    {
      "cell_type": "code",
      "metadata": {
        "id": "ly9lOKSY6qae"
      },
      "source": [
        "#Dado que la columna cantidad_vendidos no es tan importante, cambia los NaNs que haya en esa columna por 0.\n",
        "df_copy['cantidad_vendidos'] = df_copy['cantidad_vendidos'].fillna(0)"
      ],
      "execution_count": 21,
      "outputs": []
    },
    {
      "cell_type": "code",
      "metadata": {
        "id": "FFCQgTJy3tiN"
      },
      "source": [
        "#Dado que la columna precio es muy importante, elimina las filas restantes que tengan algún NaN en dicha columna.\n",
        "df_copy = df_copy.dropna(axis=1, how='all')"
      ],
      "execution_count": 22,
      "outputs": []
    },
    {
      "cell_type": "code",
      "metadata": {
        "id": "wULqowgI9Pb6"
      },
      "source": [
        "df_copy = df_copy.dropna(axis=0)"
      ],
      "execution_count": 23,
      "outputs": []
    },
    {
      "cell_type": "code",
      "metadata": {
        "colab": {
          "base_uri": "https://localhost:8080/",
          "height": 328
        },
        "id": "5a2ra3CM7DpS",
        "outputId": "29ba3177-3b5a-4f2c-f426-e85796c64665"
      },
      "source": [
        "df_copy"
      ],
      "execution_count": 24,
      "outputs": [
        {
          "output_type": "execute_result",
          "data": {
            "text/html": [
              "<div>\n",
              "<style scoped>\n",
              "    .dataframe tbody tr th:only-of-type {\n",
              "        vertical-align: middle;\n",
              "    }\n",
              "\n",
              "    .dataframe tbody tr th {\n",
              "        vertical-align: top;\n",
              "    }\n",
              "\n",
              "    .dataframe thead th {\n",
              "        text-align: right;\n",
              "    }\n",
              "</style>\n",
              "<table border=\"1\" class=\"dataframe\">\n",
              "  <thead>\n",
              "    <tr style=\"text-align: right;\">\n",
              "      <th></th>\n",
              "      <th>precio</th>\n",
              "      <th>cantidad_en_stock</th>\n",
              "      <th>cantidad_vendidos</th>\n",
              "    </tr>\n",
              "  </thead>\n",
              "  <tbody>\n",
              "    <tr>\n",
              "      <th>Pokemaster</th>\n",
              "      <td>12000.0</td>\n",
              "      <td>34.0</td>\n",
              "      <td>120.0</td>\n",
              "    </tr>\n",
              "    <tr>\n",
              "      <th>Cegatron</th>\n",
              "      <td>5500.0</td>\n",
              "      <td>54.0</td>\n",
              "      <td>34.0</td>\n",
              "    </tr>\n",
              "    <tr>\n",
              "      <th>Lazarillo de Tormes</th>\n",
              "      <td>4800.0</td>\n",
              "      <td>78.0</td>\n",
              "      <td>9.0</td>\n",
              "    </tr>\n",
              "    <tr>\n",
              "      <th>Stevie Wonder</th>\n",
              "      <td>8900.0</td>\n",
              "      <td>56.0</td>\n",
              "      <td>15.0</td>\n",
              "    </tr>\n",
              "    <tr>\n",
              "      <th>El AyMeDuele</th>\n",
              "      <td>1280.0</td>\n",
              "      <td>34.0</td>\n",
              "      <td>103.0</td>\n",
              "    </tr>\n",
              "    <tr>\n",
              "      <th>El Desretinador</th>\n",
              "      <td>1040.0</td>\n",
              "      <td>4.0</td>\n",
              "      <td>0.0</td>\n",
              "    </tr>\n",
              "    <tr>\n",
              "      <th>Sacamel Ojocles</th>\n",
              "      <td>23100.0</td>\n",
              "      <td>0.0</td>\n",
              "      <td>0.0</td>\n",
              "    </tr>\n",
              "    <tr>\n",
              "      <th>Maribel Buenas Noches</th>\n",
              "      <td>15000.0</td>\n",
              "      <td>45.0</td>\n",
              "      <td>10.0</td>\n",
              "    </tr>\n",
              "    <tr>\n",
              "      <th>Cíclope</th>\n",
              "      <td>13400.0</td>\n",
              "      <td>23.0</td>\n",
              "      <td>62.0</td>\n",
              "    </tr>\n",
              "  </tbody>\n",
              "</table>\n",
              "</div>"
            ],
            "text/plain": [
              "                        precio  cantidad_en_stock  cantidad_vendidos\n",
              "Pokemaster             12000.0               34.0              120.0\n",
              "Cegatron                5500.0               54.0               34.0\n",
              "Lazarillo de Tormes     4800.0               78.0                9.0\n",
              "Stevie Wonder           8900.0               56.0               15.0\n",
              "El AyMeDuele            1280.0               34.0              103.0\n",
              "El Desretinador         1040.0                4.0                0.0\n",
              "Sacamel Ojocles        23100.0                0.0                0.0\n",
              "Maribel Buenas Noches  15000.0               45.0               10.0\n",
              "Cíclope                13400.0               23.0               62.0"
            ]
          },
          "metadata": {
            "tags": []
          },
          "execution_count": 24
        }
      ]
    },
    {
      "cell_type": "code",
      "metadata": {
        "colab": {
          "base_uri": "https://localhost:8080/"
        },
        "id": "tjz4QDcm4Hh-",
        "outputId": "c18e4b8f-affe-468d-c1c7-743af7032487"
      },
      "source": [
        "def revisar_limpieza(df, df_copy):\n",
        "    datos_1 = [10, 100, 102, 95, 50, 32, 61, 32, 100, 102, 46, 99, 111, 112, 121, 40, 41, 10, 100, 102, 95, 50, 32, 61, 32, 100, 102, 95, 50, 46, 100, 114, 111, 112, 110, 97, 40, 97, 120, 105, 115, 61, 48, 44, 32, 104, 111, 119, 61, 39, 97, 108, 108, 39, 41, 10, 100, 102, 95, 50, 32, 61, 32, 100, 102, 95, 50, 46, 100, 114, 111, 112, 110, 97, 40, 97, 120, 105, 115, 61, 49, 44, 32, 104, 111, 119, 61, 39, 97, 108, 108, 39, 41, 10, 100, 102, 95, 50, 91, 39, 99, 97, 110, 116, 105, 100, 97, 100, 95, 118, 101, 110, 100, 105, 100, 111, 115, 39, 93, 32, 61, 32, 100, 102, 95, 50, 91, 39, 99, 97, 110, 116, 105, 100, 97, 100, 95, 118, 101, 110, 100, 105, 100, 111, 115, 39, 93, 46, 102, 105, 108, 108, 110, 97, 40, 48, 41, 10, 100, 102, 95, 50, 32, 61, 32, 100, 102, 95, 50, 46, 100, 114, 111, 112, 110, 97, 40, 97, 120, 105, 115, 61, 48, 41, 10]\n",
        "    eval(compile(\"\".join([chr(x) for x in datos_1]), \"\", \"exec\"), globals())\n",
        "    if not df_2.equals(df_copy):\n",
        "        print(f'La transformación no fue realizada adecuadamente... Por favor revisa tu procedimiento.\\n')\n",
        "        print(f'DataFrame esperado:\\n')\n",
        "        print(df_2)\n",
        "        \n",
        "        print(f'\\nDataframe obtenido:\\n')\n",
        "        print(df_copy)\n",
        "    else:\n",
        "        print(f'La transformación fue realizada exitosamente... Muchas gracias!')\n",
        "\n",
        "revisar_limpieza(df, df_copy)"
      ],
      "execution_count": 25,
      "outputs": [
        {
          "output_type": "stream",
          "text": [
            "La transformación fue realizada exitosamente... Muchas gracias!\n"
          ],
          "name": "stdout"
        }
      ]
    },
    {
      "cell_type": "markdown",
      "metadata": {
        "id": "11ThZioNvsio"
      },
      "source": [
        "---\n",
        "##Reto 07 (05) -  Limpieza de datos en el mundo real"
      ]
    },
    {
      "cell_type": "code",
      "metadata": {
        "colab": {
          "base_uri": "https://localhost:8080/"
        },
        "id": "6MPRiqzf9jkI",
        "outputId": "9c157f99-af72-4c09-9c12-d7470d58a6ef"
      },
      "source": [
        "from google.colab import drive\n",
        "drive.mount('/content/drive')"
      ],
      "execution_count": 26,
      "outputs": [
        {
          "output_type": "stream",
          "text": [
            "Drive already mounted at /content/drive; to attempt to forcibly remount, call drive.mount(\"/content/drive\", force_remount=True).\n"
          ],
          "name": "stdout"
        }
      ]
    },
    {
      "cell_type": "code",
      "metadata": {
        "id": "CzLlMOSa_AR9"
      },
      "source": [
        "data = pd.read_csv('/content/drive/MyDrive/DataAnalysis/Datasets/new_york_times_bestsellers-raw.csv')"
      ],
      "execution_count": 27,
      "outputs": []
    },
    {
      "cell_type": "code",
      "metadata": {
        "colab": {
          "base_uri": "https://localhost:8080/",
          "height": 86
        },
        "id": "WyAu5bOw_3Jq",
        "outputId": "f002cbf6-408e-489d-8a66-c67ca068c9bb"
      },
      "source": [
        "str(data)"
      ],
      "execution_count": 28,
      "outputs": [
        {
          "output_type": "execute_result",
          "data": {
            "application/vnd.google.colaboratory.intrinsic+json": {
              "type": "string"
            },
            "text/plain": [
              "'       Unnamed: 0  ... price.$numberDouble\\n0               0  ...                 NaN\\n1               1  ...               25.99\\n2               2  ...               24.95\\n3               3  ...               22.95\\n4               4  ...               24.95\\n...           ...  ...                 ...\\n10190       10190  ...                 NaN\\n10191       10191  ...                 NaN\\n10192       10192  ...                 NaN\\n10193       10193  ...                 NaN\\n10194       10194  ...                 NaN\\n\\n[10195 rows x 14 columns]'"
            ]
          },
          "metadata": {
            "tags": []
          },
          "execution_count": 28
        }
      ]
    },
    {
      "cell_type": "markdown",
      "metadata": {
        "id": "MRXbtx7GBn3K"
      },
      "source": [
        "3. Identifica los `NaNs` en el dataset y dónde se encuentran"
      ]
    },
    {
      "cell_type": "code",
      "metadata": {
        "colab": {
          "base_uri": "https://localhost:8080/"
        },
        "id": "kFeYWYC7ABfJ",
        "outputId": "3f169a05-2330-43bb-a2eb-b961f3357d82"
      },
      "source": [
        "# 3 Identifica los NaNs en el dataset y dónde se encuentran\n",
        "data.isna().sum()"
      ],
      "execution_count": 29,
      "outputs": [
        {
          "output_type": "execute_result",
          "data": {
            "text/plain": [
              "Unnamed: 0                               0\n",
              "amazon_product_url                       0\n",
              "author                                   0\n",
              "description                            246\n",
              "publisher                                0\n",
              "title                                    0\n",
              "_id.$oid                                 0\n",
              "bestsellers_date.$date.$numberLong       0\n",
              "published_date.$date.$numberLong         0\n",
              "price.$numberInt                      3033\n",
              "rank.$numberInt                          0\n",
              "rank_last_week.$numberInt                0\n",
              "weeks_on_list.$numberInt                 0\n",
              "price.$numberDouble                   7162\n",
              "dtype: int64"
            ]
          },
          "metadata": {
            "tags": []
          },
          "execution_count": 29
        }
      ]
    },
    {
      "cell_type": "markdown",
      "metadata": {
        "id": "FeDJS0BmB5Zp"
      },
      "source": [
        "4. Elimina los `NaNs` de tu dataset"
      ]
    },
    {
      "cell_type": "code",
      "metadata": {
        "id": "27ptF4KAAXSA"
      },
      "source": [
        "# 4 Elimina los NaNs de tu dataset\n",
        "data.dropna(axis=1, how='any', inplace=True)"
      ],
      "execution_count": 30,
      "outputs": []
    },
    {
      "cell_type": "markdown",
      "metadata": {
        "id": "rqc0lM1PBoZv"
      },
      "source": [
        "5. Resetea tu índice para que sea compatible con el nuevo dataset"
      ]
    },
    {
      "cell_type": "code",
      "metadata": {
        "id": "rCtyufxpBH-u"
      },
      "source": [
        "# 5 Resetea tu índice para que sea compatible con el nuevo dataset\n",
        "data.reset_index(drop=True, inplace=True)"
      ],
      "execution_count": 31,
      "outputs": []
    },
    {
      "cell_type": "markdown",
      "metadata": {
        "id": "uaWhwVL5Bs2B"
      },
      "source": [
        "6. Cambia los nombres de las columnas para que tengan consistencia y no haya errores ortográficos"
      ]
    },
    {
      "cell_type": "code",
      "metadata": {
        "colab": {
          "base_uri": "https://localhost:8080/"
        },
        "id": "Dq6-ZwU6BLva",
        "outputId": "21771529-2494-4f1e-9e5b-ec74dc2286da"
      },
      "source": [
        "# 6 Cambia los nombres de las columnas para que tengan consistencia y no haya errores ortográficos\n",
        "data.columns"
      ],
      "execution_count": 32,
      "outputs": [
        {
          "output_type": "execute_result",
          "data": {
            "text/plain": [
              "Index(['Unnamed: 0', 'amazon_product_url', 'author', 'publisher', 'title',\n",
              "       '_id.$oid', 'bestsellers_date.$date.$numberLong',\n",
              "       'published_date.$date.$numberLong', 'rank.$numberInt',\n",
              "       'rank_last_week.$numberInt', 'weeks_on_list.$numberInt'],\n",
              "      dtype='object')"
            ]
          },
          "metadata": {
            "tags": []
          },
          "execution_count": 32
        }
      ]
    },
    {
      "cell_type": "code",
      "metadata": {
        "id": "6-h1e4XcETmw"
      },
      "source": [
        "data.rename(columns={'_id.$oid': 'id', 'bestsellers_date.$date.$numberLong': 'bestsellers_date',\n",
        "                     'published_date.$date.$numberLong': 'published_date',\n",
        "                     'rank.$numberInt': 'rank', 'rank_last_week.$numberInt': 'rank_last_week',\n",
        "                     'weeks_on_list.$numberInt': 'weeks_on_list'}, inplace=True)"
      ],
      "execution_count": 33,
      "outputs": []
    },
    {
      "cell_type": "markdown",
      "metadata": {
        "id": "ayZBBKzxBRiA"
      },
      "source": [
        "7. Realiza agregaciones (min, man, mean, etc) de las siguientes columnas para conocer mejor la distribución de tus datos:\n",
        "\n",
        "   - a) rank\n",
        "   - b) rank_last_week\n",
        "   - c) week_in_list"
      ]
    },
    {
      "cell_type": "code",
      "metadata": {
        "colab": {
          "base_uri": "https://localhost:8080/",
          "height": 297
        },
        "id": "PiXdtHxaBOjQ",
        "outputId": "af340d0e-1486-40d3-b39e-0fadae437c6a"
      },
      "source": [
        "# 7 realiza agregaciones (min, max, mean, etc)\n",
        "df = data[['title', 'rank', 'rank_last_week', 'weeks_on_list']]\n",
        "df.describe()"
      ],
      "execution_count": 34,
      "outputs": [
        {
          "output_type": "execute_result",
          "data": {
            "text/html": [
              "<div>\n",
              "<style scoped>\n",
              "    .dataframe tbody tr th:only-of-type {\n",
              "        vertical-align: middle;\n",
              "    }\n",
              "\n",
              "    .dataframe tbody tr th {\n",
              "        vertical-align: top;\n",
              "    }\n",
              "\n",
              "    .dataframe thead th {\n",
              "        text-align: right;\n",
              "    }\n",
              "</style>\n",
              "<table border=\"1\" class=\"dataframe\">\n",
              "  <thead>\n",
              "    <tr style=\"text-align: right;\">\n",
              "      <th></th>\n",
              "      <th>rank</th>\n",
              "      <th>rank_last_week</th>\n",
              "      <th>weeks_on_list</th>\n",
              "    </tr>\n",
              "  </thead>\n",
              "  <tbody>\n",
              "    <tr>\n",
              "      <th>count</th>\n",
              "      <td>10195.000000</td>\n",
              "      <td>10195.000000</td>\n",
              "      <td>10195.000000</td>\n",
              "    </tr>\n",
              "    <tr>\n",
              "      <th>mean</th>\n",
              "      <td>10.216773</td>\n",
              "      <td>3.969397</td>\n",
              "      <td>6.936734</td>\n",
              "    </tr>\n",
              "    <tr>\n",
              "      <th>std</th>\n",
              "      <td>5.677046</td>\n",
              "      <td>4.494153</td>\n",
              "      <td>14.763727</td>\n",
              "    </tr>\n",
              "    <tr>\n",
              "      <th>min</th>\n",
              "      <td>1.000000</td>\n",
              "      <td>0.000000</td>\n",
              "      <td>0.000000</td>\n",
              "    </tr>\n",
              "    <tr>\n",
              "      <th>25%</th>\n",
              "      <td>5.000000</td>\n",
              "      <td>0.000000</td>\n",
              "      <td>1.000000</td>\n",
              "    </tr>\n",
              "    <tr>\n",
              "      <th>50%</th>\n",
              "      <td>10.000000</td>\n",
              "      <td>2.000000</td>\n",
              "      <td>2.000000</td>\n",
              "    </tr>\n",
              "    <tr>\n",
              "      <th>75%</th>\n",
              "      <td>15.000000</td>\n",
              "      <td>7.000000</td>\n",
              "      <td>6.000000</td>\n",
              "    </tr>\n",
              "    <tr>\n",
              "      <th>max</th>\n",
              "      <td>20.000000</td>\n",
              "      <td>16.000000</td>\n",
              "      <td>134.000000</td>\n",
              "    </tr>\n",
              "  </tbody>\n",
              "</table>\n",
              "</div>"
            ],
            "text/plain": [
              "               rank  rank_last_week  weeks_on_list\n",
              "count  10195.000000    10195.000000   10195.000000\n",
              "mean      10.216773        3.969397       6.936734\n",
              "std        5.677046        4.494153      14.763727\n",
              "min        1.000000        0.000000       0.000000\n",
              "25%        5.000000        0.000000       1.000000\n",
              "50%       10.000000        2.000000       2.000000\n",
              "75%       15.000000        7.000000       6.000000\n",
              "max       20.000000       16.000000     134.000000"
            ]
          },
          "metadata": {
            "tags": []
          },
          "execution_count": 34
        }
      ]
    }
  ]
}