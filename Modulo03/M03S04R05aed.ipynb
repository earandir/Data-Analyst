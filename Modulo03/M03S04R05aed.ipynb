{
  "nbformat": 4,
  "nbformat_minor": 0,
  "metadata": {
    "kernelspec": {
      "name": "python3",
      "display_name": "Python 3"
    },
    "colab": {
      "name": "M03S04R05aed.ipynb",
      "provenance": [],
      "collapsed_sections": []
    },
    "language_info": {
      "name": "python"
    }
  },
  "cells": [
    {
      "cell_type": "markdown",
      "metadata": {
        "id": "ngKWiZJNJkio"
      },
      "source": [
        "## Reto 5: Análisis Exploratorio de Datos\n",
        "\n",
        "### 1. Objetivos:\n",
        "    - Practicar leer archivos JSON usando pandas\n",
        "    - Practicar hacerse preguntas acerca de los conjuntos de datos que tenemos\n",
        " \n",
        "---\n",
        "    \n",
        "### 2. Desarrollo:"
      ]
    },
    {
      "cell_type": "markdown",
      "metadata": {
        "id": "bxxyRklnJkiq"
      },
      "source": [
        "Vamos a practicar explorar conjuntos de datos y hacernos preguntas acerca de ellos.\n",
        "\n",
        "Tenemos un conjunto de datos en formato JSON almacenado en '../../Datasets/new_york_times_bestsellers-clean.json' (en la carpeta /Datasets en el directorio raíz del módulo).\n",
        "\n",
        "Primero que nada, lee el archivo JSON y crea un `DataFrame` con él:"
      ]
    },
    {
      "cell_type": "code",
      "metadata": {
        "colab": {
          "base_uri": "https://localhost:8080/"
        },
        "id": "aRQwzfjDK-a1",
        "outputId": "ef761406-3544-46f1-da87-3aff539f218f"
      },
      "source": [
        "from google.colab import drive\n",
        "drive.mount('/content/drive')\n",
        "\n",
        "#/content/drive/MyDrive/DataAnalysis/Datasets/new_york_times_bestsellers-clean.json"
      ],
      "execution_count": 1,
      "outputs": [
        {
          "output_type": "stream",
          "text": [
            "Mounted at /content/drive\n"
          ],
          "name": "stdout"
        }
      ]
    },
    {
      "cell_type": "code",
      "metadata": {
        "id": "TlgBzeIhY3ZZ",
        "colab": {
          "base_uri": "https://localhost:8080/"
        },
        "outputId": "c4e55aca-0237-4c44-a5d2-f5dd83df3557"
      },
      "source": [
        "from google.colab import drive\n",
        "drive.mount('/content/drive')"
      ],
      "execution_count": 2,
      "outputs": [
        {
          "output_type": "stream",
          "text": [
            "Drive already mounted at /content/drive; to attempt to forcibly remount, call drive.mount(\"/content/drive\", force_remount=True).\n"
          ],
          "name": "stdout"
        }
      ]
    },
    {
      "cell_type": "code",
      "metadata": {
        "colab": {
          "base_uri": "https://localhost:8080/",
          "height": 538
        },
        "id": "5l4uqKMuJkir",
        "outputId": "99740a21-556b-4b42-9a68-04590ef268db"
      },
      "source": [
        "## Realiza aquí los imports que necesites\n",
        "import pandas as pd\n",
        "import json \n",
        "import datetime\n",
        "\n",
        "## Lee aquí tu archivo JSON\n",
        "data = open('/content/drive/MyDrive/DataAnalysis/Datasets/new_york_times_bestsellers-clean.json', 'r')\n",
        "json_data = json.load(data)\n",
        "data.close()\n",
        "\n",
        "## Crea aquí tu DataFrame\n",
        "df = pd.DataFrame.from_dict(json_data)\n",
        "\n",
        "df.head(5)"
      ],
      "execution_count": 3,
      "outputs": [
        {
          "output_type": "execute_result",
          "data": {
            "text/html": [
              "<div>\n",
              "<style scoped>\n",
              "    .dataframe tbody tr th:only-of-type {\n",
              "        vertical-align: middle;\n",
              "    }\n",
              "\n",
              "    .dataframe tbody tr th {\n",
              "        vertical-align: top;\n",
              "    }\n",
              "\n",
              "    .dataframe thead th {\n",
              "        text-align: right;\n",
              "    }\n",
              "</style>\n",
              "<table border=\"1\" class=\"dataframe\">\n",
              "  <thead>\n",
              "    <tr style=\"text-align: right;\">\n",
              "      <th></th>\n",
              "      <th>amazon_product_url</th>\n",
              "      <th>author</th>\n",
              "      <th>description</th>\n",
              "      <th>publisher</th>\n",
              "      <th>title</th>\n",
              "      <th>oid</th>\n",
              "      <th>bestsellers_date.numberLong</th>\n",
              "      <th>published_date.numberLong</th>\n",
              "      <th>rank.numberInt</th>\n",
              "      <th>rank_last_week.numberInt</th>\n",
              "      <th>weeks_on_list.numberInt</th>\n",
              "      <th>price.numberDouble</th>\n",
              "    </tr>\n",
              "  </thead>\n",
              "  <tbody>\n",
              "    <tr>\n",
              "      <th>0</th>\n",
              "      <td>http://www.amazon.com/The-Host-Novel-Stephenie...</td>\n",
              "      <td>Stephenie Meyer</td>\n",
              "      <td>Aliens have taken control of the minds and bod...</td>\n",
              "      <td>Little, Brown</td>\n",
              "      <td>THE HOST</td>\n",
              "      <td>5b4aa4ead3089013507db18c</td>\n",
              "      <td>1211587200000</td>\n",
              "      <td>1212883200000</td>\n",
              "      <td>2</td>\n",
              "      <td>1</td>\n",
              "      <td>3</td>\n",
              "      <td>25.99</td>\n",
              "    </tr>\n",
              "    <tr>\n",
              "      <th>1</th>\n",
              "      <td>http://www.amazon.com/Love-Youre-With-Emily-Gi...</td>\n",
              "      <td>Emily Giffin</td>\n",
              "      <td>A woman's happy marriage is shaken when she en...</td>\n",
              "      <td>St. Martin's</td>\n",
              "      <td>LOVE THE ONE YOU'RE WITH</td>\n",
              "      <td>5b4aa4ead3089013507db18d</td>\n",
              "      <td>1211587200000</td>\n",
              "      <td>1212883200000</td>\n",
              "      <td>3</td>\n",
              "      <td>2</td>\n",
              "      <td>2</td>\n",
              "      <td>24.95</td>\n",
              "    </tr>\n",
              "    <tr>\n",
              "      <th>2</th>\n",
              "      <td>http://www.amazon.com/The-Front-Garano-Patrici...</td>\n",
              "      <td>Patricia Cornwell</td>\n",
              "      <td>A Massachusetts state investigator and his tea...</td>\n",
              "      <td>Putnam</td>\n",
              "      <td>THE FRONT</td>\n",
              "      <td>5b4aa4ead3089013507db18e</td>\n",
              "      <td>1211587200000</td>\n",
              "      <td>1212883200000</td>\n",
              "      <td>4</td>\n",
              "      <td>0</td>\n",
              "      <td>1</td>\n",
              "      <td>22.95</td>\n",
              "    </tr>\n",
              "    <tr>\n",
              "      <th>3</th>\n",
              "      <td>http://www.amazon.com/Snuff-Chuck-Palahniuk/dp...</td>\n",
              "      <td>Chuck Palahniuk</td>\n",
              "      <td>An aging porn queens aims to cap her career by...</td>\n",
              "      <td>Doubleday</td>\n",
              "      <td>SNUFF</td>\n",
              "      <td>5b4aa4ead3089013507db18f</td>\n",
              "      <td>1211587200000</td>\n",
              "      <td>1212883200000</td>\n",
              "      <td>5</td>\n",
              "      <td>0</td>\n",
              "      <td>1</td>\n",
              "      <td>24.95</td>\n",
              "    </tr>\n",
              "    <tr>\n",
              "      <th>4</th>\n",
              "      <td>http://www.amazon.com/Sundays-at-Tiffanys-Jame...</td>\n",
              "      <td>James Patterson and Gabrielle Charbonnet</td>\n",
              "      <td>A woman finds an unexpected love</td>\n",
              "      <td>Little, Brown</td>\n",
              "      <td>SUNDAYS AT TIFFANY’S</td>\n",
              "      <td>5b4aa4ead3089013507db190</td>\n",
              "      <td>1211587200000</td>\n",
              "      <td>1212883200000</td>\n",
              "      <td>6</td>\n",
              "      <td>3</td>\n",
              "      <td>4</td>\n",
              "      <td>24.99</td>\n",
              "    </tr>\n",
              "  </tbody>\n",
              "</table>\n",
              "</div>"
            ],
            "text/plain": [
              "                                  amazon_product_url  ... price.numberDouble\n",
              "0  http://www.amazon.com/The-Host-Novel-Stephenie...  ...              25.99\n",
              "1  http://www.amazon.com/Love-Youre-With-Emily-Gi...  ...              24.95\n",
              "2  http://www.amazon.com/The-Front-Garano-Patrici...  ...              22.95\n",
              "3  http://www.amazon.com/Snuff-Chuck-Palahniuk/dp...  ...              24.95\n",
              "4  http://www.amazon.com/Sundays-at-Tiffanys-Jame...  ...              24.99\n",
              "\n",
              "[5 rows x 12 columns]"
            ]
          },
          "metadata": {
            "tags": []
          },
          "execution_count": 3
        }
      ]
    },
    {
      "cell_type": "markdown",
      "metadata": {
        "id": "1Oza8WsAJkir"
      },
      "source": [
        "Ahora, usando todas las herramientas que hemos aprendido en esta sesión (indexación de filas y columnas, `shape`, `dtypes`, `head`, `tail`, `columns`, `info`, etc) explora tu dataset y debate con el experto y tus compañeros las siguientes preguntas:"
      ]
    },
    {
      "cell_type": "markdown",
      "metadata": {
        "id": "4ucVI_-ZlrAu"
      },
      "source": [
        "#### 1: ¿Qué podemos saber de este dataset con tan sólo leer el nombre del archivo y los nombres de las columnas?"
      ]
    },
    {
      "cell_type": "code",
      "metadata": {
        "colab": {
          "base_uri": "https://localhost:8080/"
        },
        "id": "wigYJnEPJkir",
        "outputId": "0ca902c1-cef6-463f-c46d-ee94879789bb"
      },
      "source": [
        "df.info()"
      ],
      "execution_count": 4,
      "outputs": [
        {
          "output_type": "stream",
          "text": [
            "<class 'pandas.core.frame.DataFrame'>\n",
            "Index: 3033 entries, 0 to 3032\n",
            "Data columns (total 12 columns):\n",
            " #   Column                       Non-Null Count  Dtype  \n",
            "---  ------                       --------------  -----  \n",
            " 0   amazon_product_url           3033 non-null   object \n",
            " 1   author                       3033 non-null   object \n",
            " 2   description                  3033 non-null   object \n",
            " 3   publisher                    3033 non-null   object \n",
            " 4   title                        3033 non-null   object \n",
            " 5   oid                          3033 non-null   object \n",
            " 6   bestsellers_date.numberLong  3033 non-null   int64  \n",
            " 7   published_date.numberLong    3033 non-null   int64  \n",
            " 8   rank.numberInt               3033 non-null   int64  \n",
            " 9   rank_last_week.numberInt     3033 non-null   int64  \n",
            " 10  weeks_on_list.numberInt      3033 non-null   int64  \n",
            " 11  price.numberDouble           3033 non-null   float64\n",
            "dtypes: float64(1), int64(5), object(6)\n",
            "memory usage: 308.0+ KB\n"
          ],
          "name": "stdout"
        }
      ]
    },
    {
      "cell_type": "markdown",
      "metadata": {
        "id": "vXohIImnlmGJ"
      },
      "source": [
        "#### 2: ¿Cuál es el tamaño (forma) de nuestro DataFrame? ¿Podríamos considerarlo un dataset grande o pequeño?"
      ]
    },
    {
      "cell_type": "code",
      "metadata": {
        "colab": {
          "base_uri": "https://localhost:8080/"
        },
        "id": "yCpjBb7_ZAx9",
        "outputId": "996cb650-18b3-4b4e-cb4d-1b951b980f90"
      },
      "source": [
        "df.shape"
      ],
      "execution_count": 5,
      "outputs": [
        {
          "output_type": "execute_result",
          "data": {
            "text/plain": [
              "(3033, 12)"
            ]
          },
          "metadata": {
            "tags": []
          },
          "execution_count": 5
        }
      ]
    },
    {
      "cell_type": "markdown",
      "metadata": {
        "id": "xObsoP4uliSG"
      },
      "source": [
        "#### 3: ¿Crees que los nombres de las columnas son suficientemente descriptivos? ¿Podrían ser más claros o limpios?"
      ]
    },
    {
      "cell_type": "code",
      "metadata": {
        "colab": {
          "base_uri": "https://localhost:8080/"
        },
        "id": "9kV5ImhDZVrZ",
        "outputId": "50f86f93-b86e-4f98-a8a5-377ccf9b7317"
      },
      "source": [
        "df.columns"
      ],
      "execution_count": 6,
      "outputs": [
        {
          "output_type": "execute_result",
          "data": {
            "text/plain": [
              "Index(['amazon_product_url', 'author', 'description', 'publisher', 'title',\n",
              "       'oid', 'bestsellers_date.numberLong', 'published_date.numberLong',\n",
              "       'rank.numberInt', 'rank_last_week.numberInt', 'weeks_on_list.numberInt',\n",
              "       'price.numberDouble'],\n",
              "      dtype='object')"
            ]
          },
          "metadata": {
            "tags": []
          },
          "execution_count": 6
        }
      ]
    },
    {
      "cell_type": "markdown",
      "metadata": {
        "id": "CNPw4MyVlcmD"
      },
      "source": [
        "#### 4: ¿Qué tipos de datos tenemos?"
      ]
    },
    {
      "cell_type": "code",
      "metadata": {
        "colab": {
          "base_uri": "https://localhost:8080/"
        },
        "id": "wT9AmvRMZfGP",
        "outputId": "d15bdd5b-ff68-4228-c39d-274ccdf4da99"
      },
      "source": [
        "df.dtypes"
      ],
      "execution_count": 7,
      "outputs": [
        {
          "output_type": "execute_result",
          "data": {
            "text/plain": [
              "amazon_product_url              object\n",
              "author                          object\n",
              "description                     object\n",
              "publisher                       object\n",
              "title                           object\n",
              "oid                             object\n",
              "bestsellers_date.numberLong      int64\n",
              "published_date.numberLong        int64\n",
              "rank.numberInt                   int64\n",
              "rank_last_week.numberInt         int64\n",
              "weeks_on_list.numberInt          int64\n",
              "price.numberDouble             float64\n",
              "dtype: object"
            ]
          },
          "metadata": {
            "tags": []
          },
          "execution_count": 7
        }
      ]
    },
    {
      "cell_type": "markdown",
      "metadata": {
        "id": "KeTM3GnUlRyR"
      },
      "source": [
        "##### 5: ¿Qué significa el formato en el que tenemos las fechas?"
      ]
    },
    {
      "cell_type": "code",
      "metadata": {
        "colab": {
          "base_uri": "https://localhost:8080/"
        },
        "id": "PziXEjgUZl8B",
        "outputId": "c1be5a16-6bad-4901-d823-9b03ebcb4db9"
      },
      "source": [
        "\n",
        "pd.to_datetime(df['published_date.numberLong'], unit='ms')\n"
      ],
      "execution_count": 8,
      "outputs": [
        {
          "output_type": "execute_result",
          "data": {
            "text/plain": [
              "0      2008-06-08\n",
              "1      2008-06-08\n",
              "2      2008-06-08\n",
              "3      2008-06-08\n",
              "4      2008-06-08\n",
              "          ...    \n",
              "3028   2013-05-05\n",
              "3029   2013-05-05\n",
              "3030   2013-05-05\n",
              "3031   2013-05-05\n",
              "3032   2013-05-05\n",
              "Name: published_date.numberLong, Length: 3033, dtype: datetime64[ns]"
            ]
          },
          "metadata": {
            "tags": []
          },
          "execution_count": 8
        }
      ]
    },
    {
      "cell_type": "markdown",
      "metadata": {
        "id": "SlUhZURPkpGk"
      },
      "source": [
        "#### 6: ¿Qué tipo de preguntas podríamos responder usando los datos numéricos de este dataset?\n"
      ]
    },
    {
      "cell_type": "markdown",
      "metadata": {
        "id": "XgCaE9MMkwfn"
      },
      "source": [
        "a) Autor mejor calificado"
      ]
    },
    {
      "cell_type": "code",
      "metadata": {
        "colab": {
          "base_uri": "https://localhost:8080/",
          "height": 455
        },
        "id": "0DmDpkKhk1-0",
        "outputId": "919ff7ef-7e73-48df-fdec-e21e1ec34cda"
      },
      "source": [
        "porautor = df[['author', 'rank.numberInt']]\n",
        "porautor = porautor.groupby(porautor['author']).mean()\n",
        "porautor.sort_values(by=['rank.numberInt', 'author'], ascending=False)"
      ],
      "execution_count": 9,
      "outputs": [
        {
          "output_type": "execute_result",
          "data": {
            "text/html": [
              "<div>\n",
              "<style scoped>\n",
              "    .dataframe tbody tr th:only-of-type {\n",
              "        vertical-align: middle;\n",
              "    }\n",
              "\n",
              "    .dataframe tbody tr th {\n",
              "        vertical-align: top;\n",
              "    }\n",
              "\n",
              "    .dataframe thead th {\n",
              "        text-align: right;\n",
              "    }\n",
              "</style>\n",
              "<table border=\"1\" class=\"dataframe\">\n",
              "  <thead>\n",
              "    <tr style=\"text-align: right;\">\n",
              "      <th></th>\n",
              "      <th>rank.numberInt</th>\n",
              "    </tr>\n",
              "    <tr>\n",
              "      <th>author</th>\n",
              "      <th></th>\n",
              "    </tr>\n",
              "  </thead>\n",
              "  <tbody>\n",
              "    <tr>\n",
              "      <th>Ron Rash</th>\n",
              "      <td>16.000000</td>\n",
              "    </tr>\n",
              "    <tr>\n",
              "      <th>Raymond E Feist</th>\n",
              "      <td>16.000000</td>\n",
              "    </tr>\n",
              "    <tr>\n",
              "      <th>Maggie Shipstead</th>\n",
              "      <td>16.000000</td>\n",
              "    </tr>\n",
              "    <tr>\n",
              "      <th>Kimberly McCreight</th>\n",
              "      <td>16.000000</td>\n",
              "    </tr>\n",
              "    <tr>\n",
              "      <th>Jennifer Crusie</th>\n",
              "      <td>16.000000</td>\n",
              "    </tr>\n",
              "    <tr>\n",
              "      <th>...</th>\n",
              "      <td>...</td>\n",
              "    </tr>\n",
              "    <tr>\n",
              "      <th>Pat Conroy</th>\n",
              "      <td>4.666667</td>\n",
              "    </tr>\n",
              "    <tr>\n",
              "      <th>James Patterson and David Ellis</th>\n",
              "      <td>4.000000</td>\n",
              "    </tr>\n",
              "    <tr>\n",
              "      <th>Dan Brown</th>\n",
              "      <td>3.896552</td>\n",
              "    </tr>\n",
              "    <tr>\n",
              "      <th>Patrick Rothfuss</th>\n",
              "      <td>3.000000</td>\n",
              "    </tr>\n",
              "    <tr>\n",
              "      <th>Kate Atkinson</th>\n",
              "      <td>3.000000</td>\n",
              "    </tr>\n",
              "  </tbody>\n",
              "</table>\n",
              "<p>324 rows × 1 columns</p>\n",
              "</div>"
            ],
            "text/plain": [
              "                                 rank.numberInt\n",
              "author                                         \n",
              "Ron Rash                              16.000000\n",
              "Raymond E Feist                       16.000000\n",
              "Maggie Shipstead                      16.000000\n",
              "Kimberly McCreight                    16.000000\n",
              "Jennifer Crusie                       16.000000\n",
              "...                                         ...\n",
              "Pat Conroy                             4.666667\n",
              "James Patterson and David Ellis        4.000000\n",
              "Dan Brown                              3.896552\n",
              "Patrick Rothfuss                       3.000000\n",
              "Kate Atkinson                          3.000000\n",
              "\n",
              "[324 rows x 1 columns]"
            ]
          },
          "metadata": {
            "tags": []
          },
          "execution_count": 9
        }
      ]
    },
    {
      "cell_type": "markdown",
      "metadata": {
        "id": "2AresOqgk2o8"
      },
      "source": [
        "b) Libro con más tiempo en la lista"
      ]
    },
    {
      "cell_type": "code",
      "metadata": {
        "colab": {
          "base_uri": "https://localhost:8080/",
          "height": 455
        },
        "id": "GjP5AwrAlBMV",
        "outputId": "6786f45c-b785-4c93-f52e-2632080a78b0"
      },
      "source": [
        "librosemanas = df[['title', 'weeks_on_list.numberInt']]\n",
        "librosemanas = librosemanas.groupby(librosemanas['title']).sum()\n",
        "librosemanas.sort_values(by=['weeks_on_list.numberInt'], ascending=False)"
      ],
      "execution_count": 10,
      "outputs": [
        {
          "output_type": "execute_result",
          "data": {
            "text/html": [
              "<div>\n",
              "<style scoped>\n",
              "    .dataframe tbody tr th:only-of-type {\n",
              "        vertical-align: middle;\n",
              "    }\n",
              "\n",
              "    .dataframe tbody tr th {\n",
              "        vertical-align: top;\n",
              "    }\n",
              "\n",
              "    .dataframe thead th {\n",
              "        text-align: right;\n",
              "    }\n",
              "</style>\n",
              "<table border=\"1\" class=\"dataframe\">\n",
              "  <thead>\n",
              "    <tr style=\"text-align: right;\">\n",
              "      <th></th>\n",
              "      <th>weeks_on_list.numberInt</th>\n",
              "    </tr>\n",
              "    <tr>\n",
              "      <th>title</th>\n",
              "      <th></th>\n",
              "    </tr>\n",
              "  </thead>\n",
              "  <tbody>\n",
              "    <tr>\n",
              "      <th>THE HELP</th>\n",
              "      <td>5886</td>\n",
              "    </tr>\n",
              "    <tr>\n",
              "      <th>THE GIRL WHO KICKED THE HORNET’S NEST</th>\n",
              "      <td>3160</td>\n",
              "    </tr>\n",
              "    <tr>\n",
              "      <th>THE HOST</th>\n",
              "      <td>1767</td>\n",
              "    </tr>\n",
              "    <tr>\n",
              "      <th>THE STORY OF EDGAR SAWTELLE</th>\n",
              "      <td>780</td>\n",
              "    </tr>\n",
              "    <tr>\n",
              "      <th>THE LOST SYMBOL</th>\n",
              "      <td>435</td>\n",
              "    </tr>\n",
              "    <tr>\n",
              "      <th>...</th>\n",
              "      <td>...</td>\n",
              "    </tr>\n",
              "    <tr>\n",
              "      <th>THE LAST SURGEON</th>\n",
              "      <td>1</td>\n",
              "    </tr>\n",
              "    <tr>\n",
              "      <th>THE LAST THRESHOLD</th>\n",
              "      <td>1</td>\n",
              "    </tr>\n",
              "    <tr>\n",
              "      <th>THE LAUGHTER OF DEAD KINGS</th>\n",
              "      <td>1</td>\n",
              "    </tr>\n",
              "    <tr>\n",
              "      <th>THE LAW OF NINES</th>\n",
              "      <td>1</td>\n",
              "    </tr>\n",
              "    <tr>\n",
              "      <th>SPRING FEVER</th>\n",
              "      <td>1</td>\n",
              "    </tr>\n",
              "  </tbody>\n",
              "</table>\n",
              "<p>754 rows × 1 columns</p>\n",
              "</div>"
            ],
            "text/plain": [
              "                                       weeks_on_list.numberInt\n",
              "title                                                         \n",
              "THE HELP                                                  5886\n",
              "THE GIRL WHO KICKED THE HORNET’S NEST                     3160\n",
              "THE HOST                                                  1767\n",
              "THE STORY OF EDGAR SAWTELLE                                780\n",
              "THE LOST SYMBOL                                            435\n",
              "...                                                        ...\n",
              "THE LAST SURGEON                                             1\n",
              "THE LAST THRESHOLD                                           1\n",
              "THE LAUGHTER OF DEAD KINGS                                   1\n",
              "THE LAW OF NINES                                             1\n",
              "SPRING FEVER                                                 1\n",
              "\n",
              "[754 rows x 1 columns]"
            ]
          },
          "metadata": {
            "tags": []
          },
          "execution_count": 10
        }
      ]
    },
    {
      "cell_type": "markdown",
      "metadata": {
        "id": "GKljyV7TlBZ4"
      },
      "source": [
        "c) Libro más caro"
      ]
    },
    {
      "cell_type": "code",
      "metadata": {
        "colab": {
          "base_uri": "https://localhost:8080/"
        },
        "id": "C2U-7k8NxTBY",
        "outputId": "9706c0f8-b9c2-4685-c804-df3ce8bcd69a"
      },
      "source": [
        "librosporprecio = df[['title', 'price.numberDouble']].max()\n",
        "librosporprecio"
      ],
      "execution_count": 11,
      "outputs": [
        {
          "output_type": "execute_result",
          "data": {
            "text/plain": [
              "title                   ZOO\n",
              "price.numberDouble    34.99\n",
              "dtype: object"
            ]
          },
          "metadata": {
            "tags": []
          },
          "execution_count": 11
        }
      ]
    },
    {
      "cell_type": "markdown",
      "metadata": {
        "id": "rspLlvsDkLks"
      },
      "source": [
        "#### 7: ¿Qué tipo de preguntas podríamos responder usando los datos no-numéricos?"
      ]
    },
    {
      "cell_type": "markdown",
      "metadata": {
        "id": "SgnilNbskVr6"
      },
      "source": [
        "a) Libro con el título más largo"
      ]
    },
    {
      "cell_type": "code",
      "metadata": {
        "colab": {
          "base_uri": "https://localhost:8080/",
          "height": 423
        },
        "id": "bGbiqMxRkY9R",
        "outputId": "35a5efb8-8f97-4e70-aad8-b14d6762a5d7"
      },
      "source": [
        "titulos = df['title'].to_frame()\n",
        "titulos['len'] = titulos['title'].str.len()\n",
        "\n",
        "titulos.sort_values(by=['len'], ascending=False)"
      ],
      "execution_count": 12,
      "outputs": [
        {
          "output_type": "execute_result",
          "data": {
            "text/html": [
              "<div>\n",
              "<style scoped>\n",
              "    .dataframe tbody tr th:only-of-type {\n",
              "        vertical-align: middle;\n",
              "    }\n",
              "\n",
              "    .dataframe tbody tr th {\n",
              "        vertical-align: top;\n",
              "    }\n",
              "\n",
              "    .dataframe thead th {\n",
              "        text-align: right;\n",
              "    }\n",
              "</style>\n",
              "<table border=\"1\" class=\"dataframe\">\n",
              "  <thead>\n",
              "    <tr style=\"text-align: right;\">\n",
              "      <th></th>\n",
              "      <th>title</th>\n",
              "      <th>len</th>\n",
              "    </tr>\n",
              "  </thead>\n",
              "  <tbody>\n",
              "    <tr>\n",
              "      <th>1908</th>\n",
              "      <td>THE LOST FLEET. BEYOND THE FRONTIER: DREADNAUGHT</td>\n",
              "      <td>48</td>\n",
              "    </tr>\n",
              "    <tr>\n",
              "      <th>2493</th>\n",
              "      <td>THE LIMPOPO ACADEMY OF PRIVATE DETECTION</td>\n",
              "      <td>40</td>\n",
              "    </tr>\n",
              "    <tr>\n",
              "      <th>2451</th>\n",
              "      <td>THE LIMPOPO ACADEMY OF PRIVATE DETECTION</td>\n",
              "      <td>40</td>\n",
              "    </tr>\n",
              "    <tr>\n",
              "      <th>2480</th>\n",
              "      <td>THE LIMPOPO ACADEMY OF PRIVATE DETECTION</td>\n",
              "      <td>40</td>\n",
              "    </tr>\n",
              "    <tr>\n",
              "      <th>2508</th>\n",
              "      <td>THE LIMPOPO ACADEMY OF PRIVATE DETECTION</td>\n",
              "      <td>40</td>\n",
              "    </tr>\n",
              "    <tr>\n",
              "      <th>...</th>\n",
              "      <td>...</td>\n",
              "      <td>...</td>\n",
              "    </tr>\n",
              "    <tr>\n",
              "      <th>2680</th>\n",
              "      <td>NW</td>\n",
              "      <td>2</td>\n",
              "    </tr>\n",
              "    <tr>\n",
              "      <th>2569</th>\n",
              "      <td>XO</td>\n",
              "      <td>2</td>\n",
              "    </tr>\n",
              "    <tr>\n",
              "      <th>3008</th>\n",
              "      <td>Z</td>\n",
              "      <td>1</td>\n",
              "    </tr>\n",
              "    <tr>\n",
              "      <th>2998</th>\n",
              "      <td>Z</td>\n",
              "      <td>1</td>\n",
              "    </tr>\n",
              "    <tr>\n",
              "      <th>3032</th>\n",
              "      <td>Z</td>\n",
              "      <td>1</td>\n",
              "    </tr>\n",
              "  </tbody>\n",
              "</table>\n",
              "<p>3033 rows × 2 columns</p>\n",
              "</div>"
            ],
            "text/plain": [
              "                                                 title  len\n",
              "1908  THE LOST FLEET. BEYOND THE FRONTIER: DREADNAUGHT   48\n",
              "2493          THE LIMPOPO ACADEMY OF PRIVATE DETECTION   40\n",
              "2451          THE LIMPOPO ACADEMY OF PRIVATE DETECTION   40\n",
              "2480          THE LIMPOPO ACADEMY OF PRIVATE DETECTION   40\n",
              "2508          THE LIMPOPO ACADEMY OF PRIVATE DETECTION   40\n",
              "...                                                ...  ...\n",
              "2680                                                NW    2\n",
              "2569                                                XO    2\n",
              "3008                                                 Z    1\n",
              "2998                                                 Z    1\n",
              "3032                                                 Z    1\n",
              "\n",
              "[3033 rows x 2 columns]"
            ]
          },
          "metadata": {
            "tags": []
          },
          "execution_count": 12
        }
      ]
    },
    {
      "cell_type": "markdown",
      "metadata": {
        "id": "tclPF7ArkcBb"
      },
      "source": [
        "b) Libros con \"X\" en el nombre"
      ]
    },
    {
      "cell_type": "code",
      "metadata": {
        "colab": {
          "base_uri": "https://localhost:8080/",
          "height": 403
        },
        "id": "PDwhCIfykhd9",
        "outputId": "57afb54d-0d7f-4fff-8243-f23a40784d1f"
      },
      "source": [
        "busca = 'LORD'\n",
        "df[df['title'].str.contains(busca)].head(5)"
      ],
      "execution_count": 13,
      "outputs": [
        {
          "output_type": "execute_result",
          "data": {
            "text/html": [
              "<div>\n",
              "<style scoped>\n",
              "    .dataframe tbody tr th:only-of-type {\n",
              "        vertical-align: middle;\n",
              "    }\n",
              "\n",
              "    .dataframe tbody tr th {\n",
              "        vertical-align: top;\n",
              "    }\n",
              "\n",
              "    .dataframe thead th {\n",
              "        text-align: right;\n",
              "    }\n",
              "</style>\n",
              "<table border=\"1\" class=\"dataframe\">\n",
              "  <thead>\n",
              "    <tr style=\"text-align: right;\">\n",
              "      <th></th>\n",
              "      <th>amazon_product_url</th>\n",
              "      <th>author</th>\n",
              "      <th>description</th>\n",
              "      <th>publisher</th>\n",
              "      <th>title</th>\n",
              "      <th>oid</th>\n",
              "      <th>bestsellers_date.numberLong</th>\n",
              "      <th>published_date.numberLong</th>\n",
              "      <th>rank.numberInt</th>\n",
              "      <th>rank_last_week.numberInt</th>\n",
              "      <th>weeks_on_list.numberInt</th>\n",
              "      <th>price.numberDouble</th>\n",
              "    </tr>\n",
              "  </thead>\n",
              "  <tbody>\n",
              "    <tr>\n",
              "      <th>984</th>\n",
              "      <td>http://www.amazon.com/First-Lords-Fury-Codex-A...</td>\n",
              "      <td>Jim Butcher</td>\n",
              "      <td>With their survival at stake, Alerans prepare ...</td>\n",
              "      <td>Ace</td>\n",
              "      <td>FIRST LORD’S FURY</td>\n",
              "      <td>5b4aa4ead3089013507db7bd</td>\n",
              "      <td>1259366400000</td>\n",
              "      <td>1260662400000</td>\n",
              "      <td>7</td>\n",
              "      <td>0</td>\n",
              "      <td>1</td>\n",
              "      <td>25.95</td>\n",
              "    </tr>\n",
              "    <tr>\n",
              "      <th>1507</th>\n",
              "      <td>http://www.amazon.com/Warlord-New-Alex-Hawke-N...</td>\n",
              "      <td>Ted Bell</td>\n",
              "      <td>The counterspy Alex Hawke races to stop a madm...</td>\n",
              "      <td>Morrow/HarperCollins</td>\n",
              "      <td>WARLORD</td>\n",
              "      <td>5b4aa4ead3089013507dbb07</td>\n",
              "      <td>1284854400000</td>\n",
              "      <td>1286064000000</td>\n",
              "      <td>9</td>\n",
              "      <td>0</td>\n",
              "      <td>1</td>\n",
              "      <td>27.99</td>\n",
              "    </tr>\n",
              "    <tr>\n",
              "      <th>1523</th>\n",
              "      <td>http://www.amazon.com/Warlord-New-Alex-Hawke-N...</td>\n",
              "      <td>Ted Bell</td>\n",
              "      <td>The counterspy Alex Hawke races to stop a madm...</td>\n",
              "      <td>Morrow/HarperCollins</td>\n",
              "      <td>WARLORD</td>\n",
              "      <td>5b4aa4ead3089013507dbb1f</td>\n",
              "      <td>1285459200000</td>\n",
              "      <td>1286668800000</td>\n",
              "      <td>13</td>\n",
              "      <td>9</td>\n",
              "      <td>2</td>\n",
              "      <td>27.99</td>\n",
              "    </tr>\n",
              "    <tr>\n",
              "      <th>2683</th>\n",
              "      <td>http://www.amazon.com/Lord-Mountains-Novel-Cha...</td>\n",
              "      <td>S M Stirling</td>\n",
              "      <td>Further adventures in a postapocalyptic America,</td>\n",
              "      <td>Roc</td>\n",
              "      <td>LORD OF MOUNTAINS</td>\n",
              "      <td>5b4aa4ead3089013507dc317</td>\n",
              "      <td>1347062400000</td>\n",
              "      <td>1348358400000</td>\n",
              "      <td>13</td>\n",
              "      <td>0</td>\n",
              "      <td>1</td>\n",
              "      <td>27.95</td>\n",
              "    </tr>\n",
              "  </tbody>\n",
              "</table>\n",
              "</div>"
            ],
            "text/plain": [
              "                                     amazon_product_url  ... price.numberDouble\n",
              "984   http://www.amazon.com/First-Lords-Fury-Codex-A...  ...              25.95\n",
              "1507  http://www.amazon.com/Warlord-New-Alex-Hawke-N...  ...              27.99\n",
              "1523  http://www.amazon.com/Warlord-New-Alex-Hawke-N...  ...              27.99\n",
              "2683  http://www.amazon.com/Lord-Mountains-Novel-Cha...  ...              27.95\n",
              "\n",
              "[4 rows x 12 columns]"
            ]
          },
          "metadata": {
            "tags": []
          },
          "execution_count": 13
        }
      ]
    },
    {
      "cell_type": "markdown",
      "metadata": {
        "id": "mcItCqfrkhsl"
      },
      "source": [
        "c) Libros del Autor \"X\""
      ]
    },
    {
      "cell_type": "code",
      "metadata": {
        "colab": {
          "base_uri": "https://localhost:8080/",
          "height": 538
        },
        "id": "6RInM4evklU3",
        "outputId": "ed914b7a-ece4-4c97-9af2-5b2effdceb71"
      },
      "source": [
        "autor = 'Patricia'\n",
        "df[df['author'].str.contains(autor)].head(5)"
      ],
      "execution_count": 14,
      "outputs": [
        {
          "output_type": "execute_result",
          "data": {
            "text/html": [
              "<div>\n",
              "<style scoped>\n",
              "    .dataframe tbody tr th:only-of-type {\n",
              "        vertical-align: middle;\n",
              "    }\n",
              "\n",
              "    .dataframe tbody tr th {\n",
              "        vertical-align: top;\n",
              "    }\n",
              "\n",
              "    .dataframe thead th {\n",
              "        text-align: right;\n",
              "    }\n",
              "</style>\n",
              "<table border=\"1\" class=\"dataframe\">\n",
              "  <thead>\n",
              "    <tr style=\"text-align: right;\">\n",
              "      <th></th>\n",
              "      <th>amazon_product_url</th>\n",
              "      <th>author</th>\n",
              "      <th>description</th>\n",
              "      <th>publisher</th>\n",
              "      <th>title</th>\n",
              "      <th>oid</th>\n",
              "      <th>bestsellers_date.numberLong</th>\n",
              "      <th>published_date.numberLong</th>\n",
              "      <th>rank.numberInt</th>\n",
              "      <th>rank_last_week.numberInt</th>\n",
              "      <th>weeks_on_list.numberInt</th>\n",
              "      <th>price.numberDouble</th>\n",
              "    </tr>\n",
              "  </thead>\n",
              "  <tbody>\n",
              "    <tr>\n",
              "      <th>2</th>\n",
              "      <td>http://www.amazon.com/The-Front-Garano-Patrici...</td>\n",
              "      <td>Patricia Cornwell</td>\n",
              "      <td>A Massachusetts state investigator and his tea...</td>\n",
              "      <td>Putnam</td>\n",
              "      <td>THE FRONT</td>\n",
              "      <td>5b4aa4ead3089013507db18e</td>\n",
              "      <td>1211587200000</td>\n",
              "      <td>1212883200000</td>\n",
              "      <td>4</td>\n",
              "      <td>0</td>\n",
              "      <td>1</td>\n",
              "      <td>22.95</td>\n",
              "    </tr>\n",
              "    <tr>\n",
              "      <th>17</th>\n",
              "      <td>http://www.amazon.com/The-Front-Garano-Patrici...</td>\n",
              "      <td>Patricia Cornwell</td>\n",
              "      <td>A Massachusetts state investigator and his tea...</td>\n",
              "      <td>Putnam</td>\n",
              "      <td>THE FRONT</td>\n",
              "      <td>5b4aa4ead3089013507db1a5</td>\n",
              "      <td>1212192000000</td>\n",
              "      <td>1213488000000</td>\n",
              "      <td>7</td>\n",
              "      <td>4</td>\n",
              "      <td>2</td>\n",
              "      <td>22.95</td>\n",
              "    </tr>\n",
              "    <tr>\n",
              "      <th>36</th>\n",
              "      <td>http://www.amazon.com/The-Front-Garano-Patrici...</td>\n",
              "      <td>Patricia Cornwell</td>\n",
              "      <td>A Massachusetts state investigator and his tea...</td>\n",
              "      <td>Putnam</td>\n",
              "      <td>THE FRONT</td>\n",
              "      <td>5b4aa4ead3089013507db1c0</td>\n",
              "      <td>1212796800000</td>\n",
              "      <td>1214092800000</td>\n",
              "      <td>14</td>\n",
              "      <td>7</td>\n",
              "      <td>3</td>\n",
              "      <td>22.95</td>\n",
              "    </tr>\n",
              "    <tr>\n",
              "      <th>337</th>\n",
              "      <td>http://www.amazon.com/Scarpetta-Kay-Patricia-C...</td>\n",
              "      <td>Patricia Cornwell</td>\n",
              "      <td>The forensic pathologist Kay Scarpetta takes a...</td>\n",
              "      <td>Putnam</td>\n",
              "      <td>SCARPETTA</td>\n",
              "      <td>5b4aa4ead3089013507db3bb</td>\n",
              "      <td>1228521600000</td>\n",
              "      <td>1229817600000</td>\n",
              "      <td>1</td>\n",
              "      <td>0</td>\n",
              "      <td>1</td>\n",
              "      <td>27.95</td>\n",
              "    </tr>\n",
              "    <tr>\n",
              "      <th>348</th>\n",
              "      <td>http://www.amazon.com/Scarpetta-Kay-Patricia-C...</td>\n",
              "      <td>Patricia Cornwell</td>\n",
              "      <td>The forensic pathologist Kay Scarpetta takes a...</td>\n",
              "      <td>Putnam</td>\n",
              "      <td>SCARPETTA</td>\n",
              "      <td>5b4aa4ead3089013507db3cf</td>\n",
              "      <td>1229126400000</td>\n",
              "      <td>1230422400000</td>\n",
              "      <td>1</td>\n",
              "      <td>1</td>\n",
              "      <td>2</td>\n",
              "      <td>27.95</td>\n",
              "    </tr>\n",
              "  </tbody>\n",
              "</table>\n",
              "</div>"
            ],
            "text/plain": [
              "                                    amazon_product_url  ... price.numberDouble\n",
              "2    http://www.amazon.com/The-Front-Garano-Patrici...  ...              22.95\n",
              "17   http://www.amazon.com/The-Front-Garano-Patrici...  ...              22.95\n",
              "36   http://www.amazon.com/The-Front-Garano-Patrici...  ...              22.95\n",
              "337  http://www.amazon.com/Scarpetta-Kay-Patricia-C...  ...              27.95\n",
              "348  http://www.amazon.com/Scarpetta-Kay-Patricia-C...  ...              27.95\n",
              "\n",
              "[5 rows x 12 columns]"
            ]
          },
          "metadata": {
            "tags": []
          },
          "execution_count": 14
        }
      ]
    }
  ]
}