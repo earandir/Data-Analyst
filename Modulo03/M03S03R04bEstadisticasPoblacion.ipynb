{
  "nbformat": 4,
  "nbformat_minor": 0,
  "metadata": {
    "kernelspec": {
      "display_name": "Python 3",
      "language": "python",
      "name": "python3"
    },
    "language_info": {
      "codemirror_mode": {
        "name": "ipython",
        "version": 3
      },
      "file_extension": ".py",
      "mimetype": "text/x-python",
      "name": "python",
      "nbconvert_exporter": "python",
      "pygments_lexer": "ipython3",
      "version": "3.7.4"
    },
    "colab": {
      "name": "M03S03R04bEstadisticasPoblacion.ipynb",
      "provenance": [],
      "collapsed_sections": []
    }
  },
  "cells": [
    {
      "cell_type": "markdown",
      "metadata": {
        "id": "uZ_oAAAQYVJn"
      },
      "source": [
        "## Reto 5: Lambda"
      ]
    },
    {
      "cell_type": "markdown",
      "metadata": {
        "id": "877MkyiPYVJp"
      },
      "source": [
        "#### b) Estadísticas de población\n",
        "\n",
        "Se ha copiado la información desde la página de INEGI de los datos de población para el año 2020 ([link](https://www.inegi.org.mx/app/tabulados/interactivos/?pxq=Poblacion_Poblacion_01_e60cd8cf-927f-4b94-823e-972457a12d4b)), pero al pegar la información se ha obtenido en forma de texto, así que se ha creado una cadena de texto multilínea y se ha guardado en la variable `estados_texto`"
      ]
    },
    {
      "cell_type": "code",
      "metadata": {
        "id": "sJJsjrREYVJp"
      },
      "source": [
        "estados_texto = \"\"\"\n",
        "Entidad federativa\tPoblación en 2020\n",
        "Aguascalientes\t1 425 607\n",
        "Baja California\t3 769 020\n",
        "Baja California Sur\t798 447\n",
        "Campeche\t928 363\n",
        "Coahuila de Zaragoza\t3 146 771\n",
        "Colima\t731 391\n",
        "Chiapas\t5 543 828\n",
        "Chihuahua\t3 741 869\n",
        "Ciudad de México\t9 209 944\n",
        "Durango\t1 832 650\n",
        "Guanajuato\t6 166 934\n",
        "Guerrero\t3 540 685\n",
        "Hidalgo\t3 082 841\n",
        "Jalisco\t8 348 151\n",
        "México\t16 992 418\n",
        "Michoacán de Ocampo\t4 748 846\n",
        "Morelos\t1 971 520\n",
        "Nayarit\t1 235 456\n",
        "Nuevo León\t5 784 442\n",
        "Oaxaca\t4 132 148\n",
        "Puebla\t6 583 278\n",
        "Querétaro\t2 368 467\n",
        "Quintana Roo\t1 857 985\n",
        "San Luis Potosí\t2 822 255\n",
        "Sinaloa\t3 026 943\n",
        "Sonora\t2 944 840\n",
        "Tabasco\t2 402 598\n",
        "Tamaulipas\t3 527 735\n",
        "Tlaxcala\t1 342 977\n",
        "Veracruz de Ignacio de la Llave\t8 062 579\n",
        "Yucatán\t2 320 898\n",
        "Zacatecas\t1 622 138\n",
        "\"\"\""
      ],
      "execution_count": 1,
      "outputs": []
    },
    {
      "cell_type": "markdown",
      "metadata": {
        "id": "pNRy-Q9uYVJq"
      },
      "source": [
        "Este reto está compuesto por varias tareas, que van desde **examinar**, **formatear**, **convertir** y **filtrar** para que se puedan obtener algunas estadísticas que se pueden encontrar en las celdas finales. Cada tarea termina con una variable con ciertos resultados que será usada por la siguiente tarea y algunas variables serán usadas en la celda final, así que manten el nombre de las variables de los resultados, entonces vamos con las tareas."
      ]
    },
    {
      "cell_type": "markdown",
      "metadata": {
        "id": "NZrwfJjLYVJq"
      },
      "source": [
        "1. Dividir el texto en líneas, osea, necesitas crear una lista, donde cada elemento de la lista sea una línea del texto para ello has uso de la función `cadena.splitlines()` que toma el texto y lo segmenta regresando una lista donde cada elemento contiene cada una de las líneas. Si deseas conocer más a detalle sobre esta u otras funciones de cadenas puedes consultar la [página de la documentación oficial](https://docs.python.org/3/library/stdtypes.html#str.splitlines). El resultado guárdalo en la variable `estados_lineas`:"
      ]
    },
    {
      "cell_type": "code",
      "metadata": {
        "colab": {
          "base_uri": "https://localhost:8080/"
        },
        "id": "n0xCB5taYVJq",
        "outputId": "57de7a07-f5a9-4b54-f040-b695f0094550"
      },
      "source": [
        "estados_lineas = estados_texto.splitlines()\n",
        "\n",
        "estados_lineas"
      ],
      "execution_count": 2,
      "outputs": [
        {
          "output_type": "execute_result",
          "data": {
            "text/plain": [
              "['',\n",
              " 'Entidad federativa\\tPoblación en 2020',\n",
              " 'Aguascalientes\\t1 425 607',\n",
              " 'Baja California\\t3 769 020',\n",
              " 'Baja California Sur\\t798 447',\n",
              " 'Campeche\\t928 363',\n",
              " 'Coahuila de Zaragoza\\t3 146 771',\n",
              " 'Colima\\t731 391',\n",
              " 'Chiapas\\t5 543 828',\n",
              " 'Chihuahua\\t3 741 869',\n",
              " 'Ciudad de México\\t9 209 944',\n",
              " 'Durango\\t1 832 650',\n",
              " 'Guanajuato\\t6 166 934',\n",
              " 'Guerrero\\t3 540 685',\n",
              " 'Hidalgo\\t3 082 841',\n",
              " 'Jalisco\\t8 348 151',\n",
              " 'México\\t16 992 418',\n",
              " 'Michoacán de Ocampo\\t4 748 846',\n",
              " 'Morelos\\t1 971 520',\n",
              " 'Nayarit\\t1 235 456',\n",
              " 'Nuevo León\\t5 784 442',\n",
              " 'Oaxaca\\t4 132 148',\n",
              " 'Puebla\\t6 583 278',\n",
              " 'Querétaro\\t2 368 467',\n",
              " 'Quintana Roo\\t1 857 985',\n",
              " 'San Luis Potosí\\t2 822 255',\n",
              " 'Sinaloa\\t3 026 943',\n",
              " 'Sonora\\t2 944 840',\n",
              " 'Tabasco\\t2 402 598',\n",
              " 'Tamaulipas\\t3 527 735',\n",
              " 'Tlaxcala\\t1 342 977',\n",
              " 'Veracruz de Ignacio de la Llave\\t8 062 579',\n",
              " 'Yucatán\\t2 320 898',\n",
              " 'Zacatecas\\t1 622 138']"
            ]
          },
          "metadata": {
            "tags": []
          },
          "execution_count": 2
        }
      ]
    },
    {
      "cell_type": "markdown",
      "metadata": {
        "id": "TRcQk_wzYVJq"
      },
      "source": [
        "2. Eliminar líneas en blanco, usándo el método que desees, el resultado se deberá guardar en la misma variable `estados_lineas`:"
      ]
    },
    {
      "cell_type": "code",
      "metadata": {
        "colab": {
          "base_uri": "https://localhost:8080/"
        },
        "id": "QSjE37CTYVJq",
        "outputId": "6438d1f0-2572-45f3-dc85-c3336ff3fab5"
      },
      "source": [
        "del estados_lineas[:2]\n",
        "estados_lineas"
      ],
      "execution_count": 3,
      "outputs": [
        {
          "output_type": "execute_result",
          "data": {
            "text/plain": [
              "['Aguascalientes\\t1 425 607',\n",
              " 'Baja California\\t3 769 020',\n",
              " 'Baja California Sur\\t798 447',\n",
              " 'Campeche\\t928 363',\n",
              " 'Coahuila de Zaragoza\\t3 146 771',\n",
              " 'Colima\\t731 391',\n",
              " 'Chiapas\\t5 543 828',\n",
              " 'Chihuahua\\t3 741 869',\n",
              " 'Ciudad de México\\t9 209 944',\n",
              " 'Durango\\t1 832 650',\n",
              " 'Guanajuato\\t6 166 934',\n",
              " 'Guerrero\\t3 540 685',\n",
              " 'Hidalgo\\t3 082 841',\n",
              " 'Jalisco\\t8 348 151',\n",
              " 'México\\t16 992 418',\n",
              " 'Michoacán de Ocampo\\t4 748 846',\n",
              " 'Morelos\\t1 971 520',\n",
              " 'Nayarit\\t1 235 456',\n",
              " 'Nuevo León\\t5 784 442',\n",
              " 'Oaxaca\\t4 132 148',\n",
              " 'Puebla\\t6 583 278',\n",
              " 'Querétaro\\t2 368 467',\n",
              " 'Quintana Roo\\t1 857 985',\n",
              " 'San Luis Potosí\\t2 822 255',\n",
              " 'Sinaloa\\t3 026 943',\n",
              " 'Sonora\\t2 944 840',\n",
              " 'Tabasco\\t2 402 598',\n",
              " 'Tamaulipas\\t3 527 735',\n",
              " 'Tlaxcala\\t1 342 977',\n",
              " 'Veracruz de Ignacio de la Llave\\t8 062 579',\n",
              " 'Yucatán\\t2 320 898',\n",
              " 'Zacatecas\\t1 622 138']"
            ]
          },
          "metadata": {
            "tags": []
          },
          "execution_count": 3
        }
      ]
    },
    {
      "cell_type": "markdown",
      "metadata": {
        "id": "RjGM-WVXYVJq"
      },
      "source": [
        "3. Eliminando encabezados, debido a que la información viene de una tabla incluye los encabezados de las columnas, pero esos no son datos, así que hay que eliminarlos y el resultado se siguie guardando en la variable `estados_lineas`:"
      ]
    },
    {
      "cell_type": "code",
      "metadata": {
        "colab": {
          "base_uri": "https://localhost:8080/"
        },
        "id": "VGumSPCtYVJq",
        "outputId": "bfd860c2-f662-4fcf-828b-a4b56610f87d"
      },
      "source": [
        "#Se eliminaron en la celda anterior utilizando del (aunque se pudo hacer con \"pop\" en ambas celdas)\n",
        "estados_lineas"
      ],
      "execution_count": 4,
      "outputs": [
        {
          "output_type": "execute_result",
          "data": {
            "text/plain": [
              "['Aguascalientes\\t1 425 607',\n",
              " 'Baja California\\t3 769 020',\n",
              " 'Baja California Sur\\t798 447',\n",
              " 'Campeche\\t928 363',\n",
              " 'Coahuila de Zaragoza\\t3 146 771',\n",
              " 'Colima\\t731 391',\n",
              " 'Chiapas\\t5 543 828',\n",
              " 'Chihuahua\\t3 741 869',\n",
              " 'Ciudad de México\\t9 209 944',\n",
              " 'Durango\\t1 832 650',\n",
              " 'Guanajuato\\t6 166 934',\n",
              " 'Guerrero\\t3 540 685',\n",
              " 'Hidalgo\\t3 082 841',\n",
              " 'Jalisco\\t8 348 151',\n",
              " 'México\\t16 992 418',\n",
              " 'Michoacán de Ocampo\\t4 748 846',\n",
              " 'Morelos\\t1 971 520',\n",
              " 'Nayarit\\t1 235 456',\n",
              " 'Nuevo León\\t5 784 442',\n",
              " 'Oaxaca\\t4 132 148',\n",
              " 'Puebla\\t6 583 278',\n",
              " 'Querétaro\\t2 368 467',\n",
              " 'Quintana Roo\\t1 857 985',\n",
              " 'San Luis Potosí\\t2 822 255',\n",
              " 'Sinaloa\\t3 026 943',\n",
              " 'Sonora\\t2 944 840',\n",
              " 'Tabasco\\t2 402 598',\n",
              " 'Tamaulipas\\t3 527 735',\n",
              " 'Tlaxcala\\t1 342 977',\n",
              " 'Veracruz de Ignacio de la Llave\\t8 062 579',\n",
              " 'Yucatán\\t2 320 898',\n",
              " 'Zacatecas\\t1 622 138']"
            ]
          },
          "metadata": {
            "tags": []
          },
          "execution_count": 4
        }
      ]
    },
    {
      "cell_type": "markdown",
      "metadata": {
        "id": "_giO8N4kYVJq"
      },
      "source": [
        "\n",
        "4. Separando columnas, para ello se hará uso de otra función de cadenas llamada `cadena.split(separador)`, entonces el proceso consiste en tomar un elemento de la lista que es una cadena de texto, aplicar la función `split()` para que regrese una lista de dos cadenas, el nombre del estado y el valor de la población; ésto se tiene que realizar para cada uno de los elementos, así que conviene hacer uso de `map()`, por lo tanto se necesitas crear la función de transformación `separando_columnas()`, la idea de esta función es tranformar por ejemplo `'Aguascalientes\\t1 425 607' -> ['Aguascalientes', '1 425 607']`. El resultado de la función `map()` lo guardamos en la variable `estados_columnas`:"
      ]
    },
    {
      "cell_type": "code",
      "metadata": {
        "id": "5ROyYRcuYVJq"
      },
      "source": [
        "def separando_columnas(cadena):\n",
        "    return cadena.split('\\t')"
      ],
      "execution_count": 5,
      "outputs": []
    },
    {
      "cell_type": "code",
      "metadata": {
        "colab": {
          "base_uri": "https://localhost:8080/"
        },
        "id": "4FCVo7lyYVJq",
        "outputId": "db6ee7d5-08fd-492f-8f13-f87b558447ed"
      },
      "source": [
        "#estados_columnas = list(map(lambda x: x.split('\\t'), estados_lineas))\n",
        "estados_columnas = list(map(separando_columnas, estados_lineas))\n",
        "estados_columnas[:5]  # permite ver sólo los primeros 5 elementos de la lista"
      ],
      "execution_count": 6,
      "outputs": [
        {
          "output_type": "execute_result",
          "data": {
            "text/plain": [
              "[['Aguascalientes', '1 425 607'],\n",
              " ['Baja California', '3 769 020'],\n",
              " ['Baja California Sur', '798 447'],\n",
              " ['Campeche', '928 363'],\n",
              " ['Coahuila de Zaragoza', '3 146 771']]"
            ]
          },
          "metadata": {
            "tags": []
          },
          "execution_count": 6
        }
      ]
    },
    {
      "cell_type": "markdown",
      "metadata": {
        "id": "dlpQIhGwYVJr"
      },
      "source": [
        "5. Convertir la columna de la cantidad de población de cadena a entero, así que hay que tomar la segunda columna de cada elemento y convertirlo a entero, aunque posiblemente la conversión no se pueda llevar acabo porque hay símbolos que no son dígitos, así que primero hay que eliminar esos símbolos (podrías usar otra función de cadenas para eso) y luego convertir a entero, así que crea otra función de transformación con el nombre `texto_a_numero()` y luego usa `map()` guardando los resultados en la variable `estados_numeros`:"
      ]
    },
    {
      "cell_type": "code",
      "metadata": {
        "id": "tobrJrG7YVJr"
      },
      "source": [
        "def texto_a_numeros(estado):\n",
        "    estado[1] = int(estado[1].replace(' ', ''))\n",
        "    return estado"
      ],
      "execution_count": 7,
      "outputs": []
    },
    {
      "cell_type": "markdown",
      "metadata": {
        "id": "JIVifeO-YVJr"
      },
      "source": [
        "> **Tip:** Recuerda, tienes que hacer la siguiente transformación:\n",
        ">\n",
        "> `['Aguascalientes', '1 425 607'] -> ['Aguascalientes', 1425607]`\n",
        ">    \n",
        "> o sea, recibes como dato una lista de dos elementos y tienes que regresar una lista de dos elementos, sólo que el segundo elemento se convierte de cadena a entero (¡capichi!)"
      ]
    },
    {
      "cell_type": "code",
      "metadata": {
        "colab": {
          "base_uri": "https://localhost:8080/"
        },
        "id": "AnKUdZrMYVJr",
        "outputId": "c68449cf-0f2e-40f5-a934-cad2160a4ef1"
      },
      "source": [
        "estados_numeros = list(map(texto_a_numeros, estados_columnas))\n",
        "\n",
        "estados_numeros[:5]"
      ],
      "execution_count": 8,
      "outputs": [
        {
          "output_type": "execute_result",
          "data": {
            "text/plain": [
              "[['Aguascalientes', 1425607],\n",
              " ['Baja California', 3769020],\n",
              " ['Baja California Sur', 798447],\n",
              " ['Campeche', 928363],\n",
              " ['Coahuila de Zaragoza', 3146771]]"
            ]
          },
          "metadata": {
            "tags": []
          },
          "execution_count": 8
        }
      ]
    },
    {
      "cell_type": "markdown",
      "metadata": {
        "id": "VUMnDV3DYVJr"
      },
      "source": [
        "6. Ordeando en base a la columna de población de mayor a menor, para ello tendrás que hacer uso de la función `lista.sort()` y funciones `lambda`, pero como `sort()` modifica el órden de la lista original, primero realiza una copia (usando `lista.copy()` en una nueva variable llamada `estados_mas_menos` y entonces ordena los elementos de esta variable."
      ]
    },
    {
      "cell_type": "code",
      "metadata": {
        "colab": {
          "base_uri": "https://localhost:8080/"
        },
        "id": "J0GhoNAoYVJr",
        "outputId": "8816fbf7-1613-4ede-92ec-fa83e16397ef"
      },
      "source": [
        "estados_mas_menos = estados_columnas.copy()\n",
        "\n",
        "estados_mas_menos = sorted(estados_mas_menos, key = lambda x: x[1], reverse=True)\n",
        "\n",
        "estados_mas_menos"
      ],
      "execution_count": 9,
      "outputs": [
        {
          "output_type": "execute_result",
          "data": {
            "text/plain": [
              "[['México', 16992418],\n",
              " ['Ciudad de México', 9209944],\n",
              " ['Jalisco', 8348151],\n",
              " ['Veracruz de Ignacio de la Llave', 8062579],\n",
              " ['Puebla', 6583278],\n",
              " ['Guanajuato', 6166934],\n",
              " ['Nuevo León', 5784442],\n",
              " ['Chiapas', 5543828],\n",
              " ['Michoacán de Ocampo', 4748846],\n",
              " ['Oaxaca', 4132148],\n",
              " ['Baja California', 3769020],\n",
              " ['Chihuahua', 3741869],\n",
              " ['Guerrero', 3540685],\n",
              " ['Tamaulipas', 3527735],\n",
              " ['Coahuila de Zaragoza', 3146771],\n",
              " ['Hidalgo', 3082841],\n",
              " ['Sinaloa', 3026943],\n",
              " ['Sonora', 2944840],\n",
              " ['San Luis Potosí', 2822255],\n",
              " ['Tabasco', 2402598],\n",
              " ['Querétaro', 2368467],\n",
              " ['Yucatán', 2320898],\n",
              " ['Morelos', 1971520],\n",
              " ['Quintana Roo', 1857985],\n",
              " ['Durango', 1832650],\n",
              " ['Zacatecas', 1622138],\n",
              " ['Aguascalientes', 1425607],\n",
              " ['Tlaxcala', 1342977],\n",
              " ['Nayarit', 1235456],\n",
              " ['Campeche', 928363],\n",
              " ['Baja California Sur', 798447],\n",
              " ['Colima', 731391]]"
            ]
          },
          "metadata": {
            "tags": []
          },
          "execution_count": 9
        }
      ]
    },
    {
      "cell_type": "markdown",
      "metadata": {
        "id": "VrJOverRYVJr"
      },
      "source": [
        "7. Obtener la lista de estados por arriba del promedio de población, para ello a continuación hay una celda que calcula el promedio, sólo ejecútala y luego entonces filtra la lista `estados_mas_menos` y el resultado guárdalo en la variable `estados_arriba_promedio`:"
      ]
    },
    {
      "cell_type": "code",
      "metadata": {
        "colab": {
          "base_uri": "https://localhost:8080/"
        },
        "id": "eBsoe4EkYVJr",
        "outputId": "59336eb9-0656-4a3d-e561-8b94991e1ff7"
      },
      "source": [
        "promedio = int(sum([x[1] for x in estados_mas_menos]) / len(estados_mas_menos))\n",
        "promedio"
      ],
      "execution_count": 10,
      "outputs": [
        {
          "output_type": "execute_result",
          "data": {
            "text/plain": [
              "3937938"
            ]
          },
          "metadata": {
            "tags": []
          },
          "execution_count": 10
        }
      ]
    },
    {
      "cell_type": "code",
      "metadata": {
        "colab": {
          "base_uri": "https://localhost:8080/"
        },
        "id": "BWUWiJFNYVJr",
        "outputId": "9f52c900-5beb-42e6-e4b4-ac17b9a3c806"
      },
      "source": [
        "estados_arriba_promedio = list(filter(lambda estados: estados[1] >= promedio, estados_mas_menos))\n",
        "\n",
        "estados_arriba_promedio"
      ],
      "execution_count": 11,
      "outputs": [
        {
          "output_type": "execute_result",
          "data": {
            "text/plain": [
              "[['México', 16992418],\n",
              " ['Ciudad de México', 9209944],\n",
              " ['Jalisco', 8348151],\n",
              " ['Veracruz de Ignacio de la Llave', 8062579],\n",
              " ['Puebla', 6583278],\n",
              " ['Guanajuato', 6166934],\n",
              " ['Nuevo León', 5784442],\n",
              " ['Chiapas', 5543828],\n",
              " ['Michoacán de Ocampo', 4748846],\n",
              " ['Oaxaca', 4132148]]"
            ]
          },
          "metadata": {
            "tags": []
          },
          "execution_count": 11
        }
      ]
    },
    {
      "cell_type": "markdown",
      "metadata": {
        "id": "XG81gH5WYVJr"
      },
      "source": [
        "8. Finalmente hay que obtener la lista de estados por abajo del promedio de población, entonces filtra la lista `estados_mas_menos` y el resultado guárdalo en la variable `estados_abajo_promedio`:"
      ]
    },
    {
      "cell_type": "code",
      "metadata": {
        "colab": {
          "base_uri": "https://localhost:8080/"
        },
        "id": "Uem7RDCpYVJs",
        "outputId": "31042742-81b3-425a-d1e6-6fb4b6938552"
      },
      "source": [
        "estados_abajo_promedio = list(filter(lambda estados: estados[1] < promedio, estados_mas_menos))\n",
        "\n",
        "estados_abajo_promedio"
      ],
      "execution_count": 12,
      "outputs": [
        {
          "output_type": "execute_result",
          "data": {
            "text/plain": [
              "[['Baja California', 3769020],\n",
              " ['Chihuahua', 3741869],\n",
              " ['Guerrero', 3540685],\n",
              " ['Tamaulipas', 3527735],\n",
              " ['Coahuila de Zaragoza', 3146771],\n",
              " ['Hidalgo', 3082841],\n",
              " ['Sinaloa', 3026943],\n",
              " ['Sonora', 2944840],\n",
              " ['San Luis Potosí', 2822255],\n",
              " ['Tabasco', 2402598],\n",
              " ['Querétaro', 2368467],\n",
              " ['Yucatán', 2320898],\n",
              " ['Morelos', 1971520],\n",
              " ['Quintana Roo', 1857985],\n",
              " ['Durango', 1832650],\n",
              " ['Zacatecas', 1622138],\n",
              " ['Aguascalientes', 1425607],\n",
              " ['Tlaxcala', 1342977],\n",
              " ['Nayarit', 1235456],\n",
              " ['Campeche', 928363],\n",
              " ['Baja California Sur', 798447],\n",
              " ['Colima', 731391]]"
            ]
          },
          "metadata": {
            "tags": []
          },
          "execution_count": 12
        }
      ]
    },
    {
      "cell_type": "markdown",
      "metadata": {
        "id": "SH-CsHIjYVJs"
      },
      "source": [
        "La siguiente celda imprime algunas estadísticas usando los resultados que has obtenido, para validar tus datos pasa a la siguiente celda!"
      ]
    },
    {
      "cell_type": "code",
      "metadata": {
        "colab": {
          "base_uri": "https://localhost:8080/"
        },
        "id": "Km1EJntRYVJs",
        "outputId": "7ed3802e-ed4b-4b9c-d14f-6684ff94d94b"
      },
      "source": [
        "import numpy as np\n",
        "\n",
        "titulo = \"== Algunos datos de población de los estados de México ==\"\n",
        "col1 = 40\n",
        "col2 = 20\n",
        "ancho = max(col1 + col2 + 3, len(titulo))\n",
        "linea = lambda: print(\"-\" * ancho)\n",
        "print_fila = lambda d1, d2: print(f\"{d1:{col1}} | {d2:>{col2}}\")\n",
        "\n",
        "print(f\"\\n{titulo:^{ancho}}\\n\")\n",
        "linea()\n",
        "print_fila(\"Variable\", \"Resultado\")\n",
        "linea()\n",
        "print_fila(\"Población total\", sum([x[1] for x in estados_numeros]))\n",
        "print_fila(\"Estado con más población\", \"({}) {}\".format(*estados_mas_menos[0]))\n",
        "print_fila(\"Estado con menos población\", \"({}) {}\".format(*estados_mas_menos[-1]))\n",
        "print_fila(\"Población promedio\", promedio)\n",
        "print_fila(\"Núm. de estados por arriba del promedio\", len(estados_arriba_promedio))\n",
        "print_fila(\"Núm. de estados por abajo del promedio\", len(estados_abajo_promedio))\n",
        "linea()"
      ],
      "execution_count": 13,
      "outputs": [
        {
          "output_type": "stream",
          "text": [
            "\n",
            "   == Algunos datos de población de los estados de México ==   \n",
            "\n",
            "---------------------------------------------------------------\n",
            "Variable                                 |            Resultado\n",
            "---------------------------------------------------------------\n",
            "Población total                          |            126014024\n",
            "Estado con más población                 |    (México) 16992418\n",
            "Estado con menos población               |      (Colima) 731391\n",
            "Población promedio                       |              3937938\n",
            "Núm. de estados por arriba del promedio  |                   10\n",
            "Núm. de estados por abajo del promedio   |                   22\n",
            "---------------------------------------------------------------\n"
          ],
          "name": "stdout"
        }
      ]
    },
    {
      "cell_type": "markdown",
      "metadata": {
        "id": "f3fhEKzBYVJs"
      },
      "source": [
        "Esta si es la celda de validación!"
      ]
    },
    {
      "cell_type": "code",
      "metadata": {
        "jupyter": {
          "source_hidden": true
        },
        "colab": {
          "base_uri": "https://localhost:8080/"
        },
        "id": "TAx4EsGLYVJs",
        "outputId": "feb6af3d-4e2b-4187-e85e-412860225bf7"
      },
      "source": [
        "import numpy as np\n",
        "\n",
        "datos = [126014024, [\"México\", 16992418], [\"Colima\", 731391], 3937938, 10, 22]\n",
        "titulo = \"== Datos de validación de la población de los estados de México ==\"\n",
        "col1 = 40\n",
        "col2 = 20\n",
        "ancho = max(col1 + col2 + 3, len(titulo))\n",
        "linea = lambda: print(\"-\" * ancho)\n",
        "print_fila = lambda d1, d2: print(f\"{d1:{col1}} | {d2:>{col2}}\")\n",
        "\n",
        "print(f\"\\n{titulo:^{ancho}}\\n\")\n",
        "linea()\n",
        "print_fila(\"Variable\", \"Resultado esperado\")\n",
        "linea()\n",
        "print_fila(\"Población total\", datos[0])\n",
        "print_fila(\"Estado con más población\", \"({}) {}\".format(*datos[1]))\n",
        "print_fila(\"Estado con menos población\", \"({}) {}\".format(*datos[2]))\n",
        "print_fila(\"Población promedio\", datos[3])\n",
        "print_fila(\"Núm. de estados por arriba del promedio\", datos[4])\n",
        "print_fila(\"Núm. de estados por abajo del promedio\", datos[5])\n",
        "linea()"
      ],
      "execution_count": 14,
      "outputs": [
        {
          "output_type": "stream",
          "text": [
            "\n",
            "== Datos de validación de la población de los estados de México ==\n",
            "\n",
            "------------------------------------------------------------------\n",
            "Variable                                 |   Resultado esperado\n",
            "------------------------------------------------------------------\n",
            "Población total                          |            126014024\n",
            "Estado con más población                 |    (México) 16992418\n",
            "Estado con menos población               |      (Colima) 731391\n",
            "Población promedio                       |              3937938\n",
            "Núm. de estados por arriba del promedio  |                   10\n",
            "Núm. de estados por abajo del promedio   |                   22\n",
            "------------------------------------------------------------------\n"
          ],
          "name": "stdout"
        }
      ]
    }
  ]
}