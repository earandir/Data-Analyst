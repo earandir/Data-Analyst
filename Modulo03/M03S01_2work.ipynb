{
  "nbformat": 4,
  "nbformat_minor": 0,
  "metadata": {
    "colab": {
      "name": "M03S01-2work.ipynb",
      "provenance": [],
      "collapsed_sections": []
    },
    "kernelspec": {
      "name": "python3",
      "display_name": "Python 3"
    },
    "language_info": {
      "name": "python"
    }
  },
  "cells": [
    {
      "cell_type": "markdown",
      "metadata": {
        "id": "PhQR-E1VhPPT"
      },
      "source": [
        "# Módulo 03 - Sesión 01 - Work\n",
        "\n",
        "### Reto 01 - Reconocimiento de variables"
      ]
    },
    {
      "cell_type": "code",
      "metadata": {
        "id": "-nGygNGjhWr4",
        "colab": {
          "base_uri": "https://localhost:8080/"
        },
        "outputId": "88e14c3c-88da-4431-caec-9de8fa78aa2f"
      },
      "source": [
        "# Sesión 01 Reto 01\n",
        "var_1 = 5\n",
        "\n",
        "variable_nueva_2 = 10\n",
        "\n",
        "Variable_nueva_3 = 11  # Posible Incorrecta\n",
        "\n",
        "var_3_1 = 14\n",
        "\n",
        "varNueva4 = 44  # Posible Incorrecta\n",
        "\n",
        "var_nuevaNumero = 98  # Posible Incorrecta\n",
        "\n",
        "var_num = 22\n",
        "\n",
        "VarNum = 11  # Posible Incorrecta\n",
        "\n",
        "soyUnaVariable = 14  # Posible Incorrecta\n",
        "\n",
        "print(f'valor de varnuevanuevaa4: {varNueva4} y soyUnaVariable: {soyUnaVariable}')\n",
        "\n",
        "\n",
        "\n"
      ],
      "execution_count": null,
      "outputs": [
        {
          "output_type": "stream",
          "text": [
            "valor de varnuevanuevaa4: 44 y soyUnaVariable: 14\n",
            "Hola Mundo\n"
          ],
          "name": "stdout"
        }
      ]
    },
    {
      "cell_type": "markdown",
      "metadata": {
        "id": "lRUq3VJ8rJxN"
      },
      "source": [
        "### Reto 02 - Asignación de valores"
      ]
    },
    {
      "cell_type": "code",
      "metadata": {
        "id": "UJ5TIozvrGxw"
      },
      "source": [
        "# reto 02\n",
        "# Asigna el número 12345 a una variable llamada variable_locochona\n",
        "variable_locochona = 12345\n",
        "\n",
        "# Asigna el número 14.567 a una variable llamada var_decimal\n",
        "var_decimal = 14.567\n",
        "\n",
        "# Asigna cualquier número a una varible que tenga 5 palabras en su nombre (recuerda las convenciones)\n",
        "una_palabra_en_su_nombre = 123\n",
        "UnaPalabraEnSuNombre = 456\n",
        "\n",
        "# Asigna cualquier número a una variable que incluya palabras y números en su nombre\n",
        "palabra_2 = 789\n",
        "\n",
        "# Asigna variables a discreción\n",
        "VarDiscreta = 'Hola Mundo'\n",
        "\n",
        "print(f'{VarDiscreta}')"
      ],
      "execution_count": null,
      "outputs": []
    },
    {
      "cell_type": "markdown",
      "metadata": {
        "id": "bZ017iqVmArg"
      },
      "source": [
        "### Reto 03 - Operaciones numéricas"
      ]
    },
    {
      "cell_type": "code",
      "metadata": {
        "colab": {
          "base_uri": "https://localhost:8080/"
        },
        "id": "GATp3YTzmEVz",
        "outputId": "98949ba2-36fe-4d2c-8004-aac956bea03d"
      },
      "source": [
        "# Reto 03\n",
        "var_1 = 4\n",
        "var_2 = 10\n",
        "var_3 = 6\n",
        "var_4 = 8\n",
        "var_5 = 2\n",
        "print('\\n')\n",
        "print(f'var_1 + var_2 = 14 || {var_1} + {var_2} = {var_1 + var_2}')  # Resultado esperado: 14\n",
        "print(f'var_3 - var_2 = -4 || {var_3} - {var_2} = {var_3 - var_2}')\n",
        "print(f'var_3 * var_1 = 24 || {var_3} * {var_1} = {var_3 * var_1}')\n",
        "print(f'var_5 + var_3 = 8  || {var_5} + {var_3} = {var_5 + var_3}')\n",
        "print(f'var_4 / var_5 = 4  || {var_4} / {var_5} = {var_4 / var_5}')"
      ],
      "execution_count": null,
      "outputs": [
        {
          "output_type": "stream",
          "text": [
            "\n",
            "\n",
            "var_1 + var_2 = 14 || 4 + 10 = 14\n",
            "var_3 - var_2 = -4 || 6 - 10 = -4\n",
            "var_3 * var_1 = 24 || 6 * 4 = 24\n",
            "var_5 + var_3 = 8  || 2 + 6 = 8\n",
            "var_4 / var_5 = 4  || 8 / 2 = 4.0\n"
          ],
          "name": "stdout"
        }
      ]
    },
    {
      "cell_type": "markdown",
      "metadata": {
        "id": "Cd4-F5tkmKh4"
      },
      "source": [
        "### Reto 04 - Interpolación de strings"
      ]
    },
    {
      "cell_type": "code",
      "metadata": {
        "colab": {
          "base_uri": "https://localhost:8080/"
        },
        "id": "ghBjS16imQZJ",
        "outputId": "791b36b6-5e3b-40d3-a89b-43ffb87b28a1"
      },
      "source": [
        "# Reto 04\n",
        "nombre_1 = \"Jenny\"\n",
        "nombre_2 = \"Marco P.\"\n",
        "\n",
        "edad_1 = 110\n",
        "edad_2 = 42\n",
        "\n",
        "estrella_1 = \"Woopsie Doopsies\"\n",
        "estrella_2 = \"Omega-3\"\n",
        "estrella_3 = \"Justin Bieber\"\n",
        "estrella_4 = \"La Twinkle\"\n",
        "estrella_5 = \"Rosaberta\"\n",
        "\n",
        "total_de_nombres_de_estrellas_mencionados = 5\n",
        "numero_de_estrellas_deseadas = 325\n",
        "print('\\n')\n",
        "print(f'{nombre_2} y {nombre_1} son grandes amigos. Los mejores. Van y vienen juntos desde hace décadas. ' + '\\n' +\n",
        "      f'Sí, décadas. {nombre_2} tiene {edad_1} años y {nombre_1} {edad_2}. Si sumas sus edades, obtienes {edad_1 + edad_2}, ' + '\\n' + \n",
        "      f'que curiosamente es el número de estrellas que {nombre_2} y {nombre_1} han nombrado juntos. ' + '\\n' +\n",
        "      f'Sus estrellas son su mayor fascinación. Las compraron en Best Buy en una ganga de objetos celestes. ' + '\\n' +\n",
        "      f'Están {estrella_1}, {estrella_2}, {estrella_3}, {estrella_4}, {estrella_5} y otras {edad_1 + edad_2 - total_de_nombres_de_estrellas_mencionados} estrellas más. ' + '\\n' + \n",
        "      f'{nombre_2} y {nombre_1} tienen planeado sobrevivir hasta el siglo XXII. ¡Cuántas estrellas más habrán de comprar ' + '\\n' +\n",
        "      f'y nombrar juntos! Su meta es {numero_de_estrellas_deseadas}. Sólo faltan {numero_de_estrellas_deseadas - (edad_1 + edad_2)}. ¡Vamos {nombre_2} y {nombre_1}! {nombre_2} y {nombre_1}  ' + '\\n' +\n",
        "      f'son los mejores amigos. No hay duda alguna.')"
      ],
      "execution_count": null,
      "outputs": [
        {
          "output_type": "stream",
          "text": [
            "\n",
            "\n",
            "Marco P. y Jenny son grandes amigos. Los mejores. Van y vienen juntos desde hace décadas. \n",
            "Sí, décadas. Marco P. tiene 110 años y Jenny 42. Si sumas sus edades, obtienes 152, \n",
            "que curiosamente es el número de estrellas que Marco P. y Jenny han nombrado juntos. \n",
            "Sus estrellas son su mayor fascinación. Las compraron en Best Buy en una ganga de objetos celestes. \n",
            "Están Woopsie Doopsies, Omega-3, Justin Bieber, La Twinkle, Rosaberta y otras 147 estrellas más. \n",
            "Marco P. y Jenny tienen planeado sobrevivir hasta el siglo XXII. ¡Cuántas estrellas más habrán de comprar \n",
            "y nombrar juntos! Su meta es 325. Sólo faltan 173. ¡Vamos Marco P. y Jenny! Marco P. y Jenny  \n",
            "son los mejores amigos. No hay duda alguna.\n"
          ],
          "name": "stdout"
        }
      ]
    },
    {
      "cell_type": "markdown",
      "metadata": {
        "id": "GlpJoEUZm1aY"
      },
      "source": [
        "### Reto 05 - Operadores de comparación"
      ]
    },
    {
      "cell_type": "code",
      "metadata": {
        "id": "vDmkQPZ_m3D6"
      },
      "source": [
        "# Reto 05\n",
        "var_1 = 3\n",
        "var_2 = 5\n",
        "var_3 = 9\n",
        "var_4 = 1\n",
        "var_5 = 9\n",
        "var_6 = -6\n",
        "var_7 = 5\n",
        "var_8 = 4\n",
        "\n",
        "print(f'var_1 ? var_3 = False: {var_1} > {var_3}: {var_1 > var_3}')   # Resultado esperado: False\n",
        "print(f'var_1 ? var_4 = True: {var_1} < {var_3}: {var_1 < var_3}')\n",
        "print(f'var_2 ? var_7 = True: {var_2} == {var_7}: {var_2 == var_7}')\n",
        "print(f'var_8 ? var_6 = True: {var_8} > {var_6}: {var_8 > var_6}')\n",
        "print(f'var_3 ? var_5 = False: {var_3} != {var_5}: {var_3 > var_5}')\n",
        "print(f'var_1 ? var_3 = True: {var_1} < {var_3}: {var_1 < var_3}')\n",
        "print(f'var_5 ? var_4 = False: {var_5} < {var_4}: {var_5 < var_4}')\n",
        "print(f'var_3 ? var_5 = True: {var_3} == {var_5}: {var_3 == var_5}')\n"
      ],
      "execution_count": null,
      "outputs": []
    },
    {
      "cell_type": "markdown",
      "metadata": {
        "id": "9dwR91rpmUNC"
      },
      "source": [
        "### Reto 06 - Estructuras de control"
      ]
    },
    {
      "cell_type": "code",
      "metadata": {
        "colab": {
          "base_uri": "https://localhost:8080/"
        },
        "id": "_HxOjRm_mV8Q",
        "outputId": "53457013-768d-427e-8add-e3a8e86da451"
      },
      "source": [
        "# Reto 06\n",
        "ventas_anuales_totales = 145789\n",
        "sueldo = 20000\n",
        "\n",
        "if ventas_anuales_totales > 1000000:\n",
        "    bono = 0.20\n",
        "elif ventas_anuales_totales > 700000:\n",
        "    bono = 0.15\n",
        "elif ventas_anuales_totales > 400000:\n",
        "    bono = 0.10\n",
        "elif ventas_anuales_totales > 100000:\n",
        "    bono = 0.05\n",
        "else:\n",
        "    bono = 0.01\n",
        "\n",
        "print('\\n')\n",
        "\n",
        "print(f'Felicidades, con tu sueldo de {sueldo}; tu bono es de {bono*100}%; y el total de sueldo con el bono incluido es de: {sueldo + (sueldo*bono)}')\n",
        "\n"
      ],
      "execution_count": null,
      "outputs": [
        {
          "output_type": "stream",
          "text": [
            "\n",
            "\n",
            "Felicidades, con tu sueldo de 20000; tu bono es de 5.0%; y el total de sueldo con el bono incluido es de: 21000.0\n"
          ],
          "name": "stdout"
        }
      ]
    }
  ]
}