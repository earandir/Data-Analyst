{
  "nbformat": 4,
  "nbformat_minor": 0,
  "metadata": {
    "kernelspec": {
      "display_name": "Python (data_science)",
      "language": "python",
      "name": "data_science"
    },
    "language_info": {
      "codemirror_mode": {
        "name": "ipython",
        "version": 3
      },
      "file_extension": ".py",
      "mimetype": "text/x-python",
      "name": "python",
      "nbconvert_exporter": "python",
      "pygments_lexer": "ipython3",
      "version": "3.8.5"
    },
    "colab": {
      "name": "datos_estructurados.ipynb",
      "provenance": [],
      "include_colab_link": true
    }
  },
  "cells": [
    {
      "cell_type": "markdown",
      "metadata": {
        "id": "view-in-github",
        "colab_type": "text"
      },
      "source": [
        "<a href=\"https://colab.research.google.com/github/earandir/DataAnalysis/blob/main/Modulo-04/Sesion-01/Reto-01/M04R01datos_estructurados.ipynb\" target=\"_parent\"><img src=\"https://colab.research.google.com/assets/colab-badge.svg\" alt=\"Open In Colab\"/></a>"
      ]
    },
    {
      "cell_type": "markdown",
      "metadata": {
        "id": "Q9Zdcb3m2mif"
      },
      "source": [
        "## Reto 1: Datos estructurados\n",
        "\n",
        "### 1. Objetivos:\n",
        "    - Aprender a diferenciar los diferentes tipos de datos estructurados que existen.\n",
        " \n",
        "---\n",
        "    \n",
        "### 2. Desarrollo:"
      ]
    },
    {
      "cell_type": "code",
      "metadata": {
        "id": "64YIVQFe2mih"
      },
      "source": [
        "import pandas as pd"
      ],
      "execution_count": null,
      "outputs": []
    },
    {
      "cell_type": "markdown",
      "metadata": {
        "id": "H-Bt0zOB2mii"
      },
      "source": [
        "### a) Identificando datos estructurados\n",
        "\n",
        "A continuación verás varias muestras de datos y sus descripciones. Asígnales una de las categorías de datos estructurados que acabas de aprender. Después, comparte tus hipótesis con la experta y con tus compañeros.\n",
        "\n",
        "Es muy importante saber identificar tipos de datos estructurados, porque las técnicas y estrategias que aprenderás durante este módulo suelen estar dirigidas hacia un tipo de dato específico. La elección de las mejores herramientas viene después de entender a qué tipo de dato nos estamos enfrentando."
      ]
    },
    {
      "cell_type": "markdown",
      "metadata": {
        "id": "1o0q7x3Q2mij"
      },
      "source": [
        "#### - Muestra 1: Extraída de un conjunto de datos que contiene edades de personas"
      ]
    },
    {
      "cell_type": "code",
      "metadata": {
        "id": "TOUoQI9r2mij"
      },
      "source": [
        "edades = pd.Series([23, 34, 4, 45, 52, 59, 23, 48, 50, 49, 3, 4, 6, 8, 79, 6, 40, 17, 34, 4, 67, 97, 87, 65, 24, 4, 46])"
      ],
      "execution_count": null,
      "outputs": []
    },
    {
      "cell_type": "markdown",
      "metadata": {
        "id": "s4ZBpkZN2mij"
      },
      "source": [
        "¿Qué tipo de dato estructurado tenemos en la serie `edades`?"
      ]
    },
    {
      "cell_type": "markdown",
      "metadata": {
        "id": "fHDcSgUK2mij"
      },
      "source": [
        "#### - Muestra 2: Extraída de un conjunto de datos que contiene evaluaciones de restaurantes hechas por usuarios de una app"
      ]
    },
    {
      "cell_type": "code",
      "metadata": {
        "id": "vrYMX-0z2mij"
      },
      "source": [
        "evaluaciones = pd.Series([1, 4, 2, 2, 3, 5, 4, 4, 4, 5, 1, 2, 2, 3, 5, 2, 4, 3, 3, 1, 5, 5, 2, 4, 3, 3, 4, 4, 5, 1, 2])"
      ],
      "execution_count": null,
      "outputs": []
    },
    {
      "cell_type": "markdown",
      "metadata": {
        "id": "TNpaEgbg2mik"
      },
      "source": [
        "¿Qué tipo de dato estructurado tenemos en la serie `evaluaciones`?"
      ]
    },
    {
      "cell_type": "markdown",
      "metadata": {
        "id": "pgQ0DpTb2mik"
      },
      "source": [
        "#### - Muestra 3: Extraída de un conjunto de datos que contiene códigos de respuesta HTTP obtenidos al realizar llamadas constantes a una API"
      ]
    },
    {
      "cell_type": "code",
      "metadata": {
        "id": "GIpWnumn2mik"
      },
      "source": [
        "codigos = pd.Series([400, 400, 200, 200, 201, 200, 201, 400, 201, 404, 400, 200, 200, 201, 200, 201, 201, 500, 400, 200])"
      ],
      "execution_count": null,
      "outputs": []
    },
    {
      "cell_type": "markdown",
      "metadata": {
        "id": "LknNwjHK2mik"
      },
      "source": [
        "¿Qué tipo de dato estructurado tenemos en la serie `codigos`?"
      ]
    },
    {
      "cell_type": "markdown",
      "metadata": {
        "id": "MWujPrNd2mil"
      },
      "source": [
        "#### - Muestra 4: Extraída de un conjunto de datos que contiene mediciones precisas de temperaturas ambientales hechas durante un verano de la CDMX"
      ]
    },
    {
      "cell_type": "code",
      "metadata": {
        "id": "OuU7Eb2G2mil"
      },
      "source": [
        "temperaturas = pd.Series([22.45, 21.34, 20.23, 20.34, 25.54, 24.34, 18.23, 19.35, 18.24, 25.5, 24.33, 20.19, 21.45, 22.45])"
      ],
      "execution_count": null,
      "outputs": []
    },
    {
      "cell_type": "markdown",
      "metadata": {
        "id": "-QDnvoQB2mil"
      },
      "source": [
        "¿Qué tipo de dato estructurado tenemos en la serie `temperaturas`?"
      ]
    },
    {
      "cell_type": "markdown",
      "metadata": {
        "id": "woqpN8xx2mil"
      },
      "source": [
        "#### - Muestra 5: Extraída de un conjunto de datos que contiene resultados de una encuesta cuyas únicas posibles respuestas eran \"sí\" y \"no\""
      ]
    },
    {
      "cell_type": "code",
      "metadata": {
        "id": "NGkW2xWx2mil"
      },
      "source": [
        "encuesta = pd.Series([0, 0, 1, 1, 1, 0, 1, 0, 0, 0, 1, 1, 1, 0, 0, 0, 1, 0, 1, 1, 1, 1, 0, 0, 0, 1, 0, 1, 0, 1, 0, 0])"
      ],
      "execution_count": null,
      "outputs": []
    },
    {
      "cell_type": "markdown",
      "metadata": {
        "id": "HROqGPrM2mil"
      },
      "source": [
        "¿Qué tipo de dato estructurado tenemos en la serie `encuesta`?"
      ]
    }
  ]
}